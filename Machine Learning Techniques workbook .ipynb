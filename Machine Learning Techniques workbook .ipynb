{
 "cells": [
  {
   "cell_type": "code",
   "execution_count": 1,
   "id": "b2bb13d9",
   "metadata": {
    "scrolled": true
   },
   "outputs": [],
   "source": [
    "import matplotlib.pyplot as plt\n",
    "import seaborn as sns\n",
    "import numpy as np\n",
    "import pandas as pd\n",
    "from sklearn.model_selection import train_test_split"
   ]
  },
  {
   "cell_type": "code",
   "execution_count": 13,
   "id": "3504d469",
   "metadata": {},
   "outputs": [
    {
     "name": "stderr",
     "output_type": "stream",
     "text": [
      "test_loss_function (__main__.TestLossFunction) ... ok\n",
      "\n",
      "----------------------------------------------------------------------\n",
      "Ran 1 test in 0.003s\n",
      "\n",
      "OK\n"
     ]
    },
    {
     "data": {
      "text/plain": [
       "<unittest.main.TestProgram at 0x24beb43b580>"
      ]
     },
     "execution_count": 13,
     "metadata": {},
     "output_type": "execute_result"
    }
   ],
   "source": [
    "def generate_data(n,w0=4,w1=3):\n",
    "    X=10*np.random.rand(n,)\n",
    "    y=w0+w1*X+np.random.randn(n,)\n",
    "    return X,y\n",
    "\n",
    "def add_dummy_feature(x):\n",
    "    # Adds the 1 1 1.. in each row for x0 value.\n",
    "    return np.column_stack((np.ones(x.shape[0]),x))\n",
    "\n",
    "def preprocess(X,y):\n",
    "    X=add_dummy_feature(X)\n",
    "    X_train,X_test,y_train,y_test=train_test_split(X,y,test_size=0.20,random_state=42)\n",
    "#     X_train=add_dummy_feature(X_train)\n",
    "#     X_test=add_dummy_feature(X_test)\n",
    "    return X_train,X_test,y_train,y_test\n",
    "def Predict(X,w):\n",
    "    assert X.shape[-1]==w.shape[0],\"X and w don't have compatible dimensions\"\n",
    "    return (X @ w)\n",
    "\n",
    "def non_vectorized_predict(X,w):\n",
    "    y=[]\n",
    "    for i in range(0,X.shape[0]):\n",
    "        y_hat_i=0\n",
    "        for j in range(0,X.shape[1]):\n",
    "            y_hat_i+=X[i][j]*w[j]\n",
    "        y.append(y_hat_i)\n",
    "    return np.array(y) \n",
    "\n",
    "def loss(X,y,w):\n",
    "    e=y-Predict(X,w)\n",
    "    return (1/2)*(np.transpose(e)@e)\n",
    "import unittest\n",
    "class TestLossFunction(unittest.TestCase):\n",
    "    def test_loss_function(self):\n",
    "        feature_matrix=np.array([[1,3,2,5],[1,9,4,7]])\n",
    "        weight_vector=np.array([1,1,1,1])\n",
    "        label_vector=np.array([6,11])\n",
    "        expected_loss=np.array([62.5])\n",
    "        loss_value=loss(feature_matrix,label_vector,weight_vector)\n",
    "        self.assertEqual(loss_value.shape,())\n",
    "        np.testing.assert_array_equal(expected_loss,loss_value)\n",
    "unittest.main(argv=[''],defaultTest='TestLossFunction',verbosity=2,exit=False)"
   ]
  },
  {
   "cell_type": "code",
   "execution_count": null,
   "id": "1b43eb34",
   "metadata": {},
   "outputs": [],
   "source": []
  },
  {
   "cell_type": "raw",
   "id": "984dd69d",
   "metadata": {},
   "source": [
    "Data"
   ]
  },
  {
   "cell_type": "code",
   "execution_count": 3,
   "id": "a4893b4e",
   "metadata": {
    "scrolled": true
   },
   "outputs": [],
   "source": [
    "w1=3\n",
    "w0=4\n",
    "n=100\n",
    "X=10*np.random.rand(n,)\n",
    "y=w0+w1*X+np.random.randn(n,) #Noise is added as np.random.randn"
   ]
  },
  {
   "cell_type": "code",
   "execution_count": 4,
   "id": "609285e2",
   "metadata": {
    "scrolled": true
   },
   "outputs": [
    {
     "name": "stdout",
     "output_type": "stream",
     "text": [
      "Shape of training data: (100,)\n",
      "Shape of label vector: (100,)\n"
     ]
    }
   ],
   "source": [
    "print(\"Shape of training data:\",X.shape)\n",
    "print(\"Shape of label vector:\",y.shape)"
   ]
  },
  {
   "cell_type": "code",
   "execution_count": 5,
   "id": "96f3ee3f",
   "metadata": {
    "scrolled": true
   },
   "outputs": [],
   "source": [
    "\n",
    "#For splitting we shall use the sklearn\n",
    "X_train,X_test,y_train,y_test=train_test_split(X,y,test_size=0.20,random_state=42)"
   ]
  },
  {
   "cell_type": "code",
   "execution_count": 6,
   "id": "9e26ead7",
   "metadata": {
    "scrolled": true
   },
   "outputs": [],
   "source": [
    "# Can try and check the test and train datasets shapes for sanity check and needs to be present"
   ]
  },
  {
   "cell_type": "code",
   "execution_count": 7,
   "id": "ee9855c4",
   "metadata": {
    "scrolled": true
   },
   "outputs": [
    {
     "data": {
      "text/plain": [
       "array([3.05650593, 5.21759106, 0.81308509, 7.7531595 , 2.98965833])"
      ]
     },
     "execution_count": 7,
     "metadata": {},
     "output_type": "execute_result"
    }
   ],
   "source": [
    "X_train[:5]"
   ]
  },
  {
   "cell_type": "code",
   "execution_count": 8,
   "id": "ddfa32d1",
   "metadata": {
    "scrolled": true
   },
   "outputs": [
    {
     "data": {
      "text/plain": [
       "array([12.79722011, 21.40292141,  6.43013688, 27.82279883, 13.40947604])"
      ]
     },
     "execution_count": 8,
     "metadata": {},
     "output_type": "execute_result"
    }
   ],
   "source": [
    "y_train[:5]"
   ]
  },
  {
   "cell_type": "code",
   "execution_count": 9,
   "id": "db7b614d",
   "metadata": {
    "scrolled": true
   },
   "outputs": [
    {
     "data": {
      "image/png": "[encoded data removed]",
      "text/plain": [
       "<Figure size 576x576 with 1 Axes>"
      ]
     },
     "metadata": {},
     "output_type": "display_data"
    }
   ],
   "source": [
    "sns.set_style('white')\n",
    "f=plt.figure(figsize=(8,8))\n",
    "sns.set_context('notebook',font_scale=1.5,rc={'lines.linewidth':2.5})\n",
    "\n",
    "plt.plot(X_train,y_train,'b.')\n",
    "plt.title('Data points')\n",
    "plt.grid(True)\n",
    "plt.xlabel('$x_1$',fontsize=18)\n",
    "plt.ylabel('$y$',rotation=0,fontsize=18)\n",
    "plt.axis([0,10,0,40])\n",
    "plt.show()"
   ]
  },
  {
   "cell_type": "code",
   "execution_count": 10,
   "id": "0e02e173",
   "metadata": {
    "scrolled": true
   },
   "outputs": [
    {
     "name": "stdout",
     "output_type": "stream",
     "text": [
      "[[1.         3.05650593]\n",
      " [1.         5.21759106]\n",
      " [1.         0.81308509]\n",
      " [1.         7.7531595 ]\n",
      " [1.         2.98965833]]\n"
     ]
    }
   ],
   "source": [
    "X_train_with_dummy=add_dummy_feature(X_train)\n",
    "print(X_train_with_dummy[:5])"
   ]
  },
  {
   "cell_type": "code",
   "execution_count": 11,
   "id": "94d4d30c",
   "metadata": {
    "scrolled": true
   },
   "outputs": [],
   "source": [
    "###### Model"
   ]
  },
  {
   "cell_type": "code",
   "execution_count": 12,
   "id": "5e66e7a5",
   "metadata": {
    "scrolled": true
   },
   "outputs": [
    {
     "data": {
      "text/plain": [
       "array([0.37226094, 0.17854693])"
      ]
     },
     "execution_count": 12,
     "metadata": {},
     "output_type": "execute_result"
    }
   ],
   "source": [
    "w=np.random.rand(2,)\n",
    "w"
   ]
  },
  {
   "cell_type": "code",
   "execution_count": 13,
   "id": "505a2d69",
   "metadata": {
    "scrolled": true
   },
   "outputs": [],
   "source": [
    "y_hat=Predict(X_train_with_dummy,w)"
   ]
  },
  {
   "cell_type": "code",
   "execution_count": 14,
   "id": "8433b630",
   "metadata": {
    "scrolled": true
   },
   "outputs": [
    {
     "data": {
      "text/plain": [
       "array([0.9179907 , 1.30384582, 0.51743479, 1.75656379, 0.90605526,\n",
       "       0.38608293, 1.44924465, 1.74928881, 1.75395401, 1.67233329])"
      ]
     },
     "execution_count": 14,
     "metadata": {},
     "output_type": "execute_result"
    }
   ],
   "source": [
    "y_hat[:10]"
   ]
  },
  {
   "cell_type": "code",
   "execution_count": 15,
   "id": "3564a1ca",
   "metadata": {
    "scrolled": true
   },
   "outputs": [
    {
     "data": {
      "text/plain": [
       "array([12.79722011, 21.40292141,  6.43013688, 27.82279883, 13.40947604,\n",
       "        4.69454425, 22.68042376, 25.56184249, 27.6783349 , 26.77358879])"
      ]
     },
     "execution_count": 15,
     "metadata": {},
     "output_type": "execute_result"
    }
   ],
   "source": [
    "y_train[:10]"
   ]
  },
  {
   "cell_type": "code",
   "execution_count": 16,
   "id": "e9b735ee",
   "metadata": {
    "scrolled": true
   },
   "outputs": [],
   "source": [
    "###### Loss"
   ]
  },
  {
   "cell_type": "code",
   "execution_count": 17,
   "id": "ec13c303",
   "metadata": {
    "scrolled": true
   },
   "outputs": [],
   "source": [
    "w=np.random.rand(2,) #weights creation"
   ]
  },
  {
   "cell_type": "code",
   "execution_count": 18,
   "id": "1723a84f",
   "metadata": {
    "scrolled": true
   },
   "outputs": [],
   "source": [
    "def generate_dataset(n,w0=4,w1=3):\n",
    "    X=10*np.random.rand(n,)\n",
    "    y=w0+w1*X+np.random.randn(n,)\n",
    "    return X,y\n",
    "#Data generation\n",
    "X,y=generate_dataset(100)\n",
    "X_train,X_test,y_train,y_test=train_test_split(X,y)"
   ]
  },
  {
   "cell_type": "code",
   "execution_count": 19,
   "id": "32dec849",
   "metadata": {
    "scrolled": true
   },
   "outputs": [],
   "source": [
    "X_train_dummy=add_dummy_feature(X_train)\n",
    "X_test_dummy=add_dummy_feature(X_test)\n"
   ]
  },
  {
   "cell_type": "code",
   "execution_count": 20,
   "id": "593ebfcc",
   "metadata": {
    "scrolled": true
   },
   "outputs": [
    {
     "name": "stdout",
     "output_type": "stream",
     "text": [
      "7.272762312205266 1.87079736480346\n",
      "8.113425021780444 2.0549888024044334\n",
      "4.071826818479286 1.1694638768992416\n",
      "1.3626308271940457 0.5758718230423574\n",
      "2.9121727098216645 0.9153805745704596\n"
     ]
    }
   ],
   "source": [
    "for point in X_train[:5]:\n",
    "    print(point,w[0]+point*w[1])"
   ]
  },
  {
   "cell_type": "code",
   "execution_count": 21,
   "id": "1a1b77ee",
   "metadata": {
    "scrolled": true
   },
   "outputs": [
    {
     "data": {
      "text/plain": [
       "array([1.87079736, 2.0549888 , 1.16946388, 0.57587182, 0.91538057,\n",
       "       0.77901215, 0.61979894, 1.0062264 , 0.36807218, 0.90159615,\n",
       "       0.48338813, 0.77383809, 0.8252241 , 2.35068513, 2.30468712,\n",
       "       0.83177234, 0.83267267, 2.1411075 , 1.17200902, 1.0054743 ,\n",
       "       0.68348743, 0.40364576, 2.16561909, 1.18146549, 1.73433076,\n",
       "       1.88235349, 1.98477143, 0.67342211, 1.5640268 , 2.09244418,\n",
       "       1.02911198, 0.93082141, 0.88264357, 1.67255166, 2.43154957,\n",
       "       2.07118769, 2.06220074, 1.40663423, 0.44835003, 1.98067486,\n",
       "       0.53508314, 1.75041199, 0.44009179, 0.51045159, 0.57307522,\n",
       "       1.13952549, 1.92252406, 2.4548452 , 1.13116459, 1.77972007,\n",
       "       0.86025764, 2.20902493, 2.45873785, 2.14529432, 1.77126879,\n",
       "       2.11977861, 0.45685047, 0.48663028, 0.68723781, 0.41551145,\n",
       "       0.59257791, 1.92313142, 0.51691464, 1.69397533, 1.77904416,\n",
       "       0.93761902, 0.73634188, 0.9846776 , 2.1021766 , 1.13540301,\n",
       "       2.16358304, 0.99894508, 2.3678863 , 0.37500432, 2.2054899 ])"
      ]
     },
     "execution_count": 21,
     "metadata": {},
     "output_type": "execute_result"
    }
   ],
   "source": [
    "X_train_dummy@w"
   ]
  },
  {
   "cell_type": "code",
   "execution_count": 22,
   "id": "28a25a2c",
   "metadata": {
    "scrolled": true
   },
   "outputs": [
    {
     "data": {
      "text/plain": [
       "[<matplotlib.lines.Line2D at 0x2713dff94c0>]"
      ]
     },
     "execution_count": 22,
     "metadata": {},
     "output_type": "execute_result"
    },
    {
     "data": {
      "image/png": "[encoded data removed]",
      "text/plain": [
       "<Figure size 576x576 with 1 Axes>"
      ]
     },
     "metadata": {},
     "output_type": "display_data"
    }
   ],
   "source": [
    "plt.figure(figsize=(8,8))\n",
    "plt.scatter(X_train,y_train,color='green')\n",
    "plt.plot(X_train,X_train_dummy@w,color='blue')\n",
    "\n"
   ]
  },
  {
   "cell_type": "code",
   "execution_count": 23,
   "id": "313d4251",
   "metadata": {
    "scrolled": true
   },
   "outputs": [
    {
     "name": "stdout",
     "output_type": "stream",
     "text": [
      "0.0030655860900878906\n"
     ]
    }
   ],
   "source": [
    "import time\n",
    "s=time.time()\n",
    "X,y=generate_dataset(100)\n",
    "X_train,X_test,y_train,y_test=train_test_split(X,y)\n",
    "w=np.random.rand(2,)\n",
    "X_Tr=add_dummy_feature(X_train)\n",
    "Loss=loss(X_Tr,y_train,w)#vectorized\n",
    "#non-vectorized\n",
    "e=time.time()\n",
    "print(e-s)"
   ]
  },
  {
   "cell_type": "markdown",
   "id": "6216e0eb",
   "metadata": {},
   "source": [
    "<h6  style=\"font-family: Courier New\">Normal Equation</h6>"
   ]
  },
  {
   "cell_type": "code",
   "execution_count": 24,
   "id": "ee39f33c",
   "metadata": {
    "scrolled": false
   },
   "outputs": [],
   "source": [
    "def normal_equation(X,y):\n",
    "    return np.linalg.pinv(X)@y"
   ]
  },
  {
   "cell_type": "code",
   "execution_count": 25,
   "id": "23ce09d6",
   "metadata": {
    "scrolled": true
   },
   "outputs": [
    {
     "name": "stderr",
     "output_type": "stream",
     "text": [
      "test_loss_function (__main__.TestLossFunction) ... ok\n",
      "\n",
      "----------------------------------------------------------------------\n",
      "Ran 1 test in 0.003s\n",
      "\n",
      "OK\n"
     ]
    },
    {
     "data": {
      "text/plain": [
       "<unittest.main.TestProgram at 0x2713df393a0>"
      ]
     },
     "execution_count": 25,
     "metadata": {},
     "output_type": "execute_result"
    }
   ],
   "source": [
    "def generate_data(n,w0=4,w1=3):\n",
    "    X=10*np.random.rand(n,)\n",
    "    y=w0+w1*X+np.random.randn(n,)\n",
    "    return X,y\n",
    "\n",
    "def add_dummy_feature(x):\n",
    "    # Adds the 1 1 1.. in each row for x0 value.\n",
    "    return np.column_stack((np.ones(x.shape[0]),x))\n",
    "\n",
    "def preprocess(X,y):\n",
    "    X_train,X_test,y_train,y_test=train_test_split(X,y,test_size=0.20,random_state=42)\n",
    "    X_train=add_dummy_feature(X_train)\n",
    "    X_test=add_dummy_feature(X_test)\n",
    "    return X_train,X_test,y_train,y_test\n",
    "def Predict(X,w):\n",
    "    assert X.shape[-1]==w.shape[0],\"X and w don't have compatible dimensions\"\n",
    "    return (X @ w)\n",
    "\n",
    "def non_vectorized_predict(X,w):\n",
    "    y=[]\n",
    "    for i in range(0,X.shape[0]):\n",
    "        y_hat_i=0\n",
    "        for j in range(0,X.shape[1]):\n",
    "            y_hat_i+=X[i][j]*w[j]\n",
    "        y.append(y_hat_i)\n",
    "    return np.array(y) \n",
    "\n",
    "def loss(X,y,w):\n",
    "    e=y-Predict(X,w)\n",
    "    return (1/2)*(np.transpose(e)@e)\n",
    "import unittest\n",
    "class TestLossFunction(unittest.TestCase):\n",
    "    def test_loss_function(self):\n",
    "        feature_matrix=np.array([[1,3,2,5],[1,9,4,7]])\n",
    "        weight_vector=np.array([1,1,1,1])\n",
    "        label_vector=np.array([6,11])\n",
    "        expected_loss=np.array([62.5])\n",
    "        loss_value=loss(feature_matrix,label_vector,weight_vector)\n",
    "        self.assertEqual(loss_value.shape,())\n",
    "        np.testing.assert_array_equal(expected_loss,loss_value)\n",
    "unittest.main(argv=[''],defaultTest='TestLossFunction',verbosity=2,exit=False)"
   ]
  },
  {
   "cell_type": "code",
   "execution_count": 26,
   "id": "cb930fef",
   "metadata": {
    "scrolled": true
   },
   "outputs": [],
   "source": [
    "X,y=generate_data(1000)"
   ]
  },
  {
   "cell_type": "code",
   "execution_count": 27,
   "id": "2eca3994",
   "metadata": {
    "scrolled": true
   },
   "outputs": [
    {
     "data": {
      "text/plain": [
       "(array([1.61478147, 9.5633823 , 1.31456795, 2.45501621, 7.2624008 ]),\n",
       " array([ 9.83927074, 31.93019179,  7.21625114, 10.14454683, 26.35667154]))"
      ]
     },
     "execution_count": 27,
     "metadata": {},
     "output_type": "execute_result"
    }
   ],
   "source": [
    "X[:5],y[:5]"
   ]
  },
  {
   "cell_type": "code",
   "execution_count": 28,
   "id": "59f5f72c",
   "metadata": {
    "scrolled": false
   },
   "outputs": [
    {
     "name": "stderr",
     "output_type": "stream",
     "text": [
      "test_normal_equation (__main__.TestNormalEquation) ... ok\n",
      "\n",
      "----------------------------------------------------------------------\n",
      "Ran 1 test in 0.010s\n",
      "\n",
      "OK\n"
     ]
    },
    {
     "data": {
      "text/plain": [
       "<unittest.main.TestProgram at 0x2713e037400>"
      ]
     },
     "execution_count": 28,
     "metadata": {},
     "output_type": "execute_result"
    }
   ],
   "source": [
    "features,labels=generate_data(10)\n",
    "X_train,X_test,y_train,y_test=preprocess(X,y)\n",
    "class TestNormalEquation(unittest.TestCase):\n",
    "    def test_normal_equation(self):\n",
    "        feature_matrix=X_train\n",
    "        label_vector=y_train\n",
    "        expected_weight=np.array([4.,3.])\n",
    "        estimated_weight_vector=normal_equation(feature_matrix,label_vector)\n",
    "        self.assertEqual(estimated_weight_vector.shape,(2,))\n",
    "        np.testing.assert_array_almost_equal(estimated_weight_vector,expected_weight,decimal=0)\n",
    "unittest.main(argv=[''],defaultTest='TestNormalEquation',verbosity=2,exit=False)"
   ]
  },
  {
   "cell_type": "code",
   "execution_count": 29,
   "id": "f3988609",
   "metadata": {
    "scrolled": true
   },
   "outputs": [
    {
     "data": {
      "text/plain": [
       "(array([[1.        , 2.04650188],\n",
       "        [1.        , 6.75278834],\n",
       "        [1.        , 0.24598137],\n",
       "        [1.        , 7.58545221],\n",
       "        [1.        , 4.31999831]]),\n",
       " array([[1.        , 5.79364242],\n",
       "        [1.        , 4.9221661 ],\n",
       "        [1.        , 1.717585  ],\n",
       "        [1.        , 2.96391269],\n",
       "        [1.        , 2.12911227]]))"
      ]
     },
     "execution_count": 29,
     "metadata": {},
     "output_type": "execute_result"
    }
   ],
   "source": [
    "X_train[:5],X_test[:5]"
   ]
  },
  {
   "cell_type": "code",
   "execution_count": 30,
   "id": "2e1d270b",
   "metadata": {
    "scrolled": true
   },
   "outputs": [],
   "source": [
    "X_train,X_test,y_train,y_test=train_test_split(X,y)"
   ]
  },
  {
   "cell_type": "code",
   "execution_count": 31,
   "id": "24791a15",
   "metadata": {
    "scrolled": true
   },
   "outputs": [],
   "source": [
    "def calc_gradient(X,y,w):\n",
    "    return np.transpose(X)@(Predict(X,w)-y)\n",
    "def update_weights(w,grad,lr):\n",
    "    return (w-(lr*grad))\n"
   ]
  },
  {
   "cell_type": "code",
   "execution_count": 32,
   "id": "ae918be7",
   "metadata": {
    "scrolled": false
   },
   "outputs": [
    {
     "name": "stderr",
     "output_type": "stream",
     "text": [
      "test_calculate_gradient (__main__.TestCalculateGradient) ... ok\n",
      "\n",
      "----------------------------------------------------------------------\n",
      "Ran 1 test in 0.004s\n",
      "\n",
      "OK\n"
     ]
    },
    {
     "data": {
      "text/plain": [
       "<unittest.main.TestProgram at 0x2713e0327f0>"
      ]
     },
     "execution_count": 32,
     "metadata": {},
     "output_type": "execute_result"
    }
   ],
   "source": [
    "class TestCalculateGradient(unittest.TestCase):\n",
    "    def test_calculate_gradient(self):\n",
    "        feature_matrix=np.array([[1,3,2,5],[1,9,4,7]])\n",
    "        weight_vector=np.array([1,1,1,1])\n",
    "        label_vector=np.array([6,11])\n",
    "        expected_grad=np.array([15,105,50,95])\n",
    "        \n",
    "        grad=calc_gradient(feature_matrix,label_vector,weight_vector)\n",
    "        self.assertEqual(grad.shape,(4,))\n",
    "        np.testing.assert_array_almost_equal(expected_grad,grad,decimal=0)\n",
    "unittest.main(argv=[''],defaultTest='TestCalculateGradient',verbosity=2,exit=False)"
   ]
  },
  {
   "cell_type": "code",
   "execution_count": 33,
   "id": "2e133ce2",
   "metadata": {
    "scrolled": true
   },
   "outputs": [
    {
     "name": "stderr",
     "output_type": "stream",
     "text": [
      "test_update_weights (__main__.TestUpdateWeights) ... ok\n",
      "\n",
      "----------------------------------------------------------------------\n",
      "Ran 1 test in 0.003s\n",
      "\n",
      "OK\n"
     ]
    },
    {
     "data": {
      "text/plain": [
       "<unittest.main.TestProgram at 0x2713e058940>"
      ]
     },
     "execution_count": 33,
     "metadata": {},
     "output_type": "execute_result"
    }
   ],
   "source": [
    "\n",
    "class TestUpdateWeights(unittest.TestCase):\n",
    "    def test_update_weights(self):\n",
    "        weight_vector=np.array([1,1,1,1])\n",
    "        grad_vector=np.array([15,105,50,95])\n",
    "        lr=0.001\n",
    "        expected_w_new=np.array([0.985,0.895,0.95,0.905])\n",
    "        w_new=update_weights(weight_vector,grad_vector,lr)\n",
    "        self.assertEqual(expected_w_new.shape,(4,))\n",
    "        \n",
    "        np.testing.assert_array_almost_equal(expected_w_new,w_new,decimal=1)\n",
    "unittest.main(argv=[''],defaultTest='TestUpdateWeights',verbosity=2,exit=False)"
   ]
  },
  {
   "cell_type": "code",
   "execution_count": 34,
   "id": "f18387c0",
   "metadata": {
    "scrolled": true
   },
   "outputs": [],
   "source": [
    "def gradient_descent(X:np.ndarray,y:np.ndarray,lr:float,num_epochs:int):\n",
    "    X=np.column_stack((np.ones(X.shape[0]),X))\n",
    "    w_all=[]\n",
    "    err_all=[]\n",
    "    w=np.zeros((2,))\n",
    "    print()\n",
    "    for i in np.arange(0,num_epochs+1):\n",
    "        w_all.append(w)\n",
    "        err_all.append(loss(X,y,w))\n",
    "        dJdW=calc_gradient(X,y,w)\n",
    "        if i%100==0:\n",
    "            print(\"Iteration #:%d, loss:%4.2f\"%(i,err_all[-1]),end=' ')\n",
    "            print(\"weights\",w)\n",
    "        w=update_weights(w,dJdW,lr)\n",
    "    return w,err_all,w_all"
   ]
  },
  {
   "cell_type": "code",
   "execution_count": 35,
   "id": "f6c49675",
   "metadata": {
    "scrolled": false
   },
   "outputs": [
    {
     "name": "stderr",
     "output_type": "stream",
     "text": [
      "test_gradient_descent (__main__.TestGradientDescent) ... "
     ]
    },
    {
     "name": "stdout",
     "output_type": "stream",
     "text": [
      "\n",
      "Iteration #:0, loss:165896.56 weights [0. 0.]\n",
      "Iteration #:100, loss:1042.81 weights [1.06752573 3.4458849 ]\n",
      "Iteration #:200, loss:836.96 weights [1.5157493  3.37800646]\n",
      "Iteration #:300, loss:691.63 weights [1.89236185 3.32097271]\n",
      "Iteration #:400, loss:589.03 weights [2.2088044  3.27305103]\n",
      "Iteration #:500, loss:516.59 weights [2.4746901  3.23278562]\n",
      "Iteration #:600, loss:465.45 weights [2.69809623 3.19895327]\n",
      "Iteration #:700, loss:429.35 weights [2.88580959 3.17052618]\n",
      "Iteration #:800, loss:403.86 weights [3.04353268 3.14664079]\n",
      "Iteration #:900, loss:385.86 weights [3.17605694 3.12657147]\n",
      "Iteration #:1000, loss:373.16 weights [3.28740829 3.10970856]\n",
      "Iteration #:1100, loss:364.19 weights [3.38096945 3.09553977]\n",
      "Iteration #:1200, loss:357.86 weights [3.45958268 3.08363468]\n",
      "Iteration #:1300, loss:353.39 weights [3.52563617 3.07363162]\n",
      "Iteration #:1400, loss:350.23 weights [3.58113654 3.06522671]\n",
      "Iteration #:1500, loss:348.00 weights [3.62776983 3.05816462]\n",
      "Iteration #:1600, loss:346.43 weights [3.66695268 3.05223082]\n",
      "Iteration #:1700, loss:345.32 weights [3.69987544 3.04724503]\n",
      "Iteration #:1800, loss:344.54 weights [3.72753825 3.04305581]\n",
      "Iteration #:1900, loss:343.98 weights [3.75078147 3.03953589]\n",
      "Iteration #:2000, loss:343.59 weights [3.77031121 3.03657832]\n"
     ]
    },
    {
     "name": "stderr",
     "output_type": "stream",
     "text": [
      "ok\n",
      "\n",
      "----------------------------------------------------------------------\n",
      "Ran 1 test in 0.233s\n",
      "\n",
      "OK\n"
     ]
    },
    {
     "data": {
      "text/plain": [
       "<unittest.main.TestProgram at 0x2713e0326a0>"
      ]
     },
     "execution_count": 35,
     "metadata": {},
     "output_type": "execute_result"
    }
   ],
   "source": [
    "class TestGradientDescent(unittest.TestCase):\n",
    "    def test_gradient_descent(self):\n",
    "        feature_matrix=X_train\n",
    "        label_vector=y_train\n",
    "        expected_weights=np.array([4.,3.])\n",
    "        w,err_all,w_all=gradient_descent(feature_matrix,label_vector,lr=0.00001,num_epochs=2000)\n",
    "        \n",
    "        self.assertEqual(w.shape,(2,))\n",
    "        np.testing.assert_array_almost_equal(expected_weights,w,decimal=0)\n",
    "unittest.main(argv=[''],defaultTest='TestGradientDescent',verbosity=2,exit=False)"
   ]
  },
  {
   "cell_type": "markdown",
   "id": "0353ecaf",
   "metadata": {},
   "source": [
    "<h5 style=\"font-family: Courier New\"> Lets try from scratch </h5>"
   ]
  },
  {
   "cell_type": "code",
   "execution_count": 36,
   "id": "ff616188",
   "metadata": {
    "scrolled": true
   },
   "outputs": [],
   "source": [
    "# IMPORTING LIBRARIES\n",
    "import numpy as np\n",
    "import seaborn as sns\n",
    "import matplotlib.pyplot as plt\n",
    "from sklearn.model_selection import train_test_split"
   ]
  },
  {
   "cell_type": "code",
   "execution_count": 37,
   "id": "98c4131e",
   "metadata": {
    "scrolled": true
   },
   "outputs": [],
   "source": [
    "?np.random.randn"
   ]
  },
  {
   "cell_type": "code",
   "execution_count": 38,
   "id": "954c6bc1",
   "metadata": {
    "scrolled": true
   },
   "outputs": [],
   "source": [
    "# GENERATING DATA\n",
    "X=10*np.random.randn(100,)\n",
    "y=3+4*(X)+np.random.rand(100,)"
   ]
  },
  {
   "cell_type": "code",
   "execution_count": 39,
   "id": "915e34de",
   "metadata": {
    "scrolled": true
   },
   "outputs": [
    {
     "data": {
      "text/plain": [
       "array([12.65379218, -3.07804553, -7.93006238,  4.90914979, -1.03825248])"
      ]
     },
     "execution_count": 39,
     "metadata": {},
     "output_type": "execute_result"
    }
   ],
   "source": [
    "X[:5]"
   ]
  },
  {
   "cell_type": "code",
   "execution_count": null,
   "id": "cb92499b",
   "metadata": {
    "scrolled": true
   },
   "outputs": [],
   "source": []
  },
  {
   "cell_type": "code",
   "execution_count": 40,
   "id": "6eb98720",
   "metadata": {
    "scrolled": true
   },
   "outputs": [
    {
     "data": {
      "text/plain": [
       "(array([12.65379218, -3.07804553, -7.93006238,  4.90914979, -1.03825248]),\n",
       " array([ 54.00261639,  -8.60306386, -27.75625069,  23.20778208,\n",
       "         -0.64501722]))"
      ]
     },
     "execution_count": 40,
     "metadata": {},
     "output_type": "execute_result"
    }
   ],
   "source": [
    "X[:5],y[:5]"
   ]
  },
  {
   "cell_type": "code",
   "execution_count": 41,
   "id": "c6849f38",
   "metadata": {
    "scrolled": true
   },
   "outputs": [],
   "source": [
    "# WEIGHT GENERATION\n",
    "w=np.random.rand(2,)"
   ]
  },
  {
   "cell_type": "code",
   "execution_count": 42,
   "id": "e3c3a368",
   "metadata": {
    "scrolled": true
   },
   "outputs": [],
   "source": [
    "# ADDING DUMMY FEATURE TO X FOR MULTIPLICATION WITH W\n",
    "def Predict(X,w):\n",
    "    if X.shape[-1]==w.shape[0]:\n",
    "        y_pred=X@w\n",
    "    else:\n",
    "        print(\"ADDING DUMMY FEATURE\")\n",
    "        X=np.column_stack((np.ones(X.shape[0]),X))\n",
    "        y_pred=X@w\n",
    "    return y_pred"
   ]
  },
  {
   "cell_type": "code",
   "execution_count": 43,
   "id": "16878d28",
   "metadata": {
    "scrolled": true
   },
   "outputs": [
    {
     "name": "stdout",
     "output_type": "stream",
     "text": [
      "ADDING DUMMY FEATURE\n"
     ]
    }
   ],
   "source": [
    "y_hat=Predict(X,w)"
   ]
  },
  {
   "cell_type": "code",
   "execution_count": 44,
   "id": "aa5a40d6",
   "metadata": {
    "scrolled": true
   },
   "outputs": [],
   "source": [
    "X_train,X_test,y_train,y_test=train_test_split(X,y,test_size=0.20,train_size=0.80,random_state=42)"
   ]
  },
  {
   "cell_type": "code",
   "execution_count": 45,
   "id": "0e0c2c98",
   "metadata": {
    "scrolled": true
   },
   "outputs": [
    {
     "data": {
      "text/plain": [
       "(array([ 2.72027911, -0.29399482, -1.22365785,  1.23637913,  0.0968365 ]),\n",
       " array([ 54.00261639,  -8.60306386, -27.75625069,  23.20778208,\n",
       "         -0.64501722]))"
      ]
     },
     "execution_count": 45,
     "metadata": {},
     "output_type": "execute_result"
    }
   ],
   "source": [
    "y_hat[:5],y[:5]"
   ]
  },
  {
   "cell_type": "code",
   "execution_count": 46,
   "id": "ed6798b2",
   "metadata": {
    "scrolled": true
   },
   "outputs": [
    {
     "data": {
      "text/plain": [
       "(array([-16.37968789,   0.4553026 ,   9.83705809,  12.94448692,\n",
       "          6.09608317]),\n",
       " array([-2.42914121, -6.33140805,  0.08970069,  0.07336302, -0.35956448]),\n",
       " array([-62.36558469,   5.43890225,  42.54825266,  55.27739145,\n",
       "         28.03627104]),\n",
       " array([ -6.52619653, -22.22912933,   4.32644443,   4.17142832,\n",
       "          2.50139192]))"
      ]
     },
     "execution_count": 46,
     "metadata": {},
     "output_type": "execute_result"
    }
   ],
   "source": [
    "X_train[:5],X_test[:5],y_train[:5],y_test[:5]"
   ]
  },
  {
   "cell_type": "code",
   "execution_count": 47,
   "id": "cdb251f8",
   "metadata": {
    "scrolled": true
   },
   "outputs": [],
   "source": [
    "def Loss(X,y,w):\n",
    "    y_pred=Predict(X,w)\n",
    "    diff=y_pred-y\n",
    "    return (1/2)*(np.transpose(diff)@diff)"
   ]
  },
  {
   "cell_type": "code",
   "execution_count": 48,
   "id": "6bbba1dc",
   "metadata": {
    "scrolled": true
   },
   "outputs": [
    {
     "name": "stdout",
     "output_type": "stream",
     "text": [
      "ADDING DUMMY FEATURE\n"
     ]
    },
    {
     "data": {
      "text/plain": [
       "7.2425449839288065"
      ]
     },
     "execution_count": 48,
     "metadata": {},
     "output_type": "execute_result"
    }
   ],
   "source": [
    "Loss(X_train,y_train,np.array([3.17,4.01]))"
   ]
  },
  {
   "cell_type": "code",
   "execution_count": 49,
   "id": "5b9302c4",
   "metadata": {
    "scrolled": true
   },
   "outputs": [],
   "source": [
    "def normal_equation(X,y):\n",
    "    X=np.column_stack((np.ones(X.shape[0]),X))\n",
    "    return np.linalg.pinv(X)@y\n",
    "w_normal=normal_equation(X_train,y_train)"
   ]
  },
  {
   "cell_type": "code",
   "execution_count": 50,
   "id": "cccee885",
   "metadata": {
    "scrolled": true
   },
   "outputs": [
    {
     "data": {
      "text/plain": [
       "-33990.9194423702"
      ]
     },
     "execution_count": 50,
     "metadata": {},
     "output_type": "execute_result"
    }
   ],
   "source": [
    "\n",
    "np.transpose(X_train)@(Predict(np.column_stack((np.ones(X_train.shape[0]),X_train)),w)-y_train)"
   ]
  },
  {
   "cell_type": "code",
   "execution_count": 51,
   "id": "2a235df5",
   "metadata": {
    "scrolled": true
   },
   "outputs": [],
   "source": [
    "def gradient_descent(X,y,w,num_epochs=100,lr=0.0001):\n",
    "    if X.shape[-1]!=w.shape[0]:\n",
    "        X=np.column_stack((np.ones(X.shape[0]),X))\n",
    "    w_pred=np.zeros((X.shape[1],))\n",
    "    errors=[]\n",
    "    weights=[]\n",
    "    for _ in range(num_epochs+1):\n",
    "        err=Loss(X,y,w_pred)\n",
    "        errors.append(err)\n",
    "        weights.append(w_pred)\n",
    "        grad=np.transpose(X)@(Predict(X,w_pred)-y)\n",
    "        # WEIGHT UPDATE\n",
    "        w_pred=(w_pred-grad*lr)\n",
    "        if _%10==0:\n",
    "            print(f\"Iteration #: {_}, Loss : {err}, weights: {w_pred}\")\n"
   ]
  },
  {
   "cell_type": "code",
   "execution_count": 52,
   "id": "77938b3e",
   "metadata": {
    "scrolled": true
   },
   "outputs": [
    {
     "name": "stdout",
     "output_type": "stream",
     "text": [
      "Iteration #: 0, Loss : 70590.14186641695, weights: [-0.04667766  3.56744953]\n",
      "Iteration #: 10, Loss : 415.24708112837465, weights: [0.20519079 3.93521594]\n",
      "Iteration #: 20, Loss : 356.7979794443043, weights: [0.44546096 3.94018186]\n",
      "Iteration #: 30, Loss : 306.63584518482156, weights: [0.66804753 3.94478229]\n",
      "Iteration #: 40, Loss : 263.58574448238267, weights: [0.87425197 3.94904414]\n",
      "Iteration #: 50, Loss : 226.6393266744161, weights: [1.06528001 3.95299233]\n",
      "Iteration #: 60, Loss : 194.931205983226, weights: [1.2422486  3.95664993]\n",
      "Iteration #: 70, Loss : 167.71869182304954, weights: [1.40619251 3.96003833]\n",
      "Iteration #: 80, Loss : 144.3643929628353, weights: [1.55807033 3.96317735]\n",
      "Iteration #: 90, Loss : 124.32128808682992, weights: [1.69877012 3.96608535]\n",
      "Iteration #: 100, Loss : 107.11991306482344, weights: [1.82911456 3.96877932]\n",
      "Iteration #: 110, Loss : 92.35736482301255, weights: [1.94986581 3.97127501]\n",
      "Iteration #: 120, Loss : 79.68786425616959, weights: [2.0617299  3.97358703]\n",
      "Iteration #: 130, Loss : 68.81465713880905, weights: [2.16536092 3.97572888]\n",
      "Iteration #: 140, Loss : 59.483063332623054, weights: [2.26136481 3.9777131 ]\n",
      "Iteration #: 150, Loss : 51.474511483682804, weights: [2.35030293 3.97955128]\n",
      "Iteration #: 160, Loss : 44.60141948576003, weights: [2.43269531 3.98125417]\n",
      "Iteration #: 170, Loss : 38.70280079626981, weights: [2.5090237  3.98283173]\n",
      "Iteration #: 180, Loss : 33.64049369278283, weights: [2.5797344  3.98429318]\n",
      "Iteration #: 190, Loss : 29.295925149019297, weights: [2.64524089 3.98564708]\n",
      "Iteration #: 200, Loss : 25.56733353148238, weights: [2.70592616 3.98690132]\n",
      "Iteration #: 210, Loss : 22.367385064718476, weights: [2.76214508 3.98806326]\n",
      "Iteration #: 220, Loss : 19.621128236326843, weights: [2.81422634 3.98913968]\n",
      "Iteration #: 230, Loss : 17.264238228309036, weights: [2.86247448 3.99013688]\n",
      "Iteration #: 240, Loss : 15.24151025455749, weights: [2.90717162 3.99106068]\n",
      "Iteration #: 250, Loss : 13.505566514340982, weights: [2.9485791  3.99191649]\n",
      "Iteration #: 260, Loss : 12.015746475115623, weights: [2.98693903 3.99270932]\n",
      "Iteration #: 270, Loss : 10.737154492059453, weights: [3.02247572 3.99344379]\n",
      "Iteration #: 280, Loss : 9.639842456985926, weights: [3.05539694 3.99412421]\n",
      "Iteration #: 290, Loss : 8.698108332047292, weights: [3.08589521 3.99475455]\n",
      "Iteration #: 300, Loss : 7.889894137973805, weights: [3.11414883 3.9953385 ]\n",
      "Iteration #: 310, Loss : 7.196269296095607, weights: [3.14032302 3.99587947]\n",
      "Iteration #: 320, Loss : 6.600987222607619, weights: [3.16457082 3.99638063]\n",
      "Iteration #: 330, Loss : 6.090104789307455, weights: [3.18703401 3.9968449 ]\n",
      "Iteration #: 340, Loss : 5.6516557375404535, weights: [3.20784394 3.997275  ]\n",
      "Iteration #: 350, Loss : 5.275370395815926, weights: [3.22712227 3.99767344]\n",
      "Iteration #: 360, Loss : 4.952435136117939, weights: [3.24498175 3.99804257]\n",
      "Iteration #: 370, Loss : 4.675285934721261, weights: [3.26152679 3.99838452]\n",
      "Iteration #: 380, Loss : 4.437431202145335, weights: [3.27685413 3.99870131]\n",
      "Iteration #: 390, Loss : 4.233299732440054, weights: [3.2910534  3.99899478]\n",
      "Iteration #: 400, Loss : 4.058110210361612, weights: [3.30420761 3.99926665]\n",
      "Iteration #: 410, Loss : 3.907759219941735, weights: [3.31639369 3.99951851]\n",
      "Iteration #: 420, Loss : 3.7787251313041827, weights: [3.32768289 3.99975184]\n",
      "Iteration #: 430, Loss : 3.667985614497358, weights: [3.33814122 3.99996799]\n",
      "Iteration #: 440, Loss : 3.572946848291493, weights: [3.34782983 4.00016824]\n",
      "Iteration #: 450, Loss : 3.4913827658178085, weights: [3.35680537 4.00035374]\n",
      "Iteration #: 460, Loss : 3.4213829140166245, weights: [3.36512031 4.0005256 ]\n",
      "Iteration #: 470, Loss : 3.3613077056212166, weights: [3.37282329 4.0006848 ]\n",
      "Iteration #: 480, Loss : 3.309750015556345, weights: [3.37995934 4.00083229]\n",
      "Iteration #: 490, Loss : 3.2655022222348764, weights: [3.38657018 4.00096893]\n",
      "Iteration #: 500, Loss : 3.2275279217695965, weights: [3.39269447 4.0010955 ]\n",
      "Iteration #: 510, Loss : 3.194937652570122, weights: [3.39836802 4.00121276]\n",
      "Iteration #: 520, Loss : 3.1669680617289893, weights: [3.403624  4.0013214]\n",
      "Iteration #: 530, Loss : 3.1429640252163575, weights: [3.40849315 4.00142203]\n",
      "Iteration #: 540, Loss : 3.1223633030901885, weights: [3.41300394 4.00151526]\n",
      "Iteration #: 550, Loss : 3.1046833703048935, weights: [3.41718274 4.00160163]\n",
      "Iteration #: 560, Loss : 3.0895101146598893, weights: [3.42105398 4.00168164]\n",
      "Iteration #: 570, Loss : 3.0764881371634187, weights: [3.4246403  4.00175576]\n",
      "Iteration #: 580, Loss : 3.0653124276198978, weights: [3.42796267 4.00182443]\n",
      "Iteration #: 590, Loss : 3.0557212204598776, weights: [3.43104053 4.00188804]\n",
      "Iteration #: 600, Loss : 3.0474898634773506, weights: [3.43389185 4.00194697]\n",
      "Iteration #: 610, Loss : 3.0404255558626914, weights: [3.43653332 4.00200157]\n",
      "Iteration #: 620, Loss : 3.0343628322826057, weights: [3.43898038 4.00205214]\n",
      "Iteration #: 630, Loss : 3.0291596872308837, weights: [3.44124734 4.002099  ]\n",
      "Iteration #: 640, Loss : 3.0246942488728186, weights: [3.44334746 4.0021424 ]\n",
      "Iteration #: 650, Loss : 3.0208619244744757, weights: [3.445293   4.00218261]\n",
      "Iteration #: 660, Loss : 3.0175729505560565, weights: [3.44709536 4.00221986]\n",
      "Iteration #: 670, Loss : 3.014750290386458, weights: [3.44876507 4.00225437]\n",
      "Iteration #: 680, Loss : 3.0123278295732216, weights: [3.45031189 4.00228634]\n",
      "Iteration #: 690, Loss : 3.0102488274833927, weights: [3.45174486 4.00231596]\n",
      "Iteration #: 700, Loss : 3.008464588223044, weights: [3.45307237 4.0023434 ]\n",
      "Iteration #: 710, Loss : 3.0069333200469894, weights: [3.45430218 4.00236882]\n",
      "Iteration #: 720, Loss : 3.0056191564820938, weights: [3.45544147 4.00239236]\n",
      "Iteration #: 730, Loss : 3.004491316236754, weights: [3.45649691 4.00241418]\n",
      "Iteration #: 740, Loss : 3.00352338221934, weights: [3.45747468 4.00243438]\n",
      "Iteration #: 750, Loss : 3.0026926827776346, weights: [3.45838048 4.00245311]\n",
      "Iteration #: 760, Loss : 3.001979760667221, weights: [3.45921961 4.00247045]\n",
      "Iteration #: 770, Loss : 3.001367917309694, weights: [3.45999699 4.00248652]\n",
      "Iteration #: 780, Loss : 3.00084282166645, weights: [3.46071715 4.0025014 ]\n",
      "Iteration #: 790, Loss : 3.000392174566729, weights: [3.46138431 4.00251519]\n",
      "Iteration #: 800, Loss : 3.000005420627497, weights: [3.46200237 4.00252796]\n",
      "Iteration #: 810, Loss : 2.9996735010176896, weights: [3.46257494 4.0025398 ]\n",
      "Iteration #: 820, Loss : 2.999388641275605, weights: [3.46310536 4.00255076]\n",
      "Iteration #: 830, Loss : 2.9991441692098935, weights: [3.46359675 4.00256092]\n",
      "Iteration #: 840, Loss : 2.998934358618654, weights: [3.46405198 4.00257032]\n",
      "Iteration #: 850, Loss : 2.9987542951660964, weights: [3.4644737  4.00257904]\n",
      "Iteration #: 860, Loss : 2.998599761275557, weights: [3.46486438 4.00258712]\n",
      "Iteration #: 870, Loss : 2.9984671373422276, weights: [3.46522631 4.0025946 ]\n",
      "Iteration #: 880, Loss : 2.998353316952197, weights: [3.4655616  4.00260153]\n",
      "Iteration #: 890, Loss : 2.9982556341218345, weights: [3.46587221 4.00260795]\n",
      "Iteration #: 900, Loss : 2.998171800853038, weights: [3.46615996 4.00261389]\n",
      "Iteration #: 910, Loss : 2.998099853542236, weights: [3.46642654 4.0026194 ]\n",
      "Iteration #: 920, Loss : 2.9980381069873863, weights: [3.46667349 4.00262451]\n",
      "Iteration #: 930, Loss : 2.9979851149158963, weights: [3.46690227 4.00262923]\n",
      "Iteration #: 940, Loss : 2.9979396361090775, weights: [3.46711421 4.00263362]\n",
      "Iteration #: 950, Loss : 2.997900605329318, weights: [3.46731055 4.00263767]\n",
      "Iteration #: 960, Loss : 2.997867108369448, weights: [3.46749245 4.00264143]\n",
      "Iteration #: 970, Loss : 2.9978383606393697, weights: [3.46766095 4.00264492]\n",
      "Iteration #: 980, Loss : 2.997813688788919, weights: [3.46781705 4.00264814]\n",
      "Iteration #: 990, Loss : 2.9977925149361466, weights: [3.46796167 4.00265113]\n",
      "Iteration #: 1000, Loss : 2.997774343131666, weights: [3.46809564 4.0026539 ]\n"
     ]
    }
   ],
   "source": [
    "gradient_descent(X_train,y_train,w,num_epochs=1000)"
   ]
  },
  {
   "cell_type": "markdown",
   "id": "0eec650b",
   "metadata": {},
   "source": [
    "<h4 style=\"font-family: Courier New\"> WEIGHT CONVERGENCE GRADIENT DESCENT </h4>"
   ]
  },
  {
   "cell_type": "code",
   "execution_count": 53,
   "id": "fb57d328",
   "metadata": {
    "scrolled": true
   },
   "outputs": [],
   "source": [
    "def gradient_descent(X,y,w,lr=0.00001):\n",
    "    if X.shape[-1]!=w.shape[0]:\n",
    "        X=np.column_stack((np.ones(X.shape[0]),X))\n",
    "    w_pred=np.zeros((X.shape[1],))\n",
    "    errors=[]\n",
    "    weights=[]\n",
    "    epsilon=3.22\n",
    "    iter_count=0\n",
    "    while Loss(X,y,w_pred)>epsilon and iter_count<10001:\n",
    "        err=Loss(X,y,w_pred)\n",
    "        errors.append(err)\n",
    "        weights.append(w_pred)\n",
    "        grad=np.transpose(X)@(Predict(X,w_pred)-y)\n",
    "        # WEIGHT UPDATE\n",
    "        w_pred=(w_pred-grad*lr)\n",
    "        if iter_count%100==0:\n",
    "            print(f\"Iteration #: {iter_count}, Loss : {err}, weights: {w_pred}\")\n",
    "        iter_count+=1\n",
    "    return errors,weights,w_pred,iter_count\n"
   ]
  },
  {
   "cell_type": "code",
   "execution_count": 54,
   "id": "fefa7d04",
   "metadata": {
    "scrolled": true
   },
   "outputs": [
    {
     "name": "stdout",
     "output_type": "stream",
     "text": [
      "Iteration #: 0, Loss : 70590.14186641695, weights: [-0.00466777  0.35674495]\n",
      "Iteration #: 100, Loss : 415.46391379360534, weights: [0.18178589 3.93446904]\n",
      "Iteration #: 200, Loss : 357.1696044802168, weights: [0.42297405 3.93971708]\n",
      "Iteration #: 300, Loss : 307.11437433380127, weights: [0.64647472 3.94433643]\n",
      "Iteration #: 400, Loss : 264.1334653887406, weights: [0.85358035 3.9486169 ]\n",
      "Iteration #: 500, Loss : 227.22706163552547, weights: [1.04549361 3.95258338]\n",
      "Iteration #: 600, Loss : 195.53665137137014, weights: [1.22332894 3.95625889]\n",
      "Iteration #: 700, Loss : 168.32505661871107, weights: [1.38811903 3.95966479]\n",
      "Iteration #: 800, Loss : 144.9592849921925, weights: [1.54082084 3.96282084]\n",
      "Iteration #: 900, Loss : 124.89580511660445, weights: [1.6823211  3.96574538]\n",
      "Iteration #: 1000, Loss : 107.66790307457399, weights: [1.81344151 3.96845538]\n",
      "Iteration #: 1100, Loss : 92.87482577142245, weights: [1.93494349 3.9709666 ]\n",
      "Iteration #: 1200, Loss : 80.17245867163645, weights: [2.04753262 3.9732936 ]\n",
      "Iteration #: 1300, Loss : 69.26532105373576, weights: [2.15186269 3.9754499 ]\n",
      "Iteration #: 1400, Loss : 59.89969257825, weights: [2.24853956 3.97744802]\n",
      "Iteration #: 1500, Loss : 51.857711279978716, weights: [2.33812463 3.97929957]\n",
      "Iteration #: 1600, Loss : 44.95230569283339, weights: [2.42113812 3.9810153 ]\n",
      "Iteration #: 1700, Loss : 39.022843219048966, weights: [2.49806211 3.98260517]\n",
      "Iteration #: 1800, Loss : 33.931393515722895, weights: [2.56934328 3.98407842]\n",
      "Iteration #: 1900, Loss : 29.5595199780941, weights: [2.63539557 3.98544359]\n",
      "Iteration #: 2000, Loss : 25.805524683486407, weights: [2.69660256 3.98670862]\n",
      "Iteration #: 2100, Loss : 22.58208270817706, weights: [2.75331966 3.98788086]\n",
      "Iteration #: 2200, Loss : 19.814210786997222, weights: [2.80587624 3.9889671 ]\n",
      "Iteration #: 2300, Loss : 17.43752306290026, weights: [2.8545775  3.98997366]\n",
      "Iteration #: 2400, Loss : 15.396733351985942, weights: [2.89970624 3.99090638]\n",
      "Iteration #: 2500, Loss : 13.64436908387124, weights: [2.94152453 3.99177069]\n",
      "Iteration #: 2600, Loss : 12.139667001269714, weights: [2.98027522 3.99257159]\n",
      "Iteration #: 2700, Loss : 10.84762493068951, weights: [3.01618332 3.99331374]\n",
      "Iteration #: 2800, Loss : 9.738187566674556, weights: [3.04945736 3.99400145]\n",
      "Iteration #: 2900, Loss : 8.785547329410663, weights: [3.08029055 3.99463872]\n",
      "Iteration #: 3000, Loss : 7.967544032343195, weights: [3.10886196 3.99522923]\n",
      "Iteration #: 3100, Loss : 7.26514939495606, weights: [3.13533749 3.99577643]\n",
      "Iteration #: 3200, Loss : 6.662024409520435, weights: [3.1598709  3.99628349]\n",
      "Iteration #: 3300, Loss : 6.144139265337187, weights: [3.18260463 3.99675335]\n",
      "Iteration #: 3400, Loss : 5.6994469892048, weights: [3.20367072 3.99718875]\n",
      "Iteration #: 3500, Loss : 5.317603210380657, weights: [3.22319149 3.9975922 ]\n",
      "Iteration #: 3600, Loss : 4.989725531247534, weights: [3.2412803  3.99796606]\n",
      "Iteration #: 3700, Loss : 4.7081869061984065, weights: [3.2580422 3.9983125]\n",
      "Iteration #: 3800, Loss : 4.466438222347458, weights: [3.27357451 3.99863352]\n",
      "Iteration #: 3900, Loss : 4.258855954964162, weights: [3.28796744 3.998931  ]\n",
      "Iteration #: 4000, Loss : 4.080611353812333, weights: [3.30130457 3.99920665]\n",
      "Iteration #: 4100, Loss : 3.927558117424259, weights: [3.31366334 3.99946208]\n",
      "Iteration #: 4200, Loss : 3.796135942404793, weights: [3.32511553 3.99969878]\n",
      "Iteration #: 4300, Loss : 3.6832877041417698, weights: [3.33572763 3.99991811]\n",
      "Iteration #: 4400, Loss : 3.5863883423926395, weights: [3.34556128 4.00012135]\n",
      "Iteration #: 4500, Loss : 3.503183797493117, weights: [3.35467357 4.00030968]\n",
      "Iteration #: 4600, Loss : 3.4317385767303183, weights: [3.36311743 4.0004842 ]\n",
      "Iteration #: 4700, Loss : 3.3703907311768724, weights: [3.37094188 4.00064592]\n",
      "Iteration #: 4800, Loss : 3.317713195662707, weights: [3.37819236 4.00079577]\n",
      "Iteration #: 4900, Loss : 3.2724805925808114, weights: [3.38491097 4.00093463]\n",
      "Iteration #: 5000, Loss : 3.2336407273214687, weights: [3.39113674 4.00106331]\n"
     ]
    }
   ],
   "source": [
    "errs,weis,w_final,count=gradient_descent(X_train,y_train,np.array([3,4]))"
   ]
  },
  {
   "cell_type": "markdown",
   "id": "67ab63c7",
   "metadata": {},
   "source": [
    "<h2 style=\"font-family: Courier New\"> VARIATIONS OF GD( MBGD, SGD ) </h2>"
   ]
  },
  {
   "cell_type": "code",
   "execution_count": 55,
   "id": "6e7dc3c8",
   "metadata": {
    "scrolled": true
   },
   "outputs": [],
   "source": [
    "def plot_learning_curves(err_all):\n",
    "    plt.plot(err_all)\n",
    "    plt.xlabel('Iteration #')\n",
    "    plt.ylabel('Loss: $J(\\mathbf{w})$')\n",
    "#plot_learning_curves(errs)"
   ]
  },
  {
   "cell_type": "markdown",
   "id": "c927b341",
   "metadata": {},
   "source": [
    "<h2 style=\"font-family: Courier New\">MBGD</h2>"
   ]
  },
  {
   "cell_type": "code",
   "execution_count": 56,
   "id": "0af2b726",
   "metadata": {
    "scrolled": true
   },
   "outputs": [],
   "source": [
    "t0,t1=200,10000"
   ]
  },
  {
   "cell_type": "code",
   "execution_count": 57,
   "id": "6311c9d7",
   "metadata": {
    "scrolled": true
   },
   "outputs": [],
   "source": [
    "def learning_schedule(t):\n",
    "    return t0/(t+t1)"
   ]
  },
  {
   "cell_type": "code",
   "execution_count": 58,
   "id": "fd1f6506",
   "metadata": {
    "scrolled": true
   },
   "outputs": [],
   "source": [
    "def mini_batch_gd(X,y,num_iters,minibatch_size):\n",
    "    w_all=[]\n",
    "    err_all=[]\n",
    "    w=np.zeros((X.shape[1]))\n",
    "    t=0\n",
    "    for epoch in range(num_iters):\n",
    "        shuffled_indices=np.random.permutation(X.shape[0])\n",
    "        X_shuffled=X[shuffled_indices]\n",
    "        y_shuffled=y[shuffled_indices]\n",
    "        for i in range(0,X.shape[0],minibatch_size):\n",
    "            t+=1\n",
    "            xi=X_shuffled[i:i+minibatch_size]\n",
    "            yi=y_shuffled[i:i+minibatch_size]\n",
    "            err_all.append(Loss(xi,yi,w))\n",
    "            gradients=2/minibatch_size*calc_gradient(xi,yi,w)\n",
    "            lr=learning_schedule(t)\n",
    "            w=update_weights(w,gradients,lr)\n",
    "            w_all.append(w)\n",
    "    return w,err_all,w_all"
   ]
  },
  {
   "cell_type": "code",
   "execution_count": 59,
   "id": "b7ba2091",
   "metadata": {
    "scrolled": true
   },
   "outputs": [],
   "source": [
    "X,y=generate_data(100)\n",
    "X_train,X_test,y_train,y_test=preprocess(X,y)\n",
    "weights,err_all,w_all=mini_batch_gd(X_train,y_train,20,8)"
   ]
  },
  {
   "cell_type": "code",
   "execution_count": 60,
   "id": "80cd66a7",
   "metadata": {
    "scrolled": true
   },
   "outputs": [
    {
     "data": {
      "text/plain": [
       "array([3.16049013, 3.16531058])"
      ]
     },
     "execution_count": 60,
     "metadata": {},
     "output_type": "execute_result"
    }
   ],
   "source": [
    "weights"
   ]
  },
  {
   "cell_type": "code",
   "execution_count": 61,
   "id": "7abc7b0f",
   "metadata": {
    "scrolled": true
   },
   "outputs": [
    {
     "data": {
      "image/png": "[encoded data removed]",
      "text/plain": [
       "<Figure size 432x288 with 1 Axes>"
      ]
     },
     "metadata": {},
     "output_type": "display_data"
    }
   ],
   "source": [
    "plot_learning_curves(err_all)"
   ]
  },
  {
   "cell_type": "markdown",
   "id": "2ff665d6",
   "metadata": {},
   "source": [
    "<h2 style=\"font-family: Courier New\">STOCHASTIC GRADIENT DESCENT</h2>"
   ]
  },
  {
   "cell_type": "code",
   "execution_count": 62,
   "id": "62a9d184",
   "metadata": {
    "scrolled": true
   },
   "outputs": [],
   "source": [
    "def sgd(X,y,num_epochs):\n",
    "    w_all=[]\n",
    "    err_all=[]\n",
    "    w=np.zeros((X.shape[1]))\n",
    "    for epoch in range(num_epochs):\n",
    "        for i in range(X.shape[0]):\n",
    "            random_index=np.random.randint(X.shape[0])\n",
    "            xi=X[random_index:random_index+1]\n",
    "            yi=y[random_index:random_index+1]\n",
    "            err_all.append(Loss(xi,yi,w))\n",
    "            gradients=2*calc_gradient(xi,yi,w)\n",
    "            lr=learning_schedule(epoch*X.shape[0]+i)\n",
    "            w=update_weights(w,gradients,lr)\n",
    "            w_all.append(w)\n",
    "    return w,err_all,w_all"
   ]
  },
  {
   "cell_type": "code",
   "execution_count": 63,
   "id": "3f6c156d",
   "metadata": {
    "scrolled": true
   },
   "outputs": [],
   "source": [
    "weight,err_all,weights_all=sgd(X_train,y_train,10)"
   ]
  },
  {
   "cell_type": "code",
   "execution_count": 64,
   "id": "8dfec6cb",
   "metadata": {
    "scrolled": true
   },
   "outputs": [
    {
     "data": {
      "image/png": "[encoded data removed]",
      "text/plain": [
       "<Figure size 432x288 with 1 Axes>"
      ]
     },
     "metadata": {},
     "output_type": "display_data"
    }
   ],
   "source": [
    "plot_learning_curves(err_all)"
   ]
  },
  {
   "cell_type": "markdown",
   "id": "b988422b",
   "metadata": {},
   "source": [
    "<h2 style=\"font-family: Courier New\">COMBINING COMPONENTS </h2>"
   ]
  },
  {
   "cell_type": "code",
   "execution_count": 65,
   "id": "35eb9f17",
   "metadata": {},
   "outputs": [],
   "source": [
    "class MyLinearReg:\n",
    "    def __init__(self):\n",
    "        self.t0=200\n",
    "        self.t1=1000\n",
    "    def fit(self,X,y):\n",
    "        self.w=np.linalg.pinv(X)@y\n",
    "    def calculategradient(self,X,y):\n",
    "        return X.T@(self.predict(X)-y)\n",
    "    def weight_update(self,X,y,grad,lr):\n",
    "        return self.w-lr*grad\n",
    "    def predict(self,X):\n",
    "        return X@self.w\n",
    "    def loss(self,X,y):\n",
    "        y_pred=self.predict(X)\n",
    "        e=y_pred-y\n",
    "        return (1/2)*(e.T@e)\n",
    "    def rmse(self,X,y):\n",
    "        return np.sqrtr(2/X.shape[0]*self.loss(X,y))\n",
    "    def gradient_descent(self,X,y,num_epochs=100,lr=1e-3):\n",
    "        err_all=[]\n",
    "        w_all=[]\n",
    "        if y.ndim==1:\n",
    "            self.w=np.zeros((X.shape[1],))\n",
    "        else:\n",
    "            self.w=np.zeros((X.shape[1],y.shape[1]))\n",
    "        for epoch in range(num_epochs):\n",
    "            grad=self.calculategradient(X,y)\n",
    "            self.w=self.weight_update(X,y,grad,lr)\n",
    "            err_all.append(self.loss(X,y))\n",
    "            w_all.append(self.w)\n",
    "        self.w_all=w_all\n",
    "        self.err_all=err_all\n",
    "        return self.w\n",
    "    def learning_schedule(self,t):\n",
    "        return self.t0/(self.t1+t)\n",
    "    def mbgd(self,X,y,minibatch_size,num_epochs):\n",
    "        t=0\n",
    "        err_all=[]\n",
    "        w_all=[]\n",
    "        if y.ndim==1:\n",
    "            self.w=np.zeros((X.shape[1],))\n",
    "        else:\n",
    "            self.w=np.zeros((X.shape[1],y.shape[1]))\n",
    "        for epoch in range(num_epochs):\n",
    "            shuffled_indices=np.random.permutation(X.shape[0])\n",
    "            X_shuffled=X[shuffled_indices]\n",
    "            y_shuffled=y[shuffled_indices]\n",
    "            for i in range(0,X.shape[0],minibatch_size):\n",
    "                t+=1\n",
    "                xi=X_shuffled[i:i+minibatch_size]\n",
    "                yi=y_shuffled[i:i+minibatch_size]\n",
    "                err_all.append(self.loss(xi,yi))\n",
    "                gradients=2/minibatch_size*self.calculategradient(xi,yi)\n",
    "                lr=self.learning_schedule(t)\n",
    "\n",
    "                self.w=self.weight_update(X,y,gradients,lr)\n",
    "                w_all.append(self.w)\n",
    "        self.w_all=w_all\n",
    "        self.err_all=err_all\n",
    "        return self.w\n",
    "    def sgd(self,X,y,num_epochs):\n",
    "        lr=0\n",
    "        err_all=[]\n",
    "        w_all=[]\n",
    "        if y.ndim==1:\n",
    "            self.w=np.zeros((X.shape[1],))\n",
    "        else:\n",
    "            self.w=np.zeros((X.shape[1],y.shape[1]))\n",
    "        for epoch in range(num_epochs):\n",
    "            for i in range(X.shape[0]):\n",
    "                random_idx=np.random.randint(X.shape[0])\n",
    "                X_=X[random_idx:random_idx+1]\n",
    "                y_=y[random_idx:random_idx+1]\n",
    "                err_all.append(self.loss(X_,y_))\n",
    "                gradients=2*self.calculategradient(X_,y_)\n",
    "                lr=self.learning_schedule(epoch*X.shape[0]+i)\n",
    "                self.w=self.weight_update(X,y,gradients,lr)\n",
    "                w_all.append(self.w)\n",
    "        self.w_all=w_all\n",
    "        self.err_all=err_all\n",
    "        return self.w"
   ]
  },
  {
   "cell_type": "code",
   "execution_count": 66,
   "id": "3ee81ab1",
   "metadata": {
    "scrolled": true
   },
   "outputs": [],
   "source": [
    "# CREATE A CLASS COMBINING ALL THE FUNCTIONS\n",
    "import unittest\n",
    "\n",
    "# class TestCalculateGradient(unittest.TestCase):\n",
    "#     def test_calculate_gradient(self):\n",
    "#         feature_matrix=np.array([[1,3,2,5],[1,9,4,7]])\n",
    "#         weight_vector=np.array([1,1,1,1])\n",
    "#         label_vector=np.array([6,11])\n",
    "#         expected_grad=np.array([15,105,50,95])\n",
    "        \n",
    "#         grad=calc_gradient(feature_matrix,label_vector,weight_vector)\n",
    "#         self.assertEqual(grad.shape,(4,))\n",
    "#         np.testing.assert_array_almost_equal(expected_grad,grad,decimal=0)\n",
    "# # unittest.main(argv=[''],defaultTest='TestCalculateGradient',verbosity=2,exit=False)\n",
    "\n",
    "# class TestLossFunction(unittest.TestCase):\n",
    "#     def test_loss_function(self):\n",
    "#         feature_matrix=np.array([[1,3,2,5],[1,9,4,7]])\n",
    "#         weight_vector=np.array([1,1,1,1])\n",
    "#         label_vector=np.array([6,11])\n",
    "#         expected_loss=np.array([62.5])\n",
    "#         loss_value=loss(feature_matrix,label_vector,weight_vector)\n",
    "#         self.assertEqual(loss_value.shape,())\n",
    "#         np.testing.assert_array_equal(expected_loss,loss_value)\n",
    "    \n",
    "# class TestUpdateWeights(unittest.TestCase):\n",
    "#     def test_update_weights(self):\n",
    "#         weight_vector=np.array([1,1,1,1])\n",
    "#         grad_vector=np.array([15,105,50,95])\n",
    "#         lr=0.001\n",
    "#         expected_w_new=np.array([0.985,0.895,0.95,0.905])\n",
    "#         w_new=update_weights(weight_vector,grad_vector,lr)\n",
    "#         self.assertEqual(expected_w_new.shape,(4,))\n",
    "        \n",
    "#         np.testing.assert_array_almost_equal(expected_w_new,w_new,decimal=1)\n",
    "# # unittest.main(argv=[''],defaultTest='TestUpdateWeights',verbosity=2,exit=False)\n",
    "# class TestNormalEquation(unittest.TestCase):\n",
    "#     def test_normal_equation(self):\n",
    "#         feature_matrix=X_train\n",
    "#         label_vector=y_train\n",
    "#         expected_weight=np.array([4.,3.])\n",
    "#         estimated_weight_vector=normal_equation(feature_matrix,label_vector)\n",
    "#         self.assertEqual(estimated_weight_vector.shape,(2,))\n",
    "#         np.testing.assert_array_almost_equal(estimated_weight_vector,expected_weight,decimal=0)\n",
    "# #unittest.main(argv=[''],defaultTest='TestNormalEquation',verbosity=2,exit=False)\n",
    "\n",
    "def generate_data(n=100,w0=4,w1=3):\n",
    "       \n",
    "        X=10*np.random.rand(n,)\n",
    "        y=w0+w1*X+np.random.randn(n,)\n",
    "        # self.w=np.array([w0,w1])\n",
    "        return X,y\n",
    "\n",
    "def add_dummy_feature(x):\n",
    "    # Adds the 1 1 1.. in each row for x0 value.\n",
    "    return np.column_stack((np.ones(x.shape[0]),x))\n",
    "\n",
    "def preprocess(X,y,size=0.20):\n",
    "    X_train,X_test,y_train,y_test=train_test_split(X,y,test_size=size,random_state=42)\n",
    "    X_train=add_dummy_feature(X_train)\n",
    "    X_test=add_dummy_feature(X_test)\n",
    "    return X_train,X_test,y_train,y_test\n",
    "\n",
    "class LinearRegression():\n",
    "    def __init__(self):\n",
    "        self.t0=200\n",
    "        self.t1=1000\n",
    "        \n",
    "    \n",
    "    def Predict(self,X:np.ndarray)->np.ndarray:\n",
    "        '''\n",
    "        Prediction of output label from the given Feature matrix and weight matrix\n",
    "        Args:\n",
    "            X: Feature matrix\n",
    "        Returns:\n",
    "            y: Output label vector predicted by the model\n",
    "        '''\n",
    "#         assert X.shape[-1]==self.w.shape[0],\"X and w don't have compatible dimensions\"\n",
    "        return (X @ self.w)\n",
    "\n",
    "    def non_vectorized_predict(self,X):\n",
    "        '''\n",
    "        Non-vectorized version of the predict function above.\n",
    "        Prediction of output label from the given Feature matrix and weight matrix\n",
    "        Args:\n",
    "            X: Feature matrix\n",
    "        Returns:\n",
    "            y: Output label vector predicted by the model\n",
    "        '''\n",
    "        y=[]\n",
    "        for i in range(0,X.shape[0]):\n",
    "            y_hat_i=0\n",
    "            for j in range(0,X.shape[1]):\n",
    "                y_hat_i+=X[i][j]*self.w[j]\n",
    "            y.append(y_hat_i)\n",
    "        return np.array(y) \n",
    "\n",
    "    def loss(self,X:np.ndarray,y:np.ndarray)->float:\n",
    "        '''\n",
    "        Calculation of loss obtained for the built model\n",
    "        Args:\n",
    "            X: Feature matrix as numpy array\n",
    "            y: Label vector as numpy array\n",
    "        Returns:\n",
    "            Loss: float\n",
    "        '''\n",
    "        e=y-self.Predict(X)\n",
    "        return (1/2)*(np.transpose(e)@e)\n",
    "    def rmse(self,X:np.ndarray, y:np.ndarray)->float:\n",
    "        '''\n",
    "        Calculates root mean squared error of prediction w.r.t actual label\n",
    "        Args:\n",
    "            X: Feature matrix\n",
    "            y: Output label vector\n",
    "        Returns:\n",
    "            Loss\n",
    "        '''\n",
    "        return np.sqrt((2/X.shape[0])*self.loss(X,y))\n",
    "    def fit(self,X:np.ndarray,y:np.ndarray)->np.ndarray:\n",
    "        '''\n",
    "        Estimates the parameters of linear regression with normal equation\n",
    "        Args:\n",
    "            X: Feature matrix\n",
    "            y: Label vector predicted by the model\n",
    "        Returns:\n",
    "            Weight vector\n",
    "        '''\n",
    "        self.w=np.linalg.pinv(X)@y\n",
    "        return self.w\n",
    "\n",
    "    def calc_gradient(self,X:np.ndarray,y:np.ndarray)->np.ndarray:\n",
    "        '''\n",
    "        Gradient calculation of loss function\n",
    "        Args:\n",
    "            X: Feature matrix for training data\n",
    "            y: Label vector for training data\n",
    "        Returns:\n",
    "            A vector of gradients\n",
    "        '''\n",
    "        return np.transpose(X)@(self.Predict(X)-y)\n",
    "    def update_weights(self,grad:np.ndarray,lr:float)->np.ndarray:\n",
    "        '''\n",
    "        Updates the weights based on the gradient of loss function\n",
    "        Update:\n",
    "            W_new : = W_old - lr*gradient\n",
    "\n",
    "        Args:\n",
    "            grad: gradient of loss w.r.t w\n",
    "            lr: learning rate\n",
    "        Returns:\n",
    "            Updated weight vector\n",
    "        '''\n",
    "        return (self.w-(lr*grad))\n",
    "\n",
    "    def  learning_schedule(self,t):\n",
    "        '''\n",
    "        Calculates learning rate\n",
    "        '''\n",
    "        return self.t0/(self.t1+t)\n",
    "\n",
    "    def gradient_descent_iterative(self,X:np.ndarray,y:np.ndarray,num_epochs: int,lr=0.00001):\n",
    "        '''\n",
    "        Estimates parameters by using the Batch Gradient Descent. This function is iterative\n",
    "        Args:\n",
    "            X: Feature matrix for training data\n",
    "            y: Label vector for training data\n",
    "            num_epochs: Number of training steps\n",
    "            lr: Learning rate\n",
    "        Returns:\n",
    "            Weight vector: Final weight vector\n",
    "        '''\n",
    "\n",
    "        self.w=np.zeros((X.shape[1],))\n",
    "        self.w_all=[]\n",
    "        self.err_all=[]\n",
    "        epsilon=3.5\n",
    "        iter_count=0\n",
    "        while self.loss(X,y)>epsilon:\n",
    "            err=self.loss(X,y)\n",
    "            self.err_all.append(err)\n",
    "            self.w_all.append(self.w)\n",
    "            grad=np.transpose(X)@(self.Predict(X)-y)\n",
    "            # WEIGHT UPDATE\n",
    "\n",
    "            self.update_weights()\n",
    "            if iter_count%100==0:\n",
    "                print(f\"Iteration #: {iter_count}, Loss : {err}, weights: {w_pred}\")\n",
    "            iter_count+=1\n",
    "        return errors,weights,w_pred,iter_count\n",
    "    def gradient_descent(self,X:np.ndarray,y:np.ndarray,lr:float,num_epochs:int)->np.ndarray:\n",
    "        '''\n",
    "            Estimates parameters by using the Batch Gradient Descent. This function is iterative\n",
    "            Args:\n",
    "                X: Feature matrix for training data\n",
    "                y: Label vector for training data\n",
    "                num_epochs: Number of training steps\n",
    "                lr: Learning rate\n",
    "            Returns:\n",
    "                Weight vector: Final weight vector\n",
    "            '''\n",
    "        #X=np.column_stack((np.ones(X.shape[0]),X))\n",
    "        self.w_all=[]\n",
    "        self.err_all=[]\n",
    "        self.w=np.zeros((X.shape[1],))\n",
    "        #print()\n",
    "        for i in np.arange(0,num_epochs+1):\n",
    "            self.w_all.append(self.w)\n",
    "            self.err_all.append(self.loss(X,y))\n",
    "            dJdW=self.calc_gradient(X,y)\n",
    "            self.w=self.update_weights(dJdW,lr)\n",
    "            if i%100==0:\n",
    "                print(\"Iteration #:%d, loss:%4.2f\"%(i,self.err_all[-1]),end=' ')\n",
    "                print(\"weights\",self.w)\n",
    "        return self.w\n",
    "    def sgd(self,X:np.ndarray,y:np.ndarray,num_epochs:int)->np.ndarray:\n",
    "        '''\n",
    "        Estimates parameters by using the Stochastic Gradient Descent. This function is iterative\n",
    "        Args:\n",
    "            X: Feature matrix for training data\n",
    "            y: Label vector for training data\n",
    "            num_epochs: Number of training steps\n",
    "\n",
    "        Returns:\n",
    "            Weight vector: Final weight vector\n",
    "        '''\n",
    "        self.w_all=[]\n",
    "        self.err_all=[]\n",
    "        self.w=np.zeros((X.shape[1]))\n",
    "        for epoch in range(num_epochs):\n",
    "            for i in range(X.shape[0]):\n",
    "                random_index=np.random.randint(X.shape[0])\n",
    "                xi=X[random_index:random_index+1]\n",
    "                yi=y[random_index:random_index+1]\n",
    "                self.err_all.append(self.loss(xi,yi))\n",
    "                gradients=2*self.calc_gradient(xi,yi)\n",
    "                lr=self.learning_schedule(epoch*X.shape[0]+i)\n",
    "                self.w=self.update_weights(gradients,lr)\n",
    "                self.w_all.append(self.w)\n",
    "        return self.w\n",
    "    def mbgd(self,X:np.ndarray,y:np.ndarray,num_iters: int,minibatch_size:int)->np.ndarray:\n",
    "        \n",
    "        '''\n",
    "        Estimates parameters by using the Mini-Batch Gradient Descent. This function is iterative\n",
    "        Args:\n",
    "            X: Feature matrix for training data\n",
    "            y: Label vector for training data\n",
    "            num_epochs: Number of training steps\n",
    "        Returns:\n",
    "            Weight vector: Final weight vector\n",
    "        '''\n",
    "        self.w_all=[]\n",
    "        self.err_all=[]\n",
    "        self.w=np.zeros((X.shape[1]))\n",
    "        t=0\n",
    "        for epoch in range(num_iters):\n",
    "            shuffled_indices=np.random.permutation(X.shape[0])\n",
    "            X_shuffled=X[shuffled_indices]\n",
    "            y_shuffled=y[shuffled_indices]\n",
    "            for i in range(0,X.shape[0],minibatch_size):\n",
    "                t+=1\n",
    "                xi=X_shuffled[i:i+minibatch_size]\n",
    "                yi=y_shuffled[i:i+minibatch_size]\n",
    "                self.err_all.append(self.loss(xi,yi))\n",
    "                gradients=2/minibatch_size*self.calc_gradient(xi,yi)\n",
    "                lr=self.learning_schedule(t)\n",
    "                \n",
    "                self.w=self.update_weights(gradients,lr)\n",
    "                self.w_all.append(self.w)\n",
    "        return self.w\n",
    "\n",
    "#unittest.main(argv=[''],defaultTest='TestLossFunction',verbosity=2,exit=False)"
   ]
  },
  {
   "cell_type": "code",
   "execution_count": 67,
   "id": "d7a5cec6",
   "metadata": {},
   "outputs": [],
   "source": [
    "X,y=generate_data()\n",
    "X_train,X_test,y_train,y_test=preprocess(X,y)"
   ]
  },
  {
   "cell_type": "code",
   "execution_count": 68,
   "id": "89edd6b6",
   "metadata": {
    "scrolled": true
   },
   "outputs": [
    {
     "data": {
      "text/plain": [
       "array([3.98298904, 3.00967179])"
      ]
     },
     "execution_count": 68,
     "metadata": {},
     "output_type": "execute_result"
    }
   ],
   "source": [
    "linreg=LinearRegression()\n",
    "linreg.fit(X_train,y_train)"
   ]
  },
  {
   "cell_type": "code",
   "execution_count": 69,
   "id": "dc632859",
   "metadata": {},
   "outputs": [],
   "source": [
    "linreg1=MyLinearReg()\n",
    "linreg1.fit(X_train,y_train)"
   ]
  },
  {
   "cell_type": "code",
   "execution_count": 70,
   "id": "ca9d35e7",
   "metadata": {},
   "outputs": [
    {
     "data": {
      "text/plain": [
       "array([3.98298904, 3.00967179])"
      ]
     },
     "execution_count": 70,
     "metadata": {},
     "output_type": "execute_result"
    }
   ],
   "source": [
    "linreg1.w"
   ]
  },
  {
   "cell_type": "code",
   "execution_count": 71,
   "id": "e7a86536",
   "metadata": {
    "scrolled": true
   },
   "outputs": [
    {
     "name": "stdout",
     "output_type": "stream",
     "text": [
      "Iteration #:0, loss:18360.55 weights [0.01548578 0.1012496 ]\n",
      "Iteration #:100, loss:213.07 weights [0.55671315 3.32215035]\n",
      "Iteration #:200, loss:156.03 weights [0.65070036 3.48548196]\n",
      "Iteration #:300, loss:151.25 weights [0.71938035 3.48496637]\n",
      "Iteration #:400, loss:146.80 weights [0.78541634 3.47584791]\n",
      "Iteration #:500, loss:142.54 weights [0.85005022 3.46645165]\n",
      "Iteration #:600, loss:138.44 weights [0.9133741  3.45722052]\n",
      "Iteration #:700, loss:134.51 weights [0.97541786 3.44817464]\n",
      "Iteration #:800, loss:130.73 weights [1.03620757 3.43931152]\n",
      "Iteration #:900, loss:127.11 weights [1.09576859 3.43062755]\n",
      "Iteration #:1000, loss:123.63 weights [1.15412574 3.42211909]\n",
      "Iteration #:1100, loss:120.29 weights [1.21130337 3.41378262]\n",
      "Iteration #:1200, loss:117.08 weights [1.26732531 3.40561464]\n",
      "Iteration #:1300, loss:114.01 weights [1.32221492 3.39761175]\n",
      "Iteration #:1400, loss:111.05 weights [1.37599509 3.38977062]\n",
      "Iteration #:1500, loss:108.21 weights [1.42868824 3.38208797]\n",
      "Iteration #:1600, loss:105.49 weights [1.48031635 3.37456061]\n",
      "Iteration #:1700, loss:102.88 weights [1.53090093 3.3671854 ]\n",
      "Iteration #:1800, loss:100.37 weights [1.58046309 3.35995925]\n",
      "Iteration #:1900, loss:97.96 weights [1.62902349 3.35287916]\n",
      "Iteration #:2000, loss:95.65 weights [1.67660238 3.34594218]\n",
      "Iteration #:2100, loss:93.43 weights [1.72321959 3.3391454 ]\n",
      "Iteration #:2200, loss:91.29 weights [1.76889456 3.33248601]\n",
      "Iteration #:2300, loss:89.25 weights [1.81364634 3.32596122]\n",
      "Iteration #:2400, loss:87.28 weights [1.85749359 3.3195683 ]\n",
      "Iteration #:2500, loss:85.40 weights [1.90045458 3.3133046 ]\n",
      "Iteration #:2600, loss:83.59 weights [1.94254724 3.30716751]\n",
      "Iteration #:2700, loss:81.85 weights [1.98378911 3.30115446]\n",
      "Iteration #:2800, loss:80.18 weights [2.02419739 3.29526294]\n",
      "Iteration #:2900, loss:78.58 weights [2.06378893 3.28949051]\n",
      "Iteration #:3000, loss:77.04 weights [2.10258024 3.28383475]\n",
      "Iteration #:3100, loss:75.57 weights [2.14058749 3.27829331]\n",
      "Iteration #:3200, loss:74.15 weights [2.17782653 3.27286387]\n",
      "Iteration #:3300, loss:72.79 weights [2.21431288 3.26754417]\n",
      "Iteration #:3400, loss:71.49 weights [2.25006176 3.262332  ]\n",
      "Iteration #:3500, loss:70.23 weights [2.28508808 3.25722517]\n",
      "Iteration #:3600, loss:69.03 weights [2.31940644 3.25222156]\n",
      "Iteration #:3700, loss:67.87 weights [2.35303115 3.24731909]\n",
      "Iteration #:3800, loss:66.77 weights [2.38597623 3.24251571]\n",
      "Iteration #:3900, loss:65.70 weights [2.41825541 3.23780942]\n",
      "Iteration #:4000, loss:64.68 weights [2.44988216 3.23319825]\n",
      "Iteration #:4100, loss:63.70 weights [2.48086967 3.22868028]\n",
      "Iteration #:4200, loss:62.76 weights [2.51123085 3.22425363]\n",
      "Iteration #:4300, loss:61.85 weights [2.54097836 3.21991646]\n",
      "Iteration #:4400, loss:60.98 weights [2.5701246  3.21566694]\n",
      "Iteration #:4500, loss:60.15 weights [2.59868174 3.21150332]\n",
      "Iteration #:4600, loss:59.35 weights [2.62666167 3.20742386]\n",
      "Iteration #:4700, loss:58.58 weights [2.65407607 3.20342685]\n",
      "Iteration #:4800, loss:57.85 weights [2.68093636 3.19951063]\n",
      "Iteration #:4900, loss:57.14 weights [2.70725374 3.19567356]\n",
      "Iteration #:5000, loss:56.46 weights [2.73303919 3.19191405]\n",
      "Iteration #:5100, loss:55.81 weights [2.75830346 3.18823053]\n",
      "Iteration #:5200, loss:55.18 weights [2.78305708 3.18462146]\n",
      "Iteration #:5300, loss:54.58 weights [2.80731038 3.18108534]\n",
      "Iteration #:5400, loss:54.00 weights [2.83107346 3.17762069]\n",
      "Iteration #:5500, loss:53.45 weights [2.85435624 3.17422607]\n",
      "Iteration #:5600, loss:52.92 weights [2.87716842 3.17090006]\n",
      "Iteration #:5700, loss:52.41 weights [2.89951952 3.16764128]\n",
      "Iteration #:5800, loss:51.92 weights [2.92141885 3.16444836]\n",
      "Iteration #:5900, loss:51.45 weights [2.94287555 3.16131998]\n",
      "Iteration #:6000, loss:51.00 weights [2.96389856 3.15825483]\n",
      "Iteration #:6100, loss:50.56 weights [2.98449665 3.15525164]\n",
      "Iteration #:6200, loss:50.15 weights [3.0046784  3.15230915]\n",
      "Iteration #:6300, loss:49.75 weights [3.02445224 3.14942613]\n",
      "Iteration #:6400, loss:49.36 weights [3.0438264  3.14660138]\n",
      "Iteration #:6500, loss:49.00 weights [3.06280897 3.14383373]\n",
      "Iteration #:6600, loss:48.64 weights [3.08140786 3.14112202]\n",
      "Iteration #:6700, loss:48.30 weights [3.09963082 3.13846512]\n",
      "Iteration #:6800, loss:47.98 weights [3.11748546 3.13586192]\n",
      "Iteration #:6900, loss:47.66 weights [3.13497921 3.13331133]\n",
      "Iteration #:7000, loss:47.36 weights [3.15211938 3.1308123 ]\n",
      "Iteration #:7100, loss:47.08 weights [3.1689131  3.12836378]\n",
      "Iteration #:7200, loss:46.80 weights [3.18536739 3.12596475]\n",
      "Iteration #:7300, loss:46.53 weights [3.2014891  3.12361421]\n",
      "Iteration #:7400, loss:46.28 weights [3.21728495 3.12131118]\n",
      "Iteration #:7500, loss:46.03 weights [3.23276154 3.1190547 ]\n",
      "Iteration #:7600, loss:45.80 weights [3.24792531 3.11684383]\n",
      "Iteration #:7700, loss:45.57 weights [3.26278258 3.11467765]\n",
      "Iteration #:7800, loss:45.36 weights [3.27733956 3.11255524]\n",
      "Iteration #:7900, loss:45.15 weights [3.29160231 3.11047574]\n",
      "Iteration #:8000, loss:44.95 weights [3.30557677 3.10843827]\n",
      "Iteration #:8100, loss:44.76 weights [3.31926878 3.10644198]\n",
      "Iteration #:8200, loss:44.58 weights [3.33268405 3.10448604]\n",
      "Iteration #:8300, loss:44.40 weights [3.34582816 3.10256963]\n",
      "Iteration #:8400, loss:44.23 weights [3.3587066  3.10069196]\n",
      "Iteration #:8500, loss:44.07 weights [3.37132474 3.09885224]\n",
      "Iteration #:8600, loss:43.91 weights [3.38368783 3.0970497 ]\n",
      "Iteration #:8700, loss:43.76 weights [3.39580104 3.0952836 ]\n",
      "Iteration #:8800, loss:43.62 weights [3.40766942 3.09355319]\n",
      "Iteration #:8900, loss:43.48 weights [3.41929791 3.09185776]\n",
      "Iteration #:9000, loss:43.35 weights [3.43069136 3.0901966 ]\n",
      "Iteration #:9100, loss:43.22 weights [3.44185453 3.08856902]\n",
      "Iteration #:9200, loss:43.10 weights [3.45279206 3.08697433]\n",
      "Iteration #:9300, loss:42.98 weights [3.46350853 3.08541187]\n",
      "Iteration #:9400, loss:42.87 weights [3.47400838 3.083881  ]\n",
      "Iteration #:9500, loss:42.76 weights [3.48429602 3.08238106]\n",
      "Iteration #:9600, loss:42.65 weights [3.49437571 3.08091145]\n",
      "Iteration #:9700, loss:42.56 weights [3.50425168 3.07947153]\n",
      "Iteration #:9800, loss:42.46 weights [3.51392802 3.07806073]\n",
      "Iteration #:9900, loss:42.37 weights [3.52340879 3.07667843]\n",
      "Iteration #:10000, loss:42.28 weights [3.53269793 3.07532408]\n",
      "Iteration #:10100, loss:42.19 weights [3.54179932 3.0739971 ]\n",
      "Iteration #:10200, loss:42.11 weights [3.55071674 3.07269694]\n",
      "Iteration #:10300, loss:42.04 weights [3.55945393 3.07142306]\n",
      "Iteration #:10400, loss:41.96 weights [3.56801452 3.07017493]\n",
      "Iteration #:10500, loss:41.89 weights [3.57640208 3.06895203]\n",
      "Iteration #:10600, loss:41.82 weights [3.5846201  3.06775384]\n",
      "Iteration #:10700, loss:41.75 weights [3.59267203 3.06657988]\n",
      "Iteration #:10800, loss:41.69 weights [3.6005612  3.06542964]\n",
      "Iteration #:10900, loss:41.63 weights [3.60829092 3.06430265]\n",
      "Iteration #:11000, loss:41.57 weights [3.6158644  3.06319844]\n",
      "Iteration #:11100, loss:41.51 weights [3.62328481 3.06211654]\n",
      "Iteration #:11200, loss:41.46 weights [3.63055523 3.06105652]\n",
      "Iteration #:11300, loss:41.41 weights [3.63767871 3.06001792]\n",
      "Iteration #:11400, loss:41.36 weights [3.6446582  3.05900031]\n",
      "Iteration #:11500, loss:41.31 weights [3.65149662 3.05800327]\n",
      "Iteration #:11600, loss:41.26 weights [3.65819682 3.05702639]\n",
      "Iteration #:11700, loss:41.22 weights [3.66476159 3.05606924]\n",
      "Iteration #:11800, loss:41.18 weights [3.67119367 3.05513145]\n",
      "Iteration #:11900, loss:41.14 weights [3.67749575 3.05421261]\n",
      "Iteration #:12000, loss:41.10 weights [3.68367045 3.05331234]\n",
      "Iteration #:12100, loss:41.06 weights [3.68972035 3.05243027]\n",
      "Iteration #:12200, loss:41.03 weights [3.69564796 3.05156602]\n",
      "Iteration #:12300, loss:40.99 weights [3.70145576 3.05071925]\n",
      "Iteration #:12400, loss:40.96 weights [3.70714618 3.04988958]\n",
      "Iteration #:12500, loss:40.93 weights [3.71272158 3.04907669]\n",
      "Iteration #:12600, loss:40.90 weights [3.71818428 3.04828023]\n",
      "Iteration #:12700, loss:40.87 weights [3.72353658 3.04749987]\n",
      "Iteration #:12800, loss:40.84 weights [3.72878069 3.04673528]\n",
      "Iteration #:12900, loss:40.81 weights [3.73391881 3.04598614]\n",
      "Iteration #:13000, loss:40.79 weights [3.73895307 3.04525215]\n",
      "Iteration #:13100, loss:40.76 weights [3.74388558 3.04453299]\n",
      "Iteration #:13200, loss:40.74 weights [3.74871839 3.04382837]\n",
      "Iteration #:13300, loss:40.71 weights [3.75345353 3.04313799]\n",
      "Iteration #:13400, loss:40.69 weights [3.75809295 3.04246156]\n",
      "Iteration #:13500, loss:40.67 weights [3.7626386  3.04179881]\n",
      "Iteration #:13600, loss:40.65 weights [3.76709237 3.04114945]\n",
      "Iteration #:13700, loss:40.63 weights [3.77145613 3.04051322]\n",
      "Iteration #:13800, loss:40.61 weights [3.77573168 3.03988984]\n",
      "Iteration #:13900, loss:40.59 weights [3.77992081 3.03927907]\n",
      "Iteration #:14000, loss:40.58 weights [3.78402527 3.03868064]\n",
      "Iteration #:14100, loss:40.56 weights [3.78804677 3.03809431]\n",
      "Iteration #:14200, loss:40.55 weights [3.79198699 3.03751982]\n",
      "Iteration #:14300, loss:40.53 weights [3.79584756 3.03695695]\n",
      "Iteration #:14400, loss:40.52 weights [3.79963011 3.03640546]\n",
      "Iteration #:14500, loss:40.50 weights [3.8033362  3.03586511]\n",
      "Iteration #:14600, loss:40.49 weights [3.80696739 3.03533569]\n",
      "Iteration #:14700, loss:40.47 weights [3.81052518 3.03481696]\n",
      "Iteration #:14800, loss:40.46 weights [3.81401105 3.03430872]\n",
      "Iteration #:14900, loss:40.45 weights [3.81742648 3.03381076]\n",
      "Iteration #:15000, loss:40.44 weights [3.82077286 3.03332285]\n",
      "Iteration #:15100, loss:40.43 weights [3.82405161 3.03284481]\n",
      "Iteration #:15200, loss:40.42 weights [3.82726409 3.03237643]\n",
      "Iteration #:15300, loss:40.41 weights [3.83041164 3.03191752]\n",
      "Iteration #:15400, loss:40.40 weights [3.83349557 3.03146789]\n",
      "Iteration #:15500, loss:40.39 weights [3.83651717 3.03102734]\n",
      "Iteration #:15600, loss:40.38 weights [3.83947769 3.0305957 ]\n",
      "Iteration #:15700, loss:40.37 weights [3.84237837 3.03017278]\n",
      "Iteration #:15800, loss:40.36 weights [3.84522043 3.02975841]\n",
      "Iteration #:15900, loss:40.35 weights [3.84800504 3.02935241]\n",
      "Iteration #:16000, loss:40.35 weights [3.85073336 3.02895462]\n",
      "Iteration #:16100, loss:40.34 weights [3.85340655 3.02856487]\n"
     ]
    },
    {
     "name": "stdout",
     "output_type": "stream",
     "text": [
      "Iteration #:16200, loss:40.33 weights [3.8560257 3.028183 ]\n",
      "Iteration #:16300, loss:40.33 weights [3.85859191 3.02780885]\n",
      "Iteration #:16400, loss:40.32 weights [3.86110625 3.02744226]\n",
      "Iteration #:16500, loss:40.31 weights [3.86356977 3.02708308]\n",
      "Iteration #:16600, loss:40.31 weights [3.8659835  3.02673116]\n",
      "Iteration #:16700, loss:40.30 weights [3.86834845 3.02638635]\n",
      "Iteration #:16800, loss:40.30 weights [3.87066559 3.02604851]\n",
      "Iteration #:16900, loss:40.29 weights [3.87293589 3.0257175 ]\n",
      "Iteration #:17000, loss:40.29 weights [3.87516031 3.02539318]\n",
      "Iteration #:17100, loss:40.28 weights [3.87733977 3.02507542]\n",
      "Iteration #:17200, loss:40.28 weights [3.87947518 3.02476408]\n",
      "Iteration #:17300, loss:40.27 weights [3.88156742 3.02445903]\n",
      "Iteration #:17400, loss:40.27 weights [3.88361738 3.02416014]\n",
      "Iteration #:17500, loss:40.26 weights [3.8856259 3.0238673]\n",
      "Iteration #:17600, loss:40.26 weights [3.88759383 3.02358038]\n",
      "Iteration #:17700, loss:40.26 weights [3.88952198 3.02329926]\n",
      "Iteration #:17800, loss:40.25 weights [3.89141116 3.02302381]\n",
      "Iteration #:17900, loss:40.25 weights [3.89326215 3.02275394]\n",
      "Iteration #:18000, loss:40.25 weights [3.89507573 3.02248952]\n",
      "Iteration #:18100, loss:40.24 weights [3.89685265 3.02223045]\n",
      "Iteration #:18200, loss:40.24 weights [3.89859366 3.02197661]\n",
      "Iteration #:18300, loss:40.24 weights [3.90029948 3.0217279 ]\n",
      "Iteration #:18400, loss:40.23 weights [3.90197082 3.02148422]\n",
      "Iteration #:18500, loss:40.23 weights [3.90360838 3.02124546]\n",
      "Iteration #:18600, loss:40.23 weights [3.90521284 3.02101153]\n",
      "Iteration #:18700, loss:40.23 weights [3.90678487 3.02078233]\n",
      "Iteration #:18800, loss:40.22 weights [3.90832512 3.02055776]\n",
      "Iteration #:18900, loss:40.22 weights [3.90983425 3.02033773]\n",
      "Iteration #:19000, loss:40.22 weights [3.91131287 3.02012215]\n",
      "Iteration #:19100, loss:40.22 weights [3.9127616  3.01991093]\n",
      "Iteration #:19200, loss:40.21 weights [3.91418106 3.01970397]\n",
      "Iteration #:19300, loss:40.21 weights [3.91557182 3.0195012 ]\n",
      "Iteration #:19400, loss:40.21 weights [3.91693447 3.01930252]\n",
      "Iteration #:19500, loss:40.21 weights [3.91826958 3.01910786]\n",
      "Iteration #:19600, loss:40.21 weights [3.91957771 3.01891714]\n",
      "Iteration #:19700, loss:40.20 weights [3.92085939 3.01873027]\n",
      "Iteration #:19800, loss:40.20 weights [3.92211517 3.01854718]\n",
      "Iteration #:19900, loss:40.20 weights [3.92334557 3.01836779]\n",
      "Iteration #:20000, loss:40.20 weights [3.92455109 3.01819202]\n",
      "Iteration #:20100, loss:40.20 weights [3.92573225 3.01801981]\n",
      "Iteration #:20200, loss:40.20 weights [3.92688954 3.01785108]\n",
      "Iteration #:20300, loss:40.20 weights [3.92802344 3.01768576]\n",
      "Iteration #:20400, loss:40.19 weights [3.92913441 3.01752378]\n",
      "Iteration #:20500, loss:40.19 weights [3.93022294 3.01736507]\n",
      "Iteration #:20600, loss:40.19 weights [3.93128946 3.01720957]\n",
      "Iteration #:20700, loss:40.19 weights [3.93233442 3.01705722]\n",
      "Iteration #:20800, loss:40.19 weights [3.93335826 3.01690794]\n",
      "Iteration #:20900, loss:40.19 weights [3.93436141 3.01676168]\n",
      "Iteration #:21000, loss:40.19 weights [3.93534428 3.01661838]\n",
      "Iteration #:21100, loss:40.19 weights [3.93630729 3.01647797]\n",
      "Iteration #:21200, loss:40.19 weights [3.93725083 3.01634041]\n",
      "Iteration #:21300, loss:40.19 weights [3.9381753  3.01620562]\n",
      "Iteration #:21400, loss:40.18 weights [3.93908109 3.01607355]\n",
      "Iteration #:21500, loss:40.18 weights [3.93996857 3.01594416]\n",
      "Iteration #:21600, loss:40.18 weights [3.94083811 3.01581738]\n",
      "Iteration #:21700, loss:40.18 weights [3.94169007 3.01569317]\n",
      "Iteration #:21800, loss:40.18 weights [3.94252481 3.01557146]\n",
      "Iteration #:21900, loss:40.18 weights [3.94334269 3.01545221]\n",
      "Iteration #:22000, loss:40.18 weights [3.94414403 3.01533538]\n",
      "Iteration #:22100, loss:40.18 weights [3.94492917 3.01522091]\n",
      "Iteration #:22200, loss:40.18 weights [3.94569845 3.01510875]\n",
      "Iteration #:22300, loss:40.18 weights [3.94645217 3.01499885]\n",
      "Iteration #:22400, loss:40.18 weights [3.94719066 3.01489118]\n",
      "Iteration #:22500, loss:40.18 weights [3.94791423 3.01478569]\n",
      "Iteration #:22600, loss:40.18 weights [3.94862317 3.01468232]\n",
      "Iteration #:22700, loss:40.18 weights [3.94931778 3.01458105]\n",
      "Iteration #:22800, loss:40.18 weights [3.94999835 3.01448182]\n",
      "Iteration #:22900, loss:40.18 weights [3.95066516 3.0143846 ]\n",
      "Iteration #:23000, loss:40.18 weights [3.9513185  3.01428934]\n",
      "Iteration #:23100, loss:40.17 weights [3.95195863 3.01419601]\n",
      "Iteration #:23200, loss:40.17 weights [3.95258583 3.01410457]\n",
      "Iteration #:23300, loss:40.17 weights [3.95320034 3.01401497]\n",
      "Iteration #:23400, loss:40.17 weights [3.95380244 3.01392719]\n",
      "Iteration #:23500, loss:40.17 weights [3.95439237 3.01384118]\n",
      "Iteration #:23600, loss:40.17 weights [3.95497037 3.0137569 ]\n",
      "Iteration #:23700, loss:40.17 weights [3.95553669 3.01367433]\n",
      "Iteration #:23800, loss:40.17 weights [3.95609156 3.01359343]\n",
      "Iteration #:23900, loss:40.17 weights [3.95663522 3.01351417]\n",
      "Iteration #:24000, loss:40.17 weights [3.95716789 3.0134365 ]\n",
      "Iteration #:24100, loss:40.17 weights [3.95768979 3.01336041]\n",
      "Iteration #:24200, loss:40.17 weights [3.95820115 3.01328586]\n",
      "Iteration #:24300, loss:40.17 weights [3.95870216 3.01321281]\n",
      "Iteration #:24400, loss:40.17 weights [3.95919306 3.01314124]\n",
      "Iteration #:24500, loss:40.17 weights [3.95967403 3.01307111]\n",
      "Iteration #:24600, loss:40.17 weights [3.96014527 3.0130024 ]\n",
      "Iteration #:24700, loss:40.17 weights [3.960607   3.01293508]\n",
      "Iteration #:24800, loss:40.17 weights [3.96105939 3.01286913]\n",
      "Iteration #:24900, loss:40.17 weights [3.96150264 3.0128045 ]\n",
      "Iteration #:25000, loss:40.17 weights [3.96193692 3.01274118]\n",
      "Iteration #:25100, loss:40.17 weights [3.96236243 3.01267914]\n",
      "Iteration #:25200, loss:40.17 weights [3.96277934 3.01261836]\n",
      "Iteration #:25300, loss:40.17 weights [3.96318783 3.0125588 ]\n",
      "Iteration #:25400, loss:40.17 weights [3.96358805 3.01250045]\n",
      "Iteration #:25500, loss:40.17 weights [3.96398019 3.01244327]\n",
      "Iteration #:25600, loss:40.17 weights [3.9643644  3.01238726]\n",
      "Iteration #:25700, loss:40.17 weights [3.96474085 3.01233237]\n",
      "Iteration #:25800, loss:40.17 weights [3.96510968 3.01227859]\n",
      "Iteration #:25900, loss:40.17 weights [3.96547106 3.0122259 ]\n",
      "Iteration #:26000, loss:40.17 weights [3.96582514 3.01217428]\n",
      "Iteration #:26100, loss:40.17 weights [3.96617206 3.0121237 ]\n",
      "Iteration #:26200, loss:40.17 weights [3.96651197 3.01207414]\n",
      "Iteration #:26300, loss:40.17 weights [3.96684501 3.01202558]\n",
      "Iteration #:26400, loss:40.17 weights [3.96717132 3.01197801]\n",
      "Iteration #:26500, loss:40.17 weights [3.96749103 3.01193139]\n",
      "Iteration #:26600, loss:40.17 weights [3.96780428 3.01188572]\n",
      "Iteration #:26700, loss:40.17 weights [3.96811119 3.01184097]\n",
      "Iteration #:26800, loss:40.17 weights [3.96841191 3.01179713]\n",
      "Iteration #:26900, loss:40.17 weights [3.96870654 3.01175417]\n",
      "Iteration #:27000, loss:40.17 weights [3.96899523 3.01171208]\n",
      "Iteration #:27100, loss:40.17 weights [3.96927807 3.01167084]\n",
      "Iteration #:27200, loss:40.17 weights [3.9695552  3.01163044]\n",
      "Iteration #:27300, loss:40.17 weights [3.96982673 3.01159085]\n",
      "Iteration #:27400, loss:40.17 weights [3.97009277 3.01155206]\n",
      "Iteration #:27500, loss:40.17 weights [3.97035343 3.01151406]\n",
      "Iteration #:27600, loss:40.17 weights [3.97060882 3.01147682]\n",
      "Iteration #:27700, loss:40.17 weights [3.97085906 3.01144034]\n",
      "Iteration #:27800, loss:40.17 weights [3.97110423 3.01140459]\n",
      "Iteration #:27900, loss:40.17 weights [3.97134445 3.01136957]\n",
      "Iteration #:28000, loss:40.17 weights [3.97157981 3.01133525]\n",
      "Iteration #:28100, loss:40.17 weights [3.97181042 3.01130163]\n",
      "Iteration #:28200, loss:40.17 weights [3.97203636 3.01126869]\n",
      "Iteration #:28300, loss:40.17 weights [3.97225774 3.01123641]\n",
      "Iteration #:28400, loss:40.17 weights [3.97247464 3.01120479]\n",
      "Iteration #:28500, loss:40.17 weights [3.97268716 3.0111738 ]\n",
      "Iteration #:28600, loss:40.17 weights [3.97289539 3.01114344]\n",
      "Iteration #:28700, loss:40.17 weights [3.9730994 3.0111137]\n",
      "Iteration #:28800, loss:40.17 weights [3.97329929 3.01108455]\n",
      "Iteration #:28900, loss:40.17 weights [3.97349514 3.011056  ]\n",
      "Iteration #:29000, loss:40.17 weights [3.97368704 3.01102802]\n",
      "Iteration #:29100, loss:40.17 weights [3.97387505 3.01100061]\n",
      "Iteration #:29200, loss:40.17 weights [3.97405927 3.01097375]\n",
      "Iteration #:29300, loss:40.17 weights [3.97423976 3.01094743]\n",
      "Iteration #:29400, loss:40.17 weights [3.9744166  3.01092165]\n",
      "Iteration #:29500, loss:40.17 weights [3.97458987 3.01089639]\n",
      "Iteration #:29600, loss:40.17 weights [3.97475963 3.01087163]\n",
      "Iteration #:29700, loss:40.17 weights [3.97492597 3.01084738]\n",
      "Iteration #:29800, loss:40.17 weights [3.97508894 3.01082362]\n",
      "Iteration #:29900, loss:40.17 weights [3.97524862 3.01080034]\n",
      "Iteration #:30000, loss:40.17 weights [3.97540507 3.01077753]\n",
      "Iteration #:30100, loss:40.17 weights [3.97555836 3.01075518]\n",
      "Iteration #:30200, loss:40.17 weights [3.97570855 3.01073328]\n"
     ]
    },
    {
     "name": "stdout",
     "output_type": "stream",
     "text": [
      "Iteration #:30300, loss:40.17 weights [3.9758557  3.01071183]\n",
      "Iteration #:30400, loss:40.17 weights [3.97599988 3.01069081]\n",
      "Iteration #:30500, loss:40.17 weights [3.97614115 3.01067021]\n",
      "Iteration #:30600, loss:40.17 weights [3.97627956 3.01065003]\n",
      "Iteration #:30700, loss:40.17 weights [3.97641518 3.01063026]\n",
      "Iteration #:30800, loss:40.17 weights [3.97654805 3.01061088]\n",
      "Iteration #:30900, loss:40.17 weights [3.97667823 3.0105919 ]\n",
      "Iteration #:31000, loss:40.17 weights [3.97680579 3.01057331]\n",
      "Iteration #:31100, loss:40.16 weights [3.97693077 3.01055508]\n",
      "Iteration #:31200, loss:40.16 weights [3.97705322 3.01053723]\n",
      "Iteration #:31300, loss:40.16 weights [3.97717319 3.01051974]\n",
      "Iteration #:31400, loss:40.16 weights [3.97729075 3.0105026 ]\n",
      "Iteration #:31500, loss:40.16 weights [3.97740592 3.01048581]\n",
      "Iteration #:31600, loss:40.16 weights [3.97751877 3.01046935]\n",
      "Iteration #:31700, loss:40.16 weights [3.97762933 3.01045323]\n",
      "Iteration #:31800, loss:40.16 weights [3.97773767 3.01043744]\n",
      "Iteration #:31900, loss:40.16 weights [3.97784381 3.01042196]\n",
      "Iteration #:32000, loss:40.16 weights [3.9779478 3.0104068]\n",
      "Iteration #:32100, loss:40.16 weights [3.9780497  3.01039194]\n",
      "Iteration #:32200, loss:40.16 weights [3.97814953 3.01037739]\n",
      "Iteration #:32300, loss:40.16 weights [3.97824735 3.01036313]\n",
      "Iteration #:32400, loss:40.16 weights [3.97834319 3.01034915]\n",
      "Iteration #:32500, loss:40.16 weights [3.97843709 3.01033546]\n",
      "Iteration #:32600, loss:40.16 weights [3.9785291  3.01032205]\n",
      "Iteration #:32700, loss:40.16 weights [3.97861924 3.0103089 ]\n",
      "Iteration #:32800, loss:40.16 weights [3.97870757 3.01029603]\n",
      "Iteration #:32900, loss:40.16 weights [3.97879411 3.01028341]\n",
      "Iteration #:33000, loss:40.16 weights [3.97887889 3.01027105]\n",
      "Iteration #:33100, loss:40.16 weights [3.97896197 3.01025894]\n",
      "Iteration #:33200, loss:40.16 weights [3.97904337 3.01024707]\n",
      "Iteration #:33300, loss:40.16 weights [3.97912312 3.01023544]\n",
      "Iteration #:33400, loss:40.16 weights [3.97920126 3.01022405]\n",
      "Iteration #:33500, loss:40.16 weights [3.97927781 3.01021289]\n",
      "Iteration #:33600, loss:40.16 weights [3.97935283 3.01020195]\n",
      "Iteration #:33700, loss:40.16 weights [3.97942632 3.01019123]\n",
      "Iteration #:33800, loss:40.16 weights [3.97949833 3.01018073]\n",
      "Iteration #:33900, loss:40.16 weights [3.97956889 3.01017045]\n",
      "Iteration #:34000, loss:40.16 weights [3.97963802 3.01016037]\n",
      "Iteration #:34100, loss:40.16 weights [3.97970575 3.01015049]\n",
      "Iteration #:34200, loss:40.16 weights [3.97977211 3.01014082]\n",
      "Iteration #:34300, loss:40.16 weights [3.97983713 3.01013134]\n",
      "Iteration #:34400, loss:40.16 weights [3.97990084 3.01012205]\n",
      "Iteration #:34500, loss:40.16 weights [3.97996326 3.01011295]\n",
      "Iteration #:34600, loss:40.16 weights [3.98002442 3.01010403]\n",
      "Iteration #:34700, loss:40.16 weights [3.98008434 3.01009529]\n",
      "Iteration #:34800, loss:40.16 weights [3.98014305 3.01008673]\n",
      "Iteration #:34900, loss:40.16 weights [3.98020057 3.01007835]\n",
      "Iteration #:35000, loss:40.16 weights [3.98025693 3.01007013]\n",
      "Iteration #:35100, loss:40.16 weights [3.98031216 3.01006208]\n",
      "Iteration #:35200, loss:40.16 weights [3.98036626 3.01005419]\n",
      "Iteration #:35300, loss:40.16 weights [3.98041927 3.01004646]\n",
      "Iteration #:35400, loss:40.16 weights [3.98047121 3.01003889]\n",
      "Iteration #:35500, loss:40.16 weights [3.9805221  3.01003147]\n",
      "Iteration #:35600, loss:40.16 weights [3.98057197 3.0100242 ]\n",
      "Iteration #:35700, loss:40.16 weights [3.98062082 3.01001708]\n",
      "Iteration #:35800, loss:40.16 weights [3.98066869 3.0100101 ]\n",
      "Iteration #:35900, loss:40.16 weights [3.98071559 3.01000326]\n",
      "Iteration #:36000, loss:40.16 weights [3.98076154 3.00999656]\n",
      "Iteration #:36100, loss:40.16 weights [3.98080656 3.00998999]\n",
      "Iteration #:36200, loss:40.16 weights [3.98085067 3.00998356]\n",
      "Iteration #:36300, loss:40.16 weights [3.9808939  3.00997726]\n",
      "Iteration #:36400, loss:40.16 weights [3.98093624 3.00997109]\n",
      "Iteration #:36500, loss:40.16 weights [3.98097773 3.00996504]\n",
      "Iteration #:36600, loss:40.16 weights [3.98101839 3.00995911]\n",
      "Iteration #:36700, loss:40.16 weights [3.98105822 3.0099533 ]\n",
      "Iteration #:36800, loss:40.16 weights [3.98109724 3.00994761]\n",
      "Iteration #:36900, loss:40.16 weights [3.98113548 3.00994204]\n",
      "Iteration #:37000, loss:40.16 weights [3.98117295 3.00993658]\n",
      "Iteration #:37100, loss:40.16 weights [3.98120965 3.00993122]\n",
      "Iteration #:37200, loss:40.16 weights [3.98124562 3.00992598]\n",
      "Iteration #:37300, loss:40.16 weights [3.98128086 3.00992084]\n",
      "Iteration #:37400, loss:40.16 weights [3.98131538 3.00991581]\n",
      "Iteration #:37500, loss:40.16 weights [3.98134921 3.00991088]\n",
      "Iteration #:37600, loss:40.16 weights [3.98138236 3.00990604]\n",
      "Iteration #:37700, loss:40.16 weights [3.98141483 3.00990131]\n",
      "Iteration #:37800, loss:40.16 weights [3.98144665 3.00989667]\n",
      "Iteration #:37900, loss:40.16 weights [3.98147782 3.00989212]\n",
      "Iteration #:38000, loss:40.16 weights [3.98150837 3.00988767]\n",
      "Iteration #:38100, loss:40.16 weights [3.9815383  3.00988331]\n",
      "Iteration #:38200, loss:40.16 weights [3.98156762 3.00987903]\n",
      "Iteration #:38300, loss:40.16 weights [3.98159635 3.00987484]\n",
      "Iteration #:38400, loss:40.16 weights [3.9816245  3.00987074]\n",
      "Iteration #:38500, loss:40.16 weights [3.98165208 3.00986672]\n",
      "Iteration #:38600, loss:40.16 weights [3.9816791  3.00986278]\n",
      "Iteration #:38700, loss:40.16 weights [3.98170558 3.00985892]\n",
      "Iteration #:38800, loss:40.16 weights [3.98173152 3.00985514]\n",
      "Iteration #:38900, loss:40.16 weights [3.98175694 3.00985143]\n",
      "Iteration #:39000, loss:40.16 weights [3.98178184 3.0098478 ]\n",
      "Iteration #:39100, loss:40.16 weights [3.98180624 3.00984424]\n",
      "Iteration #:39200, loss:40.16 weights [3.98183015 3.00984076]\n",
      "Iteration #:39300, loss:40.16 weights [3.98185357 3.00983734]\n",
      "Iteration #:39400, loss:40.16 weights [3.98187652 3.00983399]\n",
      "Iteration #:39500, loss:40.16 weights [3.98189901 3.00983072]\n",
      "Iteration #:39600, loss:40.16 weights [3.98192104 3.0098275 ]\n",
      "Iteration #:39700, loss:40.16 weights [3.98194263 3.00982436]\n",
      "Iteration #:39800, loss:40.16 weights [3.98196378 3.00982127]\n",
      "Iteration #:39900, loss:40.16 weights [3.9819845  3.00981825]\n",
      "Iteration #:40000, loss:40.16 weights [3.9820048  3.00981529]\n",
      "[3.9820048  3.00981529]\n"
     ]
    }
   ],
   "source": [
    "linreg.gradient_descent(X_train,y_train,num_epochs=40000,lr=0.00001)\n",
    "print(linreg.w)"
   ]
  },
  {
   "cell_type": "code",
   "execution_count": 72,
   "id": "01ccad0c",
   "metadata": {},
   "outputs": [
    {
     "data": {
      "text/plain": [
       "((80, 2), (2,))"
      ]
     },
     "execution_count": 72,
     "metadata": {},
     "output_type": "execute_result"
    }
   ],
   "source": [
    "X_train.shape,linreg1.w.shape"
   ]
  },
  {
   "cell_type": "code",
   "execution_count": 73,
   "id": "af0f768f",
   "metadata": {},
   "outputs": [
    {
     "name": "stdout",
     "output_type": "stream",
     "text": [
      "[3.9820046  3.00981532]\n"
     ]
    }
   ],
   "source": [
    "linreg1.gradient_descent(X_train,y_train,num_epochs=40000,lr=0.00001)\n",
    "print(linreg1.w)"
   ]
  },
  {
   "cell_type": "code",
   "execution_count": 74,
   "id": "b858cc6c",
   "metadata": {
    "scrolled": true
   },
   "outputs": [
    {
     "data": {
      "text/plain": [
       "array([ -6.79950035, -56.08925246])"
      ]
     },
     "execution_count": 74,
     "metadata": {},
     "output_type": "execute_result"
    }
   ],
   "source": [
    "linreg.mbgd(X_train,y_train,num_iters=1,minibatch_size=70)"
   ]
  },
  {
   "cell_type": "code",
   "execution_count": 75,
   "id": "b5b5fd31",
   "metadata": {},
   "outputs": [
    {
     "data": {
      "text/plain": [
       "array([ -3.57906379, -14.80235235])"
      ]
     },
     "execution_count": 75,
     "metadata": {},
     "output_type": "execute_result"
    }
   ],
   "source": [
    "linreg1.mbgd(X_train,y_train,num_epochs=1,minibatch_size=70)"
   ]
  },
  {
   "cell_type": "code",
   "execution_count": 76,
   "id": "b5128327",
   "metadata": {},
   "outputs": [],
   "source": [
    "from sklearn.datasets import make_regression\n",
    "X,y,coef=make_regression(n_samples=200,n_features=10,n_informative=10,n_targets=1,shuffle=True\n",
    "                        ,coef=True,noise=0.5,random_state=0)\n"
   ]
  },
  {
   "cell_type": "code",
   "execution_count": 77,
   "id": "6bee53ed",
   "metadata": {},
   "outputs": [
    {
     "data": {
      "text/plain": [
       "((200, 10), (200,), (10,))"
      ]
     },
     "execution_count": 77,
     "metadata": {},
     "output_type": "execute_result"
    }
   ],
   "source": [
    "X.shape,y.shape,coef.shape"
   ]
  },
  {
   "cell_type": "code",
   "execution_count": 78,
   "id": "ba177595",
   "metadata": {},
   "outputs": [
    {
     "name": "stdout",
     "output_type": "stream",
     "text": [
      "Weight used for data generation [40.05104636 10.32532207 51.90989393  6.18447832 41.09157343 28.46940664\n",
      " 88.97621358  9.68032193 15.48694157 44.96944303]\n"
     ]
    }
   ],
   "source": [
    "print(\"Weight used for data generation\",coef)"
   ]
  },
  {
   "cell_type": "code",
   "execution_count": 79,
   "id": "9e5b1ce4",
   "metadata": {},
   "outputs": [],
   "source": [
    "X_train,X_test,y_train,y_test=preprocess(X,y)"
   ]
  },
  {
   "cell_type": "code",
   "execution_count": 80,
   "id": "90c13b67",
   "metadata": {},
   "outputs": [
    {
     "name": "stdout",
     "output_type": "stream",
     "text": [
      "[4.30868690e-03 4.00335228e+01 1.03086790e+01 5.19091277e+01\n",
      " 6.29286567e+00 4.11625781e+01 2.84422862e+01 8.89543306e+01\n",
      " 9.75752481e+00 1.54723974e+01 4.49980952e+01]\n"
     ]
    }
   ],
   "source": [
    "linreg.fit(X_train,y_train)\n",
    "print(linreg.w)"
   ]
  },
  {
   "cell_type": "code",
   "execution_count": 81,
   "id": "b2774e5c",
   "metadata": {},
   "outputs": [],
   "source": [
    "np.testing.assert_almost_equal(coef,linreg.w[1:],decimal=0)"
   ]
  },
  {
   "cell_type": "code",
   "execution_count": 82,
   "id": "d0833f0c",
   "metadata": {
    "scrolled": true
   },
   "outputs": [
    {
     "name": "stdout",
     "output_type": "stream",
     "text": [
      "Iteration #:0, loss:1357483.15 weights [-0.02534057  0.64585153  0.20339313  1.00915607 -0.10369119  0.53494962\n",
      "  0.41235305  1.35895577  0.2104315   0.12580256  0.73726364]\n",
      "Iteration #:100, loss:59260.90 weights [-0.43103515 32.14865341  8.31196834 44.81462416  0.48578576 29.98867362\n",
      " 22.33831802 69.89340465  9.50660528  9.6307053  35.7667444 ]\n",
      "Iteration #:200, loss:3348.52 weights [-0.15898535 38.42309709  9.53481069 50.96552036  3.91153181 37.93145789\n",
      " 27.20960332 84.71618269 10.39428733 13.54422489 42.73548723]\n",
      "Iteration #:300, loss:257.98 weights [-4.99638749e-02  3.97055534e+01  9.95643217e+00  5.18065065e+01\n",
      "  5.45243564e+00  4.01712847e+01  2.81997236e+01  8.80000901e+01\n",
      "  1.01559660e+01  1.48679252e+01  4.43648319e+01]\n",
      "Iteration #:400, loss:41.27 weights [-1.49539919e-02  3.99687545e+01  1.01556292e+01  5.19088865e+01\n",
      "  6.00910948e+00  4.08416127e+01  2.83936958e+01  8.87385008e+01\n",
      "  9.94112457e+00  1.52868461e+01  4.48034235e+01]\n",
      "Iteration #:500, loss:22.36 weights [-3.09216534e-03  4.00217072e+01  1.02459307e+01  5.19152595e+01\n",
      "  6.19795293e+00  4.10542256e+01  2.84318150e+01  8.89057027e+01\n",
      "  9.83339373e+00  1.54158958e+01  4.49345313e+01]\n",
      "Iteration #:600, loss:20.40 weights [1.34626948e-03 4.00317759e+01 1.02839973e+01 5.19125400e+01\n",
      " 6.26097766e+00 4.11249266e+01 2.84397120e+01 8.89435357e+01\n",
      " 9.78729457e+00 1.54552162e+01 4.49765594e+01]\n",
      "Iteration #:700, loss:20.18 weights [3.11399945e-03 4.00334422e+01 1.02992312e+01 5.19106278e+01\n",
      " 6.28204775e+00 4.11492487e+01 2.84415457e+01 8.89520106e+01\n",
      " 9.76888490e+00 1.54671590e+01 4.49906345e+01]\n",
      "Iteration #:800, loss:20.15 weights [3.83135308e-03 4.00336135e+01 1.03051260e+01 5.19097372e+01\n",
      " 6.28915497e+00 4.11578050e+01 2.84420441e+01 8.89538640e+01\n",
      " 9.76179052e+00 1.54707915e+01 4.49954755e+01]\n",
      "Iteration #:900, loss:20.15 weights [4.12078315e-03 4.00335814e+01 1.03073582e+01 5.19093664e+01\n",
      " 6.29157939e+00 4.11608572e+01 2.84422010e+01 8.89542500e+01\n",
      " 9.75911100e+00 1.54719012e+01 4.49971676e+01]\n",
      "Iteration #:1000, loss:20.14 weights [4.23583075e-03 4.00335495e+01 1.03081918e+01 5.19092192e+01\n",
      " 6.29241567e+00 4.11619552e+01 2.84422552e+01 8.89543224e+01\n",
      " 9.75811100e+00 1.54722426e+01 4.49977650e+01]\n",
      "Weight through gradient descent [4.23583075e-03 4.00335495e+01 1.03081918e+01 5.19092192e+01\n",
      " 6.29241567e+00 4.11619552e+01 2.84422552e+01 8.89543224e+01\n",
      " 9.75811100e+00 1.54722426e+01 4.49977650e+01]\n"
     ]
    }
   ],
   "source": [
    "linreg.gradient_descent(X_train,y_train,num_epochs=1000,lr=1e-4)\n",
    "print(\"Weight through gradient descent\",linreg.w)"
   ]
  },
  {
   "cell_type": "code",
   "execution_count": 83,
   "id": "3120c719",
   "metadata": {},
   "outputs": [
    {
     "name": "stdout",
     "output_type": "stream",
     "text": [
      "Weight through gradient descent [4.23513204e-03 4.00335497e+01 1.03081869e+01 5.19092201e+01\n",
      " 6.29241093e+00 4.11619488e+01 2.84422549e+01 8.89543222e+01\n",
      " 9.75811687e+00 1.54722408e+01 4.49977615e+01]\n"
     ]
    }
   ],
   "source": [
    "linreg1.gradient_descent(X_train,y_train,num_epochs=1000,lr=1e-4)\n",
    "print(\"Weight through gradient descent\",linreg1.w)"
   ]
  },
  {
   "cell_type": "code",
   "execution_count": 84,
   "id": "c166ab04",
   "metadata": {},
   "outputs": [
    {
     "data": {
      "image/png": "[encoded data removed]",
      "text/plain": [
       "<Figure size 432x288 with 1 Axes>"
      ]
     },
     "metadata": {},
     "output_type": "display_data"
    }
   ],
   "source": [
    "plot_learning_curves(linreg.err_all[:1000])"
   ]
  },
  {
   "cell_type": "code",
   "execution_count": 85,
   "id": "72e0b825",
   "metadata": {},
   "outputs": [
    {
     "data": {
      "image/png": "[encoded data removed]",
      "text/plain": [
       "<Figure size 432x288 with 1 Axes>"
      ]
     },
     "metadata": {},
     "output_type": "display_data"
    }
   ],
   "source": [
    "plot_learning_curves(linreg1.err_all[:1000])"
   ]
  },
  {
   "cell_type": "code",
   "execution_count": 86,
   "id": "a750beb8",
   "metadata": {},
   "outputs": [],
   "source": [
    "np.testing.assert_almost_equal(coef,linreg.w[1:],decimal=1)"
   ]
  },
  {
   "cell_type": "code",
   "execution_count": 87,
   "id": "b7d9580f",
   "metadata": {},
   "outputs": [
    {
     "data": {
      "text/plain": [
       "array([4.90309509e-03, 3.99936186e+01, 1.03062520e+01, 5.19007232e+01,\n",
       "       6.28906281e+00, 4.11877312e+01, 2.84669765e+01, 8.89677911e+01,\n",
       "       9.76929078e+00, 1.54991218e+01, 4.50219807e+01])"
      ]
     },
     "execution_count": 87,
     "metadata": {},
     "output_type": "execute_result"
    }
   ],
   "source": [
    "linreg.mbgd(X_train,y_train,num_iters=100,minibatch_size=16)"
   ]
  },
  {
   "cell_type": "code",
   "execution_count": 88,
   "id": "3f365825",
   "metadata": {},
   "outputs": [
    {
     "data": {
      "text/plain": [
       "array([2.53672117e-02, 4.00159098e+01, 1.03153477e+01, 5.18926413e+01,\n",
       "       6.26283463e+00, 4.11353862e+01, 2.84241394e+01, 8.89600179e+01,\n",
       "       9.72727447e+00, 1.54736670e+01, 4.49977579e+01])"
      ]
     },
     "execution_count": 88,
     "metadata": {},
     "output_type": "execute_result"
    }
   ],
   "source": [
    "linreg1.mbgd(X_train,y_train,num_epochs=100,minibatch_size=16)"
   ]
  },
  {
   "cell_type": "code",
   "execution_count": 89,
   "id": "6a57ea85",
   "metadata": {},
   "outputs": [
    {
     "data": {
      "image/png": "[encoded data removed]",
      "text/plain": [
       "<Figure size 432x288 with 1 Axes>"
      ]
     },
     "metadata": {},
     "output_type": "display_data"
    }
   ],
   "source": [
    "plot_learning_curves(linreg.err_all)"
   ]
  },
  {
   "cell_type": "code",
   "execution_count": 90,
   "id": "b8f603d0",
   "metadata": {},
   "outputs": [
    {
     "data": {
      "image/png": "[encoded data removed]",
      "text/plain": [
       "<Figure size 432x288 with 1 Axes>"
      ]
     },
     "metadata": {},
     "output_type": "display_data"
    }
   ],
   "source": [
    "plot_learning_curves(linreg1.err_all)"
   ]
  },
  {
   "cell_type": "code",
   "execution_count": 91,
   "id": "1e6ede85",
   "metadata": {},
   "outputs": [
    {
     "data": {
      "text/plain": [
       "array([-4.52660708e-02,  3.99692102e+01,  1.03281740e+01,  5.19396763e+01,\n",
       "        6.29898244e+00,  4.12268895e+01,  2.83491079e+01,  8.88595683e+01,\n",
       "        9.75873959e+00,  1.54372761e+01,  4.50068359e+01])"
      ]
     },
     "execution_count": 91,
     "metadata": {},
     "output_type": "execute_result"
    }
   ],
   "source": [
    "linreg.sgd(X_train,y_train,num_epochs=100)"
   ]
  },
  {
   "cell_type": "code",
   "execution_count": 92,
   "id": "c8bd7bc8",
   "metadata": {},
   "outputs": [
    {
     "data": {
      "text/plain": [
       "array([1.28818060e-02, 3.99829698e+01, 1.03420634e+01, 5.19482388e+01,\n",
       "       6.32587866e+00, 4.12067065e+01, 2.83166507e+01, 8.89051782e+01,\n",
       "       9.77592987e+00, 1.54454114e+01, 4.50095543e+01])"
      ]
     },
     "execution_count": 92,
     "metadata": {},
     "output_type": "execute_result"
    }
   ],
   "source": [
    "linreg1.sgd(X_train,y_train,num_epochs=100)"
   ]
  },
  {
   "cell_type": "code",
   "execution_count": 93,
   "id": "46fac72e",
   "metadata": {},
   "outputs": [
    {
     "data": {
      "image/png": "[encoded data removed]",
      "text/plain": [
       "<Figure size 432x288 with 1 Axes>"
      ]
     },
     "metadata": {},
     "output_type": "display_data"
    }
   ],
   "source": [
    "plot_learning_curves(linreg.err_all)"
   ]
  },
  {
   "cell_type": "code",
   "execution_count": 94,
   "id": "6e5bc421",
   "metadata": {},
   "outputs": [
    {
     "data": {
      "image/png": "[encoded data removed]",
      "text/plain": [
       "<Figure size 432x288 with 1 Axes>"
      ]
     },
     "metadata": {},
     "output_type": "display_data"
    }
   ],
   "source": [
    "plot_learning_curves(linreg1.err_all)"
   ]
  },
  {
   "cell_type": "markdown",
   "id": "7878731f",
   "metadata": {},
   "source": [
    "<h2 style=\"font-family: Courier New\">Polynomial Regression </h2>"
   ]
  },
  {
   "cell_type": "code",
   "execution_count": 17,
   "id": "1d9fb3e8",
   "metadata": {},
   "outputs": [],
   "source": [
    "import itertools\n",
    "import functools\n",
    "\n",
    "def get_combinations(x,degree):\n",
    "    return itertools.combinations_with_replacement(x,degree)\n",
    "\n",
    "def compute_new_feature(items):\n",
    "    return functools.reduce(lambda x,y:x*y,items)\n",
    "\n",
    "import numpy as np\n",
    "import itertools\n",
    "import functools\n",
    "\n",
    "def polynomial_transform(x,degree,logging=False):\n",
    "    if x.ndim==1:\n",
    "        x=x[:,None]\n",
    "    x_t=x.transpose()\n",
    "    features=[np.ones(len(x))]\n",
    "    if logging:\n",
    "        print(\"INPUT:\",x)\n",
    "    for degree in range(1,degree+1):\n",
    "        for items in itertools.combinations_with_replacement(x,degree):\n",
    "            features.append(functools.reduce(lambda x,y:x*y,items))\n",
    "#             if logging:\n",
    "#                 print(items,\":\",compute_new_feature(items))\n",
    "#     if logging:\n",
    "#         print(np.asarray(features).transpose())\n",
    "    return np.asarray(features).transpose()"
   ]
  },
  {
   "cell_type": "code",
   "execution_count": 18,
   "id": "9e7eff85",
   "metadata": {
    "scrolled": true
   },
   "outputs": [
    {
     "data": {
      "text/plain": [
       "{(1, 1, 1, 1): 1,\n",
       " (1, 1, 1, 2): 2,\n",
       " (1, 1, 1, 3): 3,\n",
       " (1, 1, 1, 4): 4,\n",
       " (1, 1, 1, 5): 5,\n",
       " (1, 1, 2, 2): 4,\n",
       " (1, 1, 2, 3): 6,\n",
       " (1, 1, 2, 4): 8,\n",
       " (1, 1, 2, 5): 10,\n",
       " (1, 1, 3, 3): 9,\n",
       " (1, 1, 3, 4): 12,\n",
       " (1, 1, 3, 5): 15,\n",
       " (1, 1, 4, 4): 16,\n",
       " (1, 1, 4, 5): 20,\n",
       " (1, 1, 5, 5): 25,\n",
       " (1, 2, 2, 2): 8,\n",
       " (1, 2, 2, 3): 12,\n",
       " (1, 2, 2, 4): 16,\n",
       " (1, 2, 2, 5): 20,\n",
       " (1, 2, 3, 3): 18,\n",
       " (1, 2, 3, 4): 24,\n",
       " (1, 2, 3, 5): 30,\n",
       " (1, 2, 4, 4): 32,\n",
       " (1, 2, 4, 5): 40,\n",
       " (1, 2, 5, 5): 50,\n",
       " (1, 3, 3, 3): 27,\n",
       " (1, 3, 3, 4): 36,\n",
       " (1, 3, 3, 5): 45,\n",
       " (1, 3, 4, 4): 48,\n",
       " (1, 3, 4, 5): 60,\n",
       " (1, 3, 5, 5): 75,\n",
       " (1, 4, 4, 4): 64,\n",
       " (1, 4, 4, 5): 80,\n",
       " (1, 4, 5, 5): 100,\n",
       " (1, 5, 5, 5): 125,\n",
       " (2, 2, 2, 2): 16,\n",
       " (2, 2, 2, 3): 24,\n",
       " (2, 2, 2, 4): 32,\n",
       " (2, 2, 2, 5): 40,\n",
       " (2, 2, 3, 3): 36,\n",
       " (2, 2, 3, 4): 48,\n",
       " (2, 2, 3, 5): 60,\n",
       " (2, 2, 4, 4): 64,\n",
       " (2, 2, 4, 5): 80,\n",
       " (2, 2, 5, 5): 100,\n",
       " (2, 3, 3, 3): 54,\n",
       " (2, 3, 3, 4): 72,\n",
       " (2, 3, 3, 5): 90,\n",
       " (2, 3, 4, 4): 96,\n",
       " (2, 3, 4, 5): 120,\n",
       " (2, 3, 5, 5): 150,\n",
       " (2, 4, 4, 4): 128,\n",
       " (2, 4, 4, 5): 160,\n",
       " (2, 4, 5, 5): 200,\n",
       " (2, 5, 5, 5): 250,\n",
       " (3, 3, 3, 3): 81,\n",
       " (3, 3, 3, 4): 108,\n",
       " (3, 3, 3, 5): 135,\n",
       " (3, 3, 4, 4): 144,\n",
       " (3, 3, 4, 5): 180,\n",
       " (3, 3, 5, 5): 225,\n",
       " (3, 4, 4, 4): 192,\n",
       " (3, 4, 4, 5): 240,\n",
       " (3, 4, 5, 5): 300,\n",
       " (3, 5, 5, 5): 375,\n",
       " (4, 4, 4, 4): 256,\n",
       " (4, 4, 4, 5): 320,\n",
       " (4, 4, 5, 5): 400,\n",
       " (4, 5, 5, 5): 500,\n",
       " (5, 5, 5, 5): 625}"
      ]
     },
     "execution_count": 18,
     "metadata": {},
     "output_type": "execute_result"
    }
   ],
   "source": [
    "{items:compute_new_feature(items) for items in get_combinations([1,2,3,4,5],4)}"
   ]
  },
  {
   "cell_type": "code",
   "execution_count": null,
   "id": "fbfd2d46",
   "metadata": {},
   "outputs": [],
   "source": []
  },
  {
   "cell_type": "code",
   "execution_count": 97,
   "id": "0dfa8eda",
   "metadata": {},
   "outputs": [
    {
     "data": {
      "text/plain": [
       "{(1, 1, 1): 1}"
      ]
     },
     "execution_count": 97,
     "metadata": {},
     "output_type": "execute_result"
    }
   ],
   "source": [
    "{items:compute_new_feature(items) for items in get_combinations([1],3)}"
   ]
  },
  {
   "cell_type": "code",
   "execution_count": 98,
   "id": "ad9d7135",
   "metadata": {},
   "outputs": [
    {
     "data": {
      "text/plain": [
       "{(2, 2, 2): 8, (2, 2, 3): 12, (2, 3, 3): 18, (3, 3, 3): 27}"
      ]
     },
     "execution_count": 98,
     "metadata": {},
     "output_type": "execute_result"
    }
   ],
   "source": [
    "{items:compute_new_feature(items) for items in get_combinations([2,3],3)}"
   ]
  },
  {
   "cell_type": "code",
   "execution_count": 99,
   "id": "6724fc8a",
   "metadata": {},
   "outputs": [
    {
     "data": {
      "text/plain": [
       "{(1, 1, 1, 1): 1,\n",
       " (1, 1, 1, 4): 4,\n",
       " (1, 1, 4, 4): 16,\n",
       " (1, 4, 4, 4): 64,\n",
       " (4, 4, 4, 4): 256}"
      ]
     },
     "execution_count": 99,
     "metadata": {},
     "output_type": "execute_result"
    }
   ],
   "source": [
    "{items:compute_new_feature(items) for items in get_combinations([1,4],4)}"
   ]
  },
  {
   "cell_type": "code",
   "execution_count": null,
   "id": "a2724755",
   "metadata": {},
   "outputs": [],
   "source": []
  },
  {
   "cell_type": "code",
   "execution_count": 100,
   "id": "a94e06b4",
   "metadata": {},
   "outputs": [
    {
     "name": "stderr",
     "output_type": "stream",
     "text": [
      "C:\\Users\\kabali\\AppData\\Roaming\\Python\\Python38\\site-packages\\numpy\\core\\_asarray.py:83: VisibleDeprecationWarning: Creating an ndarray from ragged nested sequences (which is a list-or-tuple of lists-or-tuples-or ndarrays with different lengths or shapes) is deprecated. If you meant to do this, you must specify 'dtype=object' when creating the ndarray\n",
      "  return array(a, dtype, copy=False, order=order)\n"
     ]
    }
   ],
   "source": [
    "a=polynomial_transform(np.array([[1,2,3,4,5]]),4,logging=False)"
   ]
  },
  {
   "cell_type": "code",
   "execution_count": 101,
   "id": "efb37ed5",
   "metadata": {},
   "outputs": [
    {
     "data": {
      "text/plain": [
       "(5,)"
      ]
     },
     "execution_count": 101,
     "metadata": {},
     "output_type": "execute_result"
    }
   ],
   "source": [
    "a.shape"
   ]
  },
  {
   "cell_type": "code",
   "execution_count": 102,
   "id": "4e1356fd",
   "metadata": {},
   "outputs": [
    {
     "name": "stdout",
     "output_type": "stream",
     "text": [
      "INPUT: [[2]]\n"
     ]
    },
    {
     "data": {
      "text/plain": [
       "array([[ 1.,  2.,  4.,  8., 16., 32.]])"
      ]
     },
     "execution_count": 102,
     "metadata": {},
     "output_type": "execute_result"
    }
   ],
   "source": [
    "polynomial_transform(np.array([2]),5,logging=True)"
   ]
  },
  {
   "cell_type": "code",
   "execution_count": 103,
   "id": "3cb12816",
   "metadata": {},
   "outputs": [
    {
     "name": "stdout",
     "output_type": "stream",
     "text": [
      "INPUT: [[2]]\n"
     ]
    },
    {
     "data": {
      "text/plain": [
       "array([[ 1.,  2.,  4.,  8., 16., 32.]])"
      ]
     },
     "execution_count": 103,
     "metadata": {},
     "output_type": "execute_result"
    }
   ],
   "source": [
    "polynomial_transform(np.array([2]),5,logging=True)"
   ]
  },
  {
   "cell_type": "code",
   "execution_count": 104,
   "id": "46d9c124",
   "metadata": {},
   "outputs": [
    {
     "name": "stdout",
     "output_type": "stream",
     "text": [
      "INPUT: [[5 4]]\n"
     ]
    },
    {
     "data": {
      "text/plain": [
       "array([array([1.]), array([5, 4]), array([25, 16])], dtype=object)"
      ]
     },
     "execution_count": 104,
     "metadata": {},
     "output_type": "execute_result"
    }
   ],
   "source": [
    "polynomial_transform(np.array([[5,4]]),2,logging=True)"
   ]
  },
  {
   "cell_type": "code",
   "execution_count": 105,
   "id": "467ec8d6",
   "metadata": {},
   "outputs": [
    {
     "name": "stdout",
     "output_type": "stream",
     "text": [
      "INPUT: [[2 3]\n",
      " [4 5]]\n"
     ]
    },
    {
     "data": {
      "text/plain": [
       "(2, 6)"
      ]
     },
     "execution_count": 105,
     "metadata": {},
     "output_type": "execute_result"
    }
   ],
   "source": [
    "polynomial_transform(np.array([[2,3],[4,5]]),2,logging=True).shape"
   ]
  },
  {
   "cell_type": "code",
   "execution_count": 106,
   "id": "66937339",
   "metadata": {},
   "outputs": [
    {
     "name": "stdout",
     "output_type": "stream",
     "text": [
      "INPUT: [[2 3]\n",
      " [4 5]]\n"
     ]
    },
    {
     "data": {
      "text/plain": [
       "(2, 10)"
      ]
     },
     "execution_count": 106,
     "metadata": {},
     "output_type": "execute_result"
    }
   ],
   "source": [
    "polynomial_transform(np.array([[2,3],[4,5]]),3,logging=True).shape"
   ]
  },
  {
   "cell_type": "code",
   "execution_count": 107,
   "id": "4bda55c6",
   "metadata": {},
   "outputs": [
    {
     "data": {
      "text/plain": [
       "array([[1.]])"
      ]
     },
     "execution_count": 107,
     "metadata": {},
     "output_type": "execute_result"
    }
   ],
   "source": [
    "polynomial_transform(np.array([2]),degree=0)"
   ]
  },
  {
   "cell_type": "markdown",
   "id": "d55762f5",
   "metadata": {},
   "source": [
    "<h4 style=\"font-family: Courier New\"> Non Linear Training data generation </h4>"
   ]
  },
  {
   "cell_type": "code",
   "execution_count": 108,
   "id": "40fbf772",
   "metadata": {},
   "outputs": [],
   "source": [
    "def create_nonlin_training_set(func,sample_size,std):\n",
    "    x=np.linspace(0,1,sample_size)\n",
    "    y=func(x)+np.random.normal(scale=std,size=x.shape)\n",
    "    return x,y\n",
    "def nonlin(x):\n",
    "    return np.sin(2*np.pi*x)"
   ]
  },
  {
   "cell_type": "code",
   "execution_count": 109,
   "id": "abe9907f",
   "metadata": {},
   "outputs": [],
   "source": [
    "# @title [Visualization]\n",
    "def visualize_training_data(X_train,y_train):\n",
    "    points=np.linspace(0,1,100)\n",
    "    output=nonlin(points)\n",
    "    plt.scatter(X_train,y_train,facecolor='none',edgecolor='b',s=50,label='Training data')\n",
    "    plt.plot(points,output,c='g',label='$\\sin(2\\pi x)$')\n",
    "    plt.xlabel('$x_1$')\n",
    "    plt.ylabel('y')\n",
    "    plt.legend()\n",
    "    plt.show()\n",
    "def visualize_model_fit(X,y,lin_reg,degree):\n",
    "    points=np.linspace(0,1,100)\n",
    "    output=nonlin(points)\n",
    "    if degree>0:\n",
    "        plt.scatter(X,y,facecolor='none',edgecolor='b',s=50,label='Training data')\n",
    "    plt.plot(points,output,c='g',label='$\\sin(2\\pi x)$')\n",
    "    \n",
    "    y_hat=lin_reg.Predict(polynomial_transform(points,degree))\n",
    "    plt.plot(points,y_hat,c='r',label='$h_\\mathbf{w}(x)$')\n",
    "    plt.xlabel('$x_1$')\n",
    "    plt.ylabel('y')\n",
    "    plt.ylim(-1.5,1.5)\n",
    "    plt.title('M={}'.format(degree))\n",
    "    "
   ]
  },
  {
   "cell_type": "code",
   "execution_count": 110,
   "id": "f74594b9",
   "metadata": {},
   "outputs": [
    {
     "data": {
      "image/png": "[encoded data removed]",
      "text/plain": [
       "<Figure size 432x288 with 1 Axes>"
      ]
     },
     "metadata": {},
     "output_type": "display_data"
    }
   ],
   "source": [
    "X_t1,y_t1=create_nonlin_training_set(nonlin,50,0.05)\n",
    "visualize_training_data(X_t1,y_t1)"
   ]
  },
  {
   "cell_type": "code",
   "execution_count": 111,
   "id": "f83d2aee",
   "metadata": {},
   "outputs": [
    {
     "data": {
      "image/png": "[encoded data removed]",
      "text/plain": [
       "<Figure size 432x288 with 1 Axes>"
      ]
     },
     "metadata": {},
     "output_type": "display_data"
    }
   ],
   "source": [
    "X_X_t1,y_t1=create_nonlin_training_set(nonlin,50,0.1)\n",
    "visualize_training_data(X_t1,y_t1)"
   ]
  },
  {
   "cell_type": "code",
   "execution_count": 112,
   "id": "217e0201",
   "metadata": {},
   "outputs": [
    {
     "data": {
      "image/png": "[encoded data removed]",
      "text/plain": [
       "<Figure size 432x288 with 1 Axes>"
      ]
     },
     "metadata": {},
     "output_type": "display_data"
    }
   ],
   "source": [
    "num_samples=1000\n",
    "X,y=create_nonlin_training_set(nonlin,num_samples,0.2)\n",
    "visualize_training_data(X,y)"
   ]
  },
  {
   "cell_type": "code",
   "execution_count": 113,
   "id": "f7c3a446",
   "metadata": {},
   "outputs": [
    {
     "ename": "MemoryError",
     "evalue": "",
     "output_type": "error",
     "traceback": [
      "\u001b[1;31m---------------------------------------------------------------------------\u001b[0m",
      "\u001b[1;31mMemoryError\u001b[0m                               Traceback (most recent call last)",
      "\u001b[1;32m~\\AppData\\Local\\Temp/ipykernel_16296/2613362520.py\u001b[0m in \u001b[0;36m<module>\u001b[1;34m\u001b[0m\n\u001b[0;32m      1\u001b[0m \u001b[0mdegree\u001b[0m\u001b[1;33m=\u001b[0m\u001b[1;36m9\u001b[0m\u001b[1;33m\u001b[0m\u001b[1;33m\u001b[0m\u001b[0m\n\u001b[1;32m----> 2\u001b[1;33m \u001b[0mX_transform\u001b[0m\u001b[1;33m=\u001b[0m\u001b[0mpolynomial_transform\u001b[0m\u001b[1;33m(\u001b[0m\u001b[0mX\u001b[0m\u001b[1;33m,\u001b[0m\u001b[0mdegree\u001b[0m\u001b[1;33m)\u001b[0m\u001b[1;33m\u001b[0m\u001b[1;33m\u001b[0m\u001b[0m\n\u001b[0m\u001b[0;32m      3\u001b[0m \u001b[0mlin_reg\u001b[0m\u001b[1;33m=\u001b[0m\u001b[0mLinearRegression\u001b[0m\u001b[1;33m(\u001b[0m\u001b[1;33m)\u001b[0m\u001b[1;33m\u001b[0m\u001b[1;33m\u001b[0m\u001b[0m\n\u001b[0;32m      4\u001b[0m \u001b[0mlin_reg\u001b[0m\u001b[1;33m.\u001b[0m\u001b[0mfit\u001b[0m\u001b[1;33m(\u001b[0m\u001b[0mX_transform\u001b[0m\u001b[1;33m,\u001b[0m\u001b[0my\u001b[0m\u001b[1;33m)\u001b[0m\u001b[1;33m\u001b[0m\u001b[1;33m\u001b[0m\u001b[0m\n\u001b[0;32m      5\u001b[0m \u001b[0mvisualize_model_fit\u001b[0m\u001b[1;33m(\u001b[0m\u001b[0mX\u001b[0m\u001b[1;33m,\u001b[0m\u001b[0my\u001b[0m\u001b[1;33m,\u001b[0m\u001b[0mlin_reg\u001b[0m\u001b[1;33m,\u001b[0m\u001b[0mdegree\u001b[0m\u001b[1;33m)\u001b[0m\u001b[1;33m\u001b[0m\u001b[1;33m\u001b[0m\u001b[0m\n",
      "\u001b[1;32m~\\AppData\\Local\\Temp/ipykernel_16296/3972000172.py\u001b[0m in \u001b[0;36mpolynomial_transform\u001b[1;34m(x, degree, logging)\u001b[0m\n\u001b[0;32m     21\u001b[0m     \u001b[1;32mfor\u001b[0m \u001b[0mdegree\u001b[0m \u001b[1;32min\u001b[0m \u001b[0mrange\u001b[0m\u001b[1;33m(\u001b[0m\u001b[1;36m1\u001b[0m\u001b[1;33m,\u001b[0m\u001b[0mdegree\u001b[0m\u001b[1;33m+\u001b[0m\u001b[1;36m1\u001b[0m\u001b[1;33m)\u001b[0m\u001b[1;33m:\u001b[0m\u001b[1;33m\u001b[0m\u001b[1;33m\u001b[0m\u001b[0m\n\u001b[0;32m     22\u001b[0m         \u001b[1;32mfor\u001b[0m \u001b[0mitems\u001b[0m \u001b[1;32min\u001b[0m \u001b[0mitertools\u001b[0m\u001b[1;33m.\u001b[0m\u001b[0mcombinations_with_replacement\u001b[0m\u001b[1;33m(\u001b[0m\u001b[0mx\u001b[0m\u001b[1;33m,\u001b[0m\u001b[0mdegree\u001b[0m\u001b[1;33m)\u001b[0m\u001b[1;33m:\u001b[0m\u001b[1;33m\u001b[0m\u001b[1;33m\u001b[0m\u001b[0m\n\u001b[1;32m---> 23\u001b[1;33m             \u001b[0mfeatures\u001b[0m\u001b[1;33m.\u001b[0m\u001b[0mappend\u001b[0m\u001b[1;33m(\u001b[0m\u001b[0mfunctools\u001b[0m\u001b[1;33m.\u001b[0m\u001b[0mreduce\u001b[0m\u001b[1;33m(\u001b[0m\u001b[1;32mlambda\u001b[0m \u001b[0mx\u001b[0m\u001b[1;33m,\u001b[0m\u001b[0my\u001b[0m\u001b[1;33m:\u001b[0m\u001b[0mx\u001b[0m\u001b[1;33m*\u001b[0m\u001b[0my\u001b[0m\u001b[1;33m,\u001b[0m\u001b[0mitems\u001b[0m\u001b[1;33m)\u001b[0m\u001b[1;33m)\u001b[0m\u001b[1;33m\u001b[0m\u001b[1;33m\u001b[0m\u001b[0m\n\u001b[0m\u001b[0;32m     24\u001b[0m \u001b[1;31m#             if logging:\u001b[0m\u001b[1;33m\u001b[0m\u001b[1;33m\u001b[0m\u001b[1;33m\u001b[0m\u001b[0m\n\u001b[0;32m     25\u001b[0m \u001b[1;31m#                 print(items,\":\",compute_new_feature(items))\u001b[0m\u001b[1;33m\u001b[0m\u001b[1;33m\u001b[0m\u001b[1;33m\u001b[0m\u001b[0m\n",
      "\u001b[1;31mMemoryError\u001b[0m: "
     ]
    }
   ],
   "source": [
    "degree=9\n",
    "X_transform=polynomial_transform(X,degree)\n",
    "lin_reg=LinearRegression()\n",
    "lin_reg.fit(X_transform,y)\n",
    "visualize_model_fit(X,y,lin_reg,degree)"
   ]
  },
  {
   "cell_type": "code",
   "execution_count": null,
   "id": "0e100757",
   "metadata": {},
   "outputs": [],
   "source": [
    "f=plt.figure(figsize=(12,8))\n",
    "sns.set_context('notebook',font_scale=1.5,rc={'lines.width':2.5})\n",
    "for i,degree in enumerate([0,1,3,5,7,9]):\n",
    "    plt.subplot(3,3,i+1)\n",
    "    X_transform=polynomial_transform(X,degree)\n",
    "    lin_reg=LinearRegression()\n",
    "    lin_reg.fit(X_transform,y)\n",
    "    visualize_model_fit(X,y,lin_reg,degree)\n",
    "f.tight_layout()\n",
    "plt.legend(bbox_to_anchor=(1.05,0.64),loc=2,borderaxespad=0.)\n",
    "plt.show()"
   ]
  },
  {
   "cell_type": "code",
   "execution_count": 114,
   "id": "96645eaa",
   "metadata": {},
   "outputs": [],
   "source": [
    "import pandas as pd\n",
    "\n",
    "def convert_dict_to_df(w_dict,degree):\n",
    "    poly_w_dict={i:np.array(np.zeros(degree)) for i in range(degree)}\n",
    "    for deg in poly_w_dict:\n",
    "        weight_vec=w_dict[deg]\n",
    "        for i in range(len(weight_vec)):\n",
    "            poly_w_dict[deg][i]=weight_vec[i]\n",
    "    poly_w_df=pd.DataFrame(poly_w_dict)\n",
    "    poly_w_df.columns=['w_'+str(i) for i in range(degree)]\n",
    "    return poly_w_df\n",
    "\n",
    "def plot_model_selection(training_errors,val_errors):\n",
    "    plt.plot(training_errors,'o-',mfc='none',mec='b',ms=10)\n",
    "    plt.plot(val_errors,'o-',mfc='none',mec='r',ms=10)\n",
    "    plt.legend()\n",
    "    plt.xlabel('degree')\n",
    "    plt.ylabel('RMSE')\n",
    "    plt.show()\n",
    "    "
   ]
  },
  {
   "cell_type": "code",
   "execution_count": 115,
   "id": "3566a0bc",
   "metadata": {},
   "outputs": [
    {
     "name": "stderr",
     "output_type": "stream",
     "text": [
      "C:\\Users\\kabali\\AppData\\Roaming\\Python\\Python38\\site-packages\\numpy\\core\\_asarray.py:83: VisibleDeprecationWarning: Creating an ndarray from ragged nested sequences (which is a list-or-tuple of lists-or-tuples-or ndarrays with different lengths or shapes) is deprecated. If you meant to do this, you must specify 'dtype=object' when creating the ndarray\n",
      "  return array(a, dtype, copy=False, order=order)\n"
     ]
    },
    {
     "ename": "LinAlgError",
     "evalue": "1-dimensional array given. Array must be at least two-dimensional",
     "output_type": "error",
     "traceback": [
      "\u001b[1;31m---------------------------------------------------------------------------\u001b[0m",
      "\u001b[1;31mLinAlgError\u001b[0m                               Traceback (most recent call last)",
      "\u001b[1;32m~\\AppData\\Local\\Temp/ipykernel_16296/1286072504.py\u001b[0m in \u001b[0;36m<module>\u001b[1;34m\u001b[0m\n\u001b[0;32m      8\u001b[0m     \u001b[0mX_val_transform\u001b[0m \u001b[1;33m=\u001b[0m \u001b[0mpolynomial_transform\u001b[0m\u001b[1;33m(\u001b[0m\u001b[0mX_val\u001b[0m\u001b[1;33m,\u001b[0m\u001b[0mi\u001b[0m\u001b[1;33m)\u001b[0m\u001b[1;33m\u001b[0m\u001b[1;33m\u001b[0m\u001b[0m\n\u001b[0;32m      9\u001b[0m     \u001b[0mlin_reg\u001b[0m\u001b[1;33m=\u001b[0m\u001b[0mLinearRegression\u001b[0m\u001b[1;33m(\u001b[0m\u001b[1;33m)\u001b[0m\u001b[1;33m\u001b[0m\u001b[1;33m\u001b[0m\u001b[0m\n\u001b[1;32m---> 10\u001b[1;33m     \u001b[0mlin_reg\u001b[0m\u001b[1;33m.\u001b[0m\u001b[0mfit\u001b[0m\u001b[1;33m(\u001b[0m\u001b[0mX_transform\u001b[0m\u001b[1;33m,\u001b[0m\u001b[0my\u001b[0m\u001b[1;33m)\u001b[0m\u001b[1;33m\u001b[0m\u001b[1;33m\u001b[0m\u001b[0m\n\u001b[0m\u001b[0;32m     11\u001b[0m     \u001b[0mw_dict\u001b[0m\u001b[1;33m[\u001b[0m\u001b[0mi\u001b[0m\u001b[1;33m]\u001b[0m\u001b[1;33m=\u001b[0m\u001b[0mlin_reg\u001b[0m\u001b[1;33m.\u001b[0m\u001b[0mw\u001b[0m\u001b[1;33m\u001b[0m\u001b[1;33m\u001b[0m\u001b[0m\n\u001b[0;32m     12\u001b[0m     \u001b[0mtraining_errors\u001b[0m\u001b[1;33m.\u001b[0m\u001b[0mappend\u001b[0m\u001b[1;33m(\u001b[0m\u001b[0mlin_reg\u001b[0m\u001b[1;33m.\u001b[0m\u001b[0mrmse\u001b[0m\u001b[1;33m(\u001b[0m\u001b[0mX_transform\u001b[0m\u001b[1;33m,\u001b[0m\u001b[0my\u001b[0m\u001b[1;33m)\u001b[0m\u001b[1;33m)\u001b[0m\u001b[1;33m\u001b[0m\u001b[1;33m\u001b[0m\u001b[0m\n",
      "\u001b[1;32m~\\AppData\\Local\\Temp/ipykernel_16296/4031960257.py\u001b[0m in \u001b[0;36mfit\u001b[1;34m(self, X, y)\u001b[0m\n\u001b[0;32m    126\u001b[0m             \u001b[0mWeight\u001b[0m \u001b[0mvector\u001b[0m\u001b[1;33m\u001b[0m\u001b[1;33m\u001b[0m\u001b[0m\n\u001b[0;32m    127\u001b[0m         '''\n\u001b[1;32m--> 128\u001b[1;33m         \u001b[0mself\u001b[0m\u001b[1;33m.\u001b[0m\u001b[0mw\u001b[0m\u001b[1;33m=\u001b[0m\u001b[0mnp\u001b[0m\u001b[1;33m.\u001b[0m\u001b[0mlinalg\u001b[0m\u001b[1;33m.\u001b[0m\u001b[0mpinv\u001b[0m\u001b[1;33m(\u001b[0m\u001b[0mX\u001b[0m\u001b[1;33m)\u001b[0m\u001b[1;33m@\u001b[0m\u001b[0my\u001b[0m\u001b[1;33m\u001b[0m\u001b[1;33m\u001b[0m\u001b[0m\n\u001b[0m\u001b[0;32m    129\u001b[0m         \u001b[1;32mreturn\u001b[0m \u001b[0mself\u001b[0m\u001b[1;33m.\u001b[0m\u001b[0mw\u001b[0m\u001b[1;33m\u001b[0m\u001b[1;33m\u001b[0m\u001b[0m\n\u001b[0;32m    130\u001b[0m \u001b[1;33m\u001b[0m\u001b[0m\n",
      "\u001b[1;32m<__array_function__ internals>\u001b[0m in \u001b[0;36mpinv\u001b[1;34m(*args, **kwargs)\u001b[0m\n",
      "\u001b[1;32m~\\AppData\\Roaming\\Python\\Python38\\site-packages\\numpy\\linalg\\linalg.py\u001b[0m in \u001b[0;36mpinv\u001b[1;34m(a, rcond, hermitian)\u001b[0m\n\u001b[0;32m   2001\u001b[0m         \u001b[1;32mreturn\u001b[0m \u001b[0mwrap\u001b[0m\u001b[1;33m(\u001b[0m\u001b[0mres\u001b[0m\u001b[1;33m)\u001b[0m\u001b[1;33m\u001b[0m\u001b[1;33m\u001b[0m\u001b[0m\n\u001b[0;32m   2002\u001b[0m     \u001b[0ma\u001b[0m \u001b[1;33m=\u001b[0m \u001b[0ma\u001b[0m\u001b[1;33m.\u001b[0m\u001b[0mconjugate\u001b[0m\u001b[1;33m(\u001b[0m\u001b[1;33m)\u001b[0m\u001b[1;33m\u001b[0m\u001b[1;33m\u001b[0m\u001b[0m\n\u001b[1;32m-> 2003\u001b[1;33m     \u001b[0mu\u001b[0m\u001b[1;33m,\u001b[0m \u001b[0ms\u001b[0m\u001b[1;33m,\u001b[0m \u001b[0mvt\u001b[0m \u001b[1;33m=\u001b[0m \u001b[0msvd\u001b[0m\u001b[1;33m(\u001b[0m\u001b[0ma\u001b[0m\u001b[1;33m,\u001b[0m \u001b[0mfull_matrices\u001b[0m\u001b[1;33m=\u001b[0m\u001b[1;32mFalse\u001b[0m\u001b[1;33m,\u001b[0m \u001b[0mhermitian\u001b[0m\u001b[1;33m=\u001b[0m\u001b[0mhermitian\u001b[0m\u001b[1;33m)\u001b[0m\u001b[1;33m\u001b[0m\u001b[1;33m\u001b[0m\u001b[0m\n\u001b[0m\u001b[0;32m   2004\u001b[0m \u001b[1;33m\u001b[0m\u001b[0m\n\u001b[0;32m   2005\u001b[0m     \u001b[1;31m# discard small singular values\u001b[0m\u001b[1;33m\u001b[0m\u001b[1;33m\u001b[0m\u001b[1;33m\u001b[0m\u001b[0m\n",
      "\u001b[1;32m<__array_function__ internals>\u001b[0m in \u001b[0;36msvd\u001b[1;34m(*args, **kwargs)\u001b[0m\n",
      "\u001b[1;32m~\\AppData\\Roaming\\Python\\Python38\\site-packages\\numpy\\linalg\\linalg.py\u001b[0m in \u001b[0;36msvd\u001b[1;34m(a, full_matrices, compute_uv, hermitian)\u001b[0m\n\u001b[0;32m   1640\u001b[0m             \u001b[1;32mreturn\u001b[0m \u001b[0msort\u001b[0m\u001b[1;33m(\u001b[0m\u001b[0ms\u001b[0m\u001b[1;33m)\u001b[0m\u001b[1;33m[\u001b[0m\u001b[1;33m...\u001b[0m\u001b[1;33m,\u001b[0m \u001b[1;33m:\u001b[0m\u001b[1;33m:\u001b[0m\u001b[1;33m-\u001b[0m\u001b[1;36m1\u001b[0m\u001b[1;33m]\u001b[0m\u001b[1;33m\u001b[0m\u001b[1;33m\u001b[0m\u001b[0m\n\u001b[0;32m   1641\u001b[0m \u001b[1;33m\u001b[0m\u001b[0m\n\u001b[1;32m-> 1642\u001b[1;33m     \u001b[0m_assert_stacked_2d\u001b[0m\u001b[1;33m(\u001b[0m\u001b[0ma\u001b[0m\u001b[1;33m)\u001b[0m\u001b[1;33m\u001b[0m\u001b[1;33m\u001b[0m\u001b[0m\n\u001b[0m\u001b[0;32m   1643\u001b[0m     \u001b[0mt\u001b[0m\u001b[1;33m,\u001b[0m \u001b[0mresult_t\u001b[0m \u001b[1;33m=\u001b[0m \u001b[0m_commonType\u001b[0m\u001b[1;33m(\u001b[0m\u001b[0ma\u001b[0m\u001b[1;33m)\u001b[0m\u001b[1;33m\u001b[0m\u001b[1;33m\u001b[0m\u001b[0m\n\u001b[0;32m   1644\u001b[0m \u001b[1;33m\u001b[0m\u001b[0m\n",
      "\u001b[1;32m~\\AppData\\Roaming\\Python\\Python38\\site-packages\\numpy\\linalg\\linalg.py\u001b[0m in \u001b[0;36m_assert_stacked_2d\u001b[1;34m(*arrays)\u001b[0m\n\u001b[0;32m    195\u001b[0m     \u001b[1;32mfor\u001b[0m \u001b[0ma\u001b[0m \u001b[1;32min\u001b[0m \u001b[0marrays\u001b[0m\u001b[1;33m:\u001b[0m\u001b[1;33m\u001b[0m\u001b[1;33m\u001b[0m\u001b[0m\n\u001b[0;32m    196\u001b[0m         \u001b[1;32mif\u001b[0m \u001b[0ma\u001b[0m\u001b[1;33m.\u001b[0m\u001b[0mndim\u001b[0m \u001b[1;33m<\u001b[0m \u001b[1;36m2\u001b[0m\u001b[1;33m:\u001b[0m\u001b[1;33m\u001b[0m\u001b[1;33m\u001b[0m\u001b[0m\n\u001b[1;32m--> 197\u001b[1;33m             raise LinAlgError('%d-dimensional array given. Array must be '\n\u001b[0m\u001b[0;32m    198\u001b[0m                     'at least two-dimensional' % a.ndim)\n\u001b[0;32m    199\u001b[0m \u001b[1;33m\u001b[0m\u001b[0m\n",
      "\u001b[1;31mLinAlgError\u001b[0m: 1-dimensional array given. Array must be at least two-dimensional"
     ]
    }
   ],
   "source": [
    "training_errors=[]\n",
    "val_errors=[]\n",
    "w_dict={}\n",
    "X_val=np.linspace(0,1,100)\n",
    "y_val=nonlin(X_val)\n",
    "for i in range(10):\n",
    "    X_transform=polynomial_transform(X,i)\n",
    "    X_val_transform = polynomial_transform(X_val,i)\n",
    "    lin_reg=LinearRegression()\n",
    "    lin_reg.fit(X_transform,y)\n",
    "    w_dict[i]=lin_reg.w\n",
    "    training_errors.append(lin_reg.rmse(X_transform,y))\n",
    "    val_errors.append(lin_reg.rmse(X_val_transform,y_val+np.random.normal(scale=0.25,size=len(y_val))))\n",
    "plot_model_selection(training_errors,val_errors)\n",
    "convert_dict_to_df(w_dict,10)"
   ]
  },
  {
   "cell_type": "markdown",
   "id": "3192941b",
   "metadata": {},
   "source": [
    "<p style='font-family: Courier New'>\n",
    "Observations:\n",
    "<ul style='font-family: Courier New'>\n",
    "    <li>Higher order polynomial terms are assigned larger weights. The larger weights are problematic as a small change in \n",
    "    the input causes to give large change in the output.</li>\n",
    "    \n",
    "</ul>\n",
    "<p style='font-family: Courier New'>This is the high variance problem or overfitting problem. </p>\n",
    "<ul style='font-family: Courier New'>\n",
    "    <li>Can fix this problem with more data. Try running the analysis with number of samples = 100, 1000, 10000 and observe the\n",
    "        weight vectors for higher order polynomial models.</li>\n",
    "    <li>Note down which polynomial model is suitable for different samples sizes.</li>\n",
    " </ul>\n",
    "</p>"
   ]
  },
  {
   "cell_type": "markdown",
   "id": "f22852b4",
   "metadata": {},
   "source": [
    "<h4 style='font-family: Courier New'>Ridge and Lasso Regression </h4>"
   ]
  },
  {
   "cell_type": "code",
   "execution_count": null,
   "id": "22d8a17b",
   "metadata": {},
   "outputs": [],
   "source": [
    "# MODIFIED LINEAR REGRESSION WITH REGULARIZATION\n",
    "\n",
    "def generate_data(n=100,w0=4,w1=3):\n",
    "       \n",
    "        X=10*np.random.rand(n,)\n",
    "        y=w0+w1*X+np.random.randn(n,)\n",
    "        # self.w=np.array([w0,w1])\n",
    "        return X,y\n",
    "\n",
    "def add_dummy_feature(x):\n",
    "    # Adds the 1 1 1.. in each row for x0 value.\n",
    "    return np.column_stack((np.ones(x.shape[0]),x))\n",
    "\n",
    "def preprocess(X,y,size=0.20):\n",
    "    X_train,X_test,y_train,y_test=train_test_split(X,y,test_size=size,random_state=42)\n",
    "    X_train=add_dummy_feature(X_train)\n",
    "    X_test=add_dummy_feature(X_test)\n",
    "    return X_train,X_test,y_train,y_test\n",
    "\n",
    "class LinReg():\n",
    "    def __init__(self):\n",
    "        self.t0=200\n",
    "        self.t1=1000\n",
    "        \n",
    "    \n",
    "    def Predict(self,X:np.ndarray)->np.ndarray:\n",
    "        '''\n",
    "        Prediction of output label from the given Feature matrix and weight matrix\n",
    "        Args:\n",
    "            X: Feature matrix\n",
    "        Returns:\n",
    "            y: Output label vector predicted by the model\n",
    "        '''\n",
    "#         assert X.shape[-1]==self.w.shape[0],\"X and w don't have compatible dimensions\"\n",
    "        return (X @ self.w)\n",
    "\n",
    "    def non_vectorized_predict(self,X):\n",
    "        '''\n",
    "        Non-vectorized version of the predict function above.\n",
    "        Prediction of output label from the given Feature matrix and weight matrix\n",
    "        Args:\n",
    "            X: Feature matrix\n",
    "        Returns:\n",
    "            y: Output label vector predicted by the model\n",
    "        '''\n",
    "        y=[]\n",
    "        for i in range(0,X.shape[0]):\n",
    "            y_hat_i=0\n",
    "            for j in range(0,X.shape[1]):\n",
    "                y_hat_i+=X[i][j]*self.w[j]\n",
    "            y.append(y_hat_i)\n",
    "        return np.array(y) \n",
    "\n",
    "    def loss(self,X:np.ndarray,y:np.ndarray,reg_rate:float)->float:\n",
    "        '''\n",
    "        Calculation of loss obtained for the built model\n",
    "        Args:\n",
    "            X: Feature matrix as numpy array\n",
    "            y: Label vector as numpy array\n",
    "        Returns:\n",
    "            Loss: float\n",
    "        '''\n",
    "        e=y-self.Predict(X)\n",
    "        return (1/2)*(np.transpose(e)@e) + (reg_rate/2)*(np.transpose(self.w)@np.transpose(self.w))\n",
    "    def rmse(self,X:np.ndarray, y:np.ndarray,reg_rate:float)->float:\n",
    "        '''\n",
    "        Calculates root mean squared error of prediction w.r.t actual label\n",
    "        Args:\n",
    "            X: Feature matrix\n",
    "            y: Output label vector\n",
    "        Returns:\n",
    "            Loss\n",
    "        '''\n",
    "        return np.sqrt((2/X.shape[0])*self.loss(X,y,reg_rate))\n",
    "    def fit(self,X:np.ndarray,y:np.ndarray,reg_rate:float)->np.ndarray:\n",
    "        '''\n",
    "        Estimates the parameters of linear regression with normal equation\n",
    "        Args:\n",
    "            X: Feature matrix\n",
    "            y: Label vector predicted by the model\n",
    "        Returns:\n",
    "            Weight vector\n",
    "        '''\n",
    "        self.w=np.zeros((X.shape[1]))\n",
    "        eye=np.eye(np.size(X,1))\n",
    "        self.w=np.linalg.solve(X.T@X+reg_rate*eye,X.T@y)\n",
    "        return self.w\n",
    "\n",
    "    def calc_gradient(self,X:np.ndarray,y:np.ndarray,reg_rate:float)->np.ndarray:\n",
    "        '''\n",
    "        Gradient calculation of loss function\n",
    "        Args:\n",
    "            X: Feature matrix for training data\n",
    "            y: Label vector for training data\n",
    "        Returns:\n",
    "            A vector of gradients\n",
    "        '''\n",
    "        return np.transpose(X)@(self.Predict(X)-y)+reg_rate*self.w\n",
    "    def update_weights(self,grad:np.ndarray,lr:float)->np.ndarray:\n",
    "        '''\n",
    "        Updates the weights based on the gradient of loss function\n",
    "        Update:\n",
    "            W_new : = W_old - lr*gradient\n",
    "\n",
    "        Args:\n",
    "            grad: gradient of loss w.r.t w\n",
    "            lr: learning rate\n",
    "        Returns:\n",
    "            Updated weight vector\n",
    "        '''\n",
    "        return (self.w-(lr*grad))\n",
    "\n",
    "    def  learning_schedule(self,t):\n",
    "        '''\n",
    "        Calculates learning rate\n",
    "        '''\n",
    "        return self.t0/(self.t1+t)\n",
    "\n",
    "    def gradient_descent_iterative(self,X:np.ndarray,y:np.ndarray,num_epochs: int,lr=0.00001):\n",
    "        '''\n",
    "        Estimates parameters by using the Batch Gradient Descent. This function is iterative\n",
    "        Args:\n",
    "            X: Feature matrix for training data\n",
    "            y: Label vector for training data\n",
    "            num_epochs: Number of training steps\n",
    "            lr: Learning rate\n",
    "        Returns:\n",
    "            Weight vector: Final weight vector\n",
    "        '''\n",
    "\n",
    "        self.w=np.zeros((X.shape[1],))\n",
    "        self.w_all=[]\n",
    "        self.err_all=[]\n",
    "        epsilon=3.5\n",
    "        iter_count=0\n",
    "        while self.loss(X,y)>epsilon:\n",
    "            err=self.loss(X,y)\n",
    "            self.err_all.append(err)\n",
    "            self.w_all.append(self.w)\n",
    "            grad=np.transpose(X)@(self.Predict(X)-y)\n",
    "            # WEIGHT UPDATE\n",
    "\n",
    "            self.update_weights()\n",
    "            if iter_count%100==0:\n",
    "                print(f\"Iteration #: {iter_count}, Loss : {err}, weights: {w_pred}\")\n",
    "            iter_count+=1\n",
    "        return errors,weights,w_pred,iter_count\n",
    "    def gradient_descent(self,X:np.ndarray,y:np.ndarray,lr:float,num_epochs:int,reg_rate:float)->np.ndarray:\n",
    "        '''\n",
    "            Estimates parameters by using the Batch Gradient Descent. This function is iterative\n",
    "            Args:\n",
    "                X: Feature matrix for training data\n",
    "                y: Label vector for training data\n",
    "                num_epochs: Number of training steps\n",
    "                lr: Learning rate\n",
    "            Returns:\n",
    "                Weight vector: Final weight vector\n",
    "            '''\n",
    "        #X=np.column_stack((np.ones(X.shape[0]),X))\n",
    "        self.w_all=[]\n",
    "        self.err_all=[]\n",
    "        self.w=np.zeros((X.shape[1],))\n",
    "        #print()\n",
    "        for i in np.arange(0,num_epochs+1):\n",
    "            self.w_all.append(self.w)\n",
    "            self.err_all.append(self.loss(X,y,reg_rate))\n",
    "            dJdW=self.calc_gradient(X,y,reg_rate)\n",
    "            self.w=self.update_weights(dJdW,lr)\n",
    "            if i%100==0:\n",
    "                print(\"Iteration #:%d, loss:%4.2f\"%(i,self.err_all[-1]),end=' ')\n",
    "                print(\"weights\",self.w)\n",
    "        return self.w\n",
    "    def sgd(self,X:np.ndarray,y:np.ndarray,num_epochs:int)->np.ndarray:\n",
    "        '''\n",
    "        Estimates parameters by using the Stochastic Gradient Descent. This function is iterative\n",
    "        Args:\n",
    "            X: Feature matrix for training data\n",
    "            y: Label vector for training data\n",
    "            num_epochs: Number of training steps\n",
    "\n",
    "        Returns:\n",
    "            Weight vector: Final weight vector\n",
    "        '''\n",
    "        self.w_all=[]\n",
    "        self.err_all=[]\n",
    "        self.w=np.zeros((X.shape[1]))\n",
    "        for epoch in range(num_epochs):\n",
    "            for i in range(X.shape[0]):\n",
    "                random_index=np.random.randint(X.shape[0])\n",
    "                xi=X[random_index:random_index+1]\n",
    "                yi=y[random_index:random_index+1]\n",
    "                self.err_all.append(self.loss(xi,yi))\n",
    "                gradients=2*self.calc_gradient(xi,yi)\n",
    "                lr=self.learning_schedule(epoch*X.shape[0]+i)\n",
    "                self.w=self.update_weights(gradients,lr)\n",
    "                self.w_all.append(self.w)\n",
    "        return self.w\n",
    "    def mbgd(self,X:np.ndarray,y:np.ndarray,num_iters: int,minibatch_size:int)->np.ndarray:\n",
    "        \n",
    "        '''\n",
    "        Estimates parameters by using the Mini-Batch Gradient Descent. This function is iterative\n",
    "        Args:\n",
    "            X: Feature matrix for training data\n",
    "            y: Label vector for training data\n",
    "            num_epochs: Number of training steps\n",
    "            lr: Learning rate\n",
    "        Returns:\n",
    "            Weight vector: Final weight vector\n",
    "        '''\n",
    "        self.w_all=[]\n",
    "        self.err_all=[]\n",
    "        self.w=np.zeros((X.shape[1]))\n",
    "        t=0\n",
    "        for epoch in range(num_iters):\n",
    "            shuffled_indices=np.random.permutation(X.shape[0])\n",
    "            X_shuffled=X[shuffled_indices]\n",
    "            y_shuffled=y[shuffled_indices]\n",
    "            for i in range(0,X.shape[0],minibatch_size):\n",
    "                t+=1\n",
    "                xi=X_shuffled[i:i+minibatch_size]\n",
    "                yi=y_shuffled[i:i+minibatch_size]\n",
    "                self.err_all.append(self.loss(xi,yi))\n",
    "                gradients=2/minibatch_size*self.calc_gradient(xi,yi)\n",
    "                lr=self.learning_schedule(t)\n",
    "                \n",
    "                self.w=self.update_weights(gradients,lr)\n",
    "                self.w_all.append(self.w)\n",
    "        return self.w\n",
    "\n",
    "#unittest.main(argv=[''],defaultTest='TestLossFunction',verbosity=2,exit=False)"
   ]
  },
  {
   "cell_type": "code",
   "execution_count": null,
   "id": "e2511d78",
   "metadata": {},
   "outputs": [],
   "source": [
    "linreg=LinReg()\n",
    "feature_matrix=np.array([[1,2,3],[3,2,4]])\n",
    "label_vector=np.array([2,4])\n",
    "weight_vector=np.array([0.1,-0.2,0.3])\n",
    "linreg.w=weight_vector\n",
    "print(linreg.loss(feature_matrix,label_vector,0.1))"
   ]
  },
  {
   "cell_type": "code",
   "execution_count": null,
   "id": "e81610c2",
   "metadata": {},
   "outputs": [],
   "source": [
    "linreg=LinReg()\n",
    "linreg.w=np.array([ 0.5, -0.5])\n",
    "feature_matrix=np.array([[ 1.1, 1.2],\n",
    "       [2.3, 1.5],\n",
    "       [ 2.9, 2.3]])\n",
    "labels=np.array([1. , 0.6, 1.2])\n",
    "print(linreg.loss(feature_matrix,labels,0.01))"
   ]
  },
  {
   "cell_type": "code",
   "execution_count": null,
   "id": "87dd0d1e",
   "metadata": {},
   "outputs": [],
   "source": [
    "linreg=LinReg()\n",
    "feature_matrix=np.array([[1,3,2,5],[1,9,4,7]])\n",
    "weight_vector=np.array([1,1,1,1])\n",
    "label_vector=np.array([6,11])\n",
    "reg_rate=0.01\n",
    "expected_loss=np.array([62.52])\n",
    "linreg.w=weight_vector\n",
    "loss_value=linreg.loss(feature_matrix,label_vector,reg_rate)\n"
   ]
  },
  {
   "cell_type": "code",
   "execution_count": null,
   "id": "057eb783",
   "metadata": {},
   "outputs": [],
   "source": [
    "#ridge regresion for fixing overfitting in polynomial regression"
   ]
  },
  {
   "cell_type": "code",
   "execution_count": null,
   "id": "b5469fb8",
   "metadata": {},
   "outputs": [],
   "source": [
    "num_samples=50\n",
    "X,y=create_nonlin_training_set(nonlin,num_samples,0.2)\n",
    "visualize_training_data(X,y)\n"
   ]
  },
  {
   "cell_type": "code",
   "execution_count": null,
   "id": "36b6d6ad",
   "metadata": {
    "scrolled": false
   },
   "outputs": [],
   "source": [
    "# @title [Visualization]\n",
    "def visualize_training_data(X_train,y_train):\n",
    "    points=np.linspace(0,1,100)\n",
    "    output=nonlin(points)\n",
    "    plt.scatter(X_train,y_train,facecolor='none',edgecolor='b',s=50,label='Training data')\n",
    "    plt.plot(points,output,c='g',label='$\\sin(2\\pi x)$')\n",
    "    plt.xlabel('$x_1$')\n",
    "    plt.ylabel('y')\n",
    "    plt.legend()\n",
    "    plt.show()\n",
    "def visualize_model_fit1(X,y,lin_reg,degree,reg_rate):\n",
    "    points=np.linspace(0,1,100)\n",
    "    output=nonlin(points)\n",
    "    if degree>0:\n",
    "        plt.scatter(X,y,facecolor='none',edgecolor='b',s=50,label='Training data')\n",
    "    plt.plot(points,output,c='g',label='$\\sin(2\\pi x)$')\n",
    "    \n",
    "    y_hat=lin_reg.Predict(polynomial_transform(points,degree))\n",
    "    plt.plot(points,y_hat,c='r',label='$h_\\mathbf{w}(x)$')\n",
    "    plt.xlabel('$x_1$')\n",
    "    plt.ylabel('y')\n",
    "    plt.ylim(-1.5,1.5)\n",
    "    plt.title('M={},$\\lambda = {} $'.format(degree,reg_rate))\n",
    "    \n",
    "\n",
    "f=plt.figure(figsize=(12,8))\n",
    "sns.set_context('notebook',font_scale=1.5,rc={'lines.width':2.5})\n",
    "for i,degree in enumerate([0,1,3,5,7,8]):\n",
    "    plt.subplot(3,3,i+1)\n",
    "    X_transform=polynomial_transform(X,degree)\n",
    "    lin_reg=LinReg()\n",
    "    lin_reg.fit(X_transform,y,reg_rate=0.01)\n",
    "    visualize_model_fit1(X,y,lin_reg,degree,reg_rate=0.01)\n",
    "f.tight_layout()\n",
    "plt.legend(bbox_to_anchor=(1.05,0.64),loc=2,borderaxespad=0.)\n",
    "plt.show()"
   ]
  },
  {
   "cell_type": "code",
   "execution_count": null,
   "id": "9a5dc810",
   "metadata": {},
   "outputs": [],
   "source": [
    "f=plt.figure(figsize=(12,8))\n",
    "sns.set_context('notebook',font_scale=1.5,rc={'lines.width':2.5})\n",
    "for i,degree in enumerate([0,1,3,5,7,8]):\n",
    "    plt.subplot(3,3,i+1)\n",
    "    X_transform=polynomial_transform(X,degree)\n",
    "    lin_reg=LinReg()\n",
    "    lin_reg.fit(X_transform,y,reg_rate=0.01)\n",
    "    visualize_model_fit1(X,y,lin_reg,degree,reg_rate=0.01)\n",
    "f.tight_layout()\n",
    "plt.legend(bbox_to_anchor=(1.05,0.64),loc=2,borderaxespad=0.)\n",
    "plt.show()"
   ]
  },
  {
   "cell_type": "code",
   "execution_count": null,
   "id": "5e228a00",
   "metadata": {},
   "outputs": [],
   "source": [
    "f=plt.figure(figsize=(12,8))\n",
    "sns.set_context('notebook',font_scale=1.5,rc={'lines.width':2.5})\n",
    "degree=9\n",
    "for i, reg_rate in enumerate([1e-3,1e-2,1e-1,0,1,10]):\n",
    "    plt.subplot(3,3,i+1)\n",
    "    X_transform=polynomial_transform(X,degree)\n",
    "    lin_reg=LinReg()\n",
    "    lin_reg.fit(X_transform,y,reg_rate)\n",
    "    visualize_model_fit1(X,y,lin_reg,degree,reg_rate)\n",
    "f.tight_layout()\n",
    "plt.legend(bbox_to_anchor=(1.05,0.64),loc=2,borderaxespad=0.)\n",
    "plt.show()"
   ]
  },
  {
   "cell_type": "code",
   "execution_count": null,
   "id": "cf3e6ed5",
   "metadata": {},
   "outputs": [],
   "source": [
    "def plot_reg_w(w_df):\n",
    "    ax=plt.gca()\n",
    "    ax.plot(w_df.T)\n",
    "    ax.set_xscale('log')\n",
    "    ax.set_xlim(ax.get_xlim()[::-1])\n",
    "    plt.xlabel('$\\lambda$')\n",
    "    plt.ylabel('$\\mathbf{w}$')\n",
    "    plt.title('Weights as a function of $\\lambda$')\n",
    "    plt.axis('tight')\n",
    "    plt.show()\n",
    "def plot_learning_curve(err_df):\n",
    "    ax=plt.gca()\n",
    "    ax.plot(err_df)\n",
    "    ax.set_xscale('log')\n",
    "    ax.set_xlim(ax.get_xlim()[::-1])\n",
    "    plt.xlabel('$\\lambda$')\n",
    "    plt.ylabel('RMSE')\n",
    "    plt.title('Training and validation losses as a function of $\\lambda$')\n",
    "    plt.axis('tight')\n",
    "    plt.legend(['training','validation'])\n",
    "    plt.show()"
   ]
  },
  {
   "cell_type": "code",
   "execution_count": null,
   "id": "458e3085",
   "metadata": {},
   "outputs": [],
   "source": [
    "#MODEL SELECTION WHILE REGULARIZATION\n",
    "\n",
    "import pandas as pd\n",
    "training_errors={}\n",
    "val_errors={}\n",
    "w_dict={}\n",
    "degree=9\n",
    "X_val=np.linspace(0,1,100)\n",
    "y_val=nonlin(X_val)\n",
    "\n",
    "X_transform=polynomial_transform(X,degree)\n",
    "X_val_transform = polynomial_transform(X_val,degree)\n",
    "\n",
    "for reg_rate in [1e-6,1e-5,1e-4,1e-3,1e-2,1e-1,1,10,100]:\n",
    "    lin_reg=LinReg()\n",
    "    lin_reg.fit(X_transform,y,reg_rate)\n",
    "    w_dict[reg_rate]=lin_reg.w\n",
    "    training_errors[reg_rate]=lin_reg.rmse(X_transform,y,reg_rate)\n",
    "    val_errors[reg_rate]=lin_reg.rmse(X_val_transform,y_val+np.random.normal(scale=0.25,size=len(y_val)),reg_rate)\n",
    "err_df=pd.DataFrame([training_errors,val_errors]).T\n",
    "w_df=pd.DataFrame(w_dict)"
   ]
  },
  {
   "cell_type": "code",
   "execution_count": null,
   "id": "af3f4170",
   "metadata": {},
   "outputs": [],
   "source": [
    "w_df"
   ]
  },
  {
   "cell_type": "code",
   "execution_count": null,
   "id": "2059617b",
   "metadata": {},
   "outputs": [],
   "source": [
    "err_df"
   ]
  },
  {
   "cell_type": "code",
   "execution_count": null,
   "id": "de86c297",
   "metadata": {},
   "outputs": [],
   "source": [
    "plot_learning_curve(err_df)"
   ]
  },
  {
   "cell_type": "code",
   "execution_count": null,
   "id": "d9b13551",
   "metadata": {},
   "outputs": [],
   "source": [
    "plot_reg_w(w_df)"
   ]
  },
  {
   "cell_type": "markdown",
   "id": "a364cc45",
   "metadata": {},
   "source": [
    "<h4 style=\"font-family: Courier New\"> Lasso Regression </h4>"
   ]
  },
  {
   "cell_type": "code",
   "execution_count": null,
   "id": "93bcc148",
   "metadata": {},
   "outputs": [],
   "source": [
    "from sklearn.linear_model import Lasso\n",
    "\n",
    "reg_rate=0.01\n",
    "lasso=Lasso(alpha=reg_rate)\n",
    "lasso.fit(X_transform,y)\n",
    "lin_reg=LinReg()\n",
    "_ = lin_reg.fit(X_transform,y,0)"
   ]
  },
  {
   "cell_type": "code",
   "execution_count": null,
   "id": "5fd1b21a",
   "metadata": {},
   "outputs": [],
   "source": [
    "l=Lasso(alpha=0.1)\n",
    "l.fit(feature_matrix,label_vector)\n",
    "#l.coef_=np.array([0.01,-0.5,0])\n",
    "#l.intercept_=1.2"
   ]
  },
  {
   "cell_type": "code",
   "execution_count": null,
   "id": "b54a0305",
   "metadata": {},
   "outputs": [],
   "source": [
    "l.fit(feature_matrix,label_vector)"
   ]
  },
  {
   "cell_type": "code",
   "execution_count": null,
   "id": "41396b89",
   "metadata": {},
   "outputs": [],
   "source": [
    "l.intercept_"
   ]
  },
  {
   "cell_type": "code",
   "execution_count": null,
   "id": "3407d8dc",
   "metadata": {},
   "outputs": [],
   "source": [
    "l.coef_"
   ]
  },
  {
   "cell_type": "code",
   "execution_count": null,
   "id": "f64e784c",
   "metadata": {},
   "outputs": [],
   "source": [
    "l.predict(feature_matrix)"
   ]
  },
  {
   "cell_type": "code",
   "execution_count": null,
   "id": "64696a83",
   "metadata": {},
   "outputs": [],
   "source": [
    "y_pred=l.predict(feature_matrix)"
   ]
  },
  {
   "cell_type": "code",
   "execution_count": null,
   "id": "0ac30325",
   "metadata": {},
   "outputs": [],
   "source": [
    "y_pred,label_vector"
   ]
  },
  {
   "cell_type": "code",
   "execution_count": null,
   "id": "c6e8ad73",
   "metadata": {},
   "outputs": [],
   "source": [
    "(1/2)*(1.79**2+3.77**2)"
   ]
  },
  {
   "cell_type": "code",
   "execution_count": null,
   "id": "1a95e17d",
   "metadata": {},
   "outputs": [],
   "source": [
    "from sklearn.metrics import mean_squared_error\n",
    "mean_squared_error(label_vector,l.predict(feature_matrix))"
   ]
  },
  {
   "cell_type": "code",
   "execution_count": null,
   "id": "2fa9c575",
   "metadata": {},
   "outputs": [],
   "source": [
    "lasso.coef_"
   ]
  },
  {
   "cell_type": "code",
   "execution_count": null,
   "id": "0b92420e",
   "metadata": {},
   "outputs": [],
   "source": [
    "linreg.w"
   ]
  },
  {
   "cell_type": "code",
   "execution_count": null,
   "id": "9ac2a5e7",
   "metadata": {},
   "outputs": [],
   "source": [
    "w_df[0.01]"
   ]
  },
  {
   "cell_type": "code",
   "execution_count": null,
   "id": "229fe1ac",
   "metadata": {},
   "outputs": [],
   "source": [
    "#pd.DataFrame({'LinReg':linreg.w,'Ridge':w_df[0.01],'Lasso':lasso.coef_})"
   ]
  },
  {
   "cell_type": "code",
   "execution_count": null,
   "id": "edd54482",
   "metadata": {},
   "outputs": [],
   "source": [
    "# LASSO CAN BE USED FOR FEATURE SELECTION\n",
    "#  IF ALL THE FEATURES ARE IMPORTANT RIDGE IS GOOD\n"
   ]
  },
  {
   "cell_type": "code",
   "execution_count": null,
   "id": "d90b3b01",
   "metadata": {},
   "outputs": [],
   "source": [
    "# COMPARE WITH DIFFERENT REGULARIZATION RATES"
   ]
  },
  {
   "cell_type": "code",
   "execution_count": null,
   "id": "b9c6ee25",
   "metadata": {},
   "outputs": [],
   "source": [
    "import pandas as pd"
   ]
  },
  {
   "cell_type": "code",
   "execution_count": null,
   "id": "15dd8572",
   "metadata": {},
   "outputs": [],
   "source": [
    "#MODEL SELECTION WHILE REGULARIZATION\n",
    "\n",
    "import pandas as pd\n",
    "\n",
    "\n",
    "training_errors={}\n",
    "val_errors={}\n",
    "w_dict={}\n",
    "degree=9\n",
    "X_val=np.linspace(0,1,100)\n",
    "y_val=nonlin(X_val)\n",
    "\n",
    "X_transform=polynomial_transform(X,degree)\n",
    "X_val_transform = polynomial_transform(X_val,degree)\n",
    "\n",
    "for reg_rate in [1e-6,1e-5,1e-4,1e-3,1e-2,1e-1,1,10,100]:\n",
    "    lasso=Lasso(alpha=reg_rate)\n",
    "    lasso.fit(X_transform,y)\n",
    "    w_dict[reg_rate]=lasso.coef_\n",
    "    training_errors[reg_rate]=mean_squared_error(y,lasso.predict(X_transform),squared=False)\n",
    "    val_errors[reg_rate]=mean_squared_error(y_val+np.random.normal(scale=0.25,size=len(y_val)),lasso.predict(X_val_transform),\n",
    "                                           squared=False)\n",
    "err_df=pd.DataFrame([training_errors,val_errors]).T\n",
    "w_df=pd.DataFrame(w_dict)"
   ]
  },
  {
   "cell_type": "code",
   "execution_count": null,
   "id": "9763d281",
   "metadata": {},
   "outputs": [],
   "source": [
    "plot_learning_curve(err_df)"
   ]
  },
  {
   "cell_type": "code",
   "execution_count": null,
   "id": "e756cc08",
   "metadata": {},
   "outputs": [],
   "source": [
    "plot_reg_w(w_df)"
   ]
  },
  {
   "cell_type": "markdown",
   "id": "92fdd6cb",
   "metadata": {},
   "source": [
    " Ridge solution visualization:\n",
    "<ol>\n",
    "    <li>Generate synthetic data</li>\n",
    "    <li>Obtain weight vector for ridge regression model with 100 different values of lambda = {0.001,....,10} in ascending order </li>\n",
    "    <li>Set up mesh grid of weight values. Let's call it as W </li>\n",
    "    <li>For each w in W: </li>\n",
    "        <ul>\n",
    "            <li>Compute mean squared error for w. </li>\n",
    "            <li>Compute ridge regularization or constraint term $w^Tw$ .</li>\n",
    "        </ul>\n",
    "     <li>Draw contours for mean squared error and ridge regression constraints </li>\n",
    "     <li>Draw Path of weight vectors from least mean squared eror value to the least value of ridge constraints </li>\n",
    "</ol>\n",
    "    "
   ]
  },
  {
   "cell_type": "markdown",
   "id": "892cdeae",
   "metadata": {},
   "source": [
    "Everything from the above is same for lasso except for the regularization constraint term\n",
    "While Ridge solutions give ellipses, lasso solutions are polytype."
   ]
  },
  {
   "cell_type": "markdown",
   "id": "765fc8b3",
   "metadata": {},
   "source": [
    "<h4 style=\"font-family: Courier New\">Multi-output / Multi-Label Regression </h4>"
   ]
  },
  {
   "cell_type": "code",
   "execution_count": null,
   "id": "c2941c54",
   "metadata": {},
   "outputs": [],
   "source": [
    "from sklearn.datasets import make_regression\n",
    "X,y,coef=make_regression(n_samples=100,n_features=10,n_informative=10,bias=1,n_targets=5,shuffle=True,\n",
    "                        coef=True,random_state=42)"
   ]
  },
  {
   "cell_type": "code",
   "execution_count": null,
   "id": "d1391576",
   "metadata": {},
   "outputs": [],
   "source": [
    "X.shape,y.shape"
   ]
  },
  {
   "cell_type": "code",
   "execution_count": null,
   "id": "48062e8e",
   "metadata": {},
   "outputs": [],
   "source": [
    "X[:5],y[:5]"
   ]
  },
  {
   "cell_type": "code",
   "execution_count": null,
   "id": "0d1f8761",
   "metadata": {},
   "outputs": [],
   "source": [
    "coef"
   ]
  },
  {
   "cell_type": "code",
   "execution_count": null,
   "id": "d78cbf52",
   "metadata": {},
   "outputs": [],
   "source": [
    "X_train,X_test,y_train,y_test=preprocess(X,y)"
   ]
  },
  {
   "cell_type": "code",
   "execution_count": null,
   "id": "a3eaeb12",
   "metadata": {},
   "outputs": [],
   "source": [
    "# MODIFIED LINEAR REGRESSION WITH REGULARIZATION\n",
    "\n",
    "def generate_data(n=100,w0=4,w1=3):\n",
    "       \n",
    "        X=10*np.random.rand(n,)\n",
    "        y=w0+w1*X+np.random.randn(n,)\n",
    "        # self.w=np.array([w0,w1])\n",
    "        return X,y\n",
    "\n",
    "def add_dummy_feature(x):\n",
    "    # Adds the 1 1 1.. in each row for x0 value.\n",
    "    return np.column_stack((np.ones(x.shape[0]),x))\n",
    "\n",
    "def preprocess(X,y,size=0.20):\n",
    "    X_train,X_test,y_train,y_test=train_test_split(X,y,test_size=size,random_state=42)\n",
    "    X_train=add_dummy_feature(X_train)\n",
    "    X_test=add_dummy_feature(X_test)\n",
    "    return X_train,X_test,y_train,y_test\n",
    "\n",
    "class LinRegMulti():\n",
    "    def __init__(self):\n",
    "        self.t0=200\n",
    "        self.t1=1000\n",
    "        \n",
    "    \n",
    "    def Predict(self,X:np.ndarray)->np.ndarray:\n",
    "        '''\n",
    "        Prediction of output label from the given Feature matrix and weight matrix\n",
    "        Args:\n",
    "            X: Feature matrix\n",
    "        Returns:\n",
    "            y: Output label vector predicted by the model\n",
    "        '''\n",
    "#         assert X.shape[-1]==self.w.shape[0],\"X and w don't have compatible dimensions\"\n",
    "        return (X @ self.w)\n",
    "\n",
    "    def non_vectorized_predict(self,X):\n",
    "        '''\n",
    "        Non-vectorized version of the predict function above.\n",
    "        Prediction of output label from the given Feature matrix and weight matrix\n",
    "        Args:\n",
    "            X: Feature matrix\n",
    "        Returns:\n",
    "            y: Output label vector predicted by the model\n",
    "        '''\n",
    "        y=[]\n",
    "        for i in range(0,X.shape[0]):\n",
    "            y_hat_i=0\n",
    "            for j in range(0,X.shape[1]):\n",
    "                y_hat_i+=X[i][j]*self.w[j]\n",
    "            y.append(y_hat_i)\n",
    "        return np.array(y) \n",
    "\n",
    "    def loss(self,X:np.ndarray,y:np.ndarray,reg_rate:float)->float:\n",
    "        '''\n",
    "        Calculation of loss obtained for the built model\n",
    "        Args:\n",
    "            X: Feature matrix as numpy array\n",
    "            y: Label vector as numpy array\n",
    "        Returns:\n",
    "            Loss: float\n",
    "        '''\n",
    "        e=y-self.Predict(X)\n",
    "        return (1/2)*(np.transpose(e)@e) + (reg_rate/2)*(np.transpose(self.w)@self.w)\n",
    "    def rmse(self,X:np.ndarray, y:np.ndarray,reg_rate:float)->float:\n",
    "        '''\n",
    "        Calculates root mean squared error of prediction w.r.t actual label\n",
    "        Args:\n",
    "            X: Feature matrix\n",
    "            y: Output label vector\n",
    "        Returns:\n",
    "            Loss\n",
    "        '''\n",
    "        return np.sqrt((2/X.shape[0])*self.loss(X,y,reg_rate))\n",
    "    def fit(self,X:np.ndarray,y:np.ndarray,reg_rate:float)->np.ndarray:\n",
    "        '''\n",
    "        Estimates the parameters of linear regression with normal equation\n",
    "        Args:\n",
    "            X: Feature matrix\n",
    "            y: Label vector predicted by the model\n",
    "        Returns:\n",
    "            Weight vector\n",
    "        '''\n",
    "        self.w=np.zeros((X.shape[1],y.shape[1]))\n",
    "        eye=np.eye(np.size(X,1))\n",
    "        self.w=np.linalg.solve(X.T@X+reg_rate*eye,X.T@y,)\n",
    "        return self.w\n",
    "\n",
    "    def calc_gradient(self,X:np.ndarray,y:np.ndarray,reg_rate:float)->np.ndarray:\n",
    "        '''\n",
    "        Gradient calculation of loss function\n",
    "        Args:\n",
    "            X: Feature matrix for training data\n",
    "            y: Label vector for training data\n",
    "        Returns:\n",
    "            A vector of gradients\n",
    "        '''\n",
    "        return np.transpose(X)@(self.Predict(X)-y)+(reg_rate*self.w)\n",
    "    def update_weights(self,grad:np.ndarray,lr:float)->np.ndarray:\n",
    "        '''\n",
    "        Updates the weights based on the gradient of loss function\n",
    "        Update:\n",
    "            W_new : = W_old - lr*gradient\n",
    "\n",
    "        Args:\n",
    "            grad: gradient of loss w.r.t w\n",
    "            lr: learning rate\n",
    "        Returns:\n",
    "            Updated weight vector\n",
    "        '''\n",
    "        return (self.w-(lr*grad))\n",
    "\n",
    "    def  learning_schedule(self,t):\n",
    "        '''\n",
    "        Calculates learning rate\n",
    "        '''\n",
    "        return self.t0/(self.t1+t)\n",
    "\n",
    "    def gradient_descent_iterative(self,X:np.ndarray,y:np.ndarray,num_epochs: int,lr=0.00001):\n",
    "        '''\n",
    "        Estimates parameters by using the Batch Gradient Descent. This function is iterative\n",
    "        Args:\n",
    "            X: Feature matrix for training data\n",
    "            y: Label vector for training data\n",
    "            num_epochs: Number of training steps\n",
    "            lr: Learning rate\n",
    "        Returns:\n",
    "            Weight vector: Final weight vector\n",
    "        '''\n",
    "\n",
    "        self.w=np.zeros((X.shape[1],))\n",
    "        self.w_all=[]\n",
    "        self.err_all=[]\n",
    "        epsilon=3.5\n",
    "        iter_count=0\n",
    "        while self.loss(X,y)>epsilon:\n",
    "            err=self.loss(X,y)\n",
    "            self.err_all.append(err)\n",
    "            self.w_all.append(self.w)\n",
    "            grad=np.transpose(X)@(self.Predict(X)-y)\n",
    "            # WEIGHT UPDATE\n",
    "\n",
    "            self.update_weights()\n",
    "            if iter_count%100==0:\n",
    "                print(f\"Iteration #: {iter_count}, Loss : {err}, weights: {w_pred}\")\n",
    "            iter_count+=1\n",
    "        return errors,weights,w_pred,iter_count\n",
    "    def gradient_descent(self,X:np.ndarray,y:np.ndarray,lr:float,num_epochs:int,reg_rate:float)->np.ndarray:\n",
    "        '''\n",
    "            Estimates parameters by using the Batch Gradient Descent. This function is iterative\n",
    "            Args:\n",
    "                X: Feature matrix for training data\n",
    "                y: Label vector for training data\n",
    "                num_epochs: Number of training steps\n",
    "                lr: Learning rate\n",
    "            Returns:\n",
    "                Weight vector: Final weight vector\n",
    "            '''\n",
    "        #X=np.column_stack((np.ones(X.shape[0]),X))\n",
    "        self.w_all=[]\n",
    "        self.err_all=[]\n",
    "        self.w=np.zeros((X.shape[1],y.shape[1]))\n",
    "        #print()\n",
    "        for i in np.arange(0,num_epochs+1):\n",
    "            self.w_all.append(self.w)\n",
    "            self.err_all.append(self.loss(X,y,reg_rate))\n",
    "            dJdW=self.calc_gradient(X,y,reg_rate)\n",
    "            self.w=self.update_weights(dJdW,lr)\n",
    "#             if i%100==0:\n",
    "#                 print(\"Iteration #:%d, loss:%4.2f\"%(i,self.err_all[-1]),end=' ')\n",
    "#                 print(\"weights\",self.w)\n",
    "        return self.w\n",
    "    def sgd(self,X:np.ndarray,y:np.ndarray,num_epochs:int,reg_rate:float)->np.ndarray:\n",
    "        '''\n",
    "        Estimates parameters by using the Stochastic Gradient Descent. This function is iterative\n",
    "        Args:\n",
    "            X: Feature matrix for training data\n",
    "            y: Label vector for training data\n",
    "            num_epochs: Number of training steps\n",
    "\n",
    "        Returns:\n",
    "            Weight vector: Final weight vector\n",
    "        '''\n",
    "        self.w_all=[]\n",
    "        self.err_all=[]\n",
    "        self.w=np.zeros((X.shape[1],y.shape[1]))\n",
    "        for epoch in range(num_epochs):\n",
    "            for i in range(X.shape[0]):\n",
    "                random_index=np.random.randint(X.shape[0])\n",
    "                xi=X[random_index:random_index+1]\n",
    "                yi=y[random_index:random_index+1]\n",
    "                self.err_all.append(self.loss(xi,yi,reg_rate))\n",
    "                gradients=2*self.calc_gradient(xi,yi,reg_rate)\n",
    "                lr=self.learning_schedule(epoch*X.shape[0]+i)\n",
    "                self.w=self.update_weights(gradients,lr)\n",
    "                self.w_all.append(self.w)\n",
    "        return self.w\n",
    "    def mbgd(self,X:np.ndarray,y:np.ndarray,num_iters: int,minibatch_size:int)->np.ndarray:\n",
    "        \n",
    "        '''\n",
    "        Estimates parameters by using the Mini-Batch Gradient Descent. This function is iterative\n",
    "        Args:\n",
    "            X: Feature matrix for training data\n",
    "            y: Label vector for training data\n",
    "            num_epochs: Number of training steps\n",
    "            lr: Learning rate\n",
    "        Returns:\n",
    "            Weight vector: Final weight vector\n",
    "        '''\n",
    "        self.w_all=[]\n",
    "        self.err_all=[]\n",
    "        self.w=np.zeros((X.shape[1]))\n",
    "        t=0\n",
    "        for epoch in range(num_iters):\n",
    "            shuffled_indices=np.random.permutation(X.shape[0])\n",
    "            X_shuffled=X[shuffled_indices]\n",
    "            y_shuffled=y[shuffled_indices]\n",
    "            for i in range(0,X.shape[0],minibatch_size):\n",
    "                t+=1\n",
    "                xi=X_shuffled[i:i+minibatch_size]\n",
    "                yi=y_shuffled[i:i+minibatch_size]\n",
    "                self.err_all.append(self.loss(xi,yi))\n",
    "                gradients=2/minibatch_size*self.calc_gradient(xi,yi)\n",
    "                lr=self.learning_schedule(t)\n",
    "                \n",
    "                self.w=self.update_weights(gradients,lr)\n",
    "                self.w_all.append(self.w)\n",
    "        return self.w\n",
    "\n",
    "#unittest.main(argv=[''],defaultTest='TestLossFunction',verbosity=2,exit=False)"
   ]
  },
  {
   "cell_type": "code",
   "execution_count": null,
   "id": "47151040",
   "metadata": {},
   "outputs": [],
   "source": [
    "?np.around"
   ]
  },
  {
   "cell_type": "code",
   "execution_count": null,
   "id": "2b8be782",
   "metadata": {},
   "outputs": [],
   "source": [
    "multi=LinRegMulti()\n",
    "w=multi.fit(X_train,y_train,reg_rate=0.)\n"
   ]
  },
  {
   "cell_type": "code",
   "execution_count": null,
   "id": "9d077261",
   "metadata": {},
   "outputs": [],
   "source": [
    "np.testing.assert_almost_equal(w[1:,:],coef,decimal=2)"
   ]
  },
  {
   "cell_type": "code",
   "execution_count": null,
   "id": "b1cfb017",
   "metadata": {
    "scrolled": true
   },
   "outputs": [],
   "source": [
    "w"
   ]
  },
  {
   "cell_type": "code",
   "execution_count": null,
   "id": "c81c5898",
   "metadata": {},
   "outputs": [],
   "source": [
    "X_train.shape"
   ]
  },
  {
   "cell_type": "code",
   "execution_count": null,
   "id": "eddb66a4",
   "metadata": {},
   "outputs": [],
   "source": [
    "w.shape"
   ]
  },
  {
   "cell_type": "code",
   "execution_count": null,
   "id": "4b940da3",
   "metadata": {},
   "outputs": [],
   "source": [
    "(X_train@w).shape"
   ]
  },
  {
   "cell_type": "code",
   "execution_count": null,
   "id": "3656b9d4",
   "metadata": {},
   "outputs": [],
   "source": [
    "multi.Predict(X_train).shape"
   ]
  },
  {
   "cell_type": "code",
   "execution_count": null,
   "id": "541c927f",
   "metadata": {},
   "outputs": [],
   "source": [
    "multi.gradient_descent(X_train,y_train,num_epochs=100,lr=0.01,reg_rate=0.)\n"
   ]
  },
  {
   "cell_type": "code",
   "execution_count": null,
   "id": "e19e4bd8",
   "metadata": {
    "scrolled": true
   },
   "outputs": [],
   "source": [
    "multi.sgd(X_train,y_train,num_epochs=1000,reg_rate=0.1)"
   ]
  },
  {
   "cell_type": "code",
   "execution_count": null,
   "id": "0a97054c",
   "metadata": {},
   "outputs": [],
   "source": [
    "# TRY EXERCISES TOLD IN THE LAST LECTURE"
   ]
  },
  {
   "cell_type": "code",
   "execution_count": null,
   "id": "7ed30350",
   "metadata": {},
   "outputs": [],
   "source": []
  },
  {
   "cell_type": "code",
   "execution_count": null,
   "id": "73c2d6ff",
   "metadata": {},
   "outputs": [],
   "source": [
    "# WEEK 4"
   ]
  },
  {
   "cell_type": "code",
   "execution_count": 2,
   "id": "2432b188",
   "metadata": {},
   "outputs": [],
   "source": [
    "def fit(X,y):\n",
    "    return np.linalg.pinv(X)@y\n",
    "def predict(X,w):\n",
    "    z=X@w\n",
    "    return np.array([1 if z_val >=0 else 0 for z_val in z])"
   ]
  },
  {
   "cell_type": "code",
   "execution_count": 3,
   "id": "3e10219c",
   "metadata": {},
   "outputs": [],
   "source": [
    "# Adopted from PRML github repository\n",
    "class LabelTransformer(object):\n",
    "    '''\n",
    "    Label encoder decoder\n",
    "    Attributes\n",
    "    -------------\n",
    "    n_classes: int \n",
    "    number of classes, K\n",
    "    '''\n",
    "    def __init__(self,n_classes:int=None):\n",
    "        self.n_classes=n_classes\n",
    "        \n",
    "    @property\n",
    "    def n_classes(self):\n",
    "        return self.__n_classes\n",
    "    \n",
    "    @n_classes.setter\n",
    "    def n_classes(self,K):\n",
    "        self.__n_classes=K\n",
    "        self.__encoder=None if K is None else np.eye(K)\n",
    "    @property\n",
    "    def encoder(self):\n",
    "        return self.__encoder\n",
    "    def encode(self,class_indices:np.ndarray):\n",
    "        '''\n",
    "        encode class index into one-of -k code\n",
    "        Parameters\n",
    "        --------------\n",
    "        class_indices: (N,) np.ndarray\n",
    "            non-negative class index\n",
    "            elements must be integer in [0,n_classes)\n",
    "        Returns\n",
    "        ----------\n",
    "        (N,K) np.ndarray\n",
    "            one-of-k encoding of input\n",
    "        '''\n",
    "        if self.n_classes is None:\n",
    "            self.n_classes=np.max(class_indices)+1\n",
    "        return self.encoder[class_indices]\n",
    "def decode(self,onehot:np.ndarray):\n",
    "    '''\n",
    "    Decode one-of-k code into class index\n",
    "    Parameters\n",
    "    --------------\n",
    "    onehot: (N,K) np.ndarray\n",
    "        one-of-k code\n",
    "    Returns\n",
    "    ----------\n",
    "    (N,) np.ndarray\n",
    "        class index\n",
    "    '''\n",
    "    return np.argmax(onehot,axis=1)"
   ]
  },
  {
   "cell_type": "code",
   "execution_count": 4,
   "id": "b401a1c5",
   "metadata": {},
   "outputs": [
    {
     "data": {
      "text/plain": [
       "array([[0., 1.],\n",
       "       [1., 0.],\n",
       "       [0., 1.],\n",
       "       [1., 0.]])"
      ]
     },
     "execution_count": 4,
     "metadata": {},
     "output_type": "execute_result"
    }
   ],
   "source": [
    "LabelTransformer(2).encode(np.array([1,0,1,0]))"
   ]
  },
  {
   "cell_type": "code",
   "execution_count": 5,
   "id": "9c7dcfda",
   "metadata": {},
   "outputs": [
    {
     "data": {
      "text/plain": [
       "array([[0., 1., 0.],\n",
       "       [1., 0., 0.],\n",
       "       [0., 1., 0.],\n",
       "       [0., 0., 1.]])"
      ]
     },
     "execution_count": 5,
     "metadata": {},
     "output_type": "execute_result"
    }
   ],
   "source": [
    "LabelTransformer(3).encode(np.array([1,0,1,2]))"
   ]
  },
  {
   "cell_type": "code",
   "execution_count": 6,
   "id": "83f5045d",
   "metadata": {},
   "outputs": [],
   "source": [
    "class LeastSquareClassification:\n",
    "    def __init__(self):\n",
    "        self.t0=20\n",
    "        self.t1=1000\n",
    "        return\n",
    "    def predict(self,X):\n",
    "        '''\n",
    "        Output label encoded\n",
    "        '''\n",
    "        assert X.shape[-1]==self.w.shape[0],f\"X shape {X.shape} and w shape {self.w.shape} are not compatible\"\n",
    "        return np.argmax(X@self.w,axis=-1)\n",
    "    def predict_internal(self,X):\n",
    "        '''\n",
    "        Direct regression output\n",
    "        '''\n",
    "        assert X.shape[-1]==self.w.shape[0],f\"X shape {X.shape} and w shape {self.w.shape} are not compatible\"\n",
    "        return X@self.w\n",
    "    def loss(self,X,y,reg_rate):\n",
    "        y_pred=self.predict_internal(X)\n",
    "        e=y_pred-y\n",
    "        return (1/2)*(e.T@e) + (reg_rate/2)*(self.w.T@self.w)\n",
    "    def fit(self,X,y,reg_rate):\n",
    "        self.w=np.linalg.solve(np.transpose(X)@X+reg_rate*np.eye(np.size(X,1)),np.transpose(X)@y)\n",
    "        return self.w\n",
    "    def calc_gradient(self,X,y,reg_rate):\n",
    "        grad=np.transpose(X)@(self.predict_internal(X)-y)+reg_rate*self.w\n",
    "        return grad\n",
    "    \n",
    "    def update_weights(self,grad:np.ndarray,lr:float)->np.ndarray:\n",
    "        return (self.w-(lr*grad))\n",
    "\n",
    "    def  learning_schedule(self,t):\n",
    "        return self.t0/(self.t1+t)\n",
    "    def gradient_descent(self,X:np.ndarray,y:np.ndarray,lr:float,num_epochs:int,reg_rate:float)->np.ndarray:\n",
    "        self.w_all=[]\n",
    "        self.err_all=[]\n",
    "        self.w=np.zeros((X.shape[1],y.shape[1]))\n",
    "        #print()\n",
    "        for i in np.arange(0,num_epochs+1):\n",
    "            self.w_all.append(self.w)\n",
    "            self.err_all.append(self.loss(X,y,reg_rate))\n",
    "            dJdW=self.calc_gradient(X,y,reg_rate)\n",
    "            self.w=self.update_weights(dJdW,lr)\n",
    "        return self.w\n",
    "    \n",
    "    def sgd(self, X:np.ndarray,y:np.ndarray,num_epochs,reg_rate:float):\n",
    "        self.err_all=[]\n",
    "        self.w_all=[]\n",
    "        self.w=np.zeros((X.shape[-1],y.shape[-1]))\n",
    "        t=0\n",
    "        for epoch in range(num_epochs):\n",
    "            for iter in range(X.shape[0]):\n",
    "                t=t+1\n",
    "                random_index=np.random.randint(X.shape[0])\n",
    "                x1=X[random_index:random_index+1]\n",
    "                y1=y[random_index:random_index+1]\n",
    "\n",
    "                self.w_all.append(self.w)\n",
    "                self.err_all.append(self.loss(x1,y1,reg_rate))\n",
    "\n",
    "                djdw=self.calc_gradient(x1,y1,reg_rate)\n",
    "                self.w=self.update_weights(djdw,self.learning_schedule(t))\n",
    "        return self.w"
   ]
  },
  {
   "cell_type": "code",
   "execution_count": 7,
   "id": "42b8c6a3",
   "metadata": {},
   "outputs": [],
   "source": [
    "def create_toy_dataset(add_outliers=False,add_class=False):\n",
    "    x0=np.random.normal(size=50).reshape(-1,2,)-1\n",
    "    x1=np.random.normal(size=50).reshape(-1,2)+1.\n",
    "    if add_class:\n",
    "        x_1=np.random.normal(size=10).reshape(-1,2)+np.array([5. , 10.])\n",
    "        return np.concatenate([x0,x1,x_1]) , np.concatenate([np.zeros(25), np.ones(30)]).astype(np.int64)\n",
    "    if add_outliers:\n",
    "        x2=np.random.normal(size=50).reshape(-1,2)+2.\n",
    "        return np.concatenate([x0,x1,x2]),np.concatenate([np.zeros(25),np.ones(25),2+np.zeros(25)]).astype(np.int64)\n",
    "    return np.concatenate([x0,x1]),np.concatenate([np.zeros(25),np.ones(25)]).astype(np.int64)"
   ]
  },
  {
   "cell_type": "code",
   "execution_count": 24,
   "id": "fcd48395",
   "metadata": {},
   "outputs": [],
   "source": [
    "from sklearn.model_selection import train_test_split\n",
    "def preprocess(add_class=False,add_outliers=False,degree=1):\n",
    "    x,y=create_toy_dataset(add_class,add_outliers)\n",
    "    if degree==1:\n",
    "        x_poly=x\n",
    "    else:\n",
    "        x_poly=polynomial_transform(x,degree=degree)\n",
    "    x_train,x_test,y_train,y_test=train_test_split(x_poly,y)\n",
    "    y_train_trans=LabelTransformer().encode(y_train)\n",
    "    y_test_trans=LabelTransformer().encode(y_test)\n",
    "    return x_train,x_test,y_train,y_test,y_train_trans,y_test_trans"
   ]
  },
  {
   "cell_type": "code",
   "execution_count": 9,
   "id": "6b5ad34b",
   "metadata": {},
   "outputs": [],
   "source": [
    "sns.set_context('notebook',font_scale=1.5,rc={'lines.linewidth':2.5})\n",
    "\n",
    "def visualize_model(X_train,labels,lsc_obj,degree=1):\n",
    "    f=plt.figure(figsize=(8,8))\n",
    "    x1_min=np.min(X_train[:,1])\n",
    "    x1_max=np.max(X_train[:,1])\n",
    "    x2_min=np.min(X_train[:,2])\n",
    "    x2_max=np.max(X_train[:,2])\n",
    "    \n",
    "    x1_test,x2_test=np.meshgrid(np.linspace(x1_min,x1_max,100),np.linspace(x2_min,x2_max,100))\n",
    "    x_test=np.array([x1_test,x2_test]).reshape(2,-1).T\n",
    "    x_test_poly=polynomial_transform(x_test,degree=degree)\n",
    "    y_test=lsc_obj.predict(x_test_poly)\n",
    "    sns.scatterplot(data=X_train,x=X_train[:,1],y=X_train[:,2],hue=labels)\n",
    "    plt.contourf(x1_test,x2_test,y_test.reshape(100,100),alpha=0.5)\n",
    "    plt.xlabel('$x_1$')\n",
    "    plt.ylabel('$x_2$')\n",
    "    plt.xlim(x1_min,x1_max)\n",
    "    plt.ylim(x2_min,x2_max)\n",
    "    plt.gca().set_aspect('equal',adjustable='box')\n",
    "    plt.show()"
   ]
  },
  {
   "cell_type": "markdown",
   "id": "3e18c073",
   "metadata": {},
   "source": [
    "linearly separable binary classification"
   ]
  },
  {
   "cell_type": "code",
   "execution_count": null,
   "id": "199e3ef5",
   "metadata": {
    "scrolled": true
   },
   "outputs": [],
   "source": [
    "#!pip install numpy==1.22.0 --user"
   ]
  },
  {
   "cell_type": "code",
   "execution_count": 25,
   "id": "ad20fa04",
   "metadata": {},
   "outputs": [],
   "source": [
    "import numpy as np\n",
    "x_train,x_test,y_train,y_test,y_train_trans,y_test_trans=preprocess()"
   ]
  },
  {
   "cell_type": "code",
   "execution_count": 26,
   "id": "fda70f0f",
   "metadata": {},
   "outputs": [
    {
     "data": {
      "text/plain": [
       "((37, 2), (13, 2), (37,), (13,))"
      ]
     },
     "execution_count": 26,
     "metadata": {},
     "output_type": "execute_result"
    }
   ],
   "source": [
    "x_train.shape,x_test.shape,y_train.shape,y_test.shape"
   ]
  },
  {
   "cell_type": "code",
   "execution_count": null,
   "id": "a1173bcb",
   "metadata": {},
   "outputs": [],
   "source": [
    "sns.set_style('white')\n",
    "f=plt.figure(figsize=(8,8))\n",
    "sns.set_context('notebook',font_scale=1.5,rc={'lines.linewidth':2.5})\n",
    "\n",
    "sns.scatterplot(data=x_train,x=x_train[:,-2],y=x_train[:,-1],hue=y_train)\n",
    "plt.xlabel('$x_1$')\n",
    "plt.ylabel('$x_2$')\n",
    "plt.show()"
   ]
  },
  {
   "cell_type": "code",
   "execution_count": null,
   "id": "13874f85",
   "metadata": {},
   "outputs": [],
   "source": [
    "lsc=LeastSquareClassification()"
   ]
  },
  {
   "cell_type": "code",
   "execution_count": null,
   "id": "7902ce4e",
   "metadata": {},
   "outputs": [],
   "source": [
    "lsc.fit(x_train,y_train_trans,reg_rate=0)"
   ]
  },
  {
   "cell_type": "code",
   "execution_count": null,
   "id": "e91287a2",
   "metadata": {},
   "outputs": [],
   "source": [
    "visualize_model(x_train,y_train,lsc)"
   ]
  },
  {
   "cell_type": "code",
   "execution_count": null,
   "id": "7f8adc58",
   "metadata": {},
   "outputs": [],
   "source": [
    "def plot_learning_curve(err_all):\n",
    "    err=[err[1][1] for err in err_all]\n",
    "    plt.plot(np.arange(len(err)),err,'r-')\n",
    "    plt.xlabel('Iter #')\n",
    "    plt.ylabel('$\\mathbf{J(w)}$')"
   ]
  },
  {
   "cell_type": "code",
   "execution_count": null,
   "id": "8d199d67",
   "metadata": {},
   "outputs": [],
   "source": [
    "lsc.sgd(x_train,y_train_trans,num_epochs=100,reg_rate=0)"
   ]
  },
  {
   "cell_type": "code",
   "execution_count": null,
   "id": "7a49ecd9",
   "metadata": {
    "scrolled": true
   },
   "outputs": [],
   "source": [
    "plot_learning_curve(lsc.err_all)"
   ]
  },
  {
   "cell_type": "code",
   "execution_count": null,
   "id": "d44ae0a5",
   "metadata": {},
   "outputs": [],
   "source": [
    "visualize_model(x_train,y_train,lsc)"
   ]
  },
  {
   "cell_type": "code",
   "execution_count": null,
   "id": "6e5f8b0f",
   "metadata": {},
   "outputs": [],
   "source": [
    "lsc.gradient_descent(x_train,y_train_trans,num_epochs=100,reg_rate=0,lr=1e-3)"
   ]
  },
  {
   "cell_type": "code",
   "execution_count": null,
   "id": "86eefd07",
   "metadata": {},
   "outputs": [],
   "source": [
    "plot_learning_curve(lsc.err_all)"
   ]
  },
  {
   "cell_type": "code",
   "execution_count": null,
   "id": "e2429698",
   "metadata": {
    "scrolled": false
   },
   "outputs": [],
   "source": [
    "visualize_model(x_train,y_train,lsc)"
   ]
  },
  {
   "cell_type": "code",
   "execution_count": null,
   "id": "10a0d6e2",
   "metadata": {},
   "outputs": [],
   "source": [
    "y_test_hat=lsc.predict(x_test)"
   ]
  },
  {
   "cell_type": "code",
   "execution_count": null,
   "id": "2e2d1d60",
   "metadata": {},
   "outputs": [],
   "source": [
    "\n",
    "tp=np.where((y_test==1) & (y_test_hat==1),1,0).sum()\n",
    "tn=np.where((y_test==0) & (y_test_hat==0),1,0).sum()\n",
    "fp=np.where((y_test==0) & (y_test_hat==1),1,0).sum()\n",
    "fn=np.where((y_test==1) & (y_test_hat==0),1,0).sum()"
   ]
  },
  {
   "cell_type": "code",
   "execution_count": null,
   "id": "3457d71d",
   "metadata": {},
   "outputs": [],
   "source": [
    "def precision(tp,fp):\n",
    "    if tp+fp ==0:return np.nan\n",
    "    return tp/(tp+fp)\n",
    "def recall(tp,fn):\n",
    "    if tp+fn==0: return np.nan\n",
    "    return tp/(tp+fn)\n",
    "def accuracy(tp,fp,tn,fn):\n",
    "    return (tp+tn)/(tp+tn+fn+fp)\n",
    "def f1_score(pr,r):\n",
    "    return 2*((pr*r)/(pr+r))"
   ]
  },
  {
   "cell_type": "code",
   "execution_count": null,
   "id": "547221ae",
   "metadata": {},
   "outputs": [],
   "source": [
    "pr=precision(tp,fp)\n",
    "r=recall(tp,fn)\n",
    "print(\"Precision\",pr)\n",
    "print(\"Recall\",r)\n",
    "print(\"accuracy\",accuracy(tp,fp,tn,fn))\n",
    "print(\"f1 score\",f1_score(pr,r))"
   ]
  },
  {
   "cell_type": "code",
   "execution_count": null,
   "id": "e907237c",
   "metadata": {
    "scrolled": true
   },
   "outputs": [],
   "source": [
    "# Linearly separable binary classification with outliers\n",
    "x_train,x_test,y_train,y_test,y_train_trans,y_test_trans=preprocess(add_outliers=True)"
   ]
  },
  {
   "cell_type": "code",
   "execution_count": null,
   "id": "7866429f",
   "metadata": {},
   "outputs": [],
   "source": [
    "x_train.shape,y_train.shape,x_test.shape,y_test.shape"
   ]
  },
  {
   "cell_type": "code",
   "execution_count": null,
   "id": "3a90ba56",
   "metadata": {},
   "outputs": [],
   "source": [
    "sns.set_style('white')\n",
    "f=plt.figure(figsize=(8,8))\n",
    "sns.set_context('notebook',font_scale=1.5,rc={'lines.linewidth':2.5})\n",
    "\n",
    "sns.scatterplot(data=x_train,x=x_train[:,-2],y=x_train[:,-1],hue=y_train)\n",
    "plt.xlabel('$x_1$')\n",
    "plt.ylabel('$x_2$')\n",
    "plt.show()"
   ]
  },
  {
   "cell_type": "code",
   "execution_count": null,
   "id": "9fc0cecd",
   "metadata": {},
   "outputs": [],
   "source": [
    "lsc_outlier=LeastSquareClassification()\n",
    "lsc_outlier.fit(x_train,y_train_trans,reg_rate=0)\n",
    "visualize_model(x_train,y_train,lsc_outlier)"
   ]
  },
  {
   "cell_type": "code",
   "execution_count": null,
   "id": "01832077",
   "metadata": {},
   "outputs": [],
   "source": [
    "# MULTI CLASS SETUP\n",
    "x_train,x_test,y_train,y_test,y_train_trans,y_test_trans=preprocess(add_class=True)"
   ]
  },
  {
   "cell_type": "code",
   "execution_count": null,
   "id": "3275cbc0",
   "metadata": {
    "scrolled": false
   },
   "outputs": [],
   "source": [
    "sns.set_style('white')\n",
    "f=plt.figure(figsize=(8,8))\n",
    "sns.set_context('notebook',font_scale=1.5,rc={'lines.linewidth':2.5})\n",
    "\n",
    "sns.scatterplot(data=x_train,x=x_train[:,-2],y=x_train[:,-1],hue=y_train)\n",
    "plt.xlabel('$x_1$')\n",
    "plt.ylabel('$x_2$')\n",
    "plt.show()"
   ]
  },
  {
   "cell_type": "code",
   "execution_count": null,
   "id": "5e70aff2",
   "metadata": {},
   "outputs": [],
   "source": [
    "lsc_multi_class=LeastSquareClassification()\n",
    "lsc_multi_class.fit(x_train,y_train_trans,reg_rate=1)\n",
    "visualize_model(x_train,y_train,lsc_multi_class)"
   ]
  },
  {
   "cell_type": "code",
   "execution_count": null,
   "id": "395496f7",
   "metadata": {},
   "outputs": [],
   "source": [
    "lsc_multi_class.w"
   ]
  },
  {
   "cell_type": "code",
   "execution_count": null,
   "id": "2bbcebd8",
   "metadata": {},
   "outputs": [],
   "source": [
    "from sklearn.metrics import classification_report\n",
    "y_test_pred=lsc_multi_class.predict(x_test)\n",
    "print(classification_report(y_test,y_test_pred,zero_division=0))"
   ]
  },
  {
   "cell_type": "code",
   "execution_count": null,
   "id": "4e6e8fd8",
   "metadata": {},
   "outputs": [],
   "source": [
    "# POLYNOMIAL LEAST SQUARE CLASSIFICATION"
   ]
  },
  {
   "cell_type": "code",
   "execution_count": null,
   "id": "2b6e81c1",
   "metadata": {},
   "outputs": [],
   "source": [
    "from sklearn.datasets import make_circles\n",
    "x,y=make_circles()"
   ]
  },
  {
   "cell_type": "code",
   "execution_count": null,
   "id": "7b7118cc",
   "metadata": {},
   "outputs": [],
   "source": [
    "x_poly=polynomial_transform(x,degree=2)\n",
    "x_train,x_test,y_train,y_test=train_test_split(x_poly,y)"
   ]
  },
  {
   "cell_type": "code",
   "execution_count": null,
   "id": "7821ec9d",
   "metadata": {},
   "outputs": [],
   "source": [
    "x.shape,x_poly.shape"
   ]
  },
  {
   "cell_type": "code",
   "execution_count": null,
   "id": "71118dc9",
   "metadata": {},
   "outputs": [],
   "source": [
    "sns.set_style('white')\n",
    "f=plt.figure(figsize=(8,8))\n",
    "sns.set_context('notebook',font_scale=1.5,rc={'lines.linewidth':2.5})\n",
    "\n",
    "sns.scatterplot(data=x_train,x=x_train[:,1],y=x_train[:,2],hue=y_train)\n",
    "plt.xlabel('$x_1$')\n",
    "plt.ylabel('$x_2$')\n",
    "plt.show()"
   ]
  },
  {
   "cell_type": "code",
   "execution_count": null,
   "id": "9b64992a",
   "metadata": {},
   "outputs": [],
   "source": [
    "y_train_trans=LabelTransformer().encode(y_train)\n",
    "y_test_trans=LabelTransformer().encode(y_test)"
   ]
  },
  {
   "cell_type": "code",
   "execution_count": null,
   "id": "de3dfbe4",
   "metadata": {},
   "outputs": [],
   "source": [
    "lsc_poly=LeastSquareClassification()\n",
    "lsc_poly.fit(x_train,y_train_trans,reg_rate=1)\n",
    "visualize_model(x_train,y_train,lsc_poly,degree=2)"
   ]
  },
  {
   "cell_type": "code",
   "execution_count": null,
   "id": "4863de23",
   "metadata": {},
   "outputs": [],
   "source": [
    "from sklearn.metrics import classification_report\n",
    "y_test_pred=lsc_poly.predict(x_test)\n",
    "print(classification_report(y_test,y_test_pred,zero_division=0))"
   ]
  },
  {
   "cell_type": "markdown",
   "id": "6c6412ce",
   "metadata": {},
   "source": [
    "PERCEPTRON\n"
   ]
  },
  {
   "cell_type": "code",
   "execution_count": null,
   "id": "2d3001d1",
   "metadata": {},
   "outputs": [],
   "source": [
    "class Perceptron:\n",
    "    def __init__(self):\n",
    "        return \n",
    "    def predict(self,X):\n",
    "        z=X@self.w\n",
    "        return np.where(z>=0,1,-1)\n",
    "    def loss(self,X,y):\n",
    "        return np.sum(np.maximum(-1*self.predict(X)*y,np.zeros(y.shape[0])))\n",
    "    def train(self,X,y,epochs=10,lr=1e-3):\n",
    "        self.w=np.zeros(X.shape[1])\n",
    "        self.err_all=[]\n",
    "        self.w_all=[]\n",
    "        for _ in range(epochs):\n",
    "            errors=0\n",
    "            for xi,target in zip(X,y):\n",
    "                self.w+=lr*(target-self.predict(xi))*xi\n",
    "                errors+=(max(-1*self.predict(xi)*target,0))\n",
    "            self.err_all.append(errors)\n",
    "            self.w_all.append(self.w)\n",
    "            print(\"w:\",perceptron_obj.w)\n",
    "            print(\"J(w):\",perceptron_obj.err_all[-1])\n",
    "#             if self.loss(X,y)==0:\n",
    "#                 break\n"
   ]
  },
  {
   "cell_type": "code",
   "execution_count": null,
   "id": "1bdc72f5",
   "metadata": {},
   "outputs": [],
   "source": [
    "# Linearly separable case"
   ]
  },
  {
   "cell_type": "code",
   "execution_count": null,
   "id": "d3745c59",
   "metadata": {},
   "outputs": [],
   "source": [
    "from sklearn.model_selection import train_test_split\n",
    "x,y=create_toy_dataset()\n",
    "x_poly=polynomial_transform(x,degree=1)\n",
    "x_train,x_test,y_train,y_test=train_test_split(x_poly,y)\n"
   ]
  },
  {
   "cell_type": "code",
   "execution_count": null,
   "id": "b22bce0a",
   "metadata": {},
   "outputs": [],
   "source": [
    "perceptron_obj=Perceptron()\n",
    "perceptron_obj.train(x_train,y_train,lr=1)\n",
    "visualize_model(x_train,y_train,perceptron_obj,degree=1)"
   ]
  },
  {
   "cell_type": "code",
   "execution_count": null,
   "id": "014a2d8a",
   "metadata": {},
   "outputs": [],
   "source": [
    "plt.plot(np.arange(len(perceptron_obj.err_all)),perceptron_obj.err_all,'b-')\n",
    "plt.xlabel('Iteration #')\n",
    "plt.ylabel('$J(\\mathbf{w})$')\n",
    "plt.title('Learning curve')"
   ]
  },
  {
   "cell_type": "code",
   "execution_count": null,
   "id": "31853681",
   "metadata": {},
   "outputs": [],
   "source": [
    "# LINEARLY NON-SEPARABLE CASE"
   ]
  },
  {
   "cell_type": "code",
   "execution_count": null,
   "id": "694ca2fd",
   "metadata": {},
   "outputs": [],
   "source": [
    "x,y=create_toy_dataset()\n",
    "# add some change to create_toy_dataset code so that the classes don't interrupt and there is a factor for clear separation\n",
    "x_poly=polynomial_transform(x,degree=1)\n",
    "x_train,x_test,y_train,y_test=train_test_split(x_poly,y)\n",
    "perceptron_obj=Perceptron()\n",
    "perceptron_obj.train(x_train,y_train,lr=1)"
   ]
  },
  {
   "cell_type": "code",
   "execution_count": null,
   "id": "93e9504e",
   "metadata": {},
   "outputs": [],
   "source": [
    "visualize_model(x_train,y_train,perceptron_obj,degree=1)"
   ]
  },
  {
   "cell_type": "code",
   "execution_count": null,
   "id": "66105348",
   "metadata": {},
   "outputs": [],
   "source": [
    "plt.plot(np.arange(len(perceptron_obj.err_all)),perceptron_obj.err_all,'b-')\n",
    "plt.xlabel('Iteration #')\n",
    "plt.ylabel('$J(\\mathbf{w})$')\n",
    "plt.title('Learning curve')"
   ]
  },
  {
   "cell_type": "code",
   "execution_count": null,
   "id": "6444eb77",
   "metadata": {},
   "outputs": [],
   "source": [
    "x,y=make_circles()\n",
    "x_poly=polynomial_transform(x,degree=3)\n",
    "print(x.shape[0])"
   ]
  },
  {
   "cell_type": "code",
   "execution_count": null,
   "id": "ee4d7ded",
   "metadata": {},
   "outputs": [],
   "source": [
    "# NON-LINEARLY SEPARABLE CASE YOU TRY IT\n",
    "\n"
   ]
  },
  {
   "cell_type": "markdown",
   "id": "41cfed26",
   "metadata": {},
   "source": [
    "### week - 5"
   ]
  },
  {
   "cell_type": "code",
   "execution_count": null,
   "id": "09897cb6",
   "metadata": {},
   "outputs": [],
   "source": [
    "# MODEL"
   ]
  },
  {
   "cell_type": "code",
   "execution_count": null,
   "id": "a6f898d8",
   "metadata": {},
   "outputs": [],
   "source": [
    "def linear_combination(X,w):\n",
    "    '''\n",
    "    X:(n,m)\n",
    "    w:(m,)\n",
    "    '''\n",
    "    return X@w"
   ]
  },
  {
   "cell_type": "code",
   "execution_count": null,
   "id": "a9c670ff",
   "metadata": {},
   "outputs": [],
   "source": [
    "def sigmoid(z):\n",
    "    '''\n",
    "    Output is a list of sigmoid functions\n",
    "    '''\n",
    "    return 1/(1+np.exp(-z))\n"
   ]
  },
  {
   "cell_type": "code",
   "execution_count": null,
   "id": "32d1f736",
   "metadata": {},
   "outputs": [],
   "source": [
    "def predict(X,w,threshold):\n",
    "    '''\n",
    "    >threshold - class 1\n",
    "    else - class 0\n",
    "    '''\n",
    "    return np.where(sigmoid(linear_combination(X,w))>threshold,1,0)\n"
   ]
  },
  {
   "cell_type": "code",
   "execution_count": null,
   "id": "5487fc8b",
   "metadata": {},
   "outputs": [],
   "source": [
    "feature_mat=np.array([[1,20,2],[1,2,2]])\n",
    "weight_vector=np.array([-1,0,1])\n",
    "class_labels=predict(feature_mat,weight_vector,0.5)\n",
    "print(class_labels)"
   ]
  },
  {
   "cell_type": "code",
   "execution_count": null,
   "id": "dc425694",
   "metadata": {},
   "outputs": [],
   "source": [
    "# LOSS FUNCTION (BINARY CROSS ENTROPY LOSS ALONG WITH THE REGULARIZATION PENALTY)\n",
    "# REGULARIZATION RATE CAN BE PUT TO 0 IF WE DO NOT WANT REGULARIZATION"
   ]
  },
  {
   "cell_type": "code",
   "execution_count": null,
   "id": "3799744b",
   "metadata": {},
   "outputs": [],
   "source": [
    "def loss(y,sigmoid_vector,weight_vector,l1_reg_rate,l2_reg_rate):\n",
    "    return (-1*(np.sum(y*np.log(sigmoid_vector)+(1-y)*np.log(1-sigmoid_vector)))+\n",
    "            l2_reg_rate*np.dot(np.transpose(weight_vector),weight_vector)+\n",
    "            l1_reg_rate*np.sum(np.abs(weight_vector)))"
   ]
  },
  {
   "cell_type": "code",
   "execution_count": null,
   "id": "9771487c",
   "metadata": {},
   "outputs": [],
   "source": [
    "# OPTIMIZATION"
   ]
  },
  {
   "cell_type": "code",
   "execution_count": null,
   "id": "4bcc0b4e",
   "metadata": {},
   "outputs": [],
   "source": [
    "def calculate_gradient(X,y,w,reg_rate):\n",
    "    return np.transpose(X)@(sigmoid(linear_combination(X,w))-y)+reg_rate*w"
   ]
  },
  {
   "cell_type": "code",
   "execution_count": null,
   "id": "d8492ada",
   "metadata": {},
   "outputs": [],
   "source": [
    "class LogisticRegression(object):\n",
    "    def set_weight_vector(self,w):\n",
    "        self.w=w\n",
    "    def linear_combination(self,X):\n",
    "        assert X.shape[1]==self.w.shape[0],f'Shape error X={X.shape}, w={self.w.shape}'\n",
    "        return X@self.w\n",
    "    def sigmoid(self,z):\n",
    "        return 1/(1+np.exp(-z))\n",
    "    def activation(self,X):\n",
    "        return self.sigmoid(self.linear_combination(X))\n",
    "    def predict(self,X,threshold=0.5):\n",
    "        return (self.activation(X)>threshold).astype(int)\n",
    "    def loss(self,X,y,reg_rate):\n",
    "        predicted_prob=self.activation(X)\n",
    "        return (-1*(np.sum(y*np.log(predicted_prob)+(1-y)*np.log(1-predicted_prob)))+\n",
    "               reg_rate*np.dot(np.transpose(self.w),self.w))\n",
    "    def calculate_gradient(self,X,y,reg_rate):\n",
    "        return np.transpose(X)@(self.activation(X)-y)+reg_rate*self.w\n",
    "    def update_weights(self,grad,lr):\n",
    "        return self.w-(lr*grad)\n",
    "    def gd(self,X,y,num_epochs,lr,reg_rate):\n",
    "        self.w=np.zeros((X.shape[1],))\n",
    "        self.w_all=[]\n",
    "        self.err_all=[]\n",
    "        for i in range(num_epochs):\n",
    "            djdw=self.calculate_gradient(X,y,reg_rate)\n",
    "            self.w_all.append(self.w)\n",
    "            self.err_all.append(self.loss(X,y,reg_rate))\n",
    "            self.w=self.update_weights(djdw,lr)\n",
    "        return self.w"
   ]
  },
  {
   "cell_type": "code",
   "execution_count": null,
   "id": "41534f27",
   "metadata": {},
   "outputs": [],
   "source": [
    "x_graded=np.array([[1,2],[1,3]])\n",
    "y=np.array([1,0])\n",
    "w=np.array([0.1,0.2])\n",
    "s=LogisticRegression()\n",
    "s.set_weight_vector(w)\n",
    "s.calculate_gradient(x_graded,y,reg_rate=0)"
   ]
  },
  {
   "cell_type": "code",
   "execution_count": null,
   "id": "6432ad75",
   "metadata": {},
   "outputs": [],
   "source": [
    "y=np.array( [ 1, 0, 0, 1, 0, 0, 0, 1, 1 ])\n",
    "y_pred=np.array([0.9,0.3,0.25,0.88,0.1,0.1,0.6,0.9,0.75])"
   ]
  },
  {
   "cell_type": "code",
   "execution_count": null,
   "id": "3fe87a60",
   "metadata": {},
   "outputs": [],
   "source": [
    "-(y@np.log(y_pred)+(1-y)@np.log(1-y_pred))"
   ]
  },
  {
   "cell_type": "code",
   "execution_count": null,
   "id": "f72fe3d1",
   "metadata": {},
   "outputs": [],
   "source": [
    "# LOG REG FOR LINEARLY SEPARABLE CLASSES"
   ]
  },
  {
   "cell_type": "code",
   "execution_count": null,
   "id": "1e695c43",
   "metadata": {},
   "outputs": [],
   "source": [
    "?np.concatenate"
   ]
  },
  {
   "cell_type": "code",
   "execution_count": null,
   "id": "0d7c9072",
   "metadata": {},
   "outputs": [],
   "source": [
    "def create_toy_data():\n",
    "    x0=np.random.normal(size=50).reshape(-1,2)-1\n",
    "    x1=np.random.normal(size=50).reshape(-1,2)+1.\n",
    "    return np.concatenate([x0,x1]),np.concatenate([np.zeros(25),np.ones(25)])"
   ]
  },
  {
   "cell_type": "code",
   "execution_count": null,
   "id": "aa3ee17e",
   "metadata": {},
   "outputs": [],
   "source": [
    "x,y=create_toy_data()\n",
    "x.shape,y.shape"
   ]
  },
  {
   "cell_type": "code",
   "execution_count": null,
   "id": "1f480f22",
   "metadata": {},
   "outputs": [],
   "source": [
    "assert x.shape[0]==y.shape[0]"
   ]
  },
  {
   "cell_type": "code",
   "execution_count": null,
   "id": "c45dcbfb",
   "metadata": {},
   "outputs": [],
   "source": [
    "feature_matrix_bias=polynomial_transform(x,degree=1)"
   ]
  },
  {
   "cell_type": "code",
   "execution_count": null,
   "id": "8bf2642f",
   "metadata": {
    "scrolled": true
   },
   "outputs": [],
   "source": [
    "from sklearn.model_selection import train_test_split\n",
    "x_train,x_test,y_train,y_test=train_test_split(x,y)"
   ]
  },
  {
   "cell_type": "code",
   "execution_count": null,
   "id": "b288c018",
   "metadata": {},
   "outputs": [],
   "source": [
    "assert x_train.shape[0]==y_train.shape[0]\n",
    "assert x_test.shape[0]==y_test.shape[0]"
   ]
  },
  {
   "cell_type": "code",
   "execution_count": null,
   "id": "81ec11e5",
   "metadata": {},
   "outputs": [],
   "source": [
    "sns.set_style('white')\n",
    "f=plt.figure(figsize=(8,8))\n",
    "sns.set_context('notebook',font_scale=1.5,rc={'lines.linewidth':2.5})\n",
    "sns.scatterplot(data=x_train,x=x_train[:,-2],y=x_train[:,-1],hue=y_train)\n",
    "plt.xlabel('x1')\n",
    "plt.ylabel('x2')\n",
    "plt.show()"
   ]
  },
  {
   "cell_type": "code",
   "execution_count": null,
   "id": "70fc491a",
   "metadata": {
    "scrolled": false
   },
   "outputs": [],
   "source": [
    "log_reg=LogisticRegression()\n",
    "log_reg.gd(x_train,y_train,num_epochs=1000,reg_rate=0,lr=1e-2)"
   ]
  },
  {
   "cell_type": "code",
   "execution_count": null,
   "id": "0f352f0a",
   "metadata": {
    "scrolled": true
   },
   "outputs": [],
   "source": [
    "plot_learning_curves(log_reg.err_all)"
   ]
  },
  {
   "cell_type": "code",
   "execution_count": null,
   "id": "6ccfb957",
   "metadata": {
    "scrolled": true
   },
   "outputs": [],
   "source": [
    "visualize_model(x_train,y_train,log_reg)"
   ]
  },
  {
   "cell_type": "code",
   "execution_count": null,
   "id": "74b5e2a1",
   "metadata": {
    "scrolled": true
   },
   "outputs": [],
   "source": [
    "y_test_hat=log_reg.predict(X=x_test)"
   ]
  },
  {
   "cell_type": "code",
   "execution_count": null,
   "id": "2378cdcb",
   "metadata": {},
   "outputs": [],
   "source": [
    "from sklearn.metrics import classification_report\n",
    "print(classification_report(y_test,y_test_hat,zero_division=0))"
   ]
  },
  {
   "cell_type": "code",
   "execution_count": null,
   "id": "01f60adb",
   "metadata": {},
   "outputs": [],
   "source": [
    "# POLYNOMIAL LEAST SQUARE CLASSIFICATION"
   ]
  },
  {
   "cell_type": "code",
   "execution_count": null,
   "id": "a548aa5c",
   "metadata": {},
   "outputs": [],
   "source": [
    "from sklearn.datasets import make_circles\n",
    "feature_matrix,label_vector=make_circles()"
   ]
  },
  {
   "cell_type": "code",
   "execution_count": null,
   "id": "58346c4f",
   "metadata": {},
   "outputs": [],
   "source": [
    "assert feature_matrix.shape[0]==label_vector.shape[0]"
   ]
  },
  {
   "cell_type": "code",
   "execution_count": null,
   "id": "0687f8e1",
   "metadata": {},
   "outputs": [],
   "source": [
    "x_poly=polynomial_transform(feature_matrix,degree=2)"
   ]
  },
  {
   "cell_type": "code",
   "execution_count": null,
   "id": "8be66d1b",
   "metadata": {},
   "outputs": [],
   "source": [
    "feature_matrix.shape[1],x_poly.shape[1]"
   ]
  },
  {
   "cell_type": "code",
   "execution_count": null,
   "id": "3eba54e0",
   "metadata": {},
   "outputs": [],
   "source": [
    "feature_matrix[:5]"
   ]
  },
  {
   "cell_type": "code",
   "execution_count": null,
   "id": "ef2068ec",
   "metadata": {},
   "outputs": [],
   "source": [
    "x_poly[:5] # consists 1,x1,x2,x1^2,x1*x2,x2^2"
   ]
  },
  {
   "cell_type": "code",
   "execution_count": null,
   "id": "b923a156",
   "metadata": {},
   "outputs": [],
   "source": [
    "x_train,x_test,y_train,y_test=train_test_split(x_poly,label_vector\n",
    "                                            )"
   ]
  },
  {
   "cell_type": "code",
   "execution_count": null,
   "id": "995ea897",
   "metadata": {},
   "outputs": [],
   "source": [
    "sns.set_style('white')\n",
    "f=plt.figure(figsize=(8,8))\n",
    "sns.set_context('notebook',font_scale=1.5,rc={'lines.linewidth':2.5})\n",
    "sns.scatterplot(data=x_train,x=x_train[:,1],y=x_train[:,2],hue=y_train)\n",
    "plt.xlabel('x1')\n",
    "plt.ylabel('x2')\n",
    "plt.show()"
   ]
  },
  {
   "cell_type": "code",
   "execution_count": null,
   "id": "9fb922ad",
   "metadata": {},
   "outputs": [],
   "source": [
    "log_reg_poly=LogisticRegression()\n",
    "log_reg_poly.gd(x_train,y_train,reg_rate=0,num_epochs=10000,lr=1e-2)"
   ]
  },
  {
   "cell_type": "code",
   "execution_count": null,
   "id": "680ef617",
   "metadata": {},
   "outputs": [],
   "source": [
    "plot_learning_curves(log_reg_poly.err_all)"
   ]
  },
  {
   "cell_type": "code",
   "execution_count": null,
   "id": "4e9ae82c",
   "metadata": {},
   "outputs": [],
   "source": [
    "visualize_model(x_train,y_train,log_reg_poly,degree=2)"
   ]
  },
  {
   "cell_type": "code",
   "execution_count": null,
   "id": "0efacbae",
   "metadata": {},
   "outputs": [],
   "source": [
    "y_test_hat=log_reg_poly.predict(x_test)"
   ]
  },
  {
   "cell_type": "code",
   "execution_count": null,
   "id": "68df0fc4",
   "metadata": {},
   "outputs": [],
   "source": [
    "from sklearn.metrics import classification_report\n",
    "print(classification_report(y_test,y_test_hat,zero_division=0))"
   ]
  },
  {
   "cell_type": "code",
   "execution_count": null,
   "id": "c33fe8c8",
   "metadata": {},
   "outputs": [],
   "source": [
    "# LOGISTIC REGRESSION VISUALIZATION"
   ]
  },
  {
   "cell_type": "code",
   "execution_count": null,
   "id": "2a0b46cd",
   "metadata": {},
   "outputs": [],
   "source": [
    "from matplotlib import cm\n",
    "from matplotlib.colors import colorConverter, ListedColormap"
   ]
  },
  {
   "cell_type": "code",
   "execution_count": null,
   "id": "e85bccaa",
   "metadata": {},
   "outputs": [],
   "source": [
    "log_reg_vis=LogisticRegression()"
   ]
  },
  {
   "cell_type": "code",
   "execution_count": null,
   "id": "a169920c",
   "metadata": {},
   "outputs": [],
   "source": [
    "feature_matrix,label_vector=create_toy_data()\n",
    "feature_matrix_bias=polynomial_transform(feature_matrix,degree=1)\n",
    "x_train,x_test,y_train,y_test=train_test_split(feature_matrix_bias,label_vector)"
   ]
  },
  {
   "cell_type": "code",
   "execution_count": null,
   "id": "5659a4cd",
   "metadata": {},
   "outputs": [],
   "source": [
    "point_count=25\n",
    "w1=np.linspace(-5,5,num=point_count)\n",
    "w2=np.linspace(-5,5,num=point_count)\n",
    "w1_list,w2_list=np.meshgrid(w1,w2)"
   ]
  },
  {
   "cell_type": "code",
   "execution_count": null,
   "id": "46377988",
   "metadata": {},
   "outputs": [],
   "source": [
    "loss=np.zeros((point_count,point_count))\n",
    "for i in range(point_count):\n",
    "    for j in range(point_count):\n",
    "        weight_vector=np.array([0,w1_list[i,j],w2_list[i,j]])\n",
    "        log_reg_vis.set_weight_vector(weight_vector)\n",
    "        loss[i,j]=log_reg_vis.loss(x_train,y_train,reg_rate=0)"
   ]
  },
  {
   "cell_type": "code",
   "execution_count": null,
   "id": "8d7eaad0",
   "metadata": {},
   "outputs": [],
   "source": [
    "plt.figure(figsize=(8,8))\n",
    "plt.contourf(w1_list,w2_list,loss,20,cmap=cm.viridis)\n",
    "cbar=plt.colorbar()\n",
    "cbar.ax.set_ylabel('$J(\\mathbf{w})$',fontsize=12)\n",
    "plt.xlabel('$w_1$',fontsize=12)\n",
    "plt.ylabel('$w_2$',fontsize=12)\n",
    "plt.title('Loss function contours')\n",
    "plt.grid()\n",
    "plt.show()"
   ]
  },
  {
   "cell_type": "code",
   "execution_count": null,
   "id": "8aeeced3",
   "metadata": {},
   "outputs": [],
   "source": [
    "log_reg_vis.gd(x_train,y_train,num_epochs=1000,reg_rate=0,lr=1e-2)"
   ]
  },
  {
   "cell_type": "code",
   "execution_count": null,
   "id": "2a79f292",
   "metadata": {},
   "outputs": [],
   "source": [
    "plt.figure(figsize=(6,4))\n",
    "plt.contourf(w1_list,w2_list,loss,20,alpha=0.75,cmap=cm.viridis)\n",
    "cbar=plt.colorbar()\n",
    "cbar.ax.set_ylabel('loss')\n",
    "for i in range(1,900,100):\n",
    "    w1=log_reg_vis.w_all[(i-1)]\n",
    "    w2=log_reg_vis.w_all[(i+100)]\n",
    "    plt.plot(w1[1],w1[2],marker='o',color='c')\n",
    "    plt.plot([w1[1],w2[1]],[w1[2],w2[2]],linestyle='-',color='b')\n",
    "w1=log_reg_vis.w_all[-1]\n",
    "plt.plot(w1[1],w1[2],marker='o',color='r')\n",
    "plt.xlabel('x1',fontsize=12)\n",
    "plt.ylabel('x2',fontsize=12)\n",
    "plt.title('Gradient descent updates on loss surface')\n",
    "plt.show()"
   ]
  }
 ],
 "metadata": {
  "kernelspec": {
   "display_name": "Python 3 (ipykernel)",
   "language": "python",
   "name": "python3"
  },
  "language_info": {
   "codemirror_mode": {
    "name": "ipython",
    "version": 3
   },
   "file_extension": ".py",
   "mimetype": "text/x-python",
   "name": "python",
   "nbconvert_exporter": "python",
   "pygments_lexer": "ipython3",
   "version": "3.8.5"
  }
 },
 "nbformat": 4,
 "nbformat_minor": 5
}
