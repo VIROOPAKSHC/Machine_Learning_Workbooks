{
 "cells": [
  {
   "cell_type": "code",
   "execution_count": 1,
   "id": "6625bd45",
   "metadata": {},
   "outputs": [],
   "source": [
    "from sklearn.datasets import fetch_openml\n",
    "import numpy as np\n",
    "import pandas as pd"
   ]
  },
  {
   "cell_type": "code",
   "execution_count": 2,
   "id": "f958f886",
   "metadata": {},
   "outputs": [],
   "source": [
    "import matplotlib.pyplot as plt"
   ]
  },
  {
   "cell_type": "code",
   "execution_count": 3,
   "id": "9ad6dc3e",
   "metadata": {},
   "outputs": [],
   "source": [
    "data=fetch_openml(\"mnist_784\",version=1)"
   ]
  },
  {
   "cell_type": "code",
   "execution_count": 4,
   "id": "8a9d6b89",
   "metadata": {},
   "outputs": [
    {
     "data": {
      "text/plain": [
       "['DESCR',\n",
       " 'categories',\n",
       " 'data',\n",
       " 'details',\n",
       " 'feature_names',\n",
       " 'frame',\n",
       " 'target',\n",
       " 'target_names',\n",
       " 'url']"
      ]
     },
     "execution_count": 4,
     "metadata": {},
     "output_type": "execute_result"
    }
   ],
   "source": [
    "dir(data)"
   ]
  },
  {
   "cell_type": "code",
   "execution_count": 5,
   "id": "80abe2a9",
   "metadata": {},
   "outputs": [],
   "source": [
    "X=data.data\n",
    "y=data.target"
   ]
  },
  {
   "cell_type": "code",
   "execution_count": 6,
   "id": "e4b6510a",
   "metadata": {
    "scrolled": true
   },
   "outputs": [
    {
     "data": {
      "text/plain": [
       "((70000, 784), (70000,))"
      ]
     },
     "execution_count": 6,
     "metadata": {},
     "output_type": "execute_result"
    }
   ],
   "source": [
    "X.shape,y.shape"
   ]
  },
  {
   "cell_type": "code",
   "execution_count": 7,
   "id": "6f47a1cb",
   "metadata": {},
   "outputs": [],
   "source": [
    "\n",
    "X=X.to_numpy()"
   ]
  },
  {
   "cell_type": "code",
   "execution_count": 8,
   "id": "b0eca842",
   "metadata": {},
   "outputs": [],
   "source": [
    "\n",
    "y=y.to_numpy()"
   ]
  },
  {
   "cell_type": "code",
   "execution_count": 9,
   "id": "70adccbb",
   "metadata": {},
   "outputs": [
    {
     "data": {
      "text/plain": [
       "27.761479591836736"
      ]
     },
     "execution_count": 9,
     "metadata": {},
     "output_type": "execute_result"
    }
   ],
   "source": [
    "X[2022,:].mean()"
   ]
  },
  {
   "cell_type": "code",
   "execution_count": 10,
   "id": "a65687bc",
   "metadata": {},
   "outputs": [
    {
     "data": {
      "text/plain": [
       "(643,)"
      ]
     },
     "execution_count": 10,
     "metadata": {},
     "output_type": "execute_result"
    }
   ],
   "source": [
    "(np.where(X[2022,:]==0)[0]).shape"
   ]
  },
  {
   "cell_type": "code",
   "execution_count": 11,
   "id": "4d820983",
   "metadata": {},
   "outputs": [],
   "source": [
    "X_train=X[:10000,:]\n",
    "y_train=y[:10000]\n",
    "X_test=X[10000:12000,:]\n",
    "y_test=y[10000:12000]"
   ]
  },
  {
   "cell_type": "code",
   "execution_count": 12,
   "id": "158ef1e8",
   "metadata": {},
   "outputs": [
    {
     "data": {
      "text/plain": [
       "(10,)"
      ]
     },
     "execution_count": 12,
     "metadata": {},
     "output_type": "execute_result"
    }
   ],
   "source": [
    "np.unique(y_train).shape"
   ]
  },
  {
   "cell_type": "code",
   "execution_count": 13,
   "id": "de8738ef",
   "metadata": {},
   "outputs": [
    {
     "data": {
      "text/plain": [
       "((1014,), (978,))"
      ]
     },
     "execution_count": 13,
     "metadata": {},
     "output_type": "execute_result"
    }
   ],
   "source": [
    "np.where(y_train=='6')[0].shape,np.where(y_train=='9')[0].shape"
   ]
  },
  {
   "cell_type": "code",
   "execution_count": 14,
   "id": "f49494ee",
   "metadata": {},
   "outputs": [
    {
     "data": {
      "text/plain": [
       "array(['0', '1', '2', '3', '4', '5', '6', '7', '8', '9'], dtype=object)"
      ]
     },
     "execution_count": 14,
     "metadata": {},
     "output_type": "execute_result"
    }
   ],
   "source": [
    "np.unique(y_test)"
   ]
  },
  {
   "cell_type": "code",
   "execution_count": 15,
   "id": "a45232d0",
   "metadata": {},
   "outputs": [
    {
     "data": {
      "text/plain": [
       "count     2000\n",
       "unique      10\n",
       "top          1\n",
       "freq       224\n",
       "Name: class, dtype: object"
      ]
     },
     "execution_count": 15,
     "metadata": {},
     "output_type": "execute_result"
    }
   ],
   "source": [
    "data.target[10000:12000].describe()"
   ]
  },
  {
   "cell_type": "code",
   "execution_count": 16,
   "id": "50e3ced5",
   "metadata": {},
   "outputs": [],
   "source": [
    "def data_matrix_setting(X,y):\n",
    "    indices_6=np.where(y=='6')[0]\n",
    "    indices_9=np.where(y=='9')[0]\n",
    "#     print(X[indices_6,:].shape,X[indices_9,:].shape)\n",
    "    indx=np.concatenate((indices_6,indices_9),axis=0)\n",
    "    X_=X[indx,:]# np.zeros((len(indices_6)+len(indices_9),X.shape[1]))\n",
    "#     print(X_.shape)\n",
    "#     print(len(indices_6),X[indices_6,:].shape)\n",
    "#     print(X_[:,:].shape,\"HI\")\n",
    "#     X_[:len(indices_6),:]=X[indices_6,:]\n",
    "#     X_[:len(indices_9),:]=X[indices_9,:]\n",
    "    y_=np.concatenate((np.ones(len(indices_6)),-1*np.ones(len(indices_9))))# np.ones(len(indices_6)+len(indices_9))\n",
    "    assert X_.shape[0]==y_.shape[0]\n",
    "    return X_,y_"
   ]
  },
  {
   "cell_type": "code",
   "execution_count": 17,
   "id": "c84eb2ea",
   "metadata": {},
   "outputs": [],
   "source": [
    "x,y=data_matrix_setting(X_train,y_train)"
   ]
  },
  {
   "cell_type": "code",
   "execution_count": 18,
   "id": "f7c3cb34",
   "metadata": {},
   "outputs": [],
   "source": [
    "from sklearn.utils import shuffle"
   ]
  },
  {
   "cell_type": "code",
   "execution_count": 19,
   "id": "07ef23ca",
   "metadata": {},
   "outputs": [],
   "source": [
    "x_,y_=shuffle(x,y,random_state=1729)"
   ]
  },
  {
   "cell_type": "code",
   "execution_count": 20,
   "id": "0d1be806",
   "metadata": {},
   "outputs": [
    {
     "data": {
      "text/plain": [
       "((1992, 784), (1992,))"
      ]
     },
     "execution_count": 20,
     "metadata": {},
     "output_type": "execute_result"
    }
   ],
   "source": [
    "x_.shape,y_.shape"
   ]
  },
  {
   "cell_type": "code",
   "execution_count": 21,
   "id": "0ccda334",
   "metadata": {},
   "outputs": [
    {
     "data": {
      "text/plain": [
       "array([ 1., -1., -1.])"
      ]
     },
     "execution_count": 21,
     "metadata": {},
     "output_type": "execute_result"
    }
   ],
   "source": [
    "y_[:3]"
   ]
  },
  {
   "cell_type": "code",
   "execution_count": 22,
   "id": "0a16ad00",
   "metadata": {},
   "outputs": [],
   "source": [
    "from sklearn.linear_model import Perceptron\n",
    "clf=Perceptron(random_state=1729,alpha=1.0,max_iter=10,shuffle=False,fit_intercept=True,penalty=None)\n"
   ]
  },
  {
   "cell_type": "code",
   "execution_count": 23,
   "id": "160ec14d",
   "metadata": {},
   "outputs": [
    {
     "name": "stderr",
     "output_type": "stream",
     "text": [
      "C:\\Users\\kabali\\AppData\\Roaming\\Python\\Python38\\site-packages\\sklearn\\linear_model\\_stochastic_gradient.py:703: ConvergenceWarning: Maximum number of iteration reached before convergence. Consider increasing max_iter to improve the fit.\n",
      "  warnings.warn(\n"
     ]
    },
    {
     "data": {
      "text/plain": [
       "Perceptron(alpha=1.0, max_iter=10, random_state=1729, shuffle=False)"
      ]
     },
     "execution_count": 23,
     "metadata": {},
     "output_type": "execute_result"
    }
   ],
   "source": [
    "clf.fit(X_train,y_train)"
   ]
  },
  {
   "cell_type": "code",
   "execution_count": 24,
   "id": "c816865e",
   "metadata": {},
   "outputs": [
    {
     "name": "stderr",
     "output_type": "stream",
     "text": [
      "C:\\Users\\kabali\\AppData\\Roaming\\Python\\Python38\\site-packages\\sklearn\\linear_model\\_stochastic_gradient.py:703: ConvergenceWarning: Maximum number of iteration reached before convergence. Consider increasing max_iter to improve the fit.\n",
      "  warnings.warn(\n"
     ]
    },
    {
     "data": {
      "text/plain": [
       "Perceptron(alpha=1.0, max_iter=10, random_state=1729, shuffle=False)"
      ]
     },
     "execution_count": 24,
     "metadata": {},
     "output_type": "execute_result"
    }
   ],
   "source": [
    "clf.fit(x_,y_)"
   ]
  },
  {
   "cell_type": "code",
   "execution_count": 25,
   "id": "fa9ac9d3",
   "metadata": {},
   "outputs": [
    {
     "data": {
      "text/plain": [
       "605.0"
      ]
     },
     "execution_count": 25,
     "metadata": {},
     "output_type": "execute_result"
    }
   ],
   "source": [
    "clf.coef_[0,69]"
   ]
  },
  {
   "cell_type": "code",
   "execution_count": 26,
   "id": "b73b4735",
   "metadata": {},
   "outputs": [
    {
     "name": "stdout",
     "output_type": "stream",
     "text": [
      "-1.0\n",
      "-4.0\n",
      "-4.0\n",
      "-6.0\n",
      "-5.0\n"
     ]
    }
   ],
   "source": [
    "clf=Perceptron(random_state=1729,alpha=1.0,max_iter=1,shuffle=False,fit_intercept=True,penalty=None)\n",
    "for i in range(5):\n",
    "    clf.partial_fit(x_,y_,classes=np.unique(y_))\n",
    "    print(clf.intercept_[0])"
   ]
  },
  {
   "cell_type": "code",
   "execution_count": 27,
   "id": "3f3a5d1b",
   "metadata": {},
   "outputs": [],
   "source": [
    "#GRADED ASSIGNMENT 5\n",
    "def data_matrix_setting(X,y):\n",
    "    indices_5=np.where(y=='5')[0]\n",
    "    indices_3=np.where(y=='3')[0]\n",
    "    indx=np.concatenate((indices_5,indices_3),axis=0)\n",
    "    X_=X[indx,:]\n",
    "    y_=np.concatenate((np.ones(len(indices_5)),-1*np.ones(len(indices_3))))# np.ones(len(indices_6)+len(indices_9))\n",
    "    assert X_.shape[0]==y_.shape[0]\n",
    "    return X_,y_"
   ]
  },
  {
   "cell_type": "code",
   "execution_count": 28,
   "id": "2dd8665f",
   "metadata": {},
   "outputs": [],
   "source": [
    "X_,y_=data_matrix_setting(X_train,y_train)"
   ]
  },
  {
   "cell_type": "code",
   "execution_count": 29,
   "id": "7cf90a3a",
   "metadata": {},
   "outputs": [
    {
     "data": {
      "text/plain": [
       "Perceptron(eta0=1, max_iter=100, random_state=42)"
      ]
     },
     "execution_count": 29,
     "metadata": {},
     "output_type": "execute_result"
    }
   ],
   "source": [
    "clf=Perceptron(random_state=42,eta0=1,max_iter=100,shuffle=True,\n",
    "              fit_intercept=True,penalty=None)\n",
    "clf.fit(X_,y_)"
   ]
  },
  {
   "cell_type": "code",
   "execution_count": 30,
   "id": "108f7e94",
   "metadata": {},
   "outputs": [],
   "source": [
    "X__,y__=data_matrix_setting(X_test,y_test)"
   ]
  },
  {
   "cell_type": "code",
   "execution_count": 31,
   "id": "cfb5174c",
   "metadata": {},
   "outputs": [
    {
     "data": {
      "text/plain": [
       "1032"
      ]
     },
     "execution_count": 31,
     "metadata": {},
     "output_type": "execute_result"
    }
   ],
   "source": [
    "len(np.where(y_==-1)[0])"
   ]
  },
  {
   "cell_type": "code",
   "execution_count": 32,
   "id": "667b59c2",
   "metadata": {},
   "outputs": [
    {
     "data": {
      "text/plain": [
       "<sklearn.metrics._plot.confusion_matrix.ConfusionMatrixDisplay at 0x175e586b190>"
      ]
     },
     "execution_count": 32,
     "metadata": {},
     "output_type": "execute_result"
    },
    {
     "data": {
      "image/png": "[encoded data removed]",
      "text/plain": [
       "<Figure size 432x288 with 2 Axes>"
      ]
     },
     "metadata": {
      "needs_background": "light"
     },
     "output_type": "display_data"
    }
   ],
   "source": [
    "from sklearn.metrics import ConfusionMatrixDisplay\n",
    "ConfusionMatrixDisplay.from_predictions(y__,clf.predict(X__))"
   ]
  },
  {
   "cell_type": "code",
   "execution_count": 33,
   "id": "dde56bd2",
   "metadata": {},
   "outputs": [],
   "source": [
    "from sklearn.decomposition import PCA"
   ]
  },
  {
   "cell_type": "code",
   "execution_count": 34,
   "id": "a45c51b7",
   "metadata": {},
   "outputs": [],
   "source": [
    "pca=PCA(n_components=10,random_state=1)\n",
    "X_transform_=pca.fit(X_).transform(X_)"
   ]
  },
  {
   "cell_type": "code",
   "execution_count": 35,
   "id": "c9949d88",
   "metadata": {},
   "outputs": [],
   "source": [
    "X_transform__=pca.fit(X__).transform(X__)"
   ]
  },
  {
   "cell_type": "code",
   "execution_count": 36,
   "id": "4015ecb4",
   "metadata": {},
   "outputs": [
    {
     "data": {
      "text/plain": [
       "Perceptron(eta0=1, max_iter=100, random_state=42)"
      ]
     },
     "execution_count": 36,
     "metadata": {},
     "output_type": "execute_result"
    }
   ],
   "source": [
    "clf=Perceptron(random_state=42,eta0=1,max_iter=100,shuffle=True,\n",
    "              validation_fraction=0.1,fit_intercept=True,penalty=None,warm_start=False)\n",
    "clf.fit(X_transform_,y_)"
   ]
  },
  {
   "cell_type": "code",
   "execution_count": 37,
   "id": "06afae07",
   "metadata": {},
   "outputs": [
    {
     "data": {
      "text/plain": [
       "<sklearn.metrics._plot.confusion_matrix.ConfusionMatrixDisplay at 0x175e57c2520>"
      ]
     },
     "execution_count": 37,
     "metadata": {},
     "output_type": "execute_result"
    },
    {
     "data": {
      "image/png": "[encoded data removed]",
      "text/plain": [
       "<Figure size 432x288 with 2 Axes>"
      ]
     },
     "metadata": {
      "needs_background": "light"
     },
     "output_type": "display_data"
    }
   ],
   "source": [
    "ConfusionMatrixDisplay.from_predictions(y__,clf.predict(X_transform__))"
   ]
  },
  {
   "cell_type": "code",
   "execution_count": 38,
   "id": "e32412d9",
   "metadata": {},
   "outputs": [],
   "source": [
    "# PRACTICE ASSIGNMENT 6\n",
    "np.random.seed(42)"
   ]
  },
  {
   "cell_type": "code",
   "execution_count": 40,
   "id": "f772da27",
   "metadata": {},
   "outputs": [],
   "source": [
    "X=data.data\n",
    "y=data.target\n",
    "X=X.to_numpy()\n",
    "y=y.to_numpy()"
   ]
  },
  {
   "cell_type": "code",
   "execution_count": 41,
   "id": "64510f30",
   "metadata": {},
   "outputs": [],
   "source": [
    "from sklearn.model_selection import train_test_split\n",
    "X_train,X_test,y_train,y_test=train_test_split(X,y,test_size=0.3,shuffle=False)"
   ]
  },
  {
   "cell_type": "code",
   "execution_count": 42,
   "id": "0849be03",
   "metadata": {},
   "outputs": [
    {
     "data": {
      "text/plain": [
       "'6'"
      ]
     },
     "execution_count": 42,
     "metadata": {},
     "output_type": "execute_result"
    }
   ],
   "source": [
    "y_train[-1]"
   ]
  },
  {
   "cell_type": "code",
   "execution_count": 43,
   "id": "54426cbb",
   "metadata": {},
   "outputs": [],
   "source": [
    "indices_6=np.where(y_train=='6')[0]\n",
    "indices_9=np.where(y_train=='9')[0]\n",
    "indx=np.concatenate((indices_6,indices_9),axis=0)\n",
    "X_train_69=X_train[indx,:]\n",
    "y_train_69=np.concatenate((np.ones(len(indices_6)),np.zeros(len(indices_9))))# np.ones(len(indices_6)+len(indices_9))\n",
    "X_train_69,y_train_69=shuffle(X_train_69,y_train_69,random_state=1729)\n",
    "indices_6=np.where(y_test=='6')[0]\n",
    "indices_9=np.where(y_test=='9')[0]\n",
    "indx=np.concatenate((indices_6,indices_9),axis=0)\n",
    "X_test_69=X_train[indx,:]\n",
    "y_test_69=np.concatenate((np.ones(len(indices_6)),np.zeros(len(indices_9))))# np.ones(len(indices_6)+len(indices_9))\n",
    "X_test_69,y_test_69=shuffle(X_test_69,y_test_69,random_state=1729)"
   ]
  },
  {
   "cell_type": "code",
   "execution_count": 44,
   "id": "1bdf97b7",
   "metadata": {},
   "outputs": [
    {
     "data": {
      "text/plain": [
       "4855.0"
      ]
     },
     "execution_count": 44,
     "metadata": {},
     "output_type": "execute_result"
    }
   ],
   "source": [
    "np.sum(y_train_69)"
   ]
  },
  {
   "cell_type": "code",
   "execution_count": 45,
   "id": "d9c56c25",
   "metadata": {},
   "outputs": [
    {
     "data": {
      "text/plain": [
       "2021.0"
      ]
     },
     "execution_count": 45,
     "metadata": {},
     "output_type": "execute_result"
    }
   ],
   "source": [
    "y_test_69.sum()"
   ]
  },
  {
   "cell_type": "code",
   "execution_count": 46,
   "id": "0c6455f3",
   "metadata": {},
   "outputs": [],
   "source": [
    "from sklearn.preprocessing import StandardScaler\n",
    "scaler=StandardScaler()\n",
    "x_train_69Tf=scaler.fit(X_train_69).transform(X_train_69)"
   ]
  },
  {
   "cell_type": "code",
   "execution_count": 47,
   "id": "c7cd615b",
   "metadata": {},
   "outputs": [
    {
     "data": {
      "text/plain": [
       "0.08128379559427823"
      ]
     },
     "execution_count": 47,
     "metadata": {},
     "output_type": "execute_result"
    }
   ],
   "source": [
    "x_train_69Tf[0,:].mean()"
   ]
  },
  {
   "cell_type": "code",
   "execution_count": 48,
   "id": "5916819e",
   "metadata": {},
   "outputs": [
    {
     "data": {
      "text/plain": [
       "0.0"
      ]
     },
     "execution_count": 48,
     "metadata": {},
     "output_type": "execute_result"
    }
   ],
   "source": [
    "x_train_69Tf[:,0].mean()"
   ]
  },
  {
   "cell_type": "code",
   "execution_count": 49,
   "id": "a33df432",
   "metadata": {},
   "outputs": [
    {
     "data": {
      "text/plain": [
       "0.7358823226037738"
      ]
     },
     "execution_count": 49,
     "metadata": {},
     "output_type": "execute_result"
    }
   ],
   "source": [
    "np.std(x_train_69Tf[0,:])"
   ]
  },
  {
   "cell_type": "code",
   "execution_count": 50,
   "id": "ee240951",
   "metadata": {},
   "outputs": [
    {
     "data": {
      "text/plain": [
       "0.0"
      ]
     },
     "execution_count": 50,
     "metadata": {},
     "output_type": "execute_result"
    }
   ],
   "source": [
    "np.std(x_train_69Tf[:,0])"
   ]
  },
  {
   "cell_type": "code",
   "execution_count": 51,
   "id": "b5f111aa",
   "metadata": {},
   "outputs": [],
   "source": [
    "from sklearn.linear_model import SGDClassifier\n",
    "?SGDClassifier"
   ]
  },
  {
   "cell_type": "code",
   "execution_count": null,
   "id": "2a58785d",
   "metadata": {},
   "outputs": [],
   "source": []
  },
  {
   "cell_type": "code",
   "execution_count": 52,
   "id": "506f6b60",
   "metadata": {},
   "outputs": [],
   "source": [
    "from sklearn.metrics import log_loss\n",
    "from sklearn.linear_model import SGDClassifier\n",
    "l=[]\n",
    "sgd=SGDClassifier(loss='log',penalty=None,random_state=10,max_iter=1,eta0=0.01)\n",
    "for i in range(10):    \n",
    "    sgd.partial_fit(x_train_69Tf,y_train_69,classes=np.unique(y_train_69))\n",
    "    l.append(log_loss(y_train_69,sgd.predict(x_train_69Tf)))"
   ]
  },
  {
   "cell_type": "code",
   "execution_count": 53,
   "id": "de028a31",
   "metadata": {},
   "outputs": [
    {
     "data": {
      "text/plain": [
       "[0.04252720237261636,\n",
       " 0.035439335310513805,\n",
       " 0.021263683229960455,\n",
       " 0.021263683229960455,\n",
       " 0.024807657782837625,\n",
       " 0.021263683229960455,\n",
       " 0.01771970867708329,\n",
       " 0.01771970867708329,\n",
       " 0.01771970867708329,\n",
       " 0.01771970867708329]"
      ]
     },
     "execution_count": 53,
     "metadata": {},
     "output_type": "execute_result"
    }
   ],
   "source": [
    "l"
   ]
  },
  {
   "cell_type": "code",
   "execution_count": 54,
   "id": "cdf390b9",
   "metadata": {},
   "outputs": [
    {
     "data": {
      "text/plain": [
       "[<matplotlib.lines.Line2D at 0x176628323d0>]"
      ]
     },
     "execution_count": 54,
     "metadata": {},
     "output_type": "execute_result"
    },
    {
     "data": {
      "image/png": "[encoded data removed]",
      "text/plain": [
       "<Figure size 432x288 with 1 Axes>"
      ]
     },
     "metadata": {
      "needs_background": "light"
     },
     "output_type": "display_data"
    }
   ],
   "source": [
    "plt.plot(range(10),l)"
   ]
  },
  {
   "cell_type": "code",
   "execution_count": 55,
   "id": "c0ee7cdf",
   "metadata": {},
   "outputs": [],
   "source": [
    "from sklearn.metrics import log_loss\n",
    "from sklearn.linear_model import SGDClassifier\n",
    "l=[]\n",
    "sgd=SGDClassifier(penalty='l2',loss='log',alpha=0,learning_rate='constant',random_state=10,max_iter=1,eta0=0.000001,warm_start=True)\n",
    "for i in range(10):    \n",
    "    sgd.partial_fit(X_train_69,y_train_69,classes=np.unique(y_train_69))\n",
    "    l.append(log_loss(y_train_69,sgd.predict(X_train_69)))"
   ]
  },
  {
   "cell_type": "code",
   "execution_count": 56,
   "id": "88a3eb68",
   "metadata": {},
   "outputs": [
    {
     "data": {
      "text/plain": [
       "[<matplotlib.lines.Line2D at 0x176629cf7c0>]"
      ]
     },
     "execution_count": 56,
     "metadata": {},
     "output_type": "execute_result"
    },
    {
     "data": {
      "image/png": "[encoded data removed]",
      "text/plain": [
       "<Figure size 432x288 with 1 Axes>"
      ]
     },
     "metadata": {
      "needs_background": "light"
     },
     "output_type": "display_data"
    }
   ],
   "source": [
    "plt.plot(range(10),l)"
   ]
  },
  {
   "cell_type": "code",
   "execution_count": 57,
   "id": "f5b112ee",
   "metadata": {},
   "outputs": [],
   "source": [
    "from sklearn.metrics import log_loss\n",
    "from sklearn.linear_model import SGDClassifier\n",
    "l=[]\n",
    "sgd=SGDClassifier(penalty='l2',loss='log',alpha=0,learning_rate='constant',random_state=10,max_iter=1,eta0=0.01,warm_start=True)\n",
    "for i in range(10):    \n",
    "    sgd.partial_fit(X_train_69,y_train_69,classes=np.unique(y_train_69))\n",
    "    l.append(log_loss(y_train_69,sgd.predict(X_train_69)))"
   ]
  },
  {
   "cell_type": "code",
   "execution_count": 58,
   "id": "2f846990",
   "metadata": {},
   "outputs": [
    {
     "data": {
      "text/plain": [
       "[<matplotlib.lines.Line2D at 0x17662d31ac0>]"
      ]
     },
     "execution_count": 58,
     "metadata": {},
     "output_type": "execute_result"
    },
    {
     "data": {
      "image/png": "[encoded data removed]",
      "text/plain": [
       "<Figure size 432x288 with 1 Axes>"
      ]
     },
     "metadata": {
      "needs_background": "light"
     },
     "output_type": "display_data"
    }
   ],
   "source": [
    "plt.plot(range(10),l)"
   ]
  },
  {
   "cell_type": "code",
   "execution_count": 59,
   "id": "69eb78cc",
   "metadata": {},
   "outputs": [
    {
     "data": {
      "text/plain": [
       "[<matplotlib.lines.Line2D at 0x17662ed2dc0>]"
      ]
     },
     "execution_count": 59,
     "metadata": {},
     "output_type": "execute_result"
    },
    {
     "data": {
      "image/png": "[encoded data removed]",
      "text/plain": [
       "<Figure size 432x288 with 1 Axes>"
      ]
     },
     "metadata": {
      "needs_background": "light"
     },
     "output_type": "display_data"
    }
   ],
   "source": [
    "from sklearn.linear_model import SGDClassifier\n",
    "sgd=SGDClassifier(loss='log',penalty='l2',alpha=0,random_state=10,\n",
    "                 max_iter=1,warm_start=True,learning_rate='constant',eta0=0.01)\n",
    "l=[]\n",
    "for i in range(10):\n",
    "    sgd.partial_fit(X_train_69,y_train_69,classes=np.unique(y_train_69))\n",
    "    l.append(log_loss(y_train_69,sgd.predict(X_train_69)))\n",
    "plt.plot(np.arange(10),l)"
   ]
  },
  {
   "cell_type": "code",
   "execution_count": 60,
   "id": "bf8eb4b8",
   "metadata": {},
   "outputs": [
    {
     "data": {
      "text/plain": [
       "[<matplotlib.lines.Line2D at 0x17580f81970>]"
      ]
     },
     "execution_count": 60,
     "metadata": {},
     "output_type": "execute_result"
    },
    {
     "data": {
      "image/png": "[encoded data removed]",
      "text/plain": [
       "<Figure size 432x288 with 1 Axes>"
      ]
     },
     "metadata": {
      "needs_background": "light"
     },
     "output_type": "display_data"
    }
   ],
   "source": [
    "from sklearn.linear_model import SGDClassifier\n",
    "sgd=SGDClassifier(loss='log',penalty='l2',alpha=0,random_state=10,\n",
    "                 max_iter=1,warm_start=True,learning_rate='constant',eta0=0.000001)\n",
    "l=[]\n",
    "for i in range(10):\n",
    "    sgd.partial_fit(X_train_69,y_train_69,classes=np.unique(y_train_69))\n",
    "    l.append(log_loss(y_train_69,sgd.predict(X_train_69)))\n",
    "plt.plot(np.arange(10),l)"
   ]
  },
  {
   "cell_type": "code",
   "execution_count": 61,
   "id": "6ebbf09d",
   "metadata": {},
   "outputs": [
    {
     "data": {
      "text/plain": [
       "[<matplotlib.lines.Line2D at 0x17580fed580>]"
      ]
     },
     "execution_count": 61,
     "metadata": {},
     "output_type": "execute_result"
    },
    {
     "data": {
      "image/png": "[encoded data removed]",
      "text/plain": [
       "<Figure size 432x288 with 1 Axes>"
      ]
     },
     "metadata": {
      "needs_background": "light"
     },
     "output_type": "display_data"
    }
   ],
   "source": [
    "from sklearn.linear_model import SGDClassifier\n",
    "sgd=SGDClassifier(loss='log',penalty='l2',alpha=0,random_state=10,\n",
    "                 max_iter=1,warm_start=True,learning_rate='constant',eta0=0.01)\n",
    "l=[]\n",
    "for i in range(10):\n",
    "    sgd.partial_fit(x_train_69Tf,y_train_69,classes=np.unique(y_train_69))\n",
    "    l.append(log_loss(y_train_69,sgd.predict(x_train_69Tf)))\n",
    "plt.plot(np.arange(10),l)"
   ]
  },
  {
   "cell_type": "code",
   "execution_count": 76,
   "id": "8a46e1c1",
   "metadata": {},
   "outputs": [
    {
     "data": {
      "text/plain": [
       "[<matplotlib.lines.Line2D at 0x1758896ce50>]"
      ]
     },
     "execution_count": 76,
     "metadata": {},
     "output_type": "execute_result"
    },
    {
     "data": {
      "image/png": "[encoded data removed]",
      "text/plain": [
       "<Figure size 432x288 with 1 Axes>"
      ]
     },
     "metadata": {
      "needs_background": "light"
     },
     "output_type": "display_data"
    }
   ],
   "source": [
    "# GRADED ASSIGNMENT 6\n",
    "from sklearn.linear_model import SGDClassifier\n",
    "# MODEL A\n",
    "sgd=SGDClassifier(loss=\"log\",penalty='l2',alpha=0,validation_fraction=0.1,\n",
    "                 warm_start=True,random_state=10,max_iter=1,eta0=0.01,learning_rate='constant')\n",
    "l=[]\n",
    "for i in range(30):\n",
    "    sgd.partial_fit(X_train_69,y_train_69,classes=np.unique(y_train_69))\n",
    "    l.append(log_loss(y_train_69,sgd.predict_proba(X_train_69)))\n",
    "\n",
    "plt.title(\"MODEL A\")    \n",
    "plt.plot(range(30),l)\n"
   ]
  },
  {
   "cell_type": "code",
   "execution_count": 72,
   "id": "500598fb",
   "metadata": {
    "scrolled": true
   },
   "outputs": [
    {
     "name": "stderr",
     "output_type": "stream",
     "text": [
      "C:\\Users\\kabali\\AppData\\Roaming\\Python\\Python38\\site-packages\\sklearn\\linear_model\\_stochastic_gradient.py:703: ConvergenceWarning: Maximum number of iteration reached before convergence. Consider increasing max_iter to improve the fit.\n",
      "  warnings.warn(\n",
      "C:\\Users\\kabali\\AppData\\Roaming\\Python\\Python38\\site-packages\\sklearn\\linear_model\\_stochastic_gradient.py:703: ConvergenceWarning: Maximum number of iteration reached before convergence. Consider increasing max_iter to improve the fit.\n",
      "  warnings.warn(\n",
      "C:\\Users\\kabali\\AppData\\Roaming\\Python\\Python38\\site-packages\\sklearn\\linear_model\\_stochastic_gradient.py:703: ConvergenceWarning: Maximum number of iteration reached before convergence. Consider increasing max_iter to improve the fit.\n",
      "  warnings.warn(\n",
      "C:\\Users\\kabali\\AppData\\Roaming\\Python\\Python38\\site-packages\\sklearn\\linear_model\\_stochastic_gradient.py:703: ConvergenceWarning: Maximum number of iteration reached before convergence. Consider increasing max_iter to improve the fit.\n",
      "  warnings.warn(\n",
      "C:\\Users\\kabali\\AppData\\Roaming\\Python\\Python38\\site-packages\\sklearn\\linear_model\\_stochastic_gradient.py:703: ConvergenceWarning: Maximum number of iteration reached before convergence. Consider increasing max_iter to improve the fit.\n",
      "  warnings.warn(\n",
      "C:\\Users\\kabali\\AppData\\Roaming\\Python\\Python38\\site-packages\\sklearn\\linear_model\\_stochastic_gradient.py:703: ConvergenceWarning: Maximum number of iteration reached before convergence. Consider increasing max_iter to improve the fit.\n",
      "  warnings.warn(\n",
      "C:\\Users\\kabali\\AppData\\Roaming\\Python\\Python38\\site-packages\\sklearn\\linear_model\\_stochastic_gradient.py:703: ConvergenceWarning: Maximum number of iteration reached before convergence. Consider increasing max_iter to improve the fit.\n",
      "  warnings.warn(\n",
      "C:\\Users\\kabali\\AppData\\Roaming\\Python\\Python38\\site-packages\\sklearn\\linear_model\\_stochastic_gradient.py:703: ConvergenceWarning: Maximum number of iteration reached before convergence. Consider increasing max_iter to improve the fit.\n",
      "  warnings.warn(\n",
      "C:\\Users\\kabali\\AppData\\Roaming\\Python\\Python38\\site-packages\\sklearn\\linear_model\\_stochastic_gradient.py:703: ConvergenceWarning: Maximum number of iteration reached before convergence. Consider increasing max_iter to improve the fit.\n",
      "  warnings.warn(\n",
      "C:\\Users\\kabali\\AppData\\Roaming\\Python\\Python38\\site-packages\\sklearn\\linear_model\\_stochastic_gradient.py:703: ConvergenceWarning: Maximum number of iteration reached before convergence. Consider increasing max_iter to improve the fit.\n",
      "  warnings.warn(\n",
      "C:\\Users\\kabali\\AppData\\Roaming\\Python\\Python38\\site-packages\\sklearn\\linear_model\\_stochastic_gradient.py:703: ConvergenceWarning: Maximum number of iteration reached before convergence. Consider increasing max_iter to improve the fit.\n",
      "  warnings.warn(\n",
      "C:\\Users\\kabali\\AppData\\Roaming\\Python\\Python38\\site-packages\\sklearn\\linear_model\\_stochastic_gradient.py:703: ConvergenceWarning: Maximum number of iteration reached before convergence. Consider increasing max_iter to improve the fit.\n",
      "  warnings.warn(\n",
      "C:\\Users\\kabali\\AppData\\Roaming\\Python\\Python38\\site-packages\\sklearn\\linear_model\\_stochastic_gradient.py:703: ConvergenceWarning: Maximum number of iteration reached before convergence. Consider increasing max_iter to improve the fit.\n",
      "  warnings.warn(\n",
      "C:\\Users\\kabali\\AppData\\Roaming\\Python\\Python38\\site-packages\\sklearn\\linear_model\\_stochastic_gradient.py:703: ConvergenceWarning: Maximum number of iteration reached before convergence. Consider increasing max_iter to improve the fit.\n",
      "  warnings.warn(\n",
      "C:\\Users\\kabali\\AppData\\Roaming\\Python\\Python38\\site-packages\\sklearn\\linear_model\\_stochastic_gradient.py:703: ConvergenceWarning: Maximum number of iteration reached before convergence. Consider increasing max_iter to improve the fit.\n",
      "  warnings.warn(\n",
      "C:\\Users\\kabali\\AppData\\Roaming\\Python\\Python38\\site-packages\\sklearn\\linear_model\\_stochastic_gradient.py:703: ConvergenceWarning: Maximum number of iteration reached before convergence. Consider increasing max_iter to improve the fit.\n",
      "  warnings.warn(\n",
      "C:\\Users\\kabali\\AppData\\Roaming\\Python\\Python38\\site-packages\\sklearn\\linear_model\\_stochastic_gradient.py:703: ConvergenceWarning: Maximum number of iteration reached before convergence. Consider increasing max_iter to improve the fit.\n",
      "  warnings.warn(\n",
      "C:\\Users\\kabali\\AppData\\Roaming\\Python\\Python38\\site-packages\\sklearn\\linear_model\\_stochastic_gradient.py:703: ConvergenceWarning: Maximum number of iteration reached before convergence. Consider increasing max_iter to improve the fit.\n",
      "  warnings.warn(\n",
      "C:\\Users\\kabali\\AppData\\Roaming\\Python\\Python38\\site-packages\\sklearn\\linear_model\\_stochastic_gradient.py:703: ConvergenceWarning: Maximum number of iteration reached before convergence. Consider increasing max_iter to improve the fit.\n",
      "  warnings.warn(\n",
      "C:\\Users\\kabali\\AppData\\Roaming\\Python\\Python38\\site-packages\\sklearn\\linear_model\\_stochastic_gradient.py:703: ConvergenceWarning: Maximum number of iteration reached before convergence. Consider increasing max_iter to improve the fit.\n",
      "  warnings.warn(\n",
      "C:\\Users\\kabali\\AppData\\Roaming\\Python\\Python38\\site-packages\\sklearn\\linear_model\\_stochastic_gradient.py:703: ConvergenceWarning: Maximum number of iteration reached before convergence. Consider increasing max_iter to improve the fit.\n",
      "  warnings.warn(\n",
      "C:\\Users\\kabali\\AppData\\Roaming\\Python\\Python38\\site-packages\\sklearn\\linear_model\\_stochastic_gradient.py:703: ConvergenceWarning: Maximum number of iteration reached before convergence. Consider increasing max_iter to improve the fit.\n",
      "  warnings.warn(\n",
      "C:\\Users\\kabali\\AppData\\Roaming\\Python\\Python38\\site-packages\\sklearn\\linear_model\\_stochastic_gradient.py:703: ConvergenceWarning: Maximum number of iteration reached before convergence. Consider increasing max_iter to improve the fit.\n",
      "  warnings.warn(\n",
      "C:\\Users\\kabali\\AppData\\Roaming\\Python\\Python38\\site-packages\\sklearn\\linear_model\\_stochastic_gradient.py:703: ConvergenceWarning: Maximum number of iteration reached before convergence. Consider increasing max_iter to improve the fit.\n",
      "  warnings.warn(\n",
      "C:\\Users\\kabali\\AppData\\Roaming\\Python\\Python38\\site-packages\\sklearn\\linear_model\\_stochastic_gradient.py:703: ConvergenceWarning: Maximum number of iteration reached before convergence. Consider increasing max_iter to improve the fit.\n",
      "  warnings.warn(\n",
      "C:\\Users\\kabali\\AppData\\Roaming\\Python\\Python38\\site-packages\\sklearn\\linear_model\\_stochastic_gradient.py:703: ConvergenceWarning: Maximum number of iteration reached before convergence. Consider increasing max_iter to improve the fit.\n",
      "  warnings.warn(\n",
      "C:\\Users\\kabali\\AppData\\Roaming\\Python\\Python38\\site-packages\\sklearn\\linear_model\\_stochastic_gradient.py:703: ConvergenceWarning: Maximum number of iteration reached before convergence. Consider increasing max_iter to improve the fit.\n",
      "  warnings.warn(\n",
      "C:\\Users\\kabali\\AppData\\Roaming\\Python\\Python38\\site-packages\\sklearn\\linear_model\\_stochastic_gradient.py:703: ConvergenceWarning: Maximum number of iteration reached before convergence. Consider increasing max_iter to improve the fit.\n",
      "  warnings.warn(\n",
      "C:\\Users\\kabali\\AppData\\Roaming\\Python\\Python38\\site-packages\\sklearn\\linear_model\\_stochastic_gradient.py:703: ConvergenceWarning: Maximum number of iteration reached before convergence. Consider increasing max_iter to improve the fit.\n",
      "  warnings.warn(\n",
      "C:\\Users\\kabali\\AppData\\Roaming\\Python\\Python38\\site-packages\\sklearn\\linear_model\\_stochastic_gradient.py:703: ConvergenceWarning: Maximum number of iteration reached before convergence. Consider increasing max_iter to improve the fit.\n",
      "  warnings.warn(\n"
     ]
    },
    {
     "data": {
      "text/plain": [
       "[<matplotlib.lines.Line2D at 0x175849316d0>]"
      ]
     },
     "execution_count": 72,
     "metadata": {},
     "output_type": "execute_result"
    },
    {
     "data": {
      "image/png": "[encoded data removed]",
      "text/plain": [
       "<Figure size 432x288 with 1 Axes>"
      ]
     },
     "metadata": {
      "needs_background": "light"
     },
     "output_type": "display_data"
    }
   ],
   "source": [
    "from sklearn.pipeline import make_pipeline\n",
    "from sklearn.linear_model import SGDClassifier\n",
    "# MODEL B\n",
    "sgd=SGDClassifier(loss=\"log\",penalty='l2',alpha=0,\n",
    "                 warm_start=True,random_state=10,max_iter=1,eta0=0.000001,learning_rate='constant')\n",
    "l=[]\n",
    "pipe=make_pipeline(sgd)\n",
    "for i in range(30):\n",
    "    pipe.fit(X_train_69,y_train_69)\n",
    "    l.append(log_loss(y_train_69,pipe.predict_proba(X_train_69)))\n",
    "\n",
    "plt.title(\"MODEL B\")    \n",
    "plt.plot(range(30),l)\n"
   ]
  },
  {
   "cell_type": "code",
   "execution_count": 74,
   "id": "35659e64",
   "metadata": {
    "scrolled": true
   },
   "outputs": [
    {
     "data": {
      "text/plain": [
       "[<matplotlib.lines.Line2D at 0x175892c4310>]"
      ]
     },
     "execution_count": 74,
     "metadata": {},
     "output_type": "execute_result"
    },
    {
     "data": {
      "image/png": "[encoded data removed]",
      "text/plain": [
       "<Figure size 432x288 with 1 Axes>"
      ]
     },
     "metadata": {
      "needs_background": "light"
     },
     "output_type": "display_data"
    }
   ],
   "source": [
    "from sklearn.linear_model import SGDClassifier\n",
    "# MODEL B\n",
    "sgd=SGDClassifier(loss=\"log\",penalty='l2',alpha=0,\n",
    "                 warm_start=True,random_state=10,max_iter=1,eta0=0.000001,learning_rate='constant')\n",
    "l=[]\n",
    "for i in range(30):\n",
    "    sgd.partial_fit(X_train_69,y_train_69,classes=np.unique(y_train_69))\n",
    "    l.append(log_loss(y_train_69,sgd.predict_proba(X_train_69)))\n",
    "\n",
    "plt.title(\"MODEL B\")    \n",
    "plt.plot(range(30),l)\n"
   ]
  },
  {
   "cell_type": "code",
   "execution_count": 75,
   "id": "002ae17b",
   "metadata": {
    "scrolled": true
   },
   "outputs": [
    {
     "name": "stderr",
     "output_type": "stream",
     "text": [
      "C:\\Users\\kabali\\AppData\\Roaming\\Python\\Python38\\site-packages\\sklearn\\linear_model\\_stochastic_gradient.py:703: ConvergenceWarning: Maximum number of iteration reached before convergence. Consider increasing max_iter to improve the fit.\n",
      "  warnings.warn(\n",
      "C:\\Users\\kabali\\AppData\\Roaming\\Python\\Python38\\site-packages\\sklearn\\linear_model\\_stochastic_gradient.py:703: ConvergenceWarning: Maximum number of iteration reached before convergence. Consider increasing max_iter to improve the fit.\n",
      "  warnings.warn(\n",
      "C:\\Users\\kabali\\AppData\\Roaming\\Python\\Python38\\site-packages\\sklearn\\linear_model\\_stochastic_gradient.py:703: ConvergenceWarning: Maximum number of iteration reached before convergence. Consider increasing max_iter to improve the fit.\n",
      "  warnings.warn(\n",
      "C:\\Users\\kabali\\AppData\\Roaming\\Python\\Python38\\site-packages\\sklearn\\linear_model\\_stochastic_gradient.py:703: ConvergenceWarning: Maximum number of iteration reached before convergence. Consider increasing max_iter to improve the fit.\n",
      "  warnings.warn(\n",
      "C:\\Users\\kabali\\AppData\\Roaming\\Python\\Python38\\site-packages\\sklearn\\linear_model\\_stochastic_gradient.py:703: ConvergenceWarning: Maximum number of iteration reached before convergence. Consider increasing max_iter to improve the fit.\n",
      "  warnings.warn(\n",
      "C:\\Users\\kabali\\AppData\\Roaming\\Python\\Python38\\site-packages\\sklearn\\linear_model\\_stochastic_gradient.py:703: ConvergenceWarning: Maximum number of iteration reached before convergence. Consider increasing max_iter to improve the fit.\n",
      "  warnings.warn(\n",
      "C:\\Users\\kabali\\AppData\\Roaming\\Python\\Python38\\site-packages\\sklearn\\linear_model\\_stochastic_gradient.py:703: ConvergenceWarning: Maximum number of iteration reached before convergence. Consider increasing max_iter to improve the fit.\n",
      "  warnings.warn(\n",
      "C:\\Users\\kabali\\AppData\\Roaming\\Python\\Python38\\site-packages\\sklearn\\linear_model\\_stochastic_gradient.py:703: ConvergenceWarning: Maximum number of iteration reached before convergence. Consider increasing max_iter to improve the fit.\n",
      "  warnings.warn(\n",
      "C:\\Users\\kabali\\AppData\\Roaming\\Python\\Python38\\site-packages\\sklearn\\linear_model\\_stochastic_gradient.py:703: ConvergenceWarning: Maximum number of iteration reached before convergence. Consider increasing max_iter to improve the fit.\n",
      "  warnings.warn(\n",
      "C:\\Users\\kabali\\AppData\\Roaming\\Python\\Python38\\site-packages\\sklearn\\linear_model\\_stochastic_gradient.py:703: ConvergenceWarning: Maximum number of iteration reached before convergence. Consider increasing max_iter to improve the fit.\n",
      "  warnings.warn(\n",
      "C:\\Users\\kabali\\AppData\\Roaming\\Python\\Python38\\site-packages\\sklearn\\linear_model\\_stochastic_gradient.py:703: ConvergenceWarning: Maximum number of iteration reached before convergence. Consider increasing max_iter to improve the fit.\n",
      "  warnings.warn(\n",
      "C:\\Users\\kabali\\AppData\\Roaming\\Python\\Python38\\site-packages\\sklearn\\linear_model\\_stochastic_gradient.py:703: ConvergenceWarning: Maximum number of iteration reached before convergence. Consider increasing max_iter to improve the fit.\n",
      "  warnings.warn(\n",
      "C:\\Users\\kabali\\AppData\\Roaming\\Python\\Python38\\site-packages\\sklearn\\linear_model\\_stochastic_gradient.py:703: ConvergenceWarning: Maximum number of iteration reached before convergence. Consider increasing max_iter to improve the fit.\n",
      "  warnings.warn(\n",
      "C:\\Users\\kabali\\AppData\\Roaming\\Python\\Python38\\site-packages\\sklearn\\linear_model\\_stochastic_gradient.py:703: ConvergenceWarning: Maximum number of iteration reached before convergence. Consider increasing max_iter to improve the fit.\n",
      "  warnings.warn(\n",
      "C:\\Users\\kabali\\AppData\\Roaming\\Python\\Python38\\site-packages\\sklearn\\linear_model\\_stochastic_gradient.py:703: ConvergenceWarning: Maximum number of iteration reached before convergence. Consider increasing max_iter to improve the fit.\n",
      "  warnings.warn(\n",
      "C:\\Users\\kabali\\AppData\\Roaming\\Python\\Python38\\site-packages\\sklearn\\linear_model\\_stochastic_gradient.py:703: ConvergenceWarning: Maximum number of iteration reached before convergence. Consider increasing max_iter to improve the fit.\n",
      "  warnings.warn(\n",
      "C:\\Users\\kabali\\AppData\\Roaming\\Python\\Python38\\site-packages\\sklearn\\linear_model\\_stochastic_gradient.py:703: ConvergenceWarning: Maximum number of iteration reached before convergence. Consider increasing max_iter to improve the fit.\n",
      "  warnings.warn(\n",
      "C:\\Users\\kabali\\AppData\\Roaming\\Python\\Python38\\site-packages\\sklearn\\linear_model\\_stochastic_gradient.py:703: ConvergenceWarning: Maximum number of iteration reached before convergence. Consider increasing max_iter to improve the fit.\n",
      "  warnings.warn(\n",
      "C:\\Users\\kabali\\AppData\\Roaming\\Python\\Python38\\site-packages\\sklearn\\linear_model\\_stochastic_gradient.py:703: ConvergenceWarning: Maximum number of iteration reached before convergence. Consider increasing max_iter to improve the fit.\n",
      "  warnings.warn(\n",
      "C:\\Users\\kabali\\AppData\\Roaming\\Python\\Python38\\site-packages\\sklearn\\linear_model\\_stochastic_gradient.py:703: ConvergenceWarning: Maximum number of iteration reached before convergence. Consider increasing max_iter to improve the fit.\n",
      "  warnings.warn(\n",
      "C:\\Users\\kabali\\AppData\\Roaming\\Python\\Python38\\site-packages\\sklearn\\linear_model\\_stochastic_gradient.py:703: ConvergenceWarning: Maximum number of iteration reached before convergence. Consider increasing max_iter to improve the fit.\n",
      "  warnings.warn(\n",
      "C:\\Users\\kabali\\AppData\\Roaming\\Python\\Python38\\site-packages\\sklearn\\linear_model\\_stochastic_gradient.py:703: ConvergenceWarning: Maximum number of iteration reached before convergence. Consider increasing max_iter to improve the fit.\n",
      "  warnings.warn(\n",
      "C:\\Users\\kabali\\AppData\\Roaming\\Python\\Python38\\site-packages\\sklearn\\linear_model\\_stochastic_gradient.py:703: ConvergenceWarning: Maximum number of iteration reached before convergence. Consider increasing max_iter to improve the fit.\n",
      "  warnings.warn(\n",
      "C:\\Users\\kabali\\AppData\\Roaming\\Python\\Python38\\site-packages\\sklearn\\linear_model\\_stochastic_gradient.py:703: ConvergenceWarning: Maximum number of iteration reached before convergence. Consider increasing max_iter to improve the fit.\n",
      "  warnings.warn(\n",
      "C:\\Users\\kabali\\AppData\\Roaming\\Python\\Python38\\site-packages\\sklearn\\linear_model\\_stochastic_gradient.py:703: ConvergenceWarning: Maximum number of iteration reached before convergence. Consider increasing max_iter to improve the fit.\n",
      "  warnings.warn(\n",
      "C:\\Users\\kabali\\AppData\\Roaming\\Python\\Python38\\site-packages\\sklearn\\linear_model\\_stochastic_gradient.py:703: ConvergenceWarning: Maximum number of iteration reached before convergence. Consider increasing max_iter to improve the fit.\n",
      "  warnings.warn(\n",
      "C:\\Users\\kabali\\AppData\\Roaming\\Python\\Python38\\site-packages\\sklearn\\linear_model\\_stochastic_gradient.py:703: ConvergenceWarning: Maximum number of iteration reached before convergence. Consider increasing max_iter to improve the fit.\n",
      "  warnings.warn(\n",
      "C:\\Users\\kabali\\AppData\\Roaming\\Python\\Python38\\site-packages\\sklearn\\linear_model\\_stochastic_gradient.py:703: ConvergenceWarning: Maximum number of iteration reached before convergence. Consider increasing max_iter to improve the fit.\n",
      "  warnings.warn(\n",
      "C:\\Users\\kabali\\AppData\\Roaming\\Python\\Python38\\site-packages\\sklearn\\linear_model\\_stochastic_gradient.py:703: ConvergenceWarning: Maximum number of iteration reached before convergence. Consider increasing max_iter to improve the fit.\n",
      "  warnings.warn(\n",
      "C:\\Users\\kabali\\AppData\\Roaming\\Python\\Python38\\site-packages\\sklearn\\linear_model\\_stochastic_gradient.py:703: ConvergenceWarning: Maximum number of iteration reached before convergence. Consider increasing max_iter to improve the fit.\n",
      "  warnings.warn(\n"
     ]
    },
    {
     "data": {
      "text/plain": [
       "[<matplotlib.lines.Line2D at 0x17588b524f0>]"
      ]
     },
     "execution_count": 75,
     "metadata": {},
     "output_type": "execute_result"
    },
    {
     "data": {
      "image/png": "[encoded data removed]",
      "text/plain": [
       "<Figure size 432x288 with 1 Axes>"
      ]
     },
     "metadata": {
      "needs_background": "light"
     },
     "output_type": "display_data"
    }
   ],
   "source": [
    "from sklearn.pipeline import make_pipeline\n",
    "from sklearn.linear_model import SGDClassifier\n",
    "from sklearn.preprocessing import StandardScaler\n",
    "# MODEL C\n",
    "sgd=SGDClassifier(loss=\"log\",penalty='l2',alpha=0,\n",
    "                 warm_start=True,random_state=10,max_iter=1,eta0=0.01,learning_rate='constant')\n",
    "l=[]\n",
    "pipe=make_pipeline(StandardScaler(),sgd)\n",
    "for i in range(30):\n",
    "    pipe.fit(X_train_69,y_train_69)\n",
    "    l.append(log_loss(y_train_69,pipe.predict_proba(X_train_69)))\n",
    "\n",
    "plt.title(\"MODEL C\")    \n",
    "plt.plot(range(30),l)\n"
   ]
  },
  {
   "cell_type": "code",
   "execution_count": 77,
   "id": "978626e8",
   "metadata": {
    "scrolled": true
   },
   "outputs": [
    {
     "name": "stderr",
     "output_type": "stream",
     "text": [
      "C:\\Users\\kabali\\AppData\\Roaming\\Python\\Python38\\site-packages\\sklearn\\linear_model\\_stochastic_gradient.py:703: ConvergenceWarning: Maximum number of iteration reached before convergence. Consider increasing max_iter to improve the fit.\n",
      "  warnings.warn(\n",
      "C:\\Users\\kabali\\AppData\\Roaming\\Python\\Python38\\site-packages\\sklearn\\linear_model\\_stochastic_gradient.py:703: ConvergenceWarning: Maximum number of iteration reached before convergence. Consider increasing max_iter to improve the fit.\n",
      "  warnings.warn(\n",
      "C:\\Users\\kabali\\AppData\\Roaming\\Python\\Python38\\site-packages\\sklearn\\linear_model\\_stochastic_gradient.py:703: ConvergenceWarning: Maximum number of iteration reached before convergence. Consider increasing max_iter to improve the fit.\n",
      "  warnings.warn(\n",
      "C:\\Users\\kabali\\AppData\\Roaming\\Python\\Python38\\site-packages\\sklearn\\linear_model\\_stochastic_gradient.py:703: ConvergenceWarning: Maximum number of iteration reached before convergence. Consider increasing max_iter to improve the fit.\n",
      "  warnings.warn(\n",
      "C:\\Users\\kabali\\AppData\\Roaming\\Python\\Python38\\site-packages\\sklearn\\linear_model\\_stochastic_gradient.py:703: ConvergenceWarning: Maximum number of iteration reached before convergence. Consider increasing max_iter to improve the fit.\n",
      "  warnings.warn(\n",
      "C:\\Users\\kabali\\AppData\\Roaming\\Python\\Python38\\site-packages\\sklearn\\linear_model\\_stochastic_gradient.py:703: ConvergenceWarning: Maximum number of iteration reached before convergence. Consider increasing max_iter to improve the fit.\n",
      "  warnings.warn(\n",
      "C:\\Users\\kabali\\AppData\\Roaming\\Python\\Python38\\site-packages\\sklearn\\linear_model\\_stochastic_gradient.py:703: ConvergenceWarning: Maximum number of iteration reached before convergence. Consider increasing max_iter to improve the fit.\n",
      "  warnings.warn(\n",
      "C:\\Users\\kabali\\AppData\\Roaming\\Python\\Python38\\site-packages\\sklearn\\linear_model\\_stochastic_gradient.py:703: ConvergenceWarning: Maximum number of iteration reached before convergence. Consider increasing max_iter to improve the fit.\n",
      "  warnings.warn(\n",
      "C:\\Users\\kabali\\AppData\\Roaming\\Python\\Python38\\site-packages\\sklearn\\linear_model\\_stochastic_gradient.py:703: ConvergenceWarning: Maximum number of iteration reached before convergence. Consider increasing max_iter to improve the fit.\n",
      "  warnings.warn(\n",
      "C:\\Users\\kabali\\AppData\\Roaming\\Python\\Python38\\site-packages\\sklearn\\linear_model\\_stochastic_gradient.py:703: ConvergenceWarning: Maximum number of iteration reached before convergence. Consider increasing max_iter to improve the fit.\n",
      "  warnings.warn(\n",
      "C:\\Users\\kabali\\AppData\\Roaming\\Python\\Python38\\site-packages\\sklearn\\linear_model\\_stochastic_gradient.py:703: ConvergenceWarning: Maximum number of iteration reached before convergence. Consider increasing max_iter to improve the fit.\n",
      "  warnings.warn(\n",
      "C:\\Users\\kabali\\AppData\\Roaming\\Python\\Python38\\site-packages\\sklearn\\linear_model\\_stochastic_gradient.py:703: ConvergenceWarning: Maximum number of iteration reached before convergence. Consider increasing max_iter to improve the fit.\n",
      "  warnings.warn(\n",
      "C:\\Users\\kabali\\AppData\\Roaming\\Python\\Python38\\site-packages\\sklearn\\linear_model\\_stochastic_gradient.py:703: ConvergenceWarning: Maximum number of iteration reached before convergence. Consider increasing max_iter to improve the fit.\n",
      "  warnings.warn(\n",
      "C:\\Users\\kabali\\AppData\\Roaming\\Python\\Python38\\site-packages\\sklearn\\linear_model\\_stochastic_gradient.py:703: ConvergenceWarning: Maximum number of iteration reached before convergence. Consider increasing max_iter to improve the fit.\n",
      "  warnings.warn(\n",
      "C:\\Users\\kabali\\AppData\\Roaming\\Python\\Python38\\site-packages\\sklearn\\linear_model\\_stochastic_gradient.py:703: ConvergenceWarning: Maximum number of iteration reached before convergence. Consider increasing max_iter to improve the fit.\n",
      "  warnings.warn(\n",
      "C:\\Users\\kabali\\AppData\\Roaming\\Python\\Python38\\site-packages\\sklearn\\linear_model\\_stochastic_gradient.py:703: ConvergenceWarning: Maximum number of iteration reached before convergence. Consider increasing max_iter to improve the fit.\n",
      "  warnings.warn(\n",
      "C:\\Users\\kabali\\AppData\\Roaming\\Python\\Python38\\site-packages\\sklearn\\linear_model\\_stochastic_gradient.py:703: ConvergenceWarning: Maximum number of iteration reached before convergence. Consider increasing max_iter to improve the fit.\n",
      "  warnings.warn(\n",
      "C:\\Users\\kabali\\AppData\\Roaming\\Python\\Python38\\site-packages\\sklearn\\linear_model\\_stochastic_gradient.py:703: ConvergenceWarning: Maximum number of iteration reached before convergence. Consider increasing max_iter to improve the fit.\n",
      "  warnings.warn(\n",
      "C:\\Users\\kabali\\AppData\\Roaming\\Python\\Python38\\site-packages\\sklearn\\linear_model\\_stochastic_gradient.py:703: ConvergenceWarning: Maximum number of iteration reached before convergence. Consider increasing max_iter to improve the fit.\n",
      "  warnings.warn(\n",
      "C:\\Users\\kabali\\AppData\\Roaming\\Python\\Python38\\site-packages\\sklearn\\linear_model\\_stochastic_gradient.py:703: ConvergenceWarning: Maximum number of iteration reached before convergence. Consider increasing max_iter to improve the fit.\n",
      "  warnings.warn(\n",
      "C:\\Users\\kabali\\AppData\\Roaming\\Python\\Python38\\site-packages\\sklearn\\linear_model\\_stochastic_gradient.py:703: ConvergenceWarning: Maximum number of iteration reached before convergence. Consider increasing max_iter to improve the fit.\n",
      "  warnings.warn(\n",
      "C:\\Users\\kabali\\AppData\\Roaming\\Python\\Python38\\site-packages\\sklearn\\linear_model\\_stochastic_gradient.py:703: ConvergenceWarning: Maximum number of iteration reached before convergence. Consider increasing max_iter to improve the fit.\n",
      "  warnings.warn(\n",
      "C:\\Users\\kabali\\AppData\\Roaming\\Python\\Python38\\site-packages\\sklearn\\linear_model\\_stochastic_gradient.py:703: ConvergenceWarning: Maximum number of iteration reached before convergence. Consider increasing max_iter to improve the fit.\n",
      "  warnings.warn(\n",
      "C:\\Users\\kabali\\AppData\\Roaming\\Python\\Python38\\site-packages\\sklearn\\linear_model\\_stochastic_gradient.py:703: ConvergenceWarning: Maximum number of iteration reached before convergence. Consider increasing max_iter to improve the fit.\n",
      "  warnings.warn(\n",
      "C:\\Users\\kabali\\AppData\\Roaming\\Python\\Python38\\site-packages\\sklearn\\linear_model\\_stochastic_gradient.py:703: ConvergenceWarning: Maximum number of iteration reached before convergence. Consider increasing max_iter to improve the fit.\n",
      "  warnings.warn(\n",
      "C:\\Users\\kabali\\AppData\\Roaming\\Python\\Python38\\site-packages\\sklearn\\linear_model\\_stochastic_gradient.py:703: ConvergenceWarning: Maximum number of iteration reached before convergence. Consider increasing max_iter to improve the fit.\n",
      "  warnings.warn(\n",
      "C:\\Users\\kabali\\AppData\\Roaming\\Python\\Python38\\site-packages\\sklearn\\linear_model\\_stochastic_gradient.py:703: ConvergenceWarning: Maximum number of iteration reached before convergence. Consider increasing max_iter to improve the fit.\n",
      "  warnings.warn(\n",
      "C:\\Users\\kabali\\AppData\\Roaming\\Python\\Python38\\site-packages\\sklearn\\linear_model\\_stochastic_gradient.py:703: ConvergenceWarning: Maximum number of iteration reached before convergence. Consider increasing max_iter to improve the fit.\n",
      "  warnings.warn(\n",
      "C:\\Users\\kabali\\AppData\\Roaming\\Python\\Python38\\site-packages\\sklearn\\linear_model\\_stochastic_gradient.py:703: ConvergenceWarning: Maximum number of iteration reached before convergence. Consider increasing max_iter to improve the fit.\n",
      "  warnings.warn(\n",
      "C:\\Users\\kabali\\AppData\\Roaming\\Python\\Python38\\site-packages\\sklearn\\linear_model\\_stochastic_gradient.py:703: ConvergenceWarning: Maximum number of iteration reached before convergence. Consider increasing max_iter to improve the fit.\n",
      "  warnings.warn(\n"
     ]
    },
    {
     "data": {
      "text/plain": [
       "[<matplotlib.lines.Line2D at 0x1758915d580>]"
      ]
     },
     "execution_count": 77,
     "metadata": {},
     "output_type": "execute_result"
    },
    {
     "data": {
      "image/png": "[encoded data removed]",
      "text/plain": [
       "<Figure size 432x288 with 1 Axes>"
      ]
     },
     "metadata": {
      "needs_background": "light"
     },
     "output_type": "display_data"
    }
   ],
   "source": [
    "from sklearn.pipeline import make_pipeline\n",
    "from sklearn.linear_model import SGDClassifier\n",
    "# MODEL D\n",
    "sgd=SGDClassifier(loss=\"log\",penalty='l2',alpha=0,\n",
    "                 warm_start=True,random_state=10,max_iter=1,eta0=0.01,learning_rate='invscaling',power_t=1)\n",
    "l=[]\n",
    "pipe=make_pipeline(sgd)\n",
    "for i in range(30):\n",
    "    pipe.fit(X_train_69,y_train_69)\n",
    "    l.append(log_loss(y_train_69,pipe.predict_proba(X_train_69)))\n",
    "\n",
    "plt.title(\"MODEL B\")    \n",
    "plt.plot(range(30),l)\n"
   ]
  },
  {
   "cell_type": "code",
   "execution_count": 82,
   "id": "5abde14b",
   "metadata": {},
   "outputs": [
    {
     "name": "stderr",
     "output_type": "stream",
     "text": [
      "C:\\Users\\kabali\\AppData\\Roaming\\Python\\Python38\\site-packages\\sklearn\\linear_model\\_stochastic_gradient.py:703: ConvergenceWarning: Maximum number of iteration reached before convergence. Consider increasing max_iter to improve the fit.\n",
      "  warnings.warn(\n"
     ]
    },
    {
     "data": {
      "text/plain": [
       "<sklearn.metrics._plot.confusion_matrix.ConfusionMatrixDisplay at 0x175892f1be0>"
      ]
     },
     "execution_count": 82,
     "metadata": {},
     "output_type": "execute_result"
    },
    {
     "data": {
      "image/png": "[encoded data removed]",
      "text/plain": [
       "<Figure size 432x288 with 2 Axes>"
      ]
     },
     "metadata": {
      "needs_background": "light"
     },
     "output_type": "display_data"
    }
   ],
   "source": [
    "sgd=SGDClassifier(loss='log',learning_rate='invscaling',\n",
    "                 max_iter=10,random_state=10,shuffle=True,\n",
    "                 power_t=0.5,penalty='l2',alpha=0,eta0=0.5,\n",
    "                 warm_start=True)\n",
    "pipe=make_pipeline(sgd)\n",
    "pipe.fit(X_train_69,y_train_69)\n",
    "ConfusionMatrixDisplay.from_predictions(y_train_69,pipe.predict(X_train_69))"
   ]
  },
  {
   "cell_type": "code",
   "execution_count": 88,
   "id": "0aff93b3",
   "metadata": {},
   "outputs": [
    {
     "data": {
      "text/plain": [
       "array([2167, 2407, 3036, 3368, 4217, 5556, 6230], dtype=int64)"
      ]
     },
     "execution_count": 88,
     "metadata": {},
     "output_type": "execute_result"
    }
   ],
   "source": [
    "y_pred=pipe.predict(X_train_69)\n",
    "np.where((y_pred!=y_train_69) & (y_pred==1))[0]"
   ]
  },
  {
   "cell_type": "code",
   "execution_count": 89,
   "id": "59ed1792",
   "metadata": {},
   "outputs": [],
   "source": [
    "from sklearn.datasets import fetch_20newsgroups\n",
    "from sklearn.feature_extraction.text import TfidfVectorizer\n",
    "X=fetch_20newsgroups()"
   ]
  },
  {
   "cell_type": "code",
   "execution_count": 92,
   "id": "0f103746",
   "metadata": {},
   "outputs": [],
   "source": [
    "X_=X.data\n",
    "y=X.target"
   ]
  },
  {
   "cell_type": "code",
   "execution_count": 94,
   "id": "a49c7693",
   "metadata": {},
   "outputs": [],
   "source": [
    "X_=TfidfVectorizer().fit_transform(X_)"
   ]
  },
  {
   "cell_type": "code",
   "execution_count": 95,
   "id": "fcf1f1ec",
   "metadata": {},
   "outputs": [
    {
     "data": {
      "text/plain": [
       "(11314, 130107)"
      ]
     },
     "execution_count": 95,
     "metadata": {},
     "output_type": "execute_result"
    }
   ],
   "source": [
    "X_.shape"
   ]
  },
  {
   "cell_type": "code",
   "execution_count": 97,
   "id": "b88c76a0",
   "metadata": {},
   "outputs": [],
   "source": [
    "from sklearn.naive_bayes import MultinomialNB\n",
    "X_train,X_test,y_train,y_test=train_test_split(X_,y,test_size=0.3,random_state=0)"
   ]
  },
  {
   "cell_type": "code",
   "execution_count": 98,
   "id": "dc395de1",
   "metadata": {},
   "outputs": [
    {
     "data": {
      "text/plain": [
       "MultinomialNB()"
      ]
     },
     "execution_count": 98,
     "metadata": {},
     "output_type": "execute_result"
    }
   ],
   "source": [
    "multinb=MultinomialNB()\n",
    "multinb.fit(X_train,y_train)"
   ]
  },
  {
   "cell_type": "code",
   "execution_count": 99,
   "id": "6e57fe61",
   "metadata": {},
   "outputs": [
    {
     "data": {
      "text/plain": [
       "0.8427098674521355"
      ]
     },
     "execution_count": 99,
     "metadata": {},
     "output_type": "execute_result"
    }
   ],
   "source": [
    "multinb.score(X_test,y_test)"
   ]
  },
  {
   "cell_type": "code",
   "execution_count": 112,
   "id": "88a5a0b8",
   "metadata": {},
   "outputs": [],
   "source": [
    "# PRACTICE ASSIGNMENT 7\n",
    "text_data=['A metaverse is a network of 3D virtual worlds focused on social connection.',\n",
    "           'In futurism and science fiction, the term is often described as a hypothetical iteration of the Internet as a single', \n",
    "           'universal virtual world that is facilitated by the use of virtual and augmented reality headsets.',\n",
    "           'The term \"metaverse\" has its origins  the 1992 science fiction novel Snow Crash as a portmanteau of \"meta\" and \"universe.\"',\n",
    "           'Various metaverses have been developed for popular use such as virtual world platforms like Second Life.',\n",
    "           'Some metaverse iterations involve integration between virtual and physical spaces and virtual economies',\n",
    "           'often including a significant interest in advancing virtual reality technology.', \n",
    "           'The term has seen considerable use as a buzzword for public relations purposes to exaggerate development progress for various related technologies and projects.[10] Information privacy and user addiction are concerns within metaverses',\n",
    "           'stemming from challenges facing the social media and video game industries as a whole.']\n",
    "from sklearn.feature_extraction.text import CountVectorizer\n",
    "X=CountVectorizer(min_df=2).fit_transform(text_data,)"
   ]
  },
  {
   "cell_type": "code",
   "execution_count": 105,
   "id": "0e1006a3",
   "metadata": {},
   "outputs": [],
   "source": [
    "?CountVectorizer"
   ]
  },
  {
   "cell_type": "code",
   "execution_count": 113,
   "id": "97b1e852",
   "metadata": {},
   "outputs": [
    {
     "data": {
      "text/plain": [
       "(9, 20)"
      ]
     },
     "execution_count": 113,
     "metadata": {},
     "output_type": "execute_result"
    }
   ],
   "source": [
    "X.shape"
   ]
  },
  {
   "cell_type": "code",
   "execution_count": 107,
   "id": "1424236a",
   "metadata": {},
   "outputs": [
    {
     "data": {
      "text/plain": [
       "(9, 99)"
      ]
     },
     "execution_count": 107,
     "metadata": {},
     "output_type": "execute_result"
    }
   ],
   "source": [
    "X=CountVectorizer().fit_transform(text_data)\n",
    "X.shape"
   ]
  },
  {
   "cell_type": "code",
   "execution_count": 117,
   "id": "5d8a348a",
   "metadata": {},
   "outputs": [
    {
     "data": {
      "text/plain": [
       "<9x99 sparse matrix of type '<class 'numpy.int64'>'\n",
       "\twith 138 stored elements in Compressed Sparse Row format>"
      ]
     },
     "execution_count": 117,
     "metadata": {},
     "output_type": "execute_result"
    }
   ],
   "source": [
    "CountVectorizer().fit_transform(text_data)"
   ]
  },
  {
   "cell_type": "code",
   "execution_count": 119,
   "id": "603a3815",
   "metadata": {
    "scrolled": true
   },
   "outputs": [
    {
     "data": {
      "text/plain": [
       "{'metaverse': 51,\n",
       " 'is': 43,\n",
       " 'network': 53,\n",
       " 'of': 55,\n",
       " '3d': 2,\n",
       " 'virtual': 94,\n",
       " 'worlds': 98,\n",
       " 'focused': 26,\n",
       " 'on': 57,\n",
       " 'social': 77,\n",
       " 'connection': 15,\n",
       " 'in': 35,\n",
       " 'futurism': 29,\n",
       " 'and': 5,\n",
       " 'science': 71,\n",
       " 'fiction': 25,\n",
       " 'the': 86,\n",
       " 'term': 84,\n",
       " 'often': 56,\n",
       " 'described': 18,\n",
       " 'as': 7,\n",
       " 'hypothetical': 34,\n",
       " 'iteration': 44,\n",
       " 'internet': 41,\n",
       " 'single': 75,\n",
       " 'universal': 88,\n",
       " 'world': 97,\n",
       " 'that': 85,\n",
       " 'facilitated': 23,\n",
       " 'by': 12,\n",
       " 'use': 90,\n",
       " 'augmented': 8,\n",
       " 'reality': 68,\n",
       " 'headsets': 33,\n",
       " 'has': 31,\n",
       " 'its': 46,\n",
       " 'origins': 58,\n",
       " '1992': 1,\n",
       " 'novel': 54,\n",
       " 'snow': 76,\n",
       " 'crash': 17,\n",
       " 'portmanteau': 62,\n",
       " 'meta': 50,\n",
       " 'universe': 89,\n",
       " 'various': 92,\n",
       " 'metaverses': 52,\n",
       " 'have': 32,\n",
       " 'been': 9,\n",
       " 'developed': 19,\n",
       " 'for': 27,\n",
       " 'popular': 61,\n",
       " 'such': 81,\n",
       " 'platforms': 60,\n",
       " 'like': 48,\n",
       " 'second': 72,\n",
       " 'life': 47,\n",
       " 'some': 78,\n",
       " 'iterations': 45,\n",
       " 'involve': 42,\n",
       " 'integration': 39,\n",
       " 'between': 10,\n",
       " 'physical': 59,\n",
       " 'spaces': 79,\n",
       " 'economies': 21,\n",
       " 'including': 36,\n",
       " 'significant': 74,\n",
       " 'interest': 40,\n",
       " 'advancing': 4,\n",
       " 'technology': 83,\n",
       " 'seen': 73,\n",
       " 'considerable': 16,\n",
       " 'buzzword': 11,\n",
       " 'public': 66,\n",
       " 'relations': 70,\n",
       " 'purposes': 67,\n",
       " 'to': 87,\n",
       " 'exaggerate': 22,\n",
       " 'development': 20,\n",
       " 'progress': 64,\n",
       " 'related': 69,\n",
       " 'technologies': 82,\n",
       " 'projects': 65,\n",
       " '10': 0,\n",
       " 'information': 38,\n",
       " 'privacy': 63,\n",
       " 'user': 91,\n",
       " 'addiction': 3,\n",
       " 'are': 6,\n",
       " 'concerns': 14,\n",
       " 'within': 96,\n",
       " 'stemming': 80,\n",
       " 'from': 28,\n",
       " 'challenges': 13,\n",
       " 'facing': 24,\n",
       " 'media': 49,\n",
       " 'video': 93,\n",
       " 'game': 30,\n",
       " 'industries': 37,\n",
       " 'whole': 95}"
      ]
     },
     "execution_count": 119,
     "metadata": {},
     "output_type": "execute_result"
    }
   ],
   "source": [
    "c_Vec=CountVectorizer()\n",
    "X=c_Vec.fit_transform(text_data)\n",
    "c_Vec.vocabulary_"
   ]
  },
  {
   "cell_type": "code",
   "execution_count": 120,
   "id": "985ed99f",
   "metadata": {},
   "outputs": [
    {
     "name": "stdout",
     "output_type": "stream",
     "text": [
      "  (0, 9)\t1\n",
      "  (0, 3)\t1\n",
      "  (0, 7)\t1\n",
      "  (0, 2)\t1\n",
      "  (0, 5)\t1\n",
      "  (1, 9)\t1\n",
      "  (1, 3)\t1\n",
      "  (1, 7)\t1\n",
      "  (1, 1)\t2\n",
      "  (1, 6)\t1\n",
      "  (2, 9)\t1\n",
      "  (2, 3)\t1\n",
      "  (2, 7)\t1\n",
      "  (2, 0)\t1\n",
      "  (2, 8)\t1\n",
      "  (2, 4)\t1\n"
     ]
    }
   ],
   "source": [
    "from sklearn.feature_extraction.text import CountVectorizer\n",
    "C_v=CountVectorizer()\n",
    "Docs = ['This is the first question.', 'This document is the second document.', 'And this is the third one' ]\n",
    "X=C_v.fit_transform(Docs)\n",
    "print(X)"
   ]
  },
  {
   "cell_type": "code",
   "execution_count": 146,
   "id": "f25932f7",
   "metadata": {},
   "outputs": [],
   "source": [
    "?NearestNeighbors"
   ]
  },
  {
   "cell_type": "code",
   "execution_count": 153,
   "id": "f25fe7d4",
   "metadata": {},
   "outputs": [],
   "source": [
    "from sklearn.neighbors import NearestNeighbors\n",
    "# ?NearestNeighbors\n",
    "def k_closest( X:np.ndarray, p:np.array, k:int = 1):\n",
    "    Xclosest = NearestNeighbors().fit(X)\n",
    "    indices = Xclosest.kneighbors(p, k, return_distance=False)\n",
    "\n",
    "    return X[indices[0]]"
   ]
  },
  {
   "cell_type": "code",
   "execution_count": 155,
   "id": "c8148a5c",
   "metadata": {},
   "outputs": [
    {
     "data": {
      "text/plain": [
       "array([[20, 47, 88]])"
      ]
     },
     "execution_count": 155,
     "metadata": {},
     "output_type": "execute_result"
    }
   ],
   "source": [
    "X = np.asarray([[72, 69 ,82],\n",
    " [ 9 ,79, 99],\n",
    " [20 ,47, 88],\n",
    " [80 ,64, 49]])\n",
    "p= np.asarray([[0,0,0]])\n",
    "k=1 \n",
    "k_closest(X,p,k=1)"
   ]
  },
  {
   "cell_type": "code",
   "execution_count": 156,
   "id": "843caa0c",
   "metadata": {},
   "outputs": [],
   "source": [
    "from sklearn.datasets import load_digits\n",
    "d=load_digits()\n",
    "X=d.data\n",
    "y=d.target\n"
   ]
  },
  {
   "cell_type": "code",
   "execution_count": 158,
   "id": "7026329b",
   "metadata": {},
   "outputs": [],
   "source": [
    "x_train,x_test,y_train,y_test=train_test_split(X,y,test_size=0.2,random_state=10)"
   ]
  },
  {
   "cell_type": "code",
   "execution_count": 159,
   "id": "b6580f75",
   "metadata": {},
   "outputs": [
    {
     "name": "stderr",
     "output_type": "stream",
     "text": [
      "C:\\Users\\kabali\\AppData\\Roaming\\Python\\Python38\\site-packages\\sklearn\\linear_model\\_sag.py:352: ConvergenceWarning: The max_iter was reached which means the coef_ did not converge\n",
      "  warnings.warn(\n"
     ]
    },
    {
     "data": {
      "text/plain": [
       "Pipeline(steps=[('standardscaler', StandardScaler()),\n",
       "                ('logisticregression',\n",
       "                 LogisticRegression(multi_class='multinomial', solver='sag'))])"
      ]
     },
     "execution_count": 159,
     "metadata": {},
     "output_type": "execute_result"
    }
   ],
   "source": [
    "from sklearn.linear_model import LogisticRegression\n",
    "pipe=make_pipeline(StandardScaler(),LogisticRegression(\n",
    "multi_class='multinomial',solver='sag'))\n",
    "pipe.fit(x_train,y_train)"
   ]
  },
  {
   "cell_type": "code",
   "execution_count": 164,
   "id": "f7d3a454",
   "metadata": {},
   "outputs": [
    {
     "data": {
      "text/plain": [
       "179"
      ]
     },
     "execution_count": 164,
     "metadata": {},
     "output_type": "execute_result"
    }
   ],
   "source": [
    "len(np.where(y==7)[0])"
   ]
  },
  {
   "cell_type": "code",
   "execution_count": 166,
   "id": "db5b434a",
   "metadata": {},
   "outputs": [
    {
     "data": {
      "text/plain": [
       "0.9666666666666667"
      ]
     },
     "execution_count": 166,
     "metadata": {},
     "output_type": "execute_result"
    }
   ],
   "source": [
    "np.mean(y_test==pipe.predict(x_test))"
   ]
  },
  {
   "cell_type": "code",
   "execution_count": 169,
   "id": "419e4066",
   "metadata": {},
   "outputs": [
    {
     "data": {
      "text/plain": [
       "(0.9666666666666667, 0.966907732026411)"
      ]
     },
     "execution_count": 169,
     "metadata": {},
     "output_type": "execute_result"
    }
   ],
   "source": [
    "from sklearn.metrics import f1_score,accuracy_score\n",
    "accuracy_score(y_test,pipe.predict(x_test)),f1_score(y_test,pipe.predict(x_test),average=\"weighted\")"
   ]
  },
  {
   "cell_type": "code",
   "execution_count": 170,
   "id": "651aa1d4",
   "metadata": {},
   "outputs": [],
   "source": [
    "# GRADED ASSIGNMENT 7\n",
    "link=\"https://archive.ics.uci.edu/ml/machine-learning-databases/00246/3D_spatial_network.txt\"\n",
    "df=pd.read_csv(link,chunksize=20000,iterator=True)"
   ]
  },
  {
   "cell_type": "code",
   "execution_count": 196,
   "id": "f2651f1b",
   "metadata": {
    "scrolled": true
   },
   "outputs": [
    {
     "name": "stdout",
     "output_type": "stream",
     "text": [
      "0.9555555555555556\n"
     ]
    }
   ],
   "source": [
    "# PRACTICE ASSIGNMENT 8\n",
    "from sklearn.datasets import load_iris\n",
    "# def compute_score(X_train,y_train,X_test,y_test):\n",
    "from sklearn.svm import SVC\n",
    "dataa=load_iris()\n",
    "X=dataa.data\n",
    "y=dataa.target\n",
    "X_train,X_test,y_train,y_test=train_test_split(X,y,test_size=0.3)\n",
    "# iris = load_iris()\n",
    "# X_train, X_test, y_train, y_test = train_test_split(iris.data, iris.target, test_size=0.3)\n",
    "# def COMPUTE_SCORE(X_train, y_train, X_test, y_test):\n",
    "#     model1 = SVC(kernel='rbf',C=20,gamma='auto')\n",
    "#     model1.fit(X_train,y_train)\n",
    "#     score1 = model1.score(X_test, y_test)\n",
    "#     return score1\n",
    "\n",
    "# score1 =COMPUTE_SCORE(X_train, y_train, X_test, y_test)\n",
    "# print(score1)"
   ]
  },
  {
   "cell_type": "code",
   "execution_count": 197,
   "id": "e073e2bd",
   "metadata": {},
   "outputs": [
    {
     "data": {
      "text/plain": [
       "0.9555555555555556"
      ]
     },
     "execution_count": 197,
     "metadata": {},
     "output_type": "execute_result"
    }
   ],
   "source": [
    "svc=SVC(kernel='rbf',C=20,gamma='auto',random_state=42)\n",
    "pipe=make_pipeline(svc)\n",
    "pipe.fit(X_train,y_train)\n",
    "pipe.score(X_test,y_test)"
   ]
  },
  {
   "cell_type": "code",
   "execution_count": 198,
   "id": "5e337daf",
   "metadata": {},
   "outputs": [
    {
     "name": "stdout",
     "output_type": "stream",
     "text": [
      "              precision    recall  f1-score   support\n",
      "\n",
      "           0       1.00      1.00      1.00        18\n",
      "           1       0.94      1.00      0.97        15\n",
      "           2       1.00      0.92      0.96        12\n",
      "\n",
      "    accuracy                           0.98        45\n",
      "   macro avg       0.98      0.97      0.97        45\n",
      "weighted avg       0.98      0.98      0.98        45\n",
      "\n",
      "0.9777777777777777 0.9777777777777777\n"
     ]
    }
   ],
   "source": [
    "from sklearn.preprocessing import MinMaxScaler\n",
    "from sklearn.svm import SVC\n",
    "pipe=make_pipeline(MinMaxScaler(),SVC(decision_function_shape='ovr',\n",
    "                                     kernel='linear',C=1,class_weight=None))\n",
    "from sklearn.metrics import classification_report\n",
    "pipe.fit(X_train,y_train)\n",
    "print(classification_report(y_test,pipe.predict(X_test)))\n",
    "from sklearn.metrics import precision_score,f1_score\n",
    "print(f1_score(y_test,pipe.predict(X_test),average='micro'),precision_score(y_test,pipe.predict(X_test),average='micro'))"
   ]
  },
  {
   "cell_type": "code",
   "execution_count": 199,
   "id": "90a8ca5f",
   "metadata": {},
   "outputs": [
    {
     "name": "stdout",
     "output_type": "stream",
     "text": [
      "Precision: 0.98 \n",
      "Recall: 0.98 \n",
      "f1_Score: 0.98 \n"
     ]
    }
   ],
   "source": [
    "from sklearn.pipeline import Pipeline\n",
    "from sklearn.metrics import recall_score\n",
    "pipe_1 = Pipeline([('scaler', MinMaxScaler()),\n",
    "                         (\"classifier\", SVC(kernel='linear', decision_function_shape='ovr', C=1, class_weight=None))])\n",
    "pipe_1.fit(X_train,y_train)\n",
    "y_pred = pipe_1.predict(X_test)\n",
    "precisionScore = precision_score(y_test, y_pred, average='micro')\n",
    "recallSscore = recall_score(y_test, y_pred, average='micro')\n",
    "f1Score = f1_score(y_test, y_pred, average='micro')\n",
    "\n",
    "print(\"Precision: {:.2f} \".format(precisionScore))\n",
    "print(\"Recall: {:.2f} \".format(recallSscore))\n",
    "print(\"f1_Score: {:.2f} \".format(f1Score))"
   ]
  },
  {
   "cell_type": "code",
   "execution_count": 200,
   "id": "3521bacf",
   "metadata": {},
   "outputs": [
    {
     "name": "stderr",
     "output_type": "stream",
     "text": [
      "C:\\Users\\kabali\\AppData\\Roaming\\Python\\Python38\\site-packages\\sklearn\\svm\\_base.py:1199: ConvergenceWarning: Liblinear failed to converge, increase the number of iterations.\n",
      "  warnings.warn(\n"
     ]
    },
    {
     "data": {
      "text/plain": [
       "0.9555555555555556"
      ]
     },
     "execution_count": 200,
     "metadata": {},
     "output_type": "execute_result"
    }
   ],
   "source": [
    "from sklearn.datasets import load_iris\n",
    "from sklearn.svm import LinearSVC\n",
    "from sklearn.pipeline import make_pipeline\n",
    "pipe=make_pipeline(LinearSVC(loss='hinge',random_state=42))\n",
    "pipe.fit(X_train,y_train)\n",
    "pipe.score(X_test,y_test)"
   ]
  },
  {
   "cell_type": "code",
   "execution_count": 203,
   "id": "352645b0",
   "metadata": {},
   "outputs": [
    {
     "data": {
      "text/plain": [
       "0.9777777777777777"
      ]
     },
     "execution_count": 203,
     "metadata": {},
     "output_type": "execute_result"
    }
   ],
   "source": [
    "from sklearn.model_selection import GridSearchCV\n",
    "param_grid=dict(kernel=['linear','rbf'],C=[5,10,100])\n",
    "grid=GridSearchCV(SVC(random_state=42),param_grid=param_grid,cv=10,return_train_score=True)\n",
    "grid.fit(X_train,y_train)\n",
    "grid.score(X_test,y_test)"
   ]
  },
  {
   "cell_type": "code",
   "execution_count": 207,
   "id": "bd80ccf4",
   "metadata": {},
   "outputs": [],
   "source": [
    "avg_score = []\n",
    "def hyperparamater_search(kernels, C):\n",
    "    avg_score = []\n",
    "    for i in kernels:\n",
    "        for j in C:\n",
    "            scores = cross_val_score(svm.SVC(kernel=i,C=j,gamma='auto'),iris.data, iris.target, cv=10)\n",
    "            #avg_score[i + '_' + str(j)] = np.average(scores)\n",
    "            avg_score.append(scores)\n",
    "    avg_score=np.array(avg_score)   \n",
    "    return np.max(avg_score)"
   ]
  },
  {
   "cell_type": "code",
   "execution_count": 214,
   "id": "23f19516",
   "metadata": {},
   "outputs": [],
   "source": [
    "from sklearn.model_selection import cross_val_score\n",
    "?cross_val_score"
   ]
  },
  {
   "cell_type": "code",
   "execution_count": 223,
   "id": "380316d8",
   "metadata": {},
   "outputs": [],
   "source": [
    "# GRADED ASSIGNMENT 8\n",
    "from sklearn.model_selection import GridSearchCV\n",
    "# from sklearn.metrics import \n",
    "from sklearn.model_selection import cross_val_score\n",
    "from sklearn.svm import SVC\n",
    "def compute_GridSearchCV(kernels,reg_params,X_train,y_train,X_test,y_test):\n",
    "    param_grid=dict(kernel=kernels,C=reg_params)\n",
    "    grid=GridSearchCV(SVC(gamma='auto',random_state=0),param_grid=param_grid,cv=4)\n",
    "    grid.fit(X_train,y_train)\n",
    "    return grid.best_score_"
   ]
  },
  {
   "cell_type": "code",
   "execution_count": 224,
   "id": "3c684e35",
   "metadata": {},
   "outputs": [
    {
     "data": {
      "text/plain": [
       "0.9718660968660969"
      ]
     },
     "execution_count": 224,
     "metadata": {},
     "output_type": "execute_result"
    }
   ],
   "source": [
    "compute_GridSearchCV(['linear' , 'rbf'],\n",
    "                    [1,15,25],X_train,y_train,X_test,y_test)"
   ]
  },
  {
   "cell_type": "code",
   "execution_count": null,
   "id": "35a9f0c4",
   "metadata": {},
   "outputs": [],
   "source": []
  }
 ],
 "metadata": {
  "kernelspec": {
   "display_name": "Python 3 (ipykernel)",
   "language": "python",
   "name": "python3"
  },
  "language_info": {
   "codemirror_mode": {
    "name": "ipython",
    "version": 3
   },
   "file_extension": ".py",
   "mimetype": "text/x-python",
   "name": "python",
   "nbconvert_exporter": "python",
   "pygments_lexer": "ipython3",
   "version": "3.8.5"
  }
 },
 "nbformat": 4,
 "nbformat_minor": 5
}
