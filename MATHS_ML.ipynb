{
 "cells": [
  {
   "cell_type": "markdown",
   "id": "aec7d827-ccd1-419b-a058-d7b0e46ce727",
   "metadata": {},
   "source": [
    "Click below to get to the github repo of the instructor <br>\n",
    "<button color=\"Black\"><a href=\"https://github.com/jonkrohn/ML-foundations\">GitHub Page</a></button>"
   ]
  },
  {
   "cell_type": "code",
   "execution_count": 1,
   "id": "6e6d41aa-5ada-49c1-b9c9-32b9e6f3765b",
   "metadata": {},
   "outputs": [
    {
     "data": {
      "image/png": "[encoded data removed]",
      "text/plain": [
       "<Figure size 432x288 with 1 Axes>"
      ]
     },
     "metadata": {
      "needs_background": "light"
     },
     "output_type": "display_data"
    }
   ],
   "source": [
    "import numpy as np\n",
    "import matplotlib.pyplot as plt\n",
    "t=np.linspace(0,40,1000)\n",
    "d_r=2.5*t\n",
    "d_s=3*(t-5)\n",
    "fig,ax=plt.subplots()\n",
    "plt.title(\"A bank robber caught\")\n",
    "plt.xlabel(\"time in minutes\")\n",
    "plt.ylabel(\"distance in kms\")\n",
    "ax.set_xlim([0,40])\n",
    "ax.set_ylim([0,100])\n",
    "ax.plot(t,d_r,c='green')\n",
    "ax.plot(t,d_s,c='brown')\n",
    "plt.axvline(x=30,color='purple',linestyle=\"--\")\n",
    "plt.axhline(y=75,color='purple',linestyle='--')\n",
    "plt.show()"
   ]
  },
  {
   "cell_type": "code",
   "execution_count": 2,
   "id": "cbceefca-120b-467b-aa86-c80170cc6850",
   "metadata": {},
   "outputs": [
    {
     "name": "stdout",
     "output_type": "stream",
     "text": [
      "tensor(25)\n"
     ]
    }
   ],
   "source": [
    "#Vectors, scalars and all are n-dimensional tensors\n",
    "#Tensors are ML generalization of vectors and matrices to any number of dimensions\n",
    "#Scalars - no dimensions (0 dimension tensor)\n",
    "#calar = int(input(\"Enter a scalar value: \"))\n",
    "#Pytorch is helpful in calculus and all\n",
    "import torch\n",
    "x_pt=torch.tensor(25)\n",
    "print(x_pt)\n",
    "import tensorflow as tf\n"
   ]
  },
  {
   "cell_type": "code",
   "execution_count": 3,
   "id": "7e858207-f6d9-49f2-96f9-3f3a771144e1",
   "metadata": {},
   "outputs": [
    {
     "data": {
      "text/plain": [
       "<tf.Variable 'Variable:0' shape=() dtype=int16, numpy=25>"
      ]
     },
     "execution_count": 3,
     "metadata": {},
     "output_type": "execute_result"
    }
   ],
   "source": [
    "x_tf=tf.Variable(25,dtype=tf.int16)\n",
    "x_tf"
   ]
  },
  {
   "cell_type": "code",
   "execution_count": 4,
   "id": "b96db7e2-b5a7-4c4c-a5dc-5b46c843ae19",
   "metadata": {},
   "outputs": [
    {
     "data": {
      "text/plain": [
       "TensorShape([])"
      ]
     },
     "execution_count": 4,
     "metadata": {},
     "output_type": "execute_result"
    }
   ],
   "source": [
    "x_tf.shape"
   ]
  },
  {
   "cell_type": "code",
   "execution_count": 5,
   "id": "7b82bc06-25b0-42cd-9a77-94f7110dc563",
   "metadata": {},
   "outputs": [
    {
     "data": {
      "text/plain": [
       "<tf.Tensor: shape=(), dtype=int16, numpy=55>"
      ]
     },
     "execution_count": 5,
     "metadata": {},
     "output_type": "execute_result"
    }
   ],
   "source": [
    "tf_sum=tf.add(x_tf,tf.Variable(30,dtype=tf.int16))\n",
    "tf_sum"
   ]
  },
  {
   "cell_type": "code",
   "execution_count": 6,
   "id": "028a1d74-7f18-4add-a7ea-7632bb05314f",
   "metadata": {},
   "outputs": [
    {
     "data": {
      "text/plain": [
       "numpy.int16"
      ]
     },
     "execution_count": 6,
     "metadata": {},
     "output_type": "execute_result"
    }
   ],
   "source": [
    "tf_sum.numpy()# Converting to numpy returns an instance\n",
    "type(tf_sum.numpy())"
   ]
  },
  {
   "cell_type": "code",
   "execution_count": 7,
   "id": "b40f4d64-6169-47fc-bdda-44d10013cd8a",
   "metadata": {},
   "outputs": [
    {
     "data": {
      "text/plain": [
       "array([25,  2,  5], dtype=int16)"
      ]
     },
     "execution_count": 7,
     "metadata": {},
     "output_type": "execute_result"
    }
   ],
   "source": [
    "import numpy as np\n",
    "#One dimensional number is vector\n",
    "#One dimensional scalars packed together\n",
    "#Vector of length 2 represents a 2D matrix location\n",
    "# Similarly for vector of length n represents a nD matrix location\n",
    "x=np.array([25,2,5],dtype=np.int16)\n",
    "x"
   ]
  },
  {
   "cell_type": "code",
   "execution_count": 8,
   "id": "d98507c3-ecee-46de-998c-94a98a4b69d7",
   "metadata": {},
   "outputs": [
    {
     "data": {
      "text/plain": [
       "True"
      ]
     },
     "execution_count": 8,
     "metadata": {},
     "output_type": "execute_result"
    }
   ],
   "source": [
    "type(x)\n",
    "x.shape\n",
    "len(x)\n",
    "len(x)==x.shape[0]"
   ]
  },
  {
   "cell_type": "code",
   "execution_count": 9,
   "id": "28bc4164-fb5b-42ff-8dd1-5742399a1efc",
   "metadata": {},
   "outputs": [
    {
     "data": {
      "text/plain": [
       "array([25,  2,  5], dtype=int16)"
      ]
     },
     "execution_count": 9,
     "metadata": {},
     "output_type": "execute_result"
    }
   ],
   "source": [
    "x.T# Transposing a regular 1D array is of no use\n"
   ]
  },
  {
   "cell_type": "code",
   "execution_count": 10,
   "id": "b08e5c6a-4631-4d34-8e09-bc8cd855bada",
   "metadata": {},
   "outputs": [
    {
     "data": {
      "text/plain": [
       "(1, 3)"
      ]
     },
     "execution_count": 10,
     "metadata": {},
     "output_type": "execute_result"
    }
   ],
   "source": [
    "y=np.array([[25,2,5]])\n",
    "y.shape # 1 row with 3 columns"
   ]
  },
  {
   "cell_type": "code",
   "execution_count": 11,
   "id": "e9455177-9849-4ebc-a6a4-3bb24954e786",
   "metadata": {},
   "outputs": [
    {
     "data": {
      "text/plain": [
       "array([[25],\n",
       "       [ 2],\n",
       "       [ 5]])"
      ]
     },
     "execution_count": 11,
     "metadata": {},
     "output_type": "execute_result"
    }
   ],
   "source": [
    "y.T # This has a second dimension--> so shows difference after doing transpose"
   ]
  },
  {
   "cell_type": "code",
   "execution_count": 12,
   "id": "8c6c31fd-c592-4958-a6b9-dbd5bce9411a",
   "metadata": {},
   "outputs": [
    {
     "data": {
      "text/plain": [
       "(3, 1)"
      ]
     },
     "execution_count": 12,
     "metadata": {},
     "output_type": "execute_result"
    }
   ],
   "source": [
    "y.T.shape"
   ]
  },
  {
   "cell_type": "code",
   "execution_count": 13,
   "id": "2d113003-6ca1-4e6d-807e-c7cc3fe89b36",
   "metadata": {},
   "outputs": [
    {
     "data": {
      "text/plain": [
       "array([0., 0., 0.])"
      ]
     },
     "execution_count": 13,
     "metadata": {},
     "output_type": "execute_result"
    }
   ],
   "source": [
    "z=np.zeros(3)\n",
    "z"
   ]
  },
  {
   "cell_type": "code",
   "execution_count": 14,
   "id": "8c9dad32-65e5-443f-a74e-9bb607373886",
   "metadata": {},
   "outputs": [
    {
     "data": {
      "text/plain": [
       "tensor([25,  2,  5])"
      ]
     },
     "execution_count": 14,
     "metadata": {},
     "output_type": "execute_result"
    }
   ],
   "source": [
    "x_pt=torch.tensor([25,2,5])\n",
    "x_pt"
   ]
  },
  {
   "cell_type": "code",
   "execution_count": 15,
   "id": "4a6cd2d8-627a-47d4-8917-aac6a13c3323",
   "metadata": {},
   "outputs": [
    {
     "data": {
      "text/plain": [
       "<tf.Variable 'Variable:0' shape=(1, 3) dtype=int32, numpy=array([[25,  2,  5]])>"
      ]
     },
     "execution_count": 15,
     "metadata": {},
     "output_type": "execute_result"
    }
   ],
   "source": [
    "x_tf=tf.Variable([[25,2,5]])\n",
    "x_tf"
   ]
  },
  {
   "cell_type": "markdown",
   "id": "96224d13-246d-41b4-a9e0-fc56794d5e8e",
   "metadata": {},
   "source": [
    "$L^2$-norm \n",
    "<br>\n",
    "$||x||_2$ = $\\sqrt{\\Sigma_i x_i^2}$<br>\n",
    "Euclidean distance\n",
    "<br>\n",
    "$L^1$-norm\n",
    "<br>\n",
    "$||x||_1$ = $\\Sigma_i |x_i|$<br>\n",
    "Squared $L^2- Norm$\n",
    "<br> $||x||_2^2 = \\Sigma_i x_i^2$ \n",
    "<br>\n",
    "Max Norm or $L_ {\\infty}$ Norm\n",
    "<br> $||x||_\\infty = max_i|x_i|$\n",
    "<br>\n",
    "Generalized $L^p - Norm$\n",
    "<br> $||x||_p = (\\Sigma_i|x_i|^p)^{1/p}$"
   ]
  },
  {
   "cell_type": "code",
   "execution_count": 16,
   "id": "621f298c-65b0-4a3c-b48e-80579edf13fa",
   "metadata": {},
   "outputs": [
    {
     "data": {
      "text/plain": [
       "array([25,  2,  5], dtype=int16)"
      ]
     },
     "execution_count": 16,
     "metadata": {},
     "output_type": "execute_result"
    }
   ],
   "source": [
    "x"
   ]
  },
  {
   "cell_type": "code",
   "execution_count": 17,
   "id": "5a03e944-97bc-44d0-bad9-f274acb4ab76",
   "metadata": {},
   "outputs": [
    {
     "data": {
      "text/plain": [
       "25.573423705088842"
      ]
     },
     "execution_count": 17,
     "metadata": {},
     "output_type": "execute_result"
    }
   ],
   "source": [
    "np.sqrt(sum(x**2))"
   ]
  },
  {
   "cell_type": "code",
   "execution_count": 18,
   "id": "f6b85827-58bd-4fed-b37a-f288749ad4d9",
   "metadata": {},
   "outputs": [
    {
     "data": {
      "text/plain": [
       "25.573423705088842"
      ]
     },
     "execution_count": 18,
     "metadata": {},
     "output_type": "execute_result"
    }
   ],
   "source": [
    "np.linalg.norm(x) # L2 - NORM"
   ]
  },
  {
   "cell_type": "code",
   "execution_count": 19,
   "id": "d398cb2f-ade8-4585-9e10-0be7bddaf92a",
   "metadata": {},
   "outputs": [
    {
     "data": {
      "text/plain": [
       "32"
      ]
     },
     "execution_count": 19,
     "metadata": {},
     "output_type": "execute_result"
    }
   ],
   "source": [
    "np.sum(np.abs(x)) # L1 - NORM"
   ]
  },
  {
   "cell_type": "code",
   "execution_count": 20,
   "id": "e444c1ce-e46f-482a-9ed8-41e04b56d81e",
   "metadata": {},
   "outputs": [
    {
     "data": {
      "text/plain": [
       "654"
      ]
     },
     "execution_count": 20,
     "metadata": {},
     "output_type": "execute_result"
    }
   ],
   "source": [
    "np.sum(x**2) # Squared L2- NORM"
   ]
  },
  {
   "cell_type": "code",
   "execution_count": 21,
   "id": "f13e5146-69cd-458c-83ce-0a3a13dc16ca",
   "metadata": {},
   "outputs": [
    {
     "data": {
      "text/plain": [
       "25"
      ]
     },
     "execution_count": 21,
     "metadata": {},
     "output_type": "execute_result"
    }
   ],
   "source": [
    "np.max(np.abs(x))"
   ]
  },
  {
   "cell_type": "markdown",
   "id": "5986619e-3089-4155-ace1-496fc2bfcfbf",
   "metadata": {},
   "source": [
    " Basis vectors can be scaled to represent any vector in the vector space\n",
    "<br> Generally unit vectors \n",
    "<br><br>\n",
    "Orthagonal means the vectors are mutually at $90 ^{\\circ}$ to each other"
   ]
  },
  {
   "cell_type": "code",
   "execution_count": 22,
   "id": "ae51007c-9074-43f4-813d-aa02c5be6b1d",
   "metadata": {},
   "outputs": [
    {
     "data": {
      "text/plain": [
       "0"
      ]
     },
     "execution_count": 22,
     "metadata": {},
     "output_type": "execute_result"
    }
   ],
   "source": [
    "np.dot(np.array([1,0]),np.array([0,1]))"
   ]
  },
  {
   "cell_type": "code",
   "execution_count": 23,
   "id": "1ac37aab-0d08-426c-b29d-15dfd8abd5f8",
   "metadata": {},
   "outputs": [
    {
     "data": {
      "text/plain": [
       "array([[25,  2],\n",
       "       [ 5, 26],\n",
       "       [ 3,  7]])"
      ]
     },
     "execution_count": 23,
     "metadata": {},
     "output_type": "execute_result"
    }
   ],
   "source": [
    "X=np.array([[25,2],[5,26],[3,7]])\n",
    "X"
   ]
  },
  {
   "cell_type": "code",
   "execution_count": 24,
   "id": "989f36e1-7af4-44e0-9f48-373260aa8f87",
   "metadata": {},
   "outputs": [
    {
     "data": {
      "text/plain": [
       "(3, 2)"
      ]
     },
     "execution_count": 24,
     "metadata": {},
     "output_type": "execute_result"
    }
   ],
   "source": [
    "X.shape"
   ]
  },
  {
   "cell_type": "code",
   "execution_count": 25,
   "id": "1772f5ae-c3e9-4a1a-a67f-830f8f0a2f4b",
   "metadata": {},
   "outputs": [
    {
     "data": {
      "text/plain": [
       "tensor([[25,  2],\n",
       "        [ 5, 26],\n",
       "        [ 3,  7]])"
      ]
     },
     "execution_count": 25,
     "metadata": {},
     "output_type": "execute_result"
    }
   ],
   "source": [
    "X_pt=torch.tensor([[25,2],[5,26],[3,7]])\n",
    "X_pt"
   ]
  },
  {
   "cell_type": "code",
   "execution_count": 26,
   "id": "175a7c1a-b9e3-4717-b20b-e803015135ea",
   "metadata": {},
   "outputs": [],
   "source": [
    "X_tf=tf.Variable([[25,2],[5,26],[3,7]])"
   ]
  },
  {
   "cell_type": "code",
   "execution_count": 27,
   "id": "8e0680f4-6a52-4da3-9295-7dbabbbfb028",
   "metadata": {},
   "outputs": [
    {
     "data": {
      "text/plain": [
       "<tf.Variable 'Variable:0' shape=(3, 2) dtype=int32, numpy=\n",
       "array([[25,  2],\n",
       "       [ 5, 26],\n",
       "       [ 3,  7]])>"
      ]
     },
     "execution_count": 27,
     "metadata": {},
     "output_type": "execute_result"
    }
   ],
   "source": [
    "X_tf"
   ]
  },
  {
   "cell_type": "code",
   "execution_count": 28,
   "id": "48f06a32-92e1-43ca-bd86-7f28448c49b0",
   "metadata": {},
   "outputs": [
    {
     "data": {
      "text/plain": [
       "<tf.Tensor: shape=(), dtype=int32, numpy=2>"
      ]
     },
     "execution_count": 28,
     "metadata": {},
     "output_type": "execute_result"
    }
   ],
   "source": [
    "tf.rank(X_tf)"
   ]
  },
  {
   "cell_type": "code",
   "execution_count": 29,
   "id": "3ae6042f-13b8-4145-a618-425a405c8285",
   "metadata": {},
   "outputs": [
    {
     "data": {
      "text/plain": [
       "<tf.Tensor: shape=(2,), dtype=int32, numpy=array([ 5, 26])>"
      ]
     },
     "execution_count": 29,
     "metadata": {},
     "output_type": "execute_result"
    }
   ],
   "source": [
    "X_tf[1,:]"
   ]
  },
  {
   "cell_type": "code",
   "execution_count": 30,
   "id": "d38465df-7e06-4e2e-910d-856f2f1f177a",
   "metadata": {},
   "outputs": [],
   "source": [
    "images_pt=torch.zeros([32,28,28,3])\n",
    "images_tf=tf.zeros([32,28,28,3])"
   ]
  },
  {
   "cell_type": "code",
   "execution_count": 31,
   "id": "6969072e-0313-486d-9223-2ef149b413aa",
   "metadata": {
    "tags": []
   },
   "outputs": [
    {
     "data": {
      "text/plain": [
       "tensor([[[[0., 0., 0.],\n",
       "          [0., 0., 0.],\n",
       "          [0., 0., 0.],\n",
       "          ...,\n",
       "          [0., 0., 0.],\n",
       "          [0., 0., 0.],\n",
       "          [0., 0., 0.]],\n",
       "\n",
       "         [[0., 0., 0.],\n",
       "          [0., 0., 0.],\n",
       "          [0., 0., 0.],\n",
       "          ...,\n",
       "          [0., 0., 0.],\n",
       "          [0., 0., 0.],\n",
       "          [0., 0., 0.]],\n",
       "\n",
       "         [[0., 0., 0.],\n",
       "          [0., 0., 0.],\n",
       "          [0., 0., 0.],\n",
       "          ...,\n",
       "          [0., 0., 0.],\n",
       "          [0., 0., 0.],\n",
       "          [0., 0., 0.]],\n",
       "\n",
       "         ...,\n",
       "\n",
       "         [[0., 0., 0.],\n",
       "          [0., 0., 0.],\n",
       "          [0., 0., 0.],\n",
       "          ...,\n",
       "          [0., 0., 0.],\n",
       "          [0., 0., 0.],\n",
       "          [0., 0., 0.]],\n",
       "\n",
       "         [[0., 0., 0.],\n",
       "          [0., 0., 0.],\n",
       "          [0., 0., 0.],\n",
       "          ...,\n",
       "          [0., 0., 0.],\n",
       "          [0., 0., 0.],\n",
       "          [0., 0., 0.]],\n",
       "\n",
       "         [[0., 0., 0.],\n",
       "          [0., 0., 0.],\n",
       "          [0., 0., 0.],\n",
       "          ...,\n",
       "          [0., 0., 0.],\n",
       "          [0., 0., 0.],\n",
       "          [0., 0., 0.]]],\n",
       "\n",
       "\n",
       "        [[[0., 0., 0.],\n",
       "          [0., 0., 0.],\n",
       "          [0., 0., 0.],\n",
       "          ...,\n",
       "          [0., 0., 0.],\n",
       "          [0., 0., 0.],\n",
       "          [0., 0., 0.]],\n",
       "\n",
       "         [[0., 0., 0.],\n",
       "          [0., 0., 0.],\n",
       "          [0., 0., 0.],\n",
       "          ...,\n",
       "          [0., 0., 0.],\n",
       "          [0., 0., 0.],\n",
       "          [0., 0., 0.]],\n",
       "\n",
       "         [[0., 0., 0.],\n",
       "          [0., 0., 0.],\n",
       "          [0., 0., 0.],\n",
       "          ...,\n",
       "          [0., 0., 0.],\n",
       "          [0., 0., 0.],\n",
       "          [0., 0., 0.]],\n",
       "\n",
       "         ...,\n",
       "\n",
       "         [[0., 0., 0.],\n",
       "          [0., 0., 0.],\n",
       "          [0., 0., 0.],\n",
       "          ...,\n",
       "          [0., 0., 0.],\n",
       "          [0., 0., 0.],\n",
       "          [0., 0., 0.]],\n",
       "\n",
       "         [[0., 0., 0.],\n",
       "          [0., 0., 0.],\n",
       "          [0., 0., 0.],\n",
       "          ...,\n",
       "          [0., 0., 0.],\n",
       "          [0., 0., 0.],\n",
       "          [0., 0., 0.]],\n",
       "\n",
       "         [[0., 0., 0.],\n",
       "          [0., 0., 0.],\n",
       "          [0., 0., 0.],\n",
       "          ...,\n",
       "          [0., 0., 0.],\n",
       "          [0., 0., 0.],\n",
       "          [0., 0., 0.]]],\n",
       "\n",
       "\n",
       "        [[[0., 0., 0.],\n",
       "          [0., 0., 0.],\n",
       "          [0., 0., 0.],\n",
       "          ...,\n",
       "          [0., 0., 0.],\n",
       "          [0., 0., 0.],\n",
       "          [0., 0., 0.]],\n",
       "\n",
       "         [[0., 0., 0.],\n",
       "          [0., 0., 0.],\n",
       "          [0., 0., 0.],\n",
       "          ...,\n",
       "          [0., 0., 0.],\n",
       "          [0., 0., 0.],\n",
       "          [0., 0., 0.]],\n",
       "\n",
       "         [[0., 0., 0.],\n",
       "          [0., 0., 0.],\n",
       "          [0., 0., 0.],\n",
       "          ...,\n",
       "          [0., 0., 0.],\n",
       "          [0., 0., 0.],\n",
       "          [0., 0., 0.]],\n",
       "\n",
       "         ...,\n",
       "\n",
       "         [[0., 0., 0.],\n",
       "          [0., 0., 0.],\n",
       "          [0., 0., 0.],\n",
       "          ...,\n",
       "          [0., 0., 0.],\n",
       "          [0., 0., 0.],\n",
       "          [0., 0., 0.]],\n",
       "\n",
       "         [[0., 0., 0.],\n",
       "          [0., 0., 0.],\n",
       "          [0., 0., 0.],\n",
       "          ...,\n",
       "          [0., 0., 0.],\n",
       "          [0., 0., 0.],\n",
       "          [0., 0., 0.]],\n",
       "\n",
       "         [[0., 0., 0.],\n",
       "          [0., 0., 0.],\n",
       "          [0., 0., 0.],\n",
       "          ...,\n",
       "          [0., 0., 0.],\n",
       "          [0., 0., 0.],\n",
       "          [0., 0., 0.]]],\n",
       "\n",
       "\n",
       "        ...,\n",
       "\n",
       "\n",
       "        [[[0., 0., 0.],\n",
       "          [0., 0., 0.],\n",
       "          [0., 0., 0.],\n",
       "          ...,\n",
       "          [0., 0., 0.],\n",
       "          [0., 0., 0.],\n",
       "          [0., 0., 0.]],\n",
       "\n",
       "         [[0., 0., 0.],\n",
       "          [0., 0., 0.],\n",
       "          [0., 0., 0.],\n",
       "          ...,\n",
       "          [0., 0., 0.],\n",
       "          [0., 0., 0.],\n",
       "          [0., 0., 0.]],\n",
       "\n",
       "         [[0., 0., 0.],\n",
       "          [0., 0., 0.],\n",
       "          [0., 0., 0.],\n",
       "          ...,\n",
       "          [0., 0., 0.],\n",
       "          [0., 0., 0.],\n",
       "          [0., 0., 0.]],\n",
       "\n",
       "         ...,\n",
       "\n",
       "         [[0., 0., 0.],\n",
       "          [0., 0., 0.],\n",
       "          [0., 0., 0.],\n",
       "          ...,\n",
       "          [0., 0., 0.],\n",
       "          [0., 0., 0.],\n",
       "          [0., 0., 0.]],\n",
       "\n",
       "         [[0., 0., 0.],\n",
       "          [0., 0., 0.],\n",
       "          [0., 0., 0.],\n",
       "          ...,\n",
       "          [0., 0., 0.],\n",
       "          [0., 0., 0.],\n",
       "          [0., 0., 0.]],\n",
       "\n",
       "         [[0., 0., 0.],\n",
       "          [0., 0., 0.],\n",
       "          [0., 0., 0.],\n",
       "          ...,\n",
       "          [0., 0., 0.],\n",
       "          [0., 0., 0.],\n",
       "          [0., 0., 0.]]],\n",
       "\n",
       "\n",
       "        [[[0., 0., 0.],\n",
       "          [0., 0., 0.],\n",
       "          [0., 0., 0.],\n",
       "          ...,\n",
       "          [0., 0., 0.],\n",
       "          [0., 0., 0.],\n",
       "          [0., 0., 0.]],\n",
       "\n",
       "         [[0., 0., 0.],\n",
       "          [0., 0., 0.],\n",
       "          [0., 0., 0.],\n",
       "          ...,\n",
       "          [0., 0., 0.],\n",
       "          [0., 0., 0.],\n",
       "          [0., 0., 0.]],\n",
       "\n",
       "         [[0., 0., 0.],\n",
       "          [0., 0., 0.],\n",
       "          [0., 0., 0.],\n",
       "          ...,\n",
       "          [0., 0., 0.],\n",
       "          [0., 0., 0.],\n",
       "          [0., 0., 0.]],\n",
       "\n",
       "         ...,\n",
       "\n",
       "         [[0., 0., 0.],\n",
       "          [0., 0., 0.],\n",
       "          [0., 0., 0.],\n",
       "          ...,\n",
       "          [0., 0., 0.],\n",
       "          [0., 0., 0.],\n",
       "          [0., 0., 0.]],\n",
       "\n",
       "         [[0., 0., 0.],\n",
       "          [0., 0., 0.],\n",
       "          [0., 0., 0.],\n",
       "          ...,\n",
       "          [0., 0., 0.],\n",
       "          [0., 0., 0.],\n",
       "          [0., 0., 0.]],\n",
       "\n",
       "         [[0., 0., 0.],\n",
       "          [0., 0., 0.],\n",
       "          [0., 0., 0.],\n",
       "          ...,\n",
       "          [0., 0., 0.],\n",
       "          [0., 0., 0.],\n",
       "          [0., 0., 0.]]],\n",
       "\n",
       "\n",
       "        [[[0., 0., 0.],\n",
       "          [0., 0., 0.],\n",
       "          [0., 0., 0.],\n",
       "          ...,\n",
       "          [0., 0., 0.],\n",
       "          [0., 0., 0.],\n",
       "          [0., 0., 0.]],\n",
       "\n",
       "         [[0., 0., 0.],\n",
       "          [0., 0., 0.],\n",
       "          [0., 0., 0.],\n",
       "          ...,\n",
       "          [0., 0., 0.],\n",
       "          [0., 0., 0.],\n",
       "          [0., 0., 0.]],\n",
       "\n",
       "         [[0., 0., 0.],\n",
       "          [0., 0., 0.],\n",
       "          [0., 0., 0.],\n",
       "          ...,\n",
       "          [0., 0., 0.],\n",
       "          [0., 0., 0.],\n",
       "          [0., 0., 0.]],\n",
       "\n",
       "         ...,\n",
       "\n",
       "         [[0., 0., 0.],\n",
       "          [0., 0., 0.],\n",
       "          [0., 0., 0.],\n",
       "          ...,\n",
       "          [0., 0., 0.],\n",
       "          [0., 0., 0.],\n",
       "          [0., 0., 0.]],\n",
       "\n",
       "         [[0., 0., 0.],\n",
       "          [0., 0., 0.],\n",
       "          [0., 0., 0.],\n",
       "          ...,\n",
       "          [0., 0., 0.],\n",
       "          [0., 0., 0.],\n",
       "          [0., 0., 0.]],\n",
       "\n",
       "         [[0., 0., 0.],\n",
       "          [0., 0., 0.],\n",
       "          [0., 0., 0.],\n",
       "          ...,\n",
       "          [0., 0., 0.],\n",
       "          [0., 0., 0.],\n",
       "          [0., 0., 0.]]]])"
      ]
     },
     "execution_count": 31,
     "metadata": {},
     "output_type": "execute_result"
    }
   ],
   "source": [
    "images_pt"
   ]
  },
  {
   "cell_type": "code",
   "execution_count": 32,
   "id": "eb39c343-bc40-4c30-96f3-722550d44e73",
   "metadata": {
    "tags": []
   },
   "outputs": [
    {
     "data": {
      "text/plain": [
       "<tf.Tensor: shape=(32, 28, 28, 3), dtype=float32, numpy=\n",
       "array([[[[0., 0., 0.],\n",
       "         [0., 0., 0.],\n",
       "         [0., 0., 0.],\n",
       "         ...,\n",
       "         [0., 0., 0.],\n",
       "         [0., 0., 0.],\n",
       "         [0., 0., 0.]],\n",
       "\n",
       "        [[0., 0., 0.],\n",
       "         [0., 0., 0.],\n",
       "         [0., 0., 0.],\n",
       "         ...,\n",
       "         [0., 0., 0.],\n",
       "         [0., 0., 0.],\n",
       "         [0., 0., 0.]],\n",
       "\n",
       "        [[0., 0., 0.],\n",
       "         [0., 0., 0.],\n",
       "         [0., 0., 0.],\n",
       "         ...,\n",
       "         [0., 0., 0.],\n",
       "         [0., 0., 0.],\n",
       "         [0., 0., 0.]],\n",
       "\n",
       "        ...,\n",
       "\n",
       "        [[0., 0., 0.],\n",
       "         [0., 0., 0.],\n",
       "         [0., 0., 0.],\n",
       "         ...,\n",
       "         [0., 0., 0.],\n",
       "         [0., 0., 0.],\n",
       "         [0., 0., 0.]],\n",
       "\n",
       "        [[0., 0., 0.],\n",
       "         [0., 0., 0.],\n",
       "         [0., 0., 0.],\n",
       "         ...,\n",
       "         [0., 0., 0.],\n",
       "         [0., 0., 0.],\n",
       "         [0., 0., 0.]],\n",
       "\n",
       "        [[0., 0., 0.],\n",
       "         [0., 0., 0.],\n",
       "         [0., 0., 0.],\n",
       "         ...,\n",
       "         [0., 0., 0.],\n",
       "         [0., 0., 0.],\n",
       "         [0., 0., 0.]]],\n",
       "\n",
       "\n",
       "       [[[0., 0., 0.],\n",
       "         [0., 0., 0.],\n",
       "         [0., 0., 0.],\n",
       "         ...,\n",
       "         [0., 0., 0.],\n",
       "         [0., 0., 0.],\n",
       "         [0., 0., 0.]],\n",
       "\n",
       "        [[0., 0., 0.],\n",
       "         [0., 0., 0.],\n",
       "         [0., 0., 0.],\n",
       "         ...,\n",
       "         [0., 0., 0.],\n",
       "         [0., 0., 0.],\n",
       "         [0., 0., 0.]],\n",
       "\n",
       "        [[0., 0., 0.],\n",
       "         [0., 0., 0.],\n",
       "         [0., 0., 0.],\n",
       "         ...,\n",
       "         [0., 0., 0.],\n",
       "         [0., 0., 0.],\n",
       "         [0., 0., 0.]],\n",
       "\n",
       "        ...,\n",
       "\n",
       "        [[0., 0., 0.],\n",
       "         [0., 0., 0.],\n",
       "         [0., 0., 0.],\n",
       "         ...,\n",
       "         [0., 0., 0.],\n",
       "         [0., 0., 0.],\n",
       "         [0., 0., 0.]],\n",
       "\n",
       "        [[0., 0., 0.],\n",
       "         [0., 0., 0.],\n",
       "         [0., 0., 0.],\n",
       "         ...,\n",
       "         [0., 0., 0.],\n",
       "         [0., 0., 0.],\n",
       "         [0., 0., 0.]],\n",
       "\n",
       "        [[0., 0., 0.],\n",
       "         [0., 0., 0.],\n",
       "         [0., 0., 0.],\n",
       "         ...,\n",
       "         [0., 0., 0.],\n",
       "         [0., 0., 0.],\n",
       "         [0., 0., 0.]]],\n",
       "\n",
       "\n",
       "       [[[0., 0., 0.],\n",
       "         [0., 0., 0.],\n",
       "         [0., 0., 0.],\n",
       "         ...,\n",
       "         [0., 0., 0.],\n",
       "         [0., 0., 0.],\n",
       "         [0., 0., 0.]],\n",
       "\n",
       "        [[0., 0., 0.],\n",
       "         [0., 0., 0.],\n",
       "         [0., 0., 0.],\n",
       "         ...,\n",
       "         [0., 0., 0.],\n",
       "         [0., 0., 0.],\n",
       "         [0., 0., 0.]],\n",
       "\n",
       "        [[0., 0., 0.],\n",
       "         [0., 0., 0.],\n",
       "         [0., 0., 0.],\n",
       "         ...,\n",
       "         [0., 0., 0.],\n",
       "         [0., 0., 0.],\n",
       "         [0., 0., 0.]],\n",
       "\n",
       "        ...,\n",
       "\n",
       "        [[0., 0., 0.],\n",
       "         [0., 0., 0.],\n",
       "         [0., 0., 0.],\n",
       "         ...,\n",
       "         [0., 0., 0.],\n",
       "         [0., 0., 0.],\n",
       "         [0., 0., 0.]],\n",
       "\n",
       "        [[0., 0., 0.],\n",
       "         [0., 0., 0.],\n",
       "         [0., 0., 0.],\n",
       "         ...,\n",
       "         [0., 0., 0.],\n",
       "         [0., 0., 0.],\n",
       "         [0., 0., 0.]],\n",
       "\n",
       "        [[0., 0., 0.],\n",
       "         [0., 0., 0.],\n",
       "         [0., 0., 0.],\n",
       "         ...,\n",
       "         [0., 0., 0.],\n",
       "         [0., 0., 0.],\n",
       "         [0., 0., 0.]]],\n",
       "\n",
       "\n",
       "       ...,\n",
       "\n",
       "\n",
       "       [[[0., 0., 0.],\n",
       "         [0., 0., 0.],\n",
       "         [0., 0., 0.],\n",
       "         ...,\n",
       "         [0., 0., 0.],\n",
       "         [0., 0., 0.],\n",
       "         [0., 0., 0.]],\n",
       "\n",
       "        [[0., 0., 0.],\n",
       "         [0., 0., 0.],\n",
       "         [0., 0., 0.],\n",
       "         ...,\n",
       "         [0., 0., 0.],\n",
       "         [0., 0., 0.],\n",
       "         [0., 0., 0.]],\n",
       "\n",
       "        [[0., 0., 0.],\n",
       "         [0., 0., 0.],\n",
       "         [0., 0., 0.],\n",
       "         ...,\n",
       "         [0., 0., 0.],\n",
       "         [0., 0., 0.],\n",
       "         [0., 0., 0.]],\n",
       "\n",
       "        ...,\n",
       "\n",
       "        [[0., 0., 0.],\n",
       "         [0., 0., 0.],\n",
       "         [0., 0., 0.],\n",
       "         ...,\n",
       "         [0., 0., 0.],\n",
       "         [0., 0., 0.],\n",
       "         [0., 0., 0.]],\n",
       "\n",
       "        [[0., 0., 0.],\n",
       "         [0., 0., 0.],\n",
       "         [0., 0., 0.],\n",
       "         ...,\n",
       "         [0., 0., 0.],\n",
       "         [0., 0., 0.],\n",
       "         [0., 0., 0.]],\n",
       "\n",
       "        [[0., 0., 0.],\n",
       "         [0., 0., 0.],\n",
       "         [0., 0., 0.],\n",
       "         ...,\n",
       "         [0., 0., 0.],\n",
       "         [0., 0., 0.],\n",
       "         [0., 0., 0.]]],\n",
       "\n",
       "\n",
       "       [[[0., 0., 0.],\n",
       "         [0., 0., 0.],\n",
       "         [0., 0., 0.],\n",
       "         ...,\n",
       "         [0., 0., 0.],\n",
       "         [0., 0., 0.],\n",
       "         [0., 0., 0.]],\n",
       "\n",
       "        [[0., 0., 0.],\n",
       "         [0., 0., 0.],\n",
       "         [0., 0., 0.],\n",
       "         ...,\n",
       "         [0., 0., 0.],\n",
       "         [0., 0., 0.],\n",
       "         [0., 0., 0.]],\n",
       "\n",
       "        [[0., 0., 0.],\n",
       "         [0., 0., 0.],\n",
       "         [0., 0., 0.],\n",
       "         ...,\n",
       "         [0., 0., 0.],\n",
       "         [0., 0., 0.],\n",
       "         [0., 0., 0.]],\n",
       "\n",
       "        ...,\n",
       "\n",
       "        [[0., 0., 0.],\n",
       "         [0., 0., 0.],\n",
       "         [0., 0., 0.],\n",
       "         ...,\n",
       "         [0., 0., 0.],\n",
       "         [0., 0., 0.],\n",
       "         [0., 0., 0.]],\n",
       "\n",
       "        [[0., 0., 0.],\n",
       "         [0., 0., 0.],\n",
       "         [0., 0., 0.],\n",
       "         ...,\n",
       "         [0., 0., 0.],\n",
       "         [0., 0., 0.],\n",
       "         [0., 0., 0.]],\n",
       "\n",
       "        [[0., 0., 0.],\n",
       "         [0., 0., 0.],\n",
       "         [0., 0., 0.],\n",
       "         ...,\n",
       "         [0., 0., 0.],\n",
       "         [0., 0., 0.],\n",
       "         [0., 0., 0.]]],\n",
       "\n",
       "\n",
       "       [[[0., 0., 0.],\n",
       "         [0., 0., 0.],\n",
       "         [0., 0., 0.],\n",
       "         ...,\n",
       "         [0., 0., 0.],\n",
       "         [0., 0., 0.],\n",
       "         [0., 0., 0.]],\n",
       "\n",
       "        [[0., 0., 0.],\n",
       "         [0., 0., 0.],\n",
       "         [0., 0., 0.],\n",
       "         ...,\n",
       "         [0., 0., 0.],\n",
       "         [0., 0., 0.],\n",
       "         [0., 0., 0.]],\n",
       "\n",
       "        [[0., 0., 0.],\n",
       "         [0., 0., 0.],\n",
       "         [0., 0., 0.],\n",
       "         ...,\n",
       "         [0., 0., 0.],\n",
       "         [0., 0., 0.],\n",
       "         [0., 0., 0.]],\n",
       "\n",
       "        ...,\n",
       "\n",
       "        [[0., 0., 0.],\n",
       "         [0., 0., 0.],\n",
       "         [0., 0., 0.],\n",
       "         ...,\n",
       "         [0., 0., 0.],\n",
       "         [0., 0., 0.],\n",
       "         [0., 0., 0.]],\n",
       "\n",
       "        [[0., 0., 0.],\n",
       "         [0., 0., 0.],\n",
       "         [0., 0., 0.],\n",
       "         ...,\n",
       "         [0., 0., 0.],\n",
       "         [0., 0., 0.],\n",
       "         [0., 0., 0.]],\n",
       "\n",
       "        [[0., 0., 0.],\n",
       "         [0., 0., 0.],\n",
       "         [0., 0., 0.],\n",
       "         ...,\n",
       "         [0., 0., 0.],\n",
       "         [0., 0., 0.],\n",
       "         [0., 0., 0.]]]], dtype=float32)>"
      ]
     },
     "execution_count": 32,
     "metadata": {},
     "output_type": "execute_result"
    }
   ],
   "source": [
    "images_tf"
   ]
  },
  {
   "cell_type": "markdown",
   "id": "3ad4f4f6-761e-4e05-b9a8-36cb9a4dc2ad",
   "metadata": {},
   "source": [
    "### PROBLEMS"
   ]
  },
  {
   "cell_type": "code",
   "execution_count": 33,
   "id": "3477aed7-11f8-4034-9ecc-d1a84c8a3118",
   "metadata": {},
   "outputs": [
    {
     "data": {
      "text/plain": [
       "array([[ 25,   2,  -3, -23]])"
      ]
     },
     "execution_count": 33,
     "metadata": {},
     "output_type": "execute_result"
    }
   ],
   "source": [
    "y=np.array([[25],[2],[-3],[-23]])\n",
    "y.T"
   ]
  },
  {
   "cell_type": "code",
   "execution_count": 34,
   "id": "c08675c1-ec1a-4300-9921-5f8369c58de4",
   "metadata": {},
   "outputs": [
    {
     "data": {
      "text/plain": [
       "(1, 4)"
      ]
     },
     "execution_count": 34,
     "metadata": {},
     "output_type": "execute_result"
    }
   ],
   "source": [
    "y.T.shape"
   ]
  },
  {
   "cell_type": "code",
   "execution_count": 35,
   "id": "e08621d2-f14c-4d3b-bf7e-904bd300d1f1",
   "metadata": {},
   "outputs": [
    {
     "data": {
      "text/plain": [
       "(2, 4)"
      ]
     },
     "execution_count": 35,
     "metadata": {},
     "output_type": "execute_result"
    }
   ],
   "source": [
    "Y=np.array([[42,4,7,99],[-99,-3,17,22]])\n",
    "Y.shape"
   ]
  },
  {
   "cell_type": "code",
   "execution_count": 36,
   "id": "22e6aacf-b71d-4ae4-906b-037f8309f565",
   "metadata": {
    "tags": []
   },
   "outputs": [
    {
     "data": {
      "text/plain": [
       "17"
      ]
     },
     "execution_count": 36,
     "metadata": {},
     "output_type": "execute_result"
    }
   ],
   "source": [
    "Y[1,2]"
   ]
  },
  {
   "cell_type": "code",
   "execution_count": 37,
   "id": "d585db7f-8d07-4f80-a12e-9de357cdccad",
   "metadata": {},
   "outputs": [
    {
     "data": {
      "text/plain": [
       "tensor([[ 42, -99],\n",
       "        [  4,  -3],\n",
       "        [  7,  17],\n",
       "        [ 99,  22]])"
      ]
     },
     "execution_count": 37,
     "metadata": {},
     "output_type": "execute_result"
    }
   ],
   "source": [
    "Y=torch.tensor([[42,4,7,99],[-99,-3,17,22]])\n",
    "Y.T"
   ]
  },
  {
   "cell_type": "code",
   "execution_count": 38,
   "id": "22232665-22ed-4a36-b56a-99695cde22fe",
   "metadata": {},
   "outputs": [
    {
     "data": {
      "text/plain": [
       "tensor([[-25,  70],\n",
       "        [-20,   8]])"
      ]
     },
     "execution_count": 38,
     "metadata": {},
     "output_type": "execute_result"
    }
   ],
   "source": [
    "x1=torch.tensor([[25,10],[-2,1]])\n",
    "x2=torch.tensor([[-1,7],[10,8]])\n",
    "x1*x2"
   ]
  },
  {
   "cell_type": "code",
   "execution_count": 39,
   "id": "f8ed0b3a-d278-4ce3-9037-336cd98cff45",
   "metadata": {},
   "outputs": [
    {
     "data": {
      "text/plain": [
       "15"
      ]
     },
     "execution_count": 39,
     "metadata": {},
     "output_type": "execute_result"
    }
   ],
   "source": [
    "w=np.array([-1,2,-2])\n",
    "w2=np.array([5,10,0])\n",
    "np.dot(w,w2)"
   ]
  },
  {
   "cell_type": "markdown",
   "id": "5958906b-bf4d-4166-bd0f-4a98c51d64a0",
   "metadata": {},
   "source": [
    "### PROBLEMS END"
   ]
  },
  {
   "cell_type": "code",
   "execution_count": 40,
   "id": "1428b275-faf6-4b96-a246-675bb7c77feb",
   "metadata": {},
   "outputs": [
    {
     "data": {
      "text/plain": [
       "array([25,  2,  5], dtype=int16)"
      ]
     },
     "execution_count": 40,
     "metadata": {},
     "output_type": "execute_result"
    }
   ],
   "source": [
    "x"
   ]
  },
  {
   "cell_type": "code",
   "execution_count": 41,
   "id": "cd592de3-3111-4c81-b609-b315a0a6250f",
   "metadata": {},
   "outputs": [
    {
     "data": {
      "text/plain": [
       "array([[25,  2],\n",
       "       [ 5, 26],\n",
       "       [ 3,  7]])"
      ]
     },
     "execution_count": 41,
     "metadata": {},
     "output_type": "execute_result"
    }
   ],
   "source": [
    "X"
   ]
  },
  {
   "cell_type": "code",
   "execution_count": 42,
   "id": "21bf98a2-d507-4c49-8c58-a8fa49b31067",
   "metadata": {},
   "outputs": [
    {
     "data": {
      "text/plain": [
       "array([[25,  5,  3],\n",
       "       [ 2, 26,  7]])"
      ]
     },
     "execution_count": 42,
     "metadata": {},
     "output_type": "execute_result"
    }
   ],
   "source": [
    "X.T"
   ]
  },
  {
   "cell_type": "code",
   "execution_count": 43,
   "id": "04ea9248-070b-4a24-a0e1-bdb9a39d1614",
   "metadata": {},
   "outputs": [
    {
     "data": {
      "text/plain": [
       "<tf.Tensor: shape=(2, 3), dtype=int32, numpy=\n",
       "array([[25,  5,  3],\n",
       "       [ 2, 26,  7]])>"
      ]
     },
     "execution_count": 43,
     "metadata": {},
     "output_type": "execute_result"
    }
   ],
   "source": [
    "tf.transpose(X_tf)"
   ]
  },
  {
   "cell_type": "code",
   "execution_count": 44,
   "id": "5970ca79-4c7e-4b72-894b-4032a89dac57",
   "metadata": {},
   "outputs": [
    {
     "data": {
      "text/plain": [
       "tensor([[25,  5,  3],\n",
       "        [ 2, 26,  7]])"
      ]
     },
     "execution_count": 44,
     "metadata": {},
     "output_type": "execute_result"
    }
   ],
   "source": [
    "X_pt.T"
   ]
  },
  {
   "cell_type": "code",
   "execution_count": 45,
   "id": "4d22c7d5-852b-4a5e-9af9-c59cc10fcbc7",
   "metadata": {},
   "outputs": [
    {
     "data": {
      "text/plain": [
       "(array([[50,  4],\n",
       "        [10, 52],\n",
       "        [ 6, 14]]),\n",
       " array([[27,  4],\n",
       "        [ 7, 28],\n",
       "        [ 5,  9]]),\n",
       " array([[23,  0],\n",
       "        [ 3, 24],\n",
       "        [ 1,  5]]),\n",
       " array([[12.5,  1. ],\n",
       "        [ 2.5, 13. ],\n",
       "        [ 1.5,  3.5]]))"
      ]
     },
     "execution_count": 45,
     "metadata": {},
     "output_type": "execute_result"
    }
   ],
   "source": [
    "X*2,X+2,X-2,X/2"
   ]
  },
  {
   "cell_type": "code",
   "execution_count": 46,
   "id": "3a6806a0-9eda-4d74-86b1-52a78a5c80f8",
   "metadata": {},
   "outputs": [
    {
     "data": {
      "text/plain": [
       "tensor([[52,  6],\n",
       "        [12, 54],\n",
       "        [ 8, 16]])"
      ]
     },
     "execution_count": 46,
     "metadata": {},
     "output_type": "execute_result"
    }
   ],
   "source": [
    "X_pt*2+2"
   ]
  },
  {
   "cell_type": "code",
   "execution_count": 47,
   "id": "4699202c-b56a-45fe-9233-a9edf803fce9",
   "metadata": {},
   "outputs": [
    {
     "data": {
      "text/plain": [
       "tensor([[52,  6],\n",
       "        [12, 54],\n",
       "        [ 8, 16]])"
      ]
     },
     "execution_count": 47,
     "metadata": {},
     "output_type": "execute_result"
    }
   ],
   "source": [
    "torch.add(torch.mul(X_pt,2),2)"
   ]
  },
  {
   "cell_type": "code",
   "execution_count": 48,
   "id": "805d82c4-961e-4261-a62b-1ca767c4d9a8",
   "metadata": {},
   "outputs": [
    {
     "data": {
      "text/plain": [
       "<tf.Tensor: shape=(3, 2), dtype=int32, numpy=\n",
       "array([[52,  6],\n",
       "       [12, 54],\n",
       "       [ 8, 16]])>"
      ]
     },
     "execution_count": 48,
     "metadata": {},
     "output_type": "execute_result"
    }
   ],
   "source": [
    "tf.add(tf.multiply(X_tf,2),2)"
   ]
  },
  {
   "cell_type": "markdown",
   "id": "1844c25b-8e05-4595-9681-56e020817779",
   "metadata": {},
   "source": [
    "### If two tensors have same size , operations are often by default applied element-wise.\n",
    "#### This is not matrix multiplication, which we will cover later, but is rather called the Hadamard product or simply the element-wise product\n"
   ]
  },
  {
   "cell_type": "code",
   "execution_count": 49,
   "id": "bec22982-a775-45d6-b0b5-179715d7446b",
   "metadata": {},
   "outputs": [],
   "source": [
    "A=X+2"
   ]
  },
  {
   "cell_type": "code",
   "execution_count": 50,
   "id": "f34a6cec-2a25-4854-84c6-92f80567741a",
   "metadata": {},
   "outputs": [
    {
     "data": {
      "text/plain": [
       "array([[27,  4],\n",
       "       [ 7, 28],\n",
       "       [ 5,  9]])"
      ]
     },
     "execution_count": 50,
     "metadata": {},
     "output_type": "execute_result"
    }
   ],
   "source": [
    "A"
   ]
  },
  {
   "cell_type": "code",
   "execution_count": 51,
   "id": "a0f11f21-ef8d-4bc9-8fa0-2d7a78b81e52",
   "metadata": {},
   "outputs": [
    {
     "data": {
      "text/plain": [
       "array([[25,  2],\n",
       "       [ 5, 26],\n",
       "       [ 3,  7]])"
      ]
     },
     "execution_count": 51,
     "metadata": {},
     "output_type": "execute_result"
    }
   ],
   "source": [
    "X"
   ]
  },
  {
   "cell_type": "code",
   "execution_count": 52,
   "id": "86688e92-bea4-400d-b183-d379e69c2f98",
   "metadata": {},
   "outputs": [
    {
     "data": {
      "text/plain": [
       "array([[675,   8],\n",
       "       [ 35, 728],\n",
       "       [ 15,  63]])"
      ]
     },
     "execution_count": 52,
     "metadata": {},
     "output_type": "execute_result"
    }
   ],
   "source": [
    "A*X"
   ]
  },
  {
   "cell_type": "markdown",
   "id": "284b2e7a-26c6-456c-8355-30d1073981ac",
   "metadata": {},
   "source": [
    "Similarly for Pytorch and tensor . Does not happen the matrix multiplication rather happens only element wise product"
   ]
  },
  {
   "cell_type": "code",
   "execution_count": 53,
   "id": "1ef3399a-e22f-420a-8145-2a4a6119dc09",
   "metadata": {},
   "outputs": [
    {
     "data": {
      "text/plain": [
       "tensor([[27,  4],\n",
       "        [ 7, 28],\n",
       "        [ 5,  9]])"
      ]
     },
     "execution_count": 53,
     "metadata": {},
     "output_type": "execute_result"
    }
   ],
   "source": [
    "A_pt=X_pt+2\n",
    "A_pt"
   ]
  },
  {
   "cell_type": "code",
   "execution_count": 54,
   "id": "c7d5cbac-7007-4838-9598-587461935707",
   "metadata": {},
   "outputs": [
    {
     "data": {
      "text/plain": [
       "tensor([[25,  2],\n",
       "        [ 5, 26],\n",
       "        [ 3,  7]])"
      ]
     },
     "execution_count": 54,
     "metadata": {},
     "output_type": "execute_result"
    }
   ],
   "source": [
    "X_pt"
   ]
  },
  {
   "cell_type": "code",
   "execution_count": 55,
   "id": "d7f190ca-7eab-467d-bab9-20ffcd5cf27b",
   "metadata": {},
   "outputs": [
    {
     "data": {
      "text/plain": [
       "tensor([[675,   8],\n",
       "        [ 35, 728],\n",
       "        [ 15,  63]])"
      ]
     },
     "execution_count": 55,
     "metadata": {},
     "output_type": "execute_result"
    }
   ],
   "source": [
    "A_pt*X_pt"
   ]
  },
  {
   "cell_type": "code",
   "execution_count": 56,
   "id": "713d3895-4cb0-4f1e-9f19-721a95ee5c7c",
   "metadata": {},
   "outputs": [
    {
     "data": {
      "text/plain": [
       "array([[25,  2],\n",
       "       [ 5, 26],\n",
       "       [ 3,  7]])"
      ]
     },
     "execution_count": 56,
     "metadata": {},
     "output_type": "execute_result"
    }
   ],
   "source": [
    "X"
   ]
  },
  {
   "cell_type": "code",
   "execution_count": 57,
   "id": "c7533f28-5015-434e-81e4-779850511e4c",
   "metadata": {},
   "outputs": [
    {
     "data": {
      "text/plain": [
       "68"
      ]
     },
     "execution_count": 57,
     "metadata": {},
     "output_type": "execute_result"
    }
   ],
   "source": [
    "X.sum()"
   ]
  },
  {
   "cell_type": "code",
   "execution_count": 58,
   "id": "984cf85b-84aa-4c12-8f0c-63503bc4528e",
   "metadata": {},
   "outputs": [
    {
     "data": {
      "text/plain": [
       "<tf.Tensor: shape=(), dtype=int32, numpy=68>"
      ]
     },
     "execution_count": 58,
     "metadata": {},
     "output_type": "execute_result"
    }
   ],
   "source": [
    "tf.reduce_sum(X_tf)"
   ]
  },
  {
   "cell_type": "code",
   "execution_count": 59,
   "id": "777297e3-c8fc-4991-b757-eadc2a91a26c",
   "metadata": {},
   "outputs": [
    {
     "data": {
      "text/plain": [
       "tensor(68)"
      ]
     },
     "execution_count": 59,
     "metadata": {},
     "output_type": "execute_result"
    }
   ],
   "source": [
    "torch.sum(X_pt)"
   ]
  },
  {
   "cell_type": "code",
   "execution_count": 60,
   "id": "cfb352bd-ea3c-434b-9a61-59005a5a7ec2",
   "metadata": {},
   "outputs": [
    {
     "data": {
      "text/plain": [
       "array([33, 35])"
      ]
     },
     "execution_count": 60,
     "metadata": {},
     "output_type": "execute_result"
    }
   ],
   "source": [
    "X.sum(axis=0)"
   ]
  },
  {
   "cell_type": "code",
   "execution_count": 61,
   "id": "779dbf14-ff3e-46c7-98a4-a8423ce401b2",
   "metadata": {
    "tags": []
   },
   "outputs": [
    {
     "data": {
      "text/plain": [
       "(array([[25,  2],\n",
       "        [ 5, 26],\n",
       "        [ 3,  7]]),\n",
       " array([27, 31, 10]))"
      ]
     },
     "execution_count": 61,
     "metadata": {},
     "output_type": "execute_result"
    }
   ],
   "source": [
    "X,X.sum(axis=1)"
   ]
  },
  {
   "cell_type": "code",
   "execution_count": 62,
   "id": "0fac31fd-0493-4b87-a480-0097705dcfb0",
   "metadata": {},
   "outputs": [
    {
     "data": {
      "text/plain": [
       "<tf.Tensor: shape=(3,), dtype=int32, numpy=array([27, 31, 10])>"
      ]
     },
     "execution_count": 62,
     "metadata": {},
     "output_type": "execute_result"
    }
   ],
   "source": [
    "tf.reduce_sum(X_tf,1)"
   ]
  },
  {
   "cell_type": "code",
   "execution_count": 63,
   "id": "ae475da7-6618-488b-9ae8-efcd388bbbaa",
   "metadata": {},
   "outputs": [
    {
     "data": {
      "text/plain": [
       "(array([25,  2,  5], dtype=int16),\n",
       " array([[ 25],\n",
       "        [  2],\n",
       "        [ -3],\n",
       "        [-23]]))"
      ]
     },
     "execution_count": 63,
     "metadata": {},
     "output_type": "execute_result"
    }
   ],
   "source": [
    "x,y"
   ]
  },
  {
   "cell_type": "code",
   "execution_count": 64,
   "id": "6ed369d2-a8f2-4215-b2f7-f29893cdb988",
   "metadata": {},
   "outputs": [
    {
     "data": {
      "text/plain": [
       "array([27,  4,  7], dtype=int16)"
      ]
     },
     "execution_count": 64,
     "metadata": {},
     "output_type": "execute_result"
    }
   ],
   "source": [
    "y=x+2\n",
    "y"
   ]
  },
  {
   "cell_type": "code",
   "execution_count": 65,
   "id": "8f777a6a-6445-47eb-b123-58151066a1ee",
   "metadata": {},
   "outputs": [
    {
     "data": {
      "text/plain": [
       "718"
      ]
     },
     "execution_count": 65,
     "metadata": {},
     "output_type": "execute_result"
    }
   ],
   "source": [
    "np.dot(x,y)"
   ]
  },
  {
   "cell_type": "code",
   "execution_count": 66,
   "id": "25fd7b6a-0b31-4f99-9829-56da37b7a9e5",
   "metadata": {},
   "outputs": [
    {
     "data": {
      "text/plain": [
       "<tf.Tensor: shape=(3, 2), dtype=int32, numpy=\n",
       "array([[50,  4],\n",
       "       [10, 52],\n",
       "       [ 6, 14]])>"
      ]
     },
     "execution_count": 66,
     "metadata": {},
     "output_type": "execute_result"
    }
   ],
   "source": [
    "Y_tf=X_tf*2\n",
    "Y_tf"
   ]
  },
  {
   "cell_type": "code",
   "execution_count": 67,
   "id": "aa82a06d-e61c-401d-8fd0-93e45bed7d3b",
   "metadata": {},
   "outputs": [
    {
     "data": {
      "text/plain": [
       "tensor(12.)"
      ]
     },
     "execution_count": 67,
     "metadata": {},
     "output_type": "execute_result"
    }
   ],
   "source": [
    "torch.dot(torch.tensor([25,2,5.]),torch.tensor([0,1,2.]))"
   ]
  },
  {
   "cell_type": "markdown",
   "id": "ca7d3743-2e9d-4397-b1f5-5cc1156c7f25",
   "metadata": {},
   "source": [
    "Solving Linear Systems <br>\n",
    "In the <b>Substitution</b> example, the two equations in the system are:\n",
    "<br>                 $y = 3x$\n",
    "<br>                 $-5x+2y=2$\n",
    "<br>Isolate one variable and solve for equations"
   ]
  },
  {
   "cell_type": "code",
   "execution_count": 68,
   "id": "5abed17b-5545-437c-a625-28c331438cbf",
   "metadata": {},
   "outputs": [],
   "source": [
    "x1=np.linspace(-10,10,1000)\n",
    "y1=3*x1\n",
    "y2=1+(5*x1)/2"
   ]
  },
  {
   "cell_type": "code",
   "execution_count": 69,
   "id": "48285e68-5f18-4492-bc09-8b2d41ed665c",
   "metadata": {},
   "outputs": [
    {
     "data": {
      "image/png": "[encoded data removed]",
      "text/plain": [
       "<Figure size 432x288 with 1 Axes>"
      ]
     },
     "metadata": {
      "needs_background": "light"
     },
     "output_type": "display_data"
    }
   ],
   "source": [
    "fig,ax=plt.subplots()\n",
    "plt.xlabel(\"X\")\n",
    "plt.ylabel(\"Y\")\n",
    "ax.set_xlim([0,3])\n",
    "ax.set_ylim([0,8])\n",
    "ax.plot(x1,y1,c=\"green\")\n",
    "ax.plot(x1,y2,c=\"brown\")\n",
    "plt.axvline(x=2,color=\"purple\",linestyle='--')\n",
    "_ = plt.axhline(y=6,color=\"purple\",linestyle=\"--\")"
   ]
  },
  {
   "cell_type": "markdown",
   "id": "bfb8063b-c2a8-4efb-afca-b0993c03bab9",
   "metadata": {},
   "source": [
    "Another set of equations <br> \n",
    "<hr />                2x-3y=15<br>\n",
    "4x+10y=14<br>\n",
    "Isolate y and equate them from both the equations"
   ]
  },
  {
   "cell_type": "code",
   "execution_count": 70,
   "id": "21b46e75-e39f-4adb-9a7c-7146ad12f900",
   "metadata": {},
   "outputs": [],
   "source": [
    "y1=(2*x1-15)/3\n",
    "y2=(14-4*x1)/10"
   ]
  },
  {
   "cell_type": "code",
   "execution_count": 71,
   "id": "2dd3f120-5c4f-4e53-9b80-04ce0c3ddf6c",
   "metadata": {},
   "outputs": [
    {
     "data": {
      "image/png": "[encoded data removed]",
      "text/plain": [
       "<Figure size 432x288 with 1 Axes>"
      ]
     },
     "metadata": {
      "needs_background": "light"
     },
     "output_type": "display_data"
    }
   ],
   "source": [
    "fig,ax=plt.subplots()\n",
    "plt.xlabel(\"x\")\n",
    "plt.ylabel(\"y\")\n",
    "ax.set_xlim([-2,10])\n",
    "ax.set_ylim([-6,4])\n",
    "plt.axvline(x=0,color=\"lightgray\")\n",
    "plt.axhline(y=0,color=\"lightgray\")\n",
    "ax.plot(x1,y1,color=\"red\")\n",
    "ax.plot(x1,y2,color=\"blue\")\n",
    "plt.axvline(x=6,color=\"purple\",linestyle='--')\n",
    "_=plt.axhline(y=-1,color=\"Yellow\",linestyle=\"--\")"
   ]
  },
  {
   "cell_type": "markdown",
   "id": "496edfdb-abf2-4eb4-8082-7ddd68f2252e",
   "metadata": {},
   "source": [
    "Frobenius norm:<br>\n",
    "$||X||_F = \\sqrt{\\Sigma_{i,j} X_{i,j}^2}$\n",
    "Measures the size of matrix in terms of euclidean distance"
   ]
  },
  {
   "cell_type": "code",
   "execution_count": 72,
   "id": "93b5461b-e0f9-476a-9d1e-b62f80a2a049",
   "metadata": {},
   "outputs": [
    {
     "data": {
      "text/plain": [
       "array([[1, 2],\n",
       "       [3, 4]])"
      ]
     },
     "execution_count": 72,
     "metadata": {},
     "output_type": "execute_result"
    }
   ],
   "source": [
    "x=np.array([[1,2],[3,4]])\n",
    "x"
   ]
  },
  {
   "cell_type": "code",
   "execution_count": 73,
   "id": "d554f8c3-1b8e-4f2e-ba3d-dd6e6c427013",
   "metadata": {},
   "outputs": [
    {
     "data": {
      "text/plain": [
       "True"
      ]
     },
     "execution_count": 73,
     "metadata": {},
     "output_type": "execute_result"
    }
   ],
   "source": [
    "np.linalg.norm(x) == (1**2+2**2+3**2+4**2)**(1/2)"
   ]
  },
  {
   "cell_type": "code",
   "execution_count": 74,
   "id": "baa4df5e-ff25-4fa4-8b6e-81127856c79c",
   "metadata": {},
   "outputs": [
    {
     "data": {
      "text/plain": [
       "tensor(5.4772)"
      ]
     },
     "execution_count": 74,
     "metadata": {},
     "output_type": "execute_result"
    }
   ],
   "source": [
    "X_pt=torch.tensor([[1,2],[3,4.]])\n",
    "torch.norm(X_pt) # Can calculate norm of only float type values"
   ]
  },
  {
   "cell_type": "code",
   "execution_count": 75,
   "id": "108f0ad5-08be-4371-974a-8971e7a4eb6c",
   "metadata": {},
   "outputs": [
    {
     "data": {
      "text/plain": [
       "<tf.Tensor: shape=(), dtype=float32, numpy=5.477226>"
      ]
     },
     "execution_count": 75,
     "metadata": {},
     "output_type": "execute_result"
    }
   ],
   "source": [
    "X_tf=tf.Variable([[1,2],[3,4.]])\n",
    "tf.norm(X_tf) # Can calculate norm of only float type values"
   ]
  },
  {
   "cell_type": "code",
   "execution_count": 76,
   "id": "e54f1a8b-ba4b-4522-a3af-77ea4f61a3fd",
   "metadata": {},
   "outputs": [
    {
     "data": {
      "text/plain": [
       "(array([[3, 4],\n",
       "        [5, 6],\n",
       "        [7, 8]]),\n",
       " array([1, 2]))"
      ]
     },
     "execution_count": 76,
     "metadata": {},
     "output_type": "execute_result"
    }
   ],
   "source": [
    "A=np.array([[3,4],[5,6],[7,8]])\n",
    "b=np.array([1,2])\n",
    "A,b"
   ]
  },
  {
   "cell_type": "code",
   "execution_count": 77,
   "id": "998a8240-73ca-462c-abb9-d6d466e3f77c",
   "metadata": {},
   "outputs": [
    {
     "data": {
      "text/plain": [
       "array([11, 17, 23])"
      ]
     },
     "execution_count": 77,
     "metadata": {},
     "output_type": "execute_result"
    }
   ],
   "source": [
    "np.dot(A,b) # Matrix multiplication of a matrix and a vector"
   ]
  },
  {
   "cell_type": "code",
   "execution_count": 78,
   "id": "23162172-e693-4bb0-bf30-e663ebe525ba",
   "metadata": {},
   "outputs": [
    {
     "data": {
      "text/plain": [
       "tensor([11, 17, 23])"
      ]
     },
     "execution_count": 78,
     "metadata": {},
     "output_type": "execute_result"
    }
   ],
   "source": [
    "A_pt=torch.tensor([[3,4],[5,6],[7,8]])\n",
    "b_pt=torch.tensor([1,2])\n",
    "torch.matmul(A_pt,b_pt)"
   ]
  },
  {
   "cell_type": "code",
   "execution_count": 79,
   "id": "e92d01cf-3c35-4848-9d25-da9d3cfbcca8",
   "metadata": {},
   "outputs": [
    {
     "data": {
      "text/plain": [
       "<tf.Tensor: shape=(3,), dtype=int32, numpy=array([11, 17, 23])>"
      ]
     },
     "execution_count": 79,
     "metadata": {},
     "output_type": "execute_result"
    }
   ],
   "source": [
    "tf.linalg.matvec(tf.Variable([[3,4],[5,6],[7,8]]),tf.Variable([1,2]))"
   ]
  },
  {
   "cell_type": "code",
   "execution_count": 80,
   "id": "40c7ac3a-ce97-4836-8576-b7ee9f3049ce",
   "metadata": {},
   "outputs": [],
   "source": [
    "A_tf,b_tf=tf.Variable([[3,4],[5,6],[7,8]]),tf.Variable([1,2])"
   ]
  },
  {
   "cell_type": "code",
   "execution_count": 81,
   "id": "5e7bdb8c-e491-4b04-8130-d3ada67ea906",
   "metadata": {},
   "outputs": [
    {
     "data": {
      "text/plain": [
       "array([[11, 27],\n",
       "       [17, 45],\n",
       "       [23, 63]])"
      ]
     },
     "execution_count": 81,
     "metadata": {},
     "output_type": "execute_result"
    }
   ],
   "source": [
    "B=np.array([[1,9],[2,0]])\n",
    "np.dot(A,B) # gives matrix multiplication of the entered matrices"
   ]
  },
  {
   "cell_type": "code",
   "execution_count": 82,
   "id": "7c1767aa-f946-459f-831a-606a38890879",
   "metadata": {},
   "outputs": [
    {
     "data": {
      "text/plain": [
       "tensor([[11, 27],\n",
       "        [17, 45],\n",
       "        [23, 63]])"
      ]
     },
     "execution_count": 82,
     "metadata": {},
     "output_type": "execute_result"
    }
   ],
   "source": [
    "B_pt=torch.tensor([[1,9],[2,0]]) # Or torch.from_numpy(B) can be used\n",
    "torch.matmul(A_pt,B_pt)"
   ]
  },
  {
   "cell_type": "code",
   "execution_count": 83,
   "id": "98d02d86-541b-48ee-b254-517678893073",
   "metadata": {},
   "outputs": [
    {
     "data": {
      "text/plain": [
       "<tf.Tensor: shape=(2, 2), dtype=int32, numpy=\n",
       "array([[1, 9],\n",
       "       [2, 0]])>"
      ]
     },
     "execution_count": 83,
     "metadata": {},
     "output_type": "execute_result"
    }
   ],
   "source": [
    "B_tf=tf.convert_to_tensor(B,dtype=tf.int32)\n",
    "B_tf"
   ]
  },
  {
   "cell_type": "code",
   "execution_count": 84,
   "id": "d8be8bb2-8b53-4b14-b602-f1529eea3085",
   "metadata": {},
   "outputs": [
    {
     "data": {
      "text/plain": [
       "<tf.Tensor: shape=(3, 2), dtype=int32, numpy=\n",
       "array([[11, 27],\n",
       "       [17, 45],\n",
       "       [23, 63]])>"
      ]
     },
     "execution_count": 84,
     "metadata": {},
     "output_type": "execute_result"
    }
   ],
   "source": [
    "tf.matmul(A_tf,B_tf)"
   ]
  },
  {
   "cell_type": "code",
   "execution_count": 85,
   "id": "862149cb-fe60-4b69-b833-c345e4c90f53",
   "metadata": {},
   "outputs": [
    {
     "data": {
      "text/plain": [
       "array([[ 1.5,  1. ],\n",
       "       [-2.5, -2. ]])"
      ]
     },
     "execution_count": 85,
     "metadata": {},
     "output_type": "execute_result"
    }
   ],
   "source": [
    "X=np.array([[4,2],[-5,-3.]])\n",
    "np.linalg.inv(X)"
   ]
  },
  {
   "cell_type": "code",
   "execution_count": 86,
   "id": "5b7a5b36-3fc7-48c3-bb47-0e1a1eea002c",
   "metadata": {},
   "outputs": [
    {
     "data": {
      "text/plain": [
       "tensor([[ 1.5000,  1.0000],\n",
       "        [-2.5000, -2.0000]], dtype=torch.float64)"
      ]
     },
     "execution_count": 86,
     "metadata": {},
     "output_type": "execute_result"
    }
   ],
   "source": [
    "torch.inverse(torch.from_numpy(X))"
   ]
  },
  {
   "cell_type": "code",
   "execution_count": 87,
   "id": "fb69367e-7a50-4124-9dcf-6284d0edefdf",
   "metadata": {},
   "outputs": [
    {
     "data": {
      "text/plain": [
       "<tf.Tensor: shape=(2, 2), dtype=float64, numpy=\n",
       "array([[ 1.5,  1. ],\n",
       "       [-2.5, -2. ]])>"
      ]
     },
     "execution_count": 87,
     "metadata": {},
     "output_type": "execute_result"
    }
   ],
   "source": [
    "tf.linalg.inv(tf.convert_to_tensor(X))"
   ]
  },
  {
   "cell_type": "code",
   "execution_count": 88,
   "id": "5a0bf4f8-a03b-499d-bfc1-6af439a2366a",
   "metadata": {},
   "outputs": [],
   "source": [
    "#np.linalg.inv(np.array([[-4,-1],[-8,-2]])) Error due to singular matrix error"
   ]
  },
  {
   "cell_type": "markdown",
   "id": "588cf66a-13b4-455e-81dd-95e1f80c7d0f",
   "metadata": {},
   "source": [
    "Orthagonal Matrices are matrices where all the rows and columns are made up by the orthonormal vectors\n",
    "<br>\n",
    "$A^TA = AA^T=I$<br>\n",
    "$A^T=A^{-1}$"
   ]
  },
  {
   "cell_type": "code",
   "execution_count": 89,
   "id": "4c7bb4ef-c90f-490f-8553-4eecb8d29607",
   "metadata": {},
   "outputs": [
    {
     "data": {
      "text/plain": [
       "1.0"
      ]
     },
     "execution_count": 89,
     "metadata": {},
     "output_type": "execute_result"
    }
   ],
   "source": [
    "np.linalg.norm([[1,0,0]])"
   ]
  },
  {
   "cell_type": "markdown",
   "id": "803a573f-2569-4ce2-8be5-5bff83650090",
   "metadata": {},
   "source": [
    "## Eigendecomposition"
   ]
  },
  {
   "cell_type": "code",
   "execution_count": 90,
   "id": "2855fa00-cb4f-4b87-80dc-155235fd0808",
   "metadata": {},
   "outputs": [],
   "source": [
    "v=np.array([3,1])"
   ]
  },
  {
   "cell_type": "code",
   "execution_count": 91,
   "id": "0feb8e94-bfa2-4a8d-b38b-899e9227240b",
   "metadata": {},
   "outputs": [],
   "source": [
    "def plot_vectors(vectors, colors):\n",
    "    \"\"\"\n",
    "    Plot one or more vectors in a 2D plane, specifying a color for each. \n",
    "\n",
    "    Arguments\n",
    "    ---------\n",
    "    vectors: list of lists or of arrays\n",
    "        Coordinates of the vectors to plot. For example, [[1, 3], [2, 2]] \n",
    "        contains two vectors to plot, [1, 3] and [2, 2].\n",
    "    colors: list\n",
    "        Colors of the vectors. For instance: ['red', 'blue'] will display the\n",
    "        first vector in red and the second in blue.\n",
    "        \n",
    "    Example\n",
    "    -------\n",
    "    plot_vectors([[1, 3], [2, 2]], ['red', 'blue'])\n",
    "    plt.xlim(-1, 4)\n",
    "    plt.ylim(-1, 4)\n",
    "    \"\"\"\n",
    "    plt.figure()\n",
    "    plt.axvline(x=0, color='lightblue')\n",
    "    plt.axhline(y=0, color='lightgray')\n",
    "\n",
    "    for i in range(len(vectors)):\n",
    "        x = np.concatenate([[0,0],vectors[i]])\n",
    "        plt.quiver([x[0]], [x[1]], [x[2]], [x[3]],\n",
    "                   angles='xy', scale_units='xy', scale=1, color=colors[i],)"
   ]
  },
  {
   "cell_type": "code",
   "execution_count": 92,
   "id": "472a3f08-b475-4ace-ac71-2051c6867d6a",
   "metadata": {},
   "outputs": [
    {
     "data": {
      "text/plain": [
       "<matplotlib.legend.Legend at 0x1cc6055a8e0>"
      ]
     },
     "execution_count": 92,
     "metadata": {},
     "output_type": "execute_result"
    },
    {
     "data": {
      "image/png": "[encoded data removed]",
      "text/plain": [
       "<Figure size 432x288 with 1 Axes>"
      ]
     },
     "metadata": {
      "needs_background": "light"
     },
     "output_type": "display_data"
    }
   ],
   "source": [
    "plot_vectors([v],['green'])\n",
    "plt.xlim(-1,5)\n",
    "_ = plt.ylim(-1,5)\n",
    "plt.title(\"Vector (3,1)\")\n",
    "plt.legend([\"y-axis\",\"x-axis\",\"vector (3,1)\" ])"
   ]
  },
  {
   "cell_type": "code",
   "execution_count": 93,
   "id": "77bfc75a-9337-4092-a60a-704df546b97f",
   "metadata": {},
   "outputs": [
    {
     "data": {
      "text/plain": [
       "<matplotlib.legend.Legend at 0x1cc605cad90>"
      ]
     },
     "execution_count": 93,
     "metadata": {},
     "output_type": "execute_result"
    },
    {
     "data": {
      "image/png": "[encoded data removed]",
      "text/plain": [
       "<Figure size 432x288 with 1 Axes>"
      ]
     },
     "metadata": {
      "needs_background": "light"
     },
     "output_type": "display_data"
    }
   ],
   "source": [
    "E=np.array([[1,0],[0,-1]])#Flips vectors over the x_axis\n",
    "E2=np.array([[-1,0],[0,1]])#Flips over the y-axis\n",
    "plot_vectors([v,np.dot(E,v),np.dot(E2,v)],['green','blue','black'])\n",
    "plt.xlim(-5,5)\n",
    "_ = plt.ylim(-5,5)\n",
    "plt.title(\"Affine transformation\")\n",
    "plt.legend(['Y-axis','X-axis','Original','Flipped X','Flipped Y'],)#'center')"
   ]
  },
  {
   "cell_type": "markdown",
   "id": "312e1c72-8b7b-44ab-b7e6-6217273d993f",
   "metadata": {},
   "source": [
    "Affine transformation: a change in geometry that may adjust distances or angles between vectors, but preserves parallelism between them.<br>\n",
    "In addition to flipping a matrix over an axis (a.k.a,<i>reflection</i>),other common affine transformation include:\n",
    "<ul>\n",
    "    <li><em>Scaling</em> (Changing the length of vectors)</li>\n",
    "    <li><em>Shearing</em> (Example of this on Mona list coming up shortly)</li>\n",
    "    <li><em>Rotation</em></li>\n",
    "</ul>"
   ]
  },
  {
   "cell_type": "code",
   "execution_count": 94,
   "id": "6117ad6b-6d85-48b2-8cbb-073ee872d8f8",
   "metadata": {},
   "outputs": [],
   "source": [
    "A=np.array([[-1,4],[2,-2]])"
   ]
  },
  {
   "cell_type": "code",
   "execution_count": 95,
   "id": "4f5d061c-65c4-4740-be82-03110088553c",
   "metadata": {},
   "outputs": [
    {
     "data": {
      "image/png": "[encoded data removed]",
      "text/plain": [
       "<Figure size 432x288 with 1 Axes>"
      ]
     },
     "metadata": {
      "needs_background": "light"
     },
     "output_type": "display_data"
    }
   ],
   "source": [
    "v2=np.array([2,1])\n",
    "plot_vectors([v2,np.dot(A,v2)],['lightgreen','green'])\n",
    "plt.xlim(-1,5)\n",
    "_=plt.ylim(-1,5)\n"
   ]
  },
  {
   "cell_type": "code",
   "execution_count": 96,
   "id": "2b81c211-4a64-4ef9-b655-be9080562fe1",
   "metadata": {},
   "outputs": [],
   "source": [
    "v=np.array([3,1])"
   ]
  },
  {
   "cell_type": "code",
   "execution_count": 97,
   "id": "ef513a91-e191-4585-a51f-caf6cf41422b",
   "metadata": {},
   "outputs": [
    {
     "data": {
      "text/plain": [
       "matrix([[3, 1]])"
      ]
     },
     "execution_count": 97,
     "metadata": {},
     "output_type": "execute_result"
    }
   ],
   "source": [
    "np.matrix(np.array([3,1]))"
   ]
  },
  {
   "cell_type": "code",
   "execution_count": 98,
   "id": "6edc7f3d-bb57-4f9c-9765-fb188ad12ee1",
   "metadata": {},
   "outputs": [],
   "source": [
    "v3=np.array([-3,-1])\n",
    "v4=np.array([-1,1])\n"
   ]
  },
  {
   "cell_type": "code",
   "execution_count": 99,
   "id": "e2fe2228-1b46-4fa3-a4a0-4fd7155994ec",
   "metadata": {},
   "outputs": [],
   "source": [
    "V=np.concatenate((np.matrix(v).T,\n",
    "                 np.matrix(v2).T,\n",
    "                 np.matrix(v3).T,\n",
    "                 np.matrix(v4).T\n",
    "                 ),axis=1)"
   ]
  },
  {
   "cell_type": "code",
   "execution_count": 100,
   "id": "c341d69a-3cde-4d8f-b3ee-22c0c78c42f3",
   "metadata": {},
   "outputs": [
    {
     "data": {
      "text/plain": [
       "matrix([[ 3,  2, -3, -1],\n",
       "        [ 1,  1, -1,  1]])"
      ]
     },
     "execution_count": 100,
     "metadata": {},
     "output_type": "execute_result"
    }
   ],
   "source": [
    "V"
   ]
  },
  {
   "cell_type": "code",
   "execution_count": 101,
   "id": "a4208dcf-cf8c-428d-a0be-83cb73bc448e",
   "metadata": {},
   "outputs": [
    {
     "data": {
      "text/plain": [
       "matrix([[ 3,  2, -3, -1],\n",
       "        [ 1,  1, -1,  1]])"
      ]
     },
     "execution_count": 101,
     "metadata": {},
     "output_type": "execute_result"
    }
   ],
   "source": [
    "np.dot(np.array([[1,0],[0,1]]),V)"
   ]
  },
  {
   "cell_type": "code",
   "execution_count": 102,
   "id": "793a40bb-5625-400d-b6c4-369dacef0faa",
   "metadata": {},
   "outputs": [
    {
     "data": {
      "text/plain": [
       "matrix([[ 1,  2, -1,  5],\n",
       "        [ 4,  2, -4, -4]])"
      ]
     },
     "execution_count": 102,
     "metadata": {},
     "output_type": "execute_result"
    }
   ],
   "source": [
    "np.dot(A,V)"
   ]
  },
  {
   "cell_type": "code",
   "execution_count": 103,
   "id": "33aa4ef1-4a19-45cf-a1ad-c5ff472d35b6",
   "metadata": {},
   "outputs": [],
   "source": [
    "def vectorfy(mtrx,clmn):\n",
    "    return np.array(mtrx[:,clmn]).reshape(-1)"
   ]
  },
  {
   "cell_type": "code",
   "execution_count": 104,
   "id": "b065aac4-3875-4db1-9dd5-54830ea7bfca",
   "metadata": {},
   "outputs": [
    {
     "data": {
      "text/plain": [
       "array([3, 1])"
      ]
     },
     "execution_count": 104,
     "metadata": {},
     "output_type": "execute_result"
    }
   ],
   "source": [
    "vectorfy(V,0)"
   ]
  },
  {
   "cell_type": "code",
   "execution_count": 105,
   "id": "58980665-9d7a-46b9-acaa-b8d9327d51af",
   "metadata": {},
   "outputs": [
    {
     "data": {
      "image/png": "[encoded data removed]",
      "text/plain": [
       "<Figure size 432x288 with 1 Axes>"
      ]
     },
     "metadata": {
      "needs_background": "light"
     },
     "output_type": "display_data"
    }
   ],
   "source": [
    "AV=np.dot(A,V)\n",
    "plot_vectors([vectorfy(V, 0), vectorfy(V, 1), vectorfy(V, 2), vectorfy(V, 3),\n",
    "             vectorfy(AV, 0), vectorfy(AV, 1), vectorfy(AV, 2), vectorfy(AV, 3)], \n",
    "            ['lightblue', 'lightgreen', 'lightgray', 'orange',\n",
    "             'blue', 'green', 'gray', 'red'])\n",
    "plt.xlim(-4, 6)\n",
    "_ = plt.ylim(-5, 5)"
   ]
  },
  {
   "cell_type": "code",
   "execution_count": 106,
   "id": "4eb74571-fbe7-40bf-b5d8-74ea39286925",
   "metadata": {},
   "outputs": [
    {
     "data": {
      "text/plain": [
       "array([[-1,  4],\n",
       "       [ 2, -2]])"
      ]
     },
     "execution_count": 106,
     "metadata": {},
     "output_type": "execute_result"
    }
   ],
   "source": [
    "A"
   ]
  },
  {
   "cell_type": "markdown",
   "id": "ead1af3d-bd92-4823-89b6-2c9ba06e106e",
   "metadata": {},
   "source": [
    "QR algorithm was developed . Helpful in deriving eigen vectors and eigenvalues algebraically. \n",
    "Numpy's eig() method returns a tuple of:\n",
    "<ul>\n",
    "    <li>a vector of eigen values</li>\n",
    "    <li>a matrix of eigen vectors</li>\n",
    "</ul>"
   ]
  },
  {
   "cell_type": "code",
   "execution_count": 107,
   "id": "6d67b1af-4014-4866-a0b4-c90f7e9f6abd",
   "metadata": {},
   "outputs": [],
   "source": [
    "lambdas,V=np.linalg.eig(A)"
   ]
  },
  {
   "cell_type": "code",
   "execution_count": 110,
   "id": "56961e79-7af3-440f-8df3-d9d8179a8b98",
   "metadata": {},
   "outputs": [
    {
     "data": {
      "text/plain": [
       "(array([[ 0.86011126, -0.76454754],\n",
       "        [ 0.51010647,  0.64456735]]),\n",
       " array([ 1.37228132, -4.37228132]))"
      ]
     },
     "execution_count": 110,
     "metadata": {},
     "output_type": "execute_result"
    }
   ],
   "source": [
    "V,lambdas # Eigen values corresponding to the eigen vectors"
   ]
  },
  {
   "cell_type": "code",
   "execution_count": 117,
   "id": "6092e43c-d413-4143-ad31-f1d0d73d1f8a",
   "metadata": {},
   "outputs": [
    {
     "data": {
      "text/plain": [
       "(array([1.18031462, 0.70000958]), array([1.18031462, 0.70000958]))"
      ]
     },
     "execution_count": 117,
     "metadata": {},
     "output_type": "execute_result"
    }
   ],
   "source": [
    "v=V[:,0]\n",
    "Av=np.dot(A,v)\n",
    "Av,lambdas[0]*v"
   ]
  },
  {
   "cell_type": "code",
   "execution_count": 118,
   "id": "07cfd7e6-b4eb-4c8f-aa56-25bf22c20544",
   "metadata": {},
   "outputs": [
    {
     "data": {
      "image/png": "[encoded data removed]",
      "text/plain": [
       "<Figure size 432x288 with 1 Axes>"
      ]
     },
     "metadata": {
      "needs_background": "light"
     },
     "output_type": "display_data"
    }
   ],
   "source": [
    "plot_vectors([Av,v],['blue','lightblue'])\n",
    "plt.xlim(-1,2)\n",
    "_=plt.ylim(-1,2)"
   ]
  },
  {
   "cell_type": "code",
   "execution_count": 119,
   "id": "faa5e48b-1e6f-4a2c-9e2b-be440e250dc1",
   "metadata": {},
   "outputs": [
    {
     "data": {
      "text/plain": [
       "tensor([[-1.,  4.],\n",
       "        [ 2., -2.]])"
      ]
     },
     "execution_count": 119,
     "metadata": {},
     "output_type": "execute_result"
    }
   ],
   "source": [
    "A_p=torch.tensor([[-1,4],[2,-2.]])\n",
    "A_p"
   ]
  },
  {
   "cell_type": "code",
   "execution_count": 121,
   "id": "450f43c6-919c-496a-b4be-cc2158f4d214",
   "metadata": {},
   "outputs": [
    {
     "data": {
      "text/plain": [
       "torch.return_types.eig(\n",
       "eigenvalues=tensor([[ 1.3723,  0.0000],\n",
       "        [-4.3723,  0.0000]]),\n",
       "eigenvectors=tensor([[ 0.8601, -0.7645],\n",
       "        [ 0.5101,  0.6446]]))"
      ]
     },
     "execution_count": 121,
     "metadata": {},
     "output_type": "execute_result"
    }
   ],
   "source": [
    "eigens=torch.eig(A_p,eigenvectors=True)\n",
    "eigens"
   ]
  },
  {
   "cell_type": "code",
   "execution_count": 123,
   "id": "47f8ad1b-7b83-4498-9f24-8f15b5c73f1c",
   "metadata": {},
   "outputs": [
    {
     "data": {
      "text/plain": [
       "tensor([0.8601, 0.5101])"
      ]
     },
     "execution_count": 123,
     "metadata": {},
     "output_type": "execute_result"
    }
   ],
   "source": [
    "v_p=eigens.eigenvectors[:,0]\n",
    "v_p"
   ]
  },
  {
   "cell_type": "code",
   "execution_count": 124,
   "id": "bcc6ba21-9b6f-407b-920a-634ec7205be5",
   "metadata": {},
   "outputs": [
    {
     "data": {
      "text/plain": [
       "tensor(1.3723)"
      ]
     },
     "execution_count": 124,
     "metadata": {},
     "output_type": "execute_result"
    }
   ],
   "source": [
    "lambda_p=eigens.eigenvalues[0][0]\n",
    "lambda_p"
   ]
  },
  {
   "cell_type": "code",
   "execution_count": 125,
   "id": "207bf222-6e94-41ab-94fb-33b0f0714247",
   "metadata": {},
   "outputs": [
    {
     "data": {
      "text/plain": [
       "tensor([1.1803, 0.7000])"
      ]
     },
     "execution_count": 125,
     "metadata": {},
     "output_type": "execute_result"
    }
   ],
   "source": [
    "Av_p=torch.matmul(A_p,v_p)\n",
    "Av_p"
   ]
  }
 ],
 "metadata": {
  "kernelspec": {
   "display_name": "Python 3 (ipykernel)",
   "language": "python",
   "name": "python3"
  },
  "language_info": {
   "codemirror_mode": {
    "name": "ipython",
    "version": 3
   },
   "file_extension": ".py",
   "mimetype": "text/x-python",
   "name": "python",
   "nbconvert_exporter": "python",
   "pygments_lexer": "ipython3",
   "version": "3.8.5"
  }
 },
 "nbformat": 4,
 "nbformat_minor": 5
}
