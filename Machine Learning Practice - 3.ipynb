{
 "cells": [
  {
   "cell_type": "code",
   "execution_count": null,
   "id": "e17541df",
   "metadata": {
    "scrolled": true
   },
   "outputs": [],
   "source": [
    "# WEEK 10\n",
    "\n",
    "import matplotlib.pyplot as plt\n",
    "from keras.datasets import mnist\n",
    "from sklearn.ensemble import BaggingClassifier\n",
    "from sklearn.ensemble import RandomForestClassifier\n",
    "from sklearn.tree import DecisionTreeClassifier\n",
    "from sklearn.model_selection import train_test_split\n",
    "from sklearn.model_selection import cross_validate\n",
    "from sklearn.model_selection import cross_val_score\n",
    "from sklearn.model_selection import ShuffleSplit\n",
    "from sklearn.metrics import confusion_matrix,ConfusionMatrixDisplay\n",
    "from sklearn.metrics import classification_report\n",
    "from sklearn.pipeline import Pipeline\n",
    "\n",
    "# Loading the dataset\n",
    "(X_train,y_train),(X_test,y_test)=mnist.load_data()\n",
    "\n",
    "X_train.shape,y_train.shape,X_test.shape,y_test.shape\n",
    "\n",
    "# Flattening each input image into a vector of length 784\n",
    "X_train = X_train.reshape(X_train.shape[0],28*28)\n",
    "X_test = X_test.reshape(X_test.shape[0],28*28)\n",
    "#Normalizing\n",
    "X_train = X_train /255\n",
    "X_test = X_test /255\n",
    "\n",
    "\n",
    "X_train.shape,X_test.shape\n",
    "\n",
    "cv=ShuffleSplit(n_splits=10,test_size=0.2,random_state=42)\n",
    "\n",
    "# function for training classifiers for MNIST multiclass classification problem\n",
    "\n",
    "def train_classifiers(estimator,X_train,y_train,cv,name):\n",
    "    estimator.fit(X_train,y_train)\n",
    "    cv_train_score=cross_val_score(estimator,X_train,y_train,\n",
    "                                  cv=cv,scoring='f1_macro')\n",
    "    print(f\"On an average {name} model has f1 score of {cv_train_score.mean():.3f} +/- {cv_train_score.std():.3f} on training set\")\n",
    "\n",
    "# Eval function takes estimator, test , feature matrix and labels as input and produce\n",
    "# classification report and confusion matrix.\n",
    "def eval(estimator,X_test,y_test):\n",
    "    y_pred=estimator.predict(X_test)\n",
    "    print(\"# Classification report\")\n",
    "    print(classification_report(y_test,y_pred))\n",
    "    print(\"# Confusion matrix\")\n",
    "    disp=ConfusionMatrixDisplay(\n",
    "    confusion_matrix=confusion_matrix(y_test,y_pred))\n",
    "    disp.plot()\n",
    "    plt.title(\"Confusion matrix\")\n",
    "    plt.show()\n",
    "\n",
    "# Lets train 3 different classifiers\n",
    "# Decision tree, Bagging Classifier, Random Forest Classifier\n",
    "\n",
    "# Decision Tree for MNIST dataset\n",
    "\n",
    "dt_pipeline=Pipeline([('classifier',DecisionTreeClassifier())])\n",
    "train_classifiers(dt_pipeline,X_train,y_train.ravel(),cv,'decision tree')\n",
    "\n",
    "eval(dt_pipeline,X_test,y_test)\n",
    "\n",
    "# BAGGING CLASSIFIER ON MNIST\n",
    "bag_pipeline=Pipeline([('classifier',BaggingClassifier())])\n",
    "train_classifiers(bag_pipeline,X_train,y_train.ravel(),cv,'bagging')\n",
    "\n",
    "eval(bag_pipeline,X_test,y_test)\n",
    "\n",
    "# RANDOM FOREST CLASSIFIER ON MNIST\n",
    "randomforest_pipeline=Pipeline([('classifier',RandomForestClassifier())])\n",
    "train_classifiers(randomforest_pipeline,X_train,y_train.ravel(),cv,'random forest')\n",
    "\n",
    "eval(randomforest_pipeline,X_test,y_test)\n",
    "\n",
    "# Bagging and Random Forest Regressor on California Housing Dataset\n",
    "import numpy as np\n",
    "from sklearn.datasets import fetch_california_housing\n",
    "from sklearn.ensemble import BaggingRegressor\n",
    "from sklearn.ensemble import RandomForestRegressor\n",
    "from sklearn.tree import DecisionTreeRegressor\n",
    "from sklearn.metrics import mean_absolute_error\n",
    "from sklearn.model_selection import cross_validate\n",
    "from sklearn.model_selection import train_test_split\n",
    "from sklearn.model_selection import RandomizedSearchCV\n",
    "from sklearn.model_selection import ShuffleSplit\n",
    "\n",
    "np.random.seed(306)\n",
    "\n",
    "cv=ShuffleSplit(n_splits=10,test_size=0.2,random_state=42)\n",
    "\n",
    "features,labels = fetch_california_housing(as_frame=True,\n",
    "                                          return_X_y=True)\n",
    "labels *= 100\n",
    "com_train_features,test_features,com_train_labels,test_labels=train_test_split(\n",
    "features,labels,random_state=42)\n",
    "train_features,dev_features,train_labels,dev_labels=train_test_split(\n",
    "com_train_features,com_train_labels,random_state=42)\n",
    "\n",
    "def train_regressor(estimator,X_train,y_train,cv,name):\n",
    "    cv_results=cross_validate(estimator,X_train,y_train,\n",
    "                             cv=cv,scoring='neg_mean_absolute_error',return_train_score=True,\n",
    "                             return_estimator=True)\n",
    "    cv_train_error=-1*cv_results['train_score']\n",
    "    cv_test_error = -1*cv_results['test_score']\n",
    "    print(f\"On an average {name} makes an error of \"\n",
    "         f\"{cv_train_error.mean():.3f}k+/-{cv_train_error.std():.3f}k on train set.\")\n",
    "    print(f\"On an average {name} makes an error of \"\n",
    "         f\"{cv_test_error.mean():.3f}k+/-{cv_test_error.std():.3f}k on test set.\")\n",
    "    \n",
    "\n",
    "train_regressor(DecisionTreeRegressor(),\n",
    "               com_train_features,com_train_labels,cv,'decision tree regressor')\n",
    "\n",
    "\n",
    "train_regressor(BaggingRegressor(),\n",
    "               com_train_features,com_train_labels,cv,'bagging regressor')\n",
    "\n",
    "\n",
    "train_regressor(RandomForestRegressor(),\n",
    "               com_train_features,com_train_labels,cv,'random forest regressor')\n",
    "\n",
    "\n",
    "# PARAMETRIC SEARCH OF RANDOM FOREST REGRESSOR\n",
    "import pandas as pd\n",
    "param_distribution={\n",
    "    'n_estimators':[1,2,5,10,20,50,100,200,500],\n",
    "    'max_leaf_nodes':[2,5,10,20,50,100],\n",
    "}\n",
    "search_cv=RandomizedSearchCV(\n",
    "RandomForestRegressor(n_jobs=2),param_distributions=param_distribution,\n",
    "                     scoring='neg_mean_absolute_error',n_iter=10,random_state=0,\n",
    "                     n_jobs=2)\n",
    "search_cv.fit(com_train_features,com_train_labels)\n",
    "columns=[f\"param_{name}\" for name in param_distribution.keys()]\n",
    "columns+=['mean_test_error','std_test_error']\n",
    "cv_results=pd.DataFrame(search_cv.cv_results_)\n",
    "cv_results['mean_test_error']=-cv_results['mean_test_score']\n",
    "cv_results['std_test_error']=cv_results['std_test_score']\n",
    "cv_results[columns].sort_values(by=\"mean_test_error\")\n",
    "\n",
    "error=-search_cv.score(test_features,test_labels)\n",
    "print(f\"On average, our random forest regressor makes an error of {error:.2f} k$\")\n",
    "\n",
    "# AdaBoost and GradientBoost on MNIST\n",
    "import matplotlib.pyplot as plt\n",
    "from keras.datasets import mnist\n",
    "from sklearn.ensemble import AdaBoostClassifier,GradientBoostingClassifier\n",
    "from sklearn.model_selection import train_test_split,cross_validate,cross_val_score,ShuffleSplit\n",
    "from sklearn.metrics import confusion_matrix,ConfusionMatrixDisplay,classification_report\n",
    "from sklearn.pipeline import Pipeline\n",
    "\n",
    "(X_train,y_train),(X_test,y_test)=mnist.load_data()\n",
    "\n",
    "X_train.shape,y_train.shape,X_test.shape,y_test.shape\n",
    "\n",
    "X_train=X_train.reshape(X_train.shape[0],28*28)\n",
    "X_test=X_test.reshape(X_test.shape[0],28*28)\n",
    "\n",
    "X_train=X_train/255\n",
    "X_test=X_test/255\n",
    "\n",
    "cv=ShuffleSplit(n_splits=10,test_size=0.2,random_state=42)\n",
    "\n",
    "def train_classifiers(estimator,X_train,y_train,cv,name):\n",
    "    estimator.fit(X_train,y_train)\n",
    "    cv_train_score=cross_val_score(estimator,X_train,y_train,\n",
    "                                  cv=cv,scoring='f1_macro')\n",
    "    print(f\"On an average {name} model has f1 score of {cv_train_score.mean():.3f} +/- {cv_train_score.std():.3f} on training set\")\n",
    "\n",
    "def eval(estimator,X_test,y_test):\n",
    "    y_pred=estimator.predict(X_test)\n",
    "    print(\"# Classification report\")\n",
    "    print(classification_report(y_test,y_pred))\n",
    "    print(\"# Confusion matrix\")\n",
    "    disp=ConfusionMatrixDisplay(\n",
    "    confusion_matrix=confusion_matrix(y_test,y_pred))\n",
    "    disp.plot()\n",
    "    plt.title(\"Confusion matrix\")\n",
    "    plt.show()\n",
    "\n",
    "# AdaBoostClassifer uses decision stumps as weak learners\n",
    "# GradientBoostingClassifier uses decision trees as weak learners\n",
    "\n",
    "# y_train[:10]\n",
    "\n",
    "# from sklearn.ensemble import AdaBoostRegressor\n",
    "abc_pipeline=Pipeline([('classifer',AdaBoostClassifier())])\n",
    "train_classifiers(abc_pipeline,X_train,y_train.ravel(),cv,'AdaBoostClassifer')\n",
    "\n",
    "eval(abc_pipeline,X_test,y_test)\n",
    "\n",
    "# MNIST classification with GradientBoosting Classifier\n",
    "gbc_pipeline=Pipeline([('classifier',GradientBoostingClassifier(n_estimators=10))])\n",
    "train_classifiers(gbc_pipeline,X_train,y_train.ravel(),cv,'GradientBoostingClassifier')\n",
    "\n",
    "eval(gbc_pipeline,X_test,y_test)\n",
    "\n",
    "# MNIST CLASSIFICATION WITH XGBOOST Classifier\n",
    "\n",
    "try:\n",
    "    from xgboost import XGBClassifier\n",
    "    print(\"Imported without installation\")\n",
    "except:\n",
    "    !pip install xgboost\n",
    "    from xgboost import XGBClassifier\n",
    "    print(\"Downloaded and imported\")\n",
    "\n",
    "?XGBClassifier\n",
    "\n",
    "xbc_pipeline=Pipeline([('classifier',XGBClassifier())])\n",
    "train_classifiers(xbc_pipeline,X_train,y_train.ravel(),cv,'ExtraGradientBoostingClassifer')\n",
    "\n",
    "eval(xbc_pipeline,X_test,y_test)\n",
    "\n",
    "# AdaBoost and GradientBoostRegressor on California Housing \n"
   ]
  },
  {
   "cell_type": "code",
   "execution_count": null,
   "id": "1bec7101",
   "metadata": {},
   "outputs": [],
   "source": [
    "# WEEK 11\n",
    "\n",
    "import matplotlib.pyplot as plt\n",
    "import numpy as np\n",
    "import pandas as pd\n",
    "from sklearn.cluster import KMeans\n",
    "from sklearn.datasets import load_digits\n",
    "from sklearn.metrics import silhouette_score\n",
    "from sklearn.preprocessing import MinMaxScaler\n",
    "from sklearn.pipeline import Pipeline\n",
    "\n",
    "# Clustering of digits\n",
    "# We will use digit dataset\n",
    "# It loads 8x8 digit images with approximately 180 samples per class\n",
    "# From 10 classes, it has total of 1797 images.\n",
    "# Each pixel has value between 0 and 16\n",
    "digits=load_digits()\n",
    "\n",
    "?KMeans\n",
    "\n",
    "# Some parameters are as follows:\n",
    "# init\n",
    "# n_init\n",
    "# max_iter\n",
    "# random_state\n",
    "\n",
    "# Since KMeans algo is susceptible to local minima, we perform multiple KMeans fit and select the ones with the lowest value of sum of\n",
    "# squared error.\n",
    "# The total number of time, we would like to run KMeans algorithm is specified through\n",
    "# n_init parameter. max_iter specifies total number of iterations to perform before declaring the convergence\n",
    "\n",
    "\n",
    "kmeans_kwargs={\n",
    "    'init':'random',\n",
    "    'n_init':50,\n",
    "    'max_iter':500,\n",
    "    'random_state':0\n",
    "}\n",
    "\n",
    "pipeline=Pipeline([('Preprocess',MinMaxScaler()),\n",
    "                  ('Clustering',KMeans(n_clusters=10,**kmeans_kwargs))])\n",
    "pipeline.fit(digitsts.data)\n",
    "\n",
    "cluster_centers=pipeline[-1].cluster_centers_\n",
    "\n",
    "fig,ax=plt.subplots(5,2,figsize=(4,4))\n",
    "for i,j in zip(ax.flat,cluster_centers.reshape(10,8,8)):\n",
    "    i.imshow(j)\n",
    "\n",
    "# In this case no.of clusters were known. Hence, we set k=10 and got the clusters.\n",
    "# For deciding the optimal number of clusters through elbow and silhoutte, we will pretend that we\n",
    "# do not know the number of clusters in data and we will try to discover the optimal number of clusters through these two methods one by one:\n",
    "\n",
    "# Elbow method:\n",
    "sse_digit=[]\n",
    "scaled_digits=MinMaxScaler().fit_transform(digits.data)\n",
    "for k in range(1,12):\n",
    "    kmeans=KMeans(n_clusters=k,**kmeans_kwargs)\n",
    "    kmeans.fit(scaled_digits)\n",
    "    sse_digit.append(kmeans.inertia_)\n",
    "\n",
    "plt.plot(range(1,12),sse_digit)\n",
    "plt.xticks(range(1,12))\n",
    "plt.xlabel(\"Number of Clusters\")\n",
    "plt.ylabel(\"SSE\")\n",
    "plt.show()\n",
    "\n",
    "# There is a slight elbow at k=9 which could point to the fact that a few digits\n",
    "# may have been merged in one cluster\n",
    "\n",
    "# Silhoutte\n",
    "\n",
    "sil_coef_digits=[]\n",
    "for k in range(2,15):\n",
    "    kmeans=KMeans(n_clusters=k,**kmeans_kwargs)\n",
    "    kmeans.fit(scaled_digits)\n",
    "    score=silhouette_score(digits.data,kmeans.labels_)\n",
    "    sil_coef_digits.append(score)\n",
    "\n",
    "plt.plot(range(2,15),sil_coef_digits)\n",
    "plt.xticks(range(2,15))\n",
    "plt.xlabel(\"Number of clusters\")\n",
    "plt.ylabel(\"Silhouette score\")\n",
    "plt.grid(True)\n",
    "plt.show()\n",
    "\n",
    "# get the value of K for which\n",
    "# silhoutte coefficient is highest\n",
    "print(np.argmax(sil_coef_digits)+2)\n",
    "\n",
    "# This graph points the fact that n=9 this could be because some of the digits like\n",
    "# 1 and 7 make have striking similarity.\n",
    "\n",
    "# hierarchical agglomerative clustering (HAC)\n",
    "# starts by considering each datum as a cluster and then combines closest clusters to form larger clusters.\n",
    "# This is bottoms up approach.\n",
    "# There is an alternate approac, which is top-down approach, where the entire data is \n",
    "# considered as a one single cluster, which is divided to form smaller clusters in each step.\n",
    "# The merging and splitting decisions are influenced by certain conditions that will be discussed shortly.\n",
    "\n",
    "# Metric: metrics follow certain properties like:\n",
    "# - non-negative\n",
    "# -sysmetric\n",
    "# -follows triangle inequality\n",
    "\n",
    "# SEE LEC"
   ]
  },
  {
   "cell_type": "code",
   "execution_count": 1,
   "id": "55415ebb",
   "metadata": {},
   "outputs": [],
   "source": [
    "import matplotlib.pyplot as plt\n",
    "import seaborn as sns\n",
    "import pandas as pd\n",
    "import numpy as np\n",
    "from sklearn.datasets import fetch_openml\n",
    "from sklearn.neural_network import MLPClassifier\n",
    "from sklearn.metrics import accuracy_score,confusion_matrix, \\\n",
    "ConfusionMatrixDisplay, plot_confusion_matrix, classification_report\n",
    "from sklearn.model_selection import cross_val_score,train_test_split, \\\n",
    "GridSearchCV, StratifiedShuffleSplit\n"
   ]
  },
  {
   "cell_type": "code",
   "execution_count": 2,
   "id": "5a0bb210",
   "metadata": {},
   "outputs": [],
   "source": [
    "cv=StratifiedShuffleSplit(n_splits=5,test_size=0.2,random_state=42)"
   ]
  },
  {
   "cell_type": "code",
   "execution_count": 3,
   "id": "5274d322",
   "metadata": {},
   "outputs": [],
   "source": [
    "# Load the MNIST \n",
    "# Takes a lot of time to fetch . Do not run just to make fun.\n",
    "X,y=fetch_openml('mnist_784',version=1,return_X_y=True)\n",
    "X=X.to_numpy()\n",
    "y=y.to_numpy()\n",
    "X_train,X_test,y_train,y_test=X[:60000],X[60000:],y[:60000],y[60000:]"
   ]
  },
  {
   "cell_type": "code",
   "execution_count": 4,
   "id": "8c060ede",
   "metadata": {},
   "outputs": [],
   "source": [
    "X_train=X_train.reshape(X_train.shape[0],28*28)\n",
    "X_test=X_test.reshape(X_test.shape[0],28*28)\n",
    "X_train=X_train/255\n",
    "X_test=X_test/255"
   ]
  },
  {
   "cell_type": "code",
   "execution_count": 5,
   "id": "9bd1ed61",
   "metadata": {},
   "outputs": [
    {
     "data": {
      "text/plain": [
       "((60000, 784), (10000, 784))"
      ]
     },
     "execution_count": 5,
     "metadata": {},
     "output_type": "execute_result"
    }
   ],
   "source": [
    "X_train.shape,X_test.shape"
   ]
  },
  {
   "cell_type": "code",
   "execution_count": 6,
   "id": "bc329110",
   "metadata": {},
   "outputs": [
    {
     "data": {
      "text/plain": [
       "((60000, 784), (60000,), (10000, 784), (10000,))"
      ]
     },
     "execution_count": 6,
     "metadata": {},
     "output_type": "execute_result"
    }
   ],
   "source": [
    "X_train.shape,y_train.shape,X_test.shape,y_test.shape"
   ]
  },
  {
   "cell_type": "code",
   "execution_count": 7,
   "id": "0cf96e6c",
   "metadata": {},
   "outputs": [
    {
     "data": {
      "text/plain": [
       "MLPClassifier(hidden_layer_sizes=(128,))"
      ]
     },
     "execution_count": 7,
     "metadata": {},
     "output_type": "execute_result"
    }
   ],
   "source": [
    "# MLP Classifier\n",
    "mlpc=MLPClassifier(hidden_layer_sizes=(128,))\n",
    "mlpc.fit(X_train,y_train)"
   ]
  },
  {
   "cell_type": "code",
   "execution_count": 8,
   "id": "588605d0",
   "metadata": {},
   "outputs": [
    {
     "name": "stdout",
     "output_type": "stream",
     "text": [
      "Training accuracy : 97.68\n"
     ]
    }
   ],
   "source": [
    "cv_score=cross_val_score(mlpc,X_train,y_train.ravel(),cv=cv) # Takes a hell lot of time to run\n",
    "print(\"Training accuracy :\",cv_score.mean()*100)"
   ]
  },
  {
   "cell_type": "code",
   "execution_count": 9,
   "id": "9b5d46ac",
   "metadata": {},
   "outputs": [
    {
     "data": {
      "text/plain": [
       "array([[9.93222399e-13, 1.78698986e-20, 8.53824611e-08, 3.41421261e-06,\n",
       "        7.33426876e-23, 3.95499219e-11, 1.57237127e-18, 9.99996499e-01,\n",
       "        1.27673244e-09, 5.21141194e-10],\n",
       "       [7.08098775e-17, 8.28464996e-09, 9.99999992e-01, 3.89484661e-12,\n",
       "        2.90782392e-34, 3.05629045e-12, 8.09536138e-15, 1.11830115e-26,\n",
       "        3.17221800e-14, 2.08813930e-24],\n",
       "       [2.02395675e-11, 9.99996530e-01, 1.82653660e-07, 3.87565202e-11,\n",
       "        3.79962313e-09, 4.25055042e-10, 4.20331762e-10, 5.45296964e-07,\n",
       "        2.73782003e-06, 8.58839672e-14],\n",
       "       [9.99999998e-01, 1.00851622e-19, 2.58641969e-10, 5.51293293e-15,\n",
       "        8.53296678e-20, 1.02429700e-14, 1.28259897e-09, 9.53922613e-14,\n",
       "        3.18060955e-20, 9.54445651e-12],\n",
       "       [1.28997151e-11, 1.47578248e-21, 6.84016386e-12, 9.15554168e-16,\n",
       "        9.99997646e-01, 1.83192770e-15, 1.41728832e-12, 3.51439183e-10,\n",
       "        1.24191034e-12, 2.35384669e-06]])"
      ]
     },
     "execution_count": 9,
     "metadata": {},
     "output_type": "execute_result"
    }
   ],
   "source": [
    "mlpc.predict_proba(X_test[:5])"
   ]
  },
  {
   "cell_type": "code",
   "execution_count": 10,
   "id": "f4c25200",
   "metadata": {},
   "outputs": [],
   "source": [
    "y_pred=mlpc.predict(X_test)"
   ]
  },
  {
   "cell_type": "code",
   "execution_count": 12,
   "id": "bcf53965",
   "metadata": {},
   "outputs": [
    {
     "name": "stdout",
     "output_type": "stream",
     "text": [
      "Train accuracy : 100.00\n",
      "Test accuracy : 98.06\n"
     ]
    }
   ],
   "source": [
    "print(\"Train accuracy : {:.2f}\".format(accuracy_score(y_train,mlpc.predict(X_train))*100))\n",
    "print(\"Test accuracy : {:.2f}\".format(accuracy_score(y_test,y_pred)*100))"
   ]
  },
  {
   "cell_type": "code",
   "execution_count": 13,
   "id": "908d1f4a",
   "metadata": {},
   "outputs": [
    {
     "data": {
      "image/png": "[encoded data removed]",
      "text/plain": [
       "<Figure size 432x288 with 2 Axes>"
      ]
     },
     "metadata": {
      "needs_background": "light"
     },
     "output_type": "display_data"
    }
   ],
   "source": [
    "cm=confusion_matrix(y_test,y_pred)\n",
    "disp=ConfusionMatrixDisplay(confusion_matrix=cm)\n",
    "disp.plot()\n",
    "plt.title('Confusion Matrix')\n",
    "plt.show()"
   ]
  },
  {
   "cell_type": "code",
   "execution_count": 14,
   "id": "0f595b4c",
   "metadata": {},
   "outputs": [
    {
     "name": "stdout",
     "output_type": "stream",
     "text": [
      "Classification report\n",
      "\n",
      "              precision    recall  f1-score   support\n",
      "\n",
      "           0       0.98      0.99      0.99       980\n",
      "           1       0.99      0.99      0.99      1135\n",
      "           2       0.98      0.98      0.98      1032\n",
      "           3       0.98      0.98      0.98      1010\n",
      "           4       0.98      0.98      0.98       982\n",
      "           5       0.98      0.98      0.98       892\n",
      "           6       0.98      0.98      0.98       958\n",
      "           7       0.99      0.98      0.98      1028\n",
      "           8       0.97      0.97      0.97       974\n",
      "           9       0.98      0.97      0.97      1009\n",
      "\n",
      "    accuracy                           0.98     10000\n",
      "   macro avg       0.98      0.98      0.98     10000\n",
      "weighted avg       0.98      0.98      0.98     10000\n",
      "\n"
     ]
    }
   ],
   "source": [
    "CR=classification_report(y_test,y_pred)\n",
    "print(\"Classification report\\n\")\n",
    "print(CR)"
   ]
  },
  {
   "cell_type": "code",
   "execution_count": 15,
   "id": "a5b8fc9b",
   "metadata": {},
   "outputs": [
    {
     "data": {
      "image/png": "[encoded data removed]",
      "text/plain": [
       "<Figure size 720x504 with 15 Axes>"
      ]
     },
     "metadata": {
      "needs_background": "light"
     },
     "output_type": "display_data"
    }
   ],
   "source": [
    "# PLOT OF TEST DATA ALONG WITH PREDICTED CLASS LABELS\n",
    "fig=plt.figure(figsize=(10,7))\n",
    "for i in range(15):\n",
    "    ax=fig.add_subplot(3,5,i+1)\n",
    "    ax.imshow(X_test[i].reshape(28,28),cmap=plt.get_cmap('gray'))\n",
    "    ax.set_title('Label (y):{y}'.format(y=y_pred[i]))\n",
    "    plt.axis('off')"
   ]
  },
  {
   "cell_type": "code",
   "execution_count": 16,
   "id": "fad93e73",
   "metadata": {},
   "outputs": [
    {
     "data": {
      "text/plain": [
       "(784, 128)"
      ]
     },
     "execution_count": 16,
     "metadata": {},
     "output_type": "execute_result"
    }
   ],
   "source": [
    "# Visualization  of multi layer perceptron weights in hidden layer\n",
    "# Looking at the learned coefficients of a neural network can provide insight into the learning behaviour.\n",
    "# The input data consists 784 features in the dataset\n",
    "# We have used one hidden layer with 128 neurons. Therefore weight matrix has shape (784.128)\n",
    "# We can therefore visualize a single column of the weight matrix as a 28X28 pixel image.\n",
    "w=mlpc.coefs_\n",
    "w=np.array(w[0])\n",
    "w.shape"
   ]
  },
  {
   "cell_type": "code",
   "execution_count": 17,
   "id": "d13c5ea6",
   "metadata": {},
   "outputs": [
    {
     "data": {
      "text/plain": [
       "(784,)"
      ]
     },
     "execution_count": 17,
     "metadata": {},
     "output_type": "execute_result"
    }
   ],
   "source": [
    "w1=np.array(w[:,0])\n",
    "w1.shape"
   ]
  },
  {
   "cell_type": "code",
   "execution_count": 18,
   "id": "302361b1",
   "metadata": {},
   "outputs": [
    {
     "data": {
      "image/png": "[encoded data removed]",
      "text/plain": [
       "<Figure size 432x288 with 2 Axes>"
      ]
     },
     "metadata": {
      "needs_background": "light"
     },
     "output_type": "display_data"
    }
   ],
   "source": [
    "w_matrix=w1.reshape(28,28)\n",
    "fig=plt.figure()\n",
    "plt.imshow(w_matrix,cmap='gray')\n",
    "plt.grid(False)\n",
    "plt.axis(False)\n",
    "plt.colorbar()\n",
    "plt.show()"
   ]
  },
  {
   "cell_type": "code",
   "execution_count": 19,
   "id": "f68df8be",
   "metadata": {},
   "outputs": [
    {
     "data": {
      "text/plain": [
       "Text(0.5, 1.0, 'Loss curve')"
      ]
     },
     "execution_count": 19,
     "metadata": {},
     "output_type": "execute_result"
    },
    {
     "data": {
      "image/png": "[encoded data removed]",
      "text/plain": [
       "<Figure size 432x288 with 1 Axes>"
      ]
     },
     "metadata": {
      "needs_background": "light"
     },
     "output_type": "display_data"
    }
   ],
   "source": [
    "plt.plot(mlpc.loss_curve_,'b-')\n",
    "plt.xlabel('epoch')\n",
    "plt.ylabel('loss')\n",
    "plt.title('Loss curve')"
   ]
  },
  {
   "cell_type": "code",
   "execution_count": 20,
   "id": "62897073",
   "metadata": {},
   "outputs": [],
   "source": [
    "# MLP REGRESSOR ON CALIFORNIA HOUSING DATASET"
   ]
  },
  {
   "cell_type": "code",
   "execution_count": 21,
   "id": "0b40e5cb",
   "metadata": {},
   "outputs": [],
   "source": [
    "from sklearn import datasets\n",
    "import numpy as np\n",
    "import pandas as pd\n",
    "import matplotlib.pyplot as plt"
   ]
  },
  {
   "cell_type": "code",
   "execution_count": 23,
   "id": "6649cf23",
   "metadata": {},
   "outputs": [],
   "source": [
    "# MLP REGRESSOR implements a multi-layer perceptron that trains using \n",
    "# backpropagation with no activation function in the output layer. Therefore it uses the square error as the loss function,\n",
    "# The output is a set of continuous values.\n",
    "from sklearn.model_selection import train_test_split\n",
    "from sklearn.neural_network import MLPRegressor\n",
    "from sklearn.preprocessing import StandardScaler\n",
    "from sklearn.pipeline import Pipeline\n",
    "from sklearn.metrics import mean_absolute_error, mean_absolute_percentage_error\n",
    "from sklearn.model_selection import cross_validate, ShuffleSplit"
   ]
  },
  {
   "cell_type": "code",
   "execution_count": 24,
   "id": "fb20673b",
   "metadata": {},
   "outputs": [],
   "source": [
    "np.random.seed(306)\n",
    "cv=ShuffleSplit(n_splits=5,test_size=0.2,random_state=42)"
   ]
  },
  {
   "cell_type": "code",
   "execution_count": 26,
   "id": "7a3e1541",
   "metadata": {},
   "outputs": [],
   "source": [
    "# Dataset loading - california housing dataset\n",
    "import sklearn\n",
    "dataset=sklearn.datasets.fetch_california_housing()\n",
    "X,y=dataset.data,dataset.target"
   ]
  },
  {
   "cell_type": "code",
   "execution_count": 27,
   "id": "4f7be1d9",
   "metadata": {},
   "outputs": [],
   "source": [
    "X_train,X_test,y_train,y_test=train_test_split(X,y,test_size=0.2,random_state=1)"
   ]
  },
  {
   "cell_type": "code",
   "execution_count": 28,
   "id": "bd09d585",
   "metadata": {},
   "outputs": [
    {
     "data": {
      "text/plain": [
       "((16512, 8), (4128, 8))"
      ]
     },
     "execution_count": 28,
     "metadata": {},
     "output_type": "execute_result"
    }
   ],
   "source": [
    "X_train.shape,X_test.shape"
   ]
  },
  {
   "cell_type": "code",
   "execution_count": 29,
   "id": "c3005a2c",
   "metadata": {},
   "outputs": [
    {
     "name": "stdout",
     "output_type": "stream",
     "text": [
      "Mean absolute error of linear regression model on train set:\n",
      " 0.212 +/- 0.002\n",
      "Mean absolute error of linear regression model on test set:\n",
      " 0.212 +/- 0.006\n"
     ]
    }
   ],
   "source": [
    "# Fitting a pipeline in MLP Regressor\n",
    "pipe=Pipeline([\n",
    "    ('scaler',StandardScaler()),\n",
    "    ('regressor',MLPRegressor(hidden_layer_sizes=(32)))\n",
    "])\n",
    "cv_results=cross_validate(pipe,X_train,y_train,\n",
    "                         cv=cv,scoring='neg_mean_absolute_percentage_error',\n",
    "                         return_train_score=True,\n",
    "                         return_estimator=True,n_jobs=2)\n",
    "mlp_train_error=-1*cv_results['train_score']\n",
    "mlp_test_error=-1*cv_results['test_score']\n",
    "print(\"Mean absolute error of linear regression model on train set:\\n\",\n",
    "     f\"{mlp_train_error.mean():.3f} +/- {mlp_train_error.std():.3f}\")\n",
    "print(\"Mean absolute error of linear regression model on test set:\\n\",\n",
    "     f\"{mlp_test_error.mean():.3f} +/- {mlp_test_error.std():.3f}\")\n"
   ]
  },
  {
   "cell_type": "code",
   "execution_count": 30,
   "id": "cf605f7b",
   "metadata": {},
   "outputs": [
    {
     "data": {
      "text/plain": [
       "Pipeline(steps=[('scaler', StandardScaler()),\n",
       "                ('regressor', MLPRegressor(hidden_layer_sizes=32))])"
      ]
     },
     "execution_count": 30,
     "metadata": {},
     "output_type": "execute_result"
    }
   ],
   "source": [
    "pipe.fit(X_train,y_train)"
   ]
  },
  {
   "cell_type": "code",
   "execution_count": 31,
   "id": "140182fc",
   "metadata": {},
   "outputs": [
    {
     "data": {
      "text/plain": [
       "0.20517616916407086"
      ]
     },
     "execution_count": 31,
     "metadata": {},
     "output_type": "execute_result"
    }
   ],
   "source": [
    "mean_absolute_percentage_error(y_train,pipe.predict(X_train))"
   ]
  },
  {
   "cell_type": "code",
   "execution_count": 32,
   "id": "826aa300",
   "metadata": {},
   "outputs": [
    {
     "data": {
      "text/plain": [
       "0.2168016418688319"
      ]
     },
     "execution_count": 32,
     "metadata": {},
     "output_type": "execute_result"
    }
   ],
   "source": [
    "mean_absolute_percentage_error(y_test,pipe.predict(X_test))"
   ]
  },
  {
   "cell_type": "code",
   "execution_count": 33,
   "id": "f2185d9e",
   "metadata": {},
   "outputs": [
    {
     "data": {
      "text/plain": [
       "Text(0, 0.5, 'predicted')"
      ]
     },
     "execution_count": 33,
     "metadata": {},
     "output_type": "execute_result"
    },
    {
     "data": {
      "image/png": "[encoded data removed]",
      "text/plain": [
       "<Figure size 432x288 with 1 Axes>"
      ]
     },
     "metadata": {
      "needs_background": "light"
     },
     "output_type": "display_data"
    }
   ],
   "source": [
    "plt.plot(y_test,pipe.predict(X_test),'b*')\n",
    "plt.plot(y_test,y_test,'g-')\n",
    "plt.xlabel('actual')\n",
    "plt.ylabel('predicted')"
   ]
  },
  {
   "cell_type": "code",
   "execution_count": null,
   "id": "3c8bcf15",
   "metadata": {},
   "outputs": [],
   "source": []
  }
 ],
 "metadata": {
  "kernelspec": {
   "display_name": "Python 3 (ipykernel)",
   "language": "python",
   "name": "python3"
  },
  "language_info": {
   "codemirror_mode": {
    "name": "ipython",
    "version": 3
   },
   "file_extension": ".py",
   "mimetype": "text/x-python",
   "name": "python",
   "nbconvert_exporter": "python",
   "pygments_lexer": "ipython3",
   "version": "3.8.5"
  }
 },
 "nbformat": 4,
 "nbformat_minor": 5
}
